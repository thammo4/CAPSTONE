{
  "nbformat": 4,
  "nbformat_minor": 0,
  "metadata": {
    "colab": {
      "provenance": [],
      "gpuType": "T4"
    },
    "kernelspec": {
      "name": "python3",
      "display_name": "Python 3"
    },
    "language_info": {
      "name": "python"
    },
    "accelerator": "GPU",
    "widgets": {
      "application/vnd.jupyter.widget-state+json": {
        "1ca7204bb48b47ffaf955dab9a9988b1": {
          "model_module": "@jupyter-widgets/controls",
          "model_name": "HBoxModel",
          "model_module_version": "1.5.0",
          "state": {
            "_dom_classes": [],
            "_model_module": "@jupyter-widgets/controls",
            "_model_module_version": "1.5.0",
            "_model_name": "HBoxModel",
            "_view_count": null,
            "_view_module": "@jupyter-widgets/controls",
            "_view_module_version": "1.5.0",
            "_view_name": "HBoxView",
            "box_style": "",
            "children": [
              "IPY_MODEL_655ae76cd1e24731bd3ede1269d26456",
              "IPY_MODEL_017ca8b3c3d4408d945d52bfbf8cb716",
              "IPY_MODEL_5c2509d8c86d4dedb6284f35e13c21f1"
            ],
            "layout": "IPY_MODEL_e18fc534e42e429bb831b0cb06e836d1"
          }
        },
        "655ae76cd1e24731bd3ede1269d26456": {
          "model_module": "@jupyter-widgets/controls",
          "model_name": "HTMLModel",
          "model_module_version": "1.5.0",
          "state": {
            "_dom_classes": [],
            "_model_module": "@jupyter-widgets/controls",
            "_model_module_version": "1.5.0",
            "_model_name": "HTMLModel",
            "_view_count": null,
            "_view_module": "@jupyter-widgets/controls",
            "_view_module_version": "1.5.0",
            "_view_name": "HTMLView",
            "description": "",
            "description_tooltip": null,
            "layout": "IPY_MODEL_3e17367a81e948b9b30bc0acecb89a06",
            "placeholder": "​",
            "style": "IPY_MODEL_d16efabb7f754360bcc45d2d474372c7",
            "value": "tokenizer_config.json: 100%"
          }
        },
        "017ca8b3c3d4408d945d52bfbf8cb716": {
          "model_module": "@jupyter-widgets/controls",
          "model_name": "FloatProgressModel",
          "model_module_version": "1.5.0",
          "state": {
            "_dom_classes": [],
            "_model_module": "@jupyter-widgets/controls",
            "_model_module_version": "1.5.0",
            "_model_name": "FloatProgressModel",
            "_view_count": null,
            "_view_module": "@jupyter-widgets/controls",
            "_view_module_version": "1.5.0",
            "_view_name": "ProgressView",
            "bar_style": "success",
            "description": "",
            "description_tooltip": null,
            "layout": "IPY_MODEL_7279a9b0fab9405da4bbf648496f17a6",
            "max": 48,
            "min": 0,
            "orientation": "horizontal",
            "style": "IPY_MODEL_70a05c7c1fb445679c438afc78f50b7d",
            "value": 48
          }
        },
        "5c2509d8c86d4dedb6284f35e13c21f1": {
          "model_module": "@jupyter-widgets/controls",
          "model_name": "HTMLModel",
          "model_module_version": "1.5.0",
          "state": {
            "_dom_classes": [],
            "_model_module": "@jupyter-widgets/controls",
            "_model_module_version": "1.5.0",
            "_model_name": "HTMLModel",
            "_view_count": null,
            "_view_module": "@jupyter-widgets/controls",
            "_view_module_version": "1.5.0",
            "_view_name": "HTMLView",
            "description": "",
            "description_tooltip": null,
            "layout": "IPY_MODEL_0b941c7243a94770a4db92b235583954",
            "placeholder": "​",
            "style": "IPY_MODEL_e610195b8aa347158c3edb2f81505865",
            "value": " 48.0/48.0 [00:00&lt;00:00, 762B/s]"
          }
        },
        "e18fc534e42e429bb831b0cb06e836d1": {
          "model_module": "@jupyter-widgets/base",
          "model_name": "LayoutModel",
          "model_module_version": "1.2.0",
          "state": {
            "_model_module": "@jupyter-widgets/base",
            "_model_module_version": "1.2.0",
            "_model_name": "LayoutModel",
            "_view_count": null,
            "_view_module": "@jupyter-widgets/base",
            "_view_module_version": "1.2.0",
            "_view_name": "LayoutView",
            "align_content": null,
            "align_items": null,
            "align_self": null,
            "border": null,
            "bottom": null,
            "display": null,
            "flex": null,
            "flex_flow": null,
            "grid_area": null,
            "grid_auto_columns": null,
            "grid_auto_flow": null,
            "grid_auto_rows": null,
            "grid_column": null,
            "grid_gap": null,
            "grid_row": null,
            "grid_template_areas": null,
            "grid_template_columns": null,
            "grid_template_rows": null,
            "height": null,
            "justify_content": null,
            "justify_items": null,
            "left": null,
            "margin": null,
            "max_height": null,
            "max_width": null,
            "min_height": null,
            "min_width": null,
            "object_fit": null,
            "object_position": null,
            "order": null,
            "overflow": null,
            "overflow_x": null,
            "overflow_y": null,
            "padding": null,
            "right": null,
            "top": null,
            "visibility": null,
            "width": null
          }
        },
        "3e17367a81e948b9b30bc0acecb89a06": {
          "model_module": "@jupyter-widgets/base",
          "model_name": "LayoutModel",
          "model_module_version": "1.2.0",
          "state": {
            "_model_module": "@jupyter-widgets/base",
            "_model_module_version": "1.2.0",
            "_model_name": "LayoutModel",
            "_view_count": null,
            "_view_module": "@jupyter-widgets/base",
            "_view_module_version": "1.2.0",
            "_view_name": "LayoutView",
            "align_content": null,
            "align_items": null,
            "align_self": null,
            "border": null,
            "bottom": null,
            "display": null,
            "flex": null,
            "flex_flow": null,
            "grid_area": null,
            "grid_auto_columns": null,
            "grid_auto_flow": null,
            "grid_auto_rows": null,
            "grid_column": null,
            "grid_gap": null,
            "grid_row": null,
            "grid_template_areas": null,
            "grid_template_columns": null,
            "grid_template_rows": null,
            "height": null,
            "justify_content": null,
            "justify_items": null,
            "left": null,
            "margin": null,
            "max_height": null,
            "max_width": null,
            "min_height": null,
            "min_width": null,
            "object_fit": null,
            "object_position": null,
            "order": null,
            "overflow": null,
            "overflow_x": null,
            "overflow_y": null,
            "padding": null,
            "right": null,
            "top": null,
            "visibility": null,
            "width": null
          }
        },
        "d16efabb7f754360bcc45d2d474372c7": {
          "model_module": "@jupyter-widgets/controls",
          "model_name": "DescriptionStyleModel",
          "model_module_version": "1.5.0",
          "state": {
            "_model_module": "@jupyter-widgets/controls",
            "_model_module_version": "1.5.0",
            "_model_name": "DescriptionStyleModel",
            "_view_count": null,
            "_view_module": "@jupyter-widgets/base",
            "_view_module_version": "1.2.0",
            "_view_name": "StyleView",
            "description_width": ""
          }
        },
        "7279a9b0fab9405da4bbf648496f17a6": {
          "model_module": "@jupyter-widgets/base",
          "model_name": "LayoutModel",
          "model_module_version": "1.2.0",
          "state": {
            "_model_module": "@jupyter-widgets/base",
            "_model_module_version": "1.2.0",
            "_model_name": "LayoutModel",
            "_view_count": null,
            "_view_module": "@jupyter-widgets/base",
            "_view_module_version": "1.2.0",
            "_view_name": "LayoutView",
            "align_content": null,
            "align_items": null,
            "align_self": null,
            "border": null,
            "bottom": null,
            "display": null,
            "flex": null,
            "flex_flow": null,
            "grid_area": null,
            "grid_auto_columns": null,
            "grid_auto_flow": null,
            "grid_auto_rows": null,
            "grid_column": null,
            "grid_gap": null,
            "grid_row": null,
            "grid_template_areas": null,
            "grid_template_columns": null,
            "grid_template_rows": null,
            "height": null,
            "justify_content": null,
            "justify_items": null,
            "left": null,
            "margin": null,
            "max_height": null,
            "max_width": null,
            "min_height": null,
            "min_width": null,
            "object_fit": null,
            "object_position": null,
            "order": null,
            "overflow": null,
            "overflow_x": null,
            "overflow_y": null,
            "padding": null,
            "right": null,
            "top": null,
            "visibility": null,
            "width": null
          }
        },
        "70a05c7c1fb445679c438afc78f50b7d": {
          "model_module": "@jupyter-widgets/controls",
          "model_name": "ProgressStyleModel",
          "model_module_version": "1.5.0",
          "state": {
            "_model_module": "@jupyter-widgets/controls",
            "_model_module_version": "1.5.0",
            "_model_name": "ProgressStyleModel",
            "_view_count": null,
            "_view_module": "@jupyter-widgets/base",
            "_view_module_version": "1.2.0",
            "_view_name": "StyleView",
            "bar_color": null,
            "description_width": ""
          }
        },
        "0b941c7243a94770a4db92b235583954": {
          "model_module": "@jupyter-widgets/base",
          "model_name": "LayoutModel",
          "model_module_version": "1.2.0",
          "state": {
            "_model_module": "@jupyter-widgets/base",
            "_model_module_version": "1.2.0",
            "_model_name": "LayoutModel",
            "_view_count": null,
            "_view_module": "@jupyter-widgets/base",
            "_view_module_version": "1.2.0",
            "_view_name": "LayoutView",
            "align_content": null,
            "align_items": null,
            "align_self": null,
            "border": null,
            "bottom": null,
            "display": null,
            "flex": null,
            "flex_flow": null,
            "grid_area": null,
            "grid_auto_columns": null,
            "grid_auto_flow": null,
            "grid_auto_rows": null,
            "grid_column": null,
            "grid_gap": null,
            "grid_row": null,
            "grid_template_areas": null,
            "grid_template_columns": null,
            "grid_template_rows": null,
            "height": null,
            "justify_content": null,
            "justify_items": null,
            "left": null,
            "margin": null,
            "max_height": null,
            "max_width": null,
            "min_height": null,
            "min_width": null,
            "object_fit": null,
            "object_position": null,
            "order": null,
            "overflow": null,
            "overflow_x": null,
            "overflow_y": null,
            "padding": null,
            "right": null,
            "top": null,
            "visibility": null,
            "width": null
          }
        },
        "e610195b8aa347158c3edb2f81505865": {
          "model_module": "@jupyter-widgets/controls",
          "model_name": "DescriptionStyleModel",
          "model_module_version": "1.5.0",
          "state": {
            "_model_module": "@jupyter-widgets/controls",
            "_model_module_version": "1.5.0",
            "_model_name": "DescriptionStyleModel",
            "_view_count": null,
            "_view_module": "@jupyter-widgets/base",
            "_view_module_version": "1.2.0",
            "_view_name": "StyleView",
            "description_width": ""
          }
        },
        "b22fb58da8d84c0295c28600b7afa3e7": {
          "model_module": "@jupyter-widgets/controls",
          "model_name": "HBoxModel",
          "model_module_version": "1.5.0",
          "state": {
            "_dom_classes": [],
            "_model_module": "@jupyter-widgets/controls",
            "_model_module_version": "1.5.0",
            "_model_name": "HBoxModel",
            "_view_count": null,
            "_view_module": "@jupyter-widgets/controls",
            "_view_module_version": "1.5.0",
            "_view_name": "HBoxView",
            "box_style": "",
            "children": [
              "IPY_MODEL_c86a483a5ff74fbaa37a7727f244c354",
              "IPY_MODEL_fdbb32c517c047eeb97554e57610f361",
              "IPY_MODEL_bcaad4cf387e4449a8551c08d083e1a5"
            ],
            "layout": "IPY_MODEL_0195c09fa02d41669583e68ab23225bc"
          }
        },
        "c86a483a5ff74fbaa37a7727f244c354": {
          "model_module": "@jupyter-widgets/controls",
          "model_name": "HTMLModel",
          "model_module_version": "1.5.0",
          "state": {
            "_dom_classes": [],
            "_model_module": "@jupyter-widgets/controls",
            "_model_module_version": "1.5.0",
            "_model_name": "HTMLModel",
            "_view_count": null,
            "_view_module": "@jupyter-widgets/controls",
            "_view_module_version": "1.5.0",
            "_view_name": "HTMLView",
            "description": "",
            "description_tooltip": null,
            "layout": "IPY_MODEL_0d8d8dbea8624571b9245c77154e1e15",
            "placeholder": "​",
            "style": "IPY_MODEL_4adc2f68031640c6985da0b90da92e6e",
            "value": "vocab.txt: 100%"
          }
        },
        "fdbb32c517c047eeb97554e57610f361": {
          "model_module": "@jupyter-widgets/controls",
          "model_name": "FloatProgressModel",
          "model_module_version": "1.5.0",
          "state": {
            "_dom_classes": [],
            "_model_module": "@jupyter-widgets/controls",
            "_model_module_version": "1.5.0",
            "_model_name": "FloatProgressModel",
            "_view_count": null,
            "_view_module": "@jupyter-widgets/controls",
            "_view_module_version": "1.5.0",
            "_view_name": "ProgressView",
            "bar_style": "success",
            "description": "",
            "description_tooltip": null,
            "layout": "IPY_MODEL_003b4343beaf41b89ad3f6f7199d8f96",
            "max": 231508,
            "min": 0,
            "orientation": "horizontal",
            "style": "IPY_MODEL_2f23ec727aa84913b2e4ee1270390f1a",
            "value": 231508
          }
        },
        "bcaad4cf387e4449a8551c08d083e1a5": {
          "model_module": "@jupyter-widgets/controls",
          "model_name": "HTMLModel",
          "model_module_version": "1.5.0",
          "state": {
            "_dom_classes": [],
            "_model_module": "@jupyter-widgets/controls",
            "_model_module_version": "1.5.0",
            "_model_name": "HTMLModel",
            "_view_count": null,
            "_view_module": "@jupyter-widgets/controls",
            "_view_module_version": "1.5.0",
            "_view_name": "HTMLView",
            "description": "",
            "description_tooltip": null,
            "layout": "IPY_MODEL_99e924cb658448e88bed661ecb390058",
            "placeholder": "​",
            "style": "IPY_MODEL_125aef4091b04af985e6057ef2d5d791",
            "value": " 232k/232k [00:00&lt;00:00, 3.03MB/s]"
          }
        },
        "0195c09fa02d41669583e68ab23225bc": {
          "model_module": "@jupyter-widgets/base",
          "model_name": "LayoutModel",
          "model_module_version": "1.2.0",
          "state": {
            "_model_module": "@jupyter-widgets/base",
            "_model_module_version": "1.2.0",
            "_model_name": "LayoutModel",
            "_view_count": null,
            "_view_module": "@jupyter-widgets/base",
            "_view_module_version": "1.2.0",
            "_view_name": "LayoutView",
            "align_content": null,
            "align_items": null,
            "align_self": null,
            "border": null,
            "bottom": null,
            "display": null,
            "flex": null,
            "flex_flow": null,
            "grid_area": null,
            "grid_auto_columns": null,
            "grid_auto_flow": null,
            "grid_auto_rows": null,
            "grid_column": null,
            "grid_gap": null,
            "grid_row": null,
            "grid_template_areas": null,
            "grid_template_columns": null,
            "grid_template_rows": null,
            "height": null,
            "justify_content": null,
            "justify_items": null,
            "left": null,
            "margin": null,
            "max_height": null,
            "max_width": null,
            "min_height": null,
            "min_width": null,
            "object_fit": null,
            "object_position": null,
            "order": null,
            "overflow": null,
            "overflow_x": null,
            "overflow_y": null,
            "padding": null,
            "right": null,
            "top": null,
            "visibility": null,
            "width": null
          }
        },
        "0d8d8dbea8624571b9245c77154e1e15": {
          "model_module": "@jupyter-widgets/base",
          "model_name": "LayoutModel",
          "model_module_version": "1.2.0",
          "state": {
            "_model_module": "@jupyter-widgets/base",
            "_model_module_version": "1.2.0",
            "_model_name": "LayoutModel",
            "_view_count": null,
            "_view_module": "@jupyter-widgets/base",
            "_view_module_version": "1.2.0",
            "_view_name": "LayoutView",
            "align_content": null,
            "align_items": null,
            "align_self": null,
            "border": null,
            "bottom": null,
            "display": null,
            "flex": null,
            "flex_flow": null,
            "grid_area": null,
            "grid_auto_columns": null,
            "grid_auto_flow": null,
            "grid_auto_rows": null,
            "grid_column": null,
            "grid_gap": null,
            "grid_row": null,
            "grid_template_areas": null,
            "grid_template_columns": null,
            "grid_template_rows": null,
            "height": null,
            "justify_content": null,
            "justify_items": null,
            "left": null,
            "margin": null,
            "max_height": null,
            "max_width": null,
            "min_height": null,
            "min_width": null,
            "object_fit": null,
            "object_position": null,
            "order": null,
            "overflow": null,
            "overflow_x": null,
            "overflow_y": null,
            "padding": null,
            "right": null,
            "top": null,
            "visibility": null,
            "width": null
          }
        },
        "4adc2f68031640c6985da0b90da92e6e": {
          "model_module": "@jupyter-widgets/controls",
          "model_name": "DescriptionStyleModel",
          "model_module_version": "1.5.0",
          "state": {
            "_model_module": "@jupyter-widgets/controls",
            "_model_module_version": "1.5.0",
            "_model_name": "DescriptionStyleModel",
            "_view_count": null,
            "_view_module": "@jupyter-widgets/base",
            "_view_module_version": "1.2.0",
            "_view_name": "StyleView",
            "description_width": ""
          }
        },
        "003b4343beaf41b89ad3f6f7199d8f96": {
          "model_module": "@jupyter-widgets/base",
          "model_name": "LayoutModel",
          "model_module_version": "1.2.0",
          "state": {
            "_model_module": "@jupyter-widgets/base",
            "_model_module_version": "1.2.0",
            "_model_name": "LayoutModel",
            "_view_count": null,
            "_view_module": "@jupyter-widgets/base",
            "_view_module_version": "1.2.0",
            "_view_name": "LayoutView",
            "align_content": null,
            "align_items": null,
            "align_self": null,
            "border": null,
            "bottom": null,
            "display": null,
            "flex": null,
            "flex_flow": null,
            "grid_area": null,
            "grid_auto_columns": null,
            "grid_auto_flow": null,
            "grid_auto_rows": null,
            "grid_column": null,
            "grid_gap": null,
            "grid_row": null,
            "grid_template_areas": null,
            "grid_template_columns": null,
            "grid_template_rows": null,
            "height": null,
            "justify_content": null,
            "justify_items": null,
            "left": null,
            "margin": null,
            "max_height": null,
            "max_width": null,
            "min_height": null,
            "min_width": null,
            "object_fit": null,
            "object_position": null,
            "order": null,
            "overflow": null,
            "overflow_x": null,
            "overflow_y": null,
            "padding": null,
            "right": null,
            "top": null,
            "visibility": null,
            "width": null
          }
        },
        "2f23ec727aa84913b2e4ee1270390f1a": {
          "model_module": "@jupyter-widgets/controls",
          "model_name": "ProgressStyleModel",
          "model_module_version": "1.5.0",
          "state": {
            "_model_module": "@jupyter-widgets/controls",
            "_model_module_version": "1.5.0",
            "_model_name": "ProgressStyleModel",
            "_view_count": null,
            "_view_module": "@jupyter-widgets/base",
            "_view_module_version": "1.2.0",
            "_view_name": "StyleView",
            "bar_color": null,
            "description_width": ""
          }
        },
        "99e924cb658448e88bed661ecb390058": {
          "model_module": "@jupyter-widgets/base",
          "model_name": "LayoutModel",
          "model_module_version": "1.2.0",
          "state": {
            "_model_module": "@jupyter-widgets/base",
            "_model_module_version": "1.2.0",
            "_model_name": "LayoutModel",
            "_view_count": null,
            "_view_module": "@jupyter-widgets/base",
            "_view_module_version": "1.2.0",
            "_view_name": "LayoutView",
            "align_content": null,
            "align_items": null,
            "align_self": null,
            "border": null,
            "bottom": null,
            "display": null,
            "flex": null,
            "flex_flow": null,
            "grid_area": null,
            "grid_auto_columns": null,
            "grid_auto_flow": null,
            "grid_auto_rows": null,
            "grid_column": null,
            "grid_gap": null,
            "grid_row": null,
            "grid_template_areas": null,
            "grid_template_columns": null,
            "grid_template_rows": null,
            "height": null,
            "justify_content": null,
            "justify_items": null,
            "left": null,
            "margin": null,
            "max_height": null,
            "max_width": null,
            "min_height": null,
            "min_width": null,
            "object_fit": null,
            "object_position": null,
            "order": null,
            "overflow": null,
            "overflow_x": null,
            "overflow_y": null,
            "padding": null,
            "right": null,
            "top": null,
            "visibility": null,
            "width": null
          }
        },
        "125aef4091b04af985e6057ef2d5d791": {
          "model_module": "@jupyter-widgets/controls",
          "model_name": "DescriptionStyleModel",
          "model_module_version": "1.5.0",
          "state": {
            "_model_module": "@jupyter-widgets/controls",
            "_model_module_version": "1.5.0",
            "_model_name": "DescriptionStyleModel",
            "_view_count": null,
            "_view_module": "@jupyter-widgets/base",
            "_view_module_version": "1.2.0",
            "_view_name": "StyleView",
            "description_width": ""
          }
        },
        "69ea308280084ec5b5b4a6cbc285d817": {
          "model_module": "@jupyter-widgets/controls",
          "model_name": "HBoxModel",
          "model_module_version": "1.5.0",
          "state": {
            "_dom_classes": [],
            "_model_module": "@jupyter-widgets/controls",
            "_model_module_version": "1.5.0",
            "_model_name": "HBoxModel",
            "_view_count": null,
            "_view_module": "@jupyter-widgets/controls",
            "_view_module_version": "1.5.0",
            "_view_name": "HBoxView",
            "box_style": "",
            "children": [
              "IPY_MODEL_8c7130fe56824cdbaa1d3257ca80ac8e",
              "IPY_MODEL_372e96ac931a4fe3859a95a898533d68",
              "IPY_MODEL_5ff9f09e95df4669a6de64b72b7c2d3e"
            ],
            "layout": "IPY_MODEL_cd396928ad724fc787d04240870bc2da"
          }
        },
        "8c7130fe56824cdbaa1d3257ca80ac8e": {
          "model_module": "@jupyter-widgets/controls",
          "model_name": "HTMLModel",
          "model_module_version": "1.5.0",
          "state": {
            "_dom_classes": [],
            "_model_module": "@jupyter-widgets/controls",
            "_model_module_version": "1.5.0",
            "_model_name": "HTMLModel",
            "_view_count": null,
            "_view_module": "@jupyter-widgets/controls",
            "_view_module_version": "1.5.0",
            "_view_name": "HTMLView",
            "description": "",
            "description_tooltip": null,
            "layout": "IPY_MODEL_272bce251a734b369da7e51d2f759215",
            "placeholder": "​",
            "style": "IPY_MODEL_e600e4e4a162479b8ea811765aefd0b7",
            "value": "tokenizer.json: 100%"
          }
        },
        "372e96ac931a4fe3859a95a898533d68": {
          "model_module": "@jupyter-widgets/controls",
          "model_name": "FloatProgressModel",
          "model_module_version": "1.5.0",
          "state": {
            "_dom_classes": [],
            "_model_module": "@jupyter-widgets/controls",
            "_model_module_version": "1.5.0",
            "_model_name": "FloatProgressModel",
            "_view_count": null,
            "_view_module": "@jupyter-widgets/controls",
            "_view_module_version": "1.5.0",
            "_view_name": "ProgressView",
            "bar_style": "success",
            "description": "",
            "description_tooltip": null,
            "layout": "IPY_MODEL_260034c92a0b434ba56729cbec341881",
            "max": 466062,
            "min": 0,
            "orientation": "horizontal",
            "style": "IPY_MODEL_b91ad4b4037544ebbdae5d338e383bc5",
            "value": 466062
          }
        },
        "5ff9f09e95df4669a6de64b72b7c2d3e": {
          "model_module": "@jupyter-widgets/controls",
          "model_name": "HTMLModel",
          "model_module_version": "1.5.0",
          "state": {
            "_dom_classes": [],
            "_model_module": "@jupyter-widgets/controls",
            "_model_module_version": "1.5.0",
            "_model_name": "HTMLModel",
            "_view_count": null,
            "_view_module": "@jupyter-widgets/controls",
            "_view_module_version": "1.5.0",
            "_view_name": "HTMLView",
            "description": "",
            "description_tooltip": null,
            "layout": "IPY_MODEL_5165352c120c45138322ec1d22c41079",
            "placeholder": "​",
            "style": "IPY_MODEL_3819371b2c6444d7a2564a6bca73eed7",
            "value": " 466k/466k [00:00&lt;00:00, 13.5MB/s]"
          }
        },
        "cd396928ad724fc787d04240870bc2da": {
          "model_module": "@jupyter-widgets/base",
          "model_name": "LayoutModel",
          "model_module_version": "1.2.0",
          "state": {
            "_model_module": "@jupyter-widgets/base",
            "_model_module_version": "1.2.0",
            "_model_name": "LayoutModel",
            "_view_count": null,
            "_view_module": "@jupyter-widgets/base",
            "_view_module_version": "1.2.0",
            "_view_name": "LayoutView",
            "align_content": null,
            "align_items": null,
            "align_self": null,
            "border": null,
            "bottom": null,
            "display": null,
            "flex": null,
            "flex_flow": null,
            "grid_area": null,
            "grid_auto_columns": null,
            "grid_auto_flow": null,
            "grid_auto_rows": null,
            "grid_column": null,
            "grid_gap": null,
            "grid_row": null,
            "grid_template_areas": null,
            "grid_template_columns": null,
            "grid_template_rows": null,
            "height": null,
            "justify_content": null,
            "justify_items": null,
            "left": null,
            "margin": null,
            "max_height": null,
            "max_width": null,
            "min_height": null,
            "min_width": null,
            "object_fit": null,
            "object_position": null,
            "order": null,
            "overflow": null,
            "overflow_x": null,
            "overflow_y": null,
            "padding": null,
            "right": null,
            "top": null,
            "visibility": null,
            "width": null
          }
        },
        "272bce251a734b369da7e51d2f759215": {
          "model_module": "@jupyter-widgets/base",
          "model_name": "LayoutModel",
          "model_module_version": "1.2.0",
          "state": {
            "_model_module": "@jupyter-widgets/base",
            "_model_module_version": "1.2.0",
            "_model_name": "LayoutModel",
            "_view_count": null,
            "_view_module": "@jupyter-widgets/base",
            "_view_module_version": "1.2.0",
            "_view_name": "LayoutView",
            "align_content": null,
            "align_items": null,
            "align_self": null,
            "border": null,
            "bottom": null,
            "display": null,
            "flex": null,
            "flex_flow": null,
            "grid_area": null,
            "grid_auto_columns": null,
            "grid_auto_flow": null,
            "grid_auto_rows": null,
            "grid_column": null,
            "grid_gap": null,
            "grid_row": null,
            "grid_template_areas": null,
            "grid_template_columns": null,
            "grid_template_rows": null,
            "height": null,
            "justify_content": null,
            "justify_items": null,
            "left": null,
            "margin": null,
            "max_height": null,
            "max_width": null,
            "min_height": null,
            "min_width": null,
            "object_fit": null,
            "object_position": null,
            "order": null,
            "overflow": null,
            "overflow_x": null,
            "overflow_y": null,
            "padding": null,
            "right": null,
            "top": null,
            "visibility": null,
            "width": null
          }
        },
        "e600e4e4a162479b8ea811765aefd0b7": {
          "model_module": "@jupyter-widgets/controls",
          "model_name": "DescriptionStyleModel",
          "model_module_version": "1.5.0",
          "state": {
            "_model_module": "@jupyter-widgets/controls",
            "_model_module_version": "1.5.0",
            "_model_name": "DescriptionStyleModel",
            "_view_count": null,
            "_view_module": "@jupyter-widgets/base",
            "_view_module_version": "1.2.0",
            "_view_name": "StyleView",
            "description_width": ""
          }
        },
        "260034c92a0b434ba56729cbec341881": {
          "model_module": "@jupyter-widgets/base",
          "model_name": "LayoutModel",
          "model_module_version": "1.2.0",
          "state": {
            "_model_module": "@jupyter-widgets/base",
            "_model_module_version": "1.2.0",
            "_model_name": "LayoutModel",
            "_view_count": null,
            "_view_module": "@jupyter-widgets/base",
            "_view_module_version": "1.2.0",
            "_view_name": "LayoutView",
            "align_content": null,
            "align_items": null,
            "align_self": null,
            "border": null,
            "bottom": null,
            "display": null,
            "flex": null,
            "flex_flow": null,
            "grid_area": null,
            "grid_auto_columns": null,
            "grid_auto_flow": null,
            "grid_auto_rows": null,
            "grid_column": null,
            "grid_gap": null,
            "grid_row": null,
            "grid_template_areas": null,
            "grid_template_columns": null,
            "grid_template_rows": null,
            "height": null,
            "justify_content": null,
            "justify_items": null,
            "left": null,
            "margin": null,
            "max_height": null,
            "max_width": null,
            "min_height": null,
            "min_width": null,
            "object_fit": null,
            "object_position": null,
            "order": null,
            "overflow": null,
            "overflow_x": null,
            "overflow_y": null,
            "padding": null,
            "right": null,
            "top": null,
            "visibility": null,
            "width": null
          }
        },
        "b91ad4b4037544ebbdae5d338e383bc5": {
          "model_module": "@jupyter-widgets/controls",
          "model_name": "ProgressStyleModel",
          "model_module_version": "1.5.0",
          "state": {
            "_model_module": "@jupyter-widgets/controls",
            "_model_module_version": "1.5.0",
            "_model_name": "ProgressStyleModel",
            "_view_count": null,
            "_view_module": "@jupyter-widgets/base",
            "_view_module_version": "1.2.0",
            "_view_name": "StyleView",
            "bar_color": null,
            "description_width": ""
          }
        },
        "5165352c120c45138322ec1d22c41079": {
          "model_module": "@jupyter-widgets/base",
          "model_name": "LayoutModel",
          "model_module_version": "1.2.0",
          "state": {
            "_model_module": "@jupyter-widgets/base",
            "_model_module_version": "1.2.0",
            "_model_name": "LayoutModel",
            "_view_count": null,
            "_view_module": "@jupyter-widgets/base",
            "_view_module_version": "1.2.0",
            "_view_name": "LayoutView",
            "align_content": null,
            "align_items": null,
            "align_self": null,
            "border": null,
            "bottom": null,
            "display": null,
            "flex": null,
            "flex_flow": null,
            "grid_area": null,
            "grid_auto_columns": null,
            "grid_auto_flow": null,
            "grid_auto_rows": null,
            "grid_column": null,
            "grid_gap": null,
            "grid_row": null,
            "grid_template_areas": null,
            "grid_template_columns": null,
            "grid_template_rows": null,
            "height": null,
            "justify_content": null,
            "justify_items": null,
            "left": null,
            "margin": null,
            "max_height": null,
            "max_width": null,
            "min_height": null,
            "min_width": null,
            "object_fit": null,
            "object_position": null,
            "order": null,
            "overflow": null,
            "overflow_x": null,
            "overflow_y": null,
            "padding": null,
            "right": null,
            "top": null,
            "visibility": null,
            "width": null
          }
        },
        "3819371b2c6444d7a2564a6bca73eed7": {
          "model_module": "@jupyter-widgets/controls",
          "model_name": "DescriptionStyleModel",
          "model_module_version": "1.5.0",
          "state": {
            "_model_module": "@jupyter-widgets/controls",
            "_model_module_version": "1.5.0",
            "_model_name": "DescriptionStyleModel",
            "_view_count": null,
            "_view_module": "@jupyter-widgets/base",
            "_view_module_version": "1.2.0",
            "_view_name": "StyleView",
            "description_width": ""
          }
        },
        "14e21407973c471d8cc66dfd0b9fdfab": {
          "model_module": "@jupyter-widgets/controls",
          "model_name": "HBoxModel",
          "model_module_version": "1.5.0",
          "state": {
            "_dom_classes": [],
            "_model_module": "@jupyter-widgets/controls",
            "_model_module_version": "1.5.0",
            "_model_name": "HBoxModel",
            "_view_count": null,
            "_view_module": "@jupyter-widgets/controls",
            "_view_module_version": "1.5.0",
            "_view_name": "HBoxView",
            "box_style": "",
            "children": [
              "IPY_MODEL_3c0d30cfa6f54e988a405d2a44838c34",
              "IPY_MODEL_b21137d5529845a48b9a70a97bdcdda3",
              "IPY_MODEL_a414608909024314927f95acd96e3652"
            ],
            "layout": "IPY_MODEL_40d2276a517c4aab952c4690f896f0ab"
          }
        },
        "3c0d30cfa6f54e988a405d2a44838c34": {
          "model_module": "@jupyter-widgets/controls",
          "model_name": "HTMLModel",
          "model_module_version": "1.5.0",
          "state": {
            "_dom_classes": [],
            "_model_module": "@jupyter-widgets/controls",
            "_model_module_version": "1.5.0",
            "_model_name": "HTMLModel",
            "_view_count": null,
            "_view_module": "@jupyter-widgets/controls",
            "_view_module_version": "1.5.0",
            "_view_name": "HTMLView",
            "description": "",
            "description_tooltip": null,
            "layout": "IPY_MODEL_fa8640385a71434f9442e95a8c62891e",
            "placeholder": "​",
            "style": "IPY_MODEL_f871f33443a44de2ba34258473d5c674",
            "value": "config.json: 100%"
          }
        },
        "b21137d5529845a48b9a70a97bdcdda3": {
          "model_module": "@jupyter-widgets/controls",
          "model_name": "FloatProgressModel",
          "model_module_version": "1.5.0",
          "state": {
            "_dom_classes": [],
            "_model_module": "@jupyter-widgets/controls",
            "_model_module_version": "1.5.0",
            "_model_name": "FloatProgressModel",
            "_view_count": null,
            "_view_module": "@jupyter-widgets/controls",
            "_view_module_version": "1.5.0",
            "_view_name": "ProgressView",
            "bar_style": "success",
            "description": "",
            "description_tooltip": null,
            "layout": "IPY_MODEL_b5553750e9e9481ca87c42385afdd464",
            "max": 570,
            "min": 0,
            "orientation": "horizontal",
            "style": "IPY_MODEL_9b6de8479275429e87244925079844c1",
            "value": 570
          }
        },
        "a414608909024314927f95acd96e3652": {
          "model_module": "@jupyter-widgets/controls",
          "model_name": "HTMLModel",
          "model_module_version": "1.5.0",
          "state": {
            "_dom_classes": [],
            "_model_module": "@jupyter-widgets/controls",
            "_model_module_version": "1.5.0",
            "_model_name": "HTMLModel",
            "_view_count": null,
            "_view_module": "@jupyter-widgets/controls",
            "_view_module_version": "1.5.0",
            "_view_name": "HTMLView",
            "description": "",
            "description_tooltip": null,
            "layout": "IPY_MODEL_fe2a27787d5b4f2a8021ad2764076d4d",
            "placeholder": "​",
            "style": "IPY_MODEL_ed38d0d1d69e43319f6c10c034633d4c",
            "value": " 570/570 [00:00&lt;00:00, 24.7kB/s]"
          }
        },
        "40d2276a517c4aab952c4690f896f0ab": {
          "model_module": "@jupyter-widgets/base",
          "model_name": "LayoutModel",
          "model_module_version": "1.2.0",
          "state": {
            "_model_module": "@jupyter-widgets/base",
            "_model_module_version": "1.2.0",
            "_model_name": "LayoutModel",
            "_view_count": null,
            "_view_module": "@jupyter-widgets/base",
            "_view_module_version": "1.2.0",
            "_view_name": "LayoutView",
            "align_content": null,
            "align_items": null,
            "align_self": null,
            "border": null,
            "bottom": null,
            "display": null,
            "flex": null,
            "flex_flow": null,
            "grid_area": null,
            "grid_auto_columns": null,
            "grid_auto_flow": null,
            "grid_auto_rows": null,
            "grid_column": null,
            "grid_gap": null,
            "grid_row": null,
            "grid_template_areas": null,
            "grid_template_columns": null,
            "grid_template_rows": null,
            "height": null,
            "justify_content": null,
            "justify_items": null,
            "left": null,
            "margin": null,
            "max_height": null,
            "max_width": null,
            "min_height": null,
            "min_width": null,
            "object_fit": null,
            "object_position": null,
            "order": null,
            "overflow": null,
            "overflow_x": null,
            "overflow_y": null,
            "padding": null,
            "right": null,
            "top": null,
            "visibility": null,
            "width": null
          }
        },
        "fa8640385a71434f9442e95a8c62891e": {
          "model_module": "@jupyter-widgets/base",
          "model_name": "LayoutModel",
          "model_module_version": "1.2.0",
          "state": {
            "_model_module": "@jupyter-widgets/base",
            "_model_module_version": "1.2.0",
            "_model_name": "LayoutModel",
            "_view_count": null,
            "_view_module": "@jupyter-widgets/base",
            "_view_module_version": "1.2.0",
            "_view_name": "LayoutView",
            "align_content": null,
            "align_items": null,
            "align_self": null,
            "border": null,
            "bottom": null,
            "display": null,
            "flex": null,
            "flex_flow": null,
            "grid_area": null,
            "grid_auto_columns": null,
            "grid_auto_flow": null,
            "grid_auto_rows": null,
            "grid_column": null,
            "grid_gap": null,
            "grid_row": null,
            "grid_template_areas": null,
            "grid_template_columns": null,
            "grid_template_rows": null,
            "height": null,
            "justify_content": null,
            "justify_items": null,
            "left": null,
            "margin": null,
            "max_height": null,
            "max_width": null,
            "min_height": null,
            "min_width": null,
            "object_fit": null,
            "object_position": null,
            "order": null,
            "overflow": null,
            "overflow_x": null,
            "overflow_y": null,
            "padding": null,
            "right": null,
            "top": null,
            "visibility": null,
            "width": null
          }
        },
        "f871f33443a44de2ba34258473d5c674": {
          "model_module": "@jupyter-widgets/controls",
          "model_name": "DescriptionStyleModel",
          "model_module_version": "1.5.0",
          "state": {
            "_model_module": "@jupyter-widgets/controls",
            "_model_module_version": "1.5.0",
            "_model_name": "DescriptionStyleModel",
            "_view_count": null,
            "_view_module": "@jupyter-widgets/base",
            "_view_module_version": "1.2.0",
            "_view_name": "StyleView",
            "description_width": ""
          }
        },
        "b5553750e9e9481ca87c42385afdd464": {
          "model_module": "@jupyter-widgets/base",
          "model_name": "LayoutModel",
          "model_module_version": "1.2.0",
          "state": {
            "_model_module": "@jupyter-widgets/base",
            "_model_module_version": "1.2.0",
            "_model_name": "LayoutModel",
            "_view_count": null,
            "_view_module": "@jupyter-widgets/base",
            "_view_module_version": "1.2.0",
            "_view_name": "LayoutView",
            "align_content": null,
            "align_items": null,
            "align_self": null,
            "border": null,
            "bottom": null,
            "display": null,
            "flex": null,
            "flex_flow": null,
            "grid_area": null,
            "grid_auto_columns": null,
            "grid_auto_flow": null,
            "grid_auto_rows": null,
            "grid_column": null,
            "grid_gap": null,
            "grid_row": null,
            "grid_template_areas": null,
            "grid_template_columns": null,
            "grid_template_rows": null,
            "height": null,
            "justify_content": null,
            "justify_items": null,
            "left": null,
            "margin": null,
            "max_height": null,
            "max_width": null,
            "min_height": null,
            "min_width": null,
            "object_fit": null,
            "object_position": null,
            "order": null,
            "overflow": null,
            "overflow_x": null,
            "overflow_y": null,
            "padding": null,
            "right": null,
            "top": null,
            "visibility": null,
            "width": null
          }
        },
        "9b6de8479275429e87244925079844c1": {
          "model_module": "@jupyter-widgets/controls",
          "model_name": "ProgressStyleModel",
          "model_module_version": "1.5.0",
          "state": {
            "_model_module": "@jupyter-widgets/controls",
            "_model_module_version": "1.5.0",
            "_model_name": "ProgressStyleModel",
            "_view_count": null,
            "_view_module": "@jupyter-widgets/base",
            "_view_module_version": "1.2.0",
            "_view_name": "StyleView",
            "bar_color": null,
            "description_width": ""
          }
        },
        "fe2a27787d5b4f2a8021ad2764076d4d": {
          "model_module": "@jupyter-widgets/base",
          "model_name": "LayoutModel",
          "model_module_version": "1.2.0",
          "state": {
            "_model_module": "@jupyter-widgets/base",
            "_model_module_version": "1.2.0",
            "_model_name": "LayoutModel",
            "_view_count": null,
            "_view_module": "@jupyter-widgets/base",
            "_view_module_version": "1.2.0",
            "_view_name": "LayoutView",
            "align_content": null,
            "align_items": null,
            "align_self": null,
            "border": null,
            "bottom": null,
            "display": null,
            "flex": null,
            "flex_flow": null,
            "grid_area": null,
            "grid_auto_columns": null,
            "grid_auto_flow": null,
            "grid_auto_rows": null,
            "grid_column": null,
            "grid_gap": null,
            "grid_row": null,
            "grid_template_areas": null,
            "grid_template_columns": null,
            "grid_template_rows": null,
            "height": null,
            "justify_content": null,
            "justify_items": null,
            "left": null,
            "margin": null,
            "max_height": null,
            "max_width": null,
            "min_height": null,
            "min_width": null,
            "object_fit": null,
            "object_position": null,
            "order": null,
            "overflow": null,
            "overflow_x": null,
            "overflow_y": null,
            "padding": null,
            "right": null,
            "top": null,
            "visibility": null,
            "width": null
          }
        },
        "ed38d0d1d69e43319f6c10c034633d4c": {
          "model_module": "@jupyter-widgets/controls",
          "model_name": "DescriptionStyleModel",
          "model_module_version": "1.5.0",
          "state": {
            "_model_module": "@jupyter-widgets/controls",
            "_model_module_version": "1.5.0",
            "_model_name": "DescriptionStyleModel",
            "_view_count": null,
            "_view_module": "@jupyter-widgets/base",
            "_view_module_version": "1.2.0",
            "_view_name": "StyleView",
            "description_width": ""
          }
        }
      }
    }
  },
  "cells": [
    {
      "cell_type": "code",
      "execution_count": 1,
      "metadata": {
        "id": "SQ8jvsmxShB1"
      },
      "outputs": [],
      "source": [
        "import spacy\n",
        "import os\n",
        "import numpy as np\n",
        "import pandas as pd\n",
        "from google.colab import drive\n",
        "import requests"
      ]
    },
    {
      "cell_type": "code",
      "source": [
        "drive.mount('/content/drive')\n",
        "os.chdir('/content/drive/MyDrive/CAPSTONE/data')\n",
        "os.getcwd()"
      ],
      "metadata": {
        "colab": {
          "base_uri": "https://localhost:8080/",
          "height": 53
        },
        "id": "3YKxWeCGSmMs",
        "outputId": "4c1902d0-ab6e-4ec1-ab7e-2bf240d7afb9"
      },
      "execution_count": 2,
      "outputs": [
        {
          "output_type": "stream",
          "name": "stdout",
          "text": [
            "Mounted at /content/drive\n"
          ]
        },
        {
          "output_type": "execute_result",
          "data": {
            "text/plain": [
              "'/content/drive/MyDrive/CAPSTONE/data'"
            ],
            "application/vnd.google.colaboratory.intrinsic+json": {
              "type": "string"
            }
          },
          "metadata": {},
          "execution_count": 2
        }
      ]
    },
    {
      "cell_type": "code",
      "source": [
        "os.listdir()"
      ],
      "metadata": {
        "colab": {
          "base_uri": "https://localhost:8080/"
        },
        "id": "Vhrf0ZeqSoU7",
        "outputId": "36cecf90-52de-4b86-b74b-c25819babddf"
      },
      "execution_count": 3,
      "outputs": [
        {
          "output_type": "execute_result",
          "data": {
            "text/plain": [
              "['Will_1k_set_1.csv',\n",
              " 'Will_1k_set_10.csv',\n",
              " 'Will_1k_set_11.csv',\n",
              " 'Will_1k_set_12.csv',\n",
              " 'Will_1k_set_13.csv',\n",
              " 'Will_1k_set_14.csv',\n",
              " 'Will_1k_set_15.csv',\n",
              " 'Will_1k_set_16.csv',\n",
              " 'Will_1k_set_17.csv',\n",
              " 'Will_1k_set_18.csv',\n",
              " 'Will_1k_set_19.csv',\n",
              " 'Will_1k_set_2.csv',\n",
              " 'Will_1k_set_20.csv',\n",
              " 'Will_1k_set_21.csv',\n",
              " 'Will_1k_set_22.csv',\n",
              " 'Will_1k_set_23.csv',\n",
              " 'Will_1k_set_24.csv',\n",
              " 'Will_1k_set_25.csv',\n",
              " 'Will_1k_set_3.csv',\n",
              " 'Will_1k_set_4.csv',\n",
              " 'Will_1k_set_9.csv',\n",
              " 'Will_1k_set_5.csv',\n",
              " 'Will_1k_set_6.csv',\n",
              " 'Will_1k_set_7.csv',\n",
              " 'Will_1k_set_8.csv',\n",
              " 'combined_data.csv',\n",
              " 'bert_tag_prediction_model.pth',\n",
              " 'optimizer_state.pth',\n",
              " 'data_final.csv',\n",
              " 'results',\n",
              " 'logs']"
            ]
          },
          "metadata": {},
          "execution_count": 3
        }
      ]
    },
    {
      "cell_type": "code",
      "source": [
        "# import csv file, drop irrelevant column\n",
        "data = pd.read_csv('Will_1k_set_1.csv')\n",
        "#data = pd.read_csv('combined_data.csv')\n",
        "data.drop('Unnamed: 0', axis=1, inplace=True)\n",
        "data.head()"
      ],
      "metadata": {
        "colab": {
          "base_uri": "https://localhost:8080/",
          "height": 293
        },
        "id": "qqLiiEi3TRaV",
        "outputId": "51287a98-b24b-495a-902b-9a70d4236e7c"
      },
      "execution_count": 39,
      "outputs": [
        {
          "output_type": "execute_result",
          "data": {
            "text/plain": [
              "                                           file_name  wiki_commons_id  \\\n",
              "0  File:Plac Wielkopolski w Poznaniu - czerwiec 2...         60332930   \n",
              "1  File:2018-10-10 Gymnastics at 2018 Summer Yout...         77382844   \n",
              "2  File:CP 00118destructions rue de Tournai 1914.jpg         84142136   \n",
              "3  File:Waycross, Georgia Historic District (40).jpg         86478066   \n",
              "4                 File:J31 867 Kraftwerkskaverne.jpg        138279755   \n",
              "\n",
              "    wiki_data_id                            depicts  \\\n",
              "0  ['Q11819181']  ['Wielkopolski Square in Poznań']   \n",
              "1  ['Q93888038']                     ['Yin Dehang']   \n",
              "2  ['Q39074508']                 ['Siege of Lille']   \n",
              "3  ['Q30622481']     ['Waycross Historic District']   \n",
              "4    ['Q963375']               ['diesel generator']   \n",
              "\n",
              "                                         description  \\\n",
              "0                  ['city square in Poznań, Poland']   \n",
              "1                       ['Chinese artistic gymnast']   \n",
              "2                                     ['1914 siege']   \n",
              "3         ['historic district in Waycross, Georgia']   \n",
              "4  ['combination of a diesel engine with an elect...   \n",
              "\n",
              "                                      parsed caption  \\\n",
              "0                  Plac Wielkopolski w Poznaniu.\\n\\n   \n",
              "1  Horizontal bar qualification of the boys' arti...   \n",
              "2  Lille (France - Nord department) - Destruction...   \n",
              "3  Waycross Historic District, Waycross, Georgia\\...   \n",
              "4  Zwei Dieselgeneratoren für die Gesamtversorgun...   \n",
              "\n",
              "                                 commons_description  \n",
              "0  {'DateTime': {'value': '2017-06-24 03:53:38', ...  \n",
              "1  {'DateTime': {'value': '2019-03-16 21:07:55', ...  \n",
              "2  {'DateTime': {'value': '2019-11-19 16:24:13', ...  \n",
              "3  {'DateTime': {'value': '2020-02-01 01:11:58', ...  \n",
              "4  {'DateTime': {'value': '2023-07-16 20:54:40', ...  "
            ],
            "text/html": [
              "\n",
              "  <div id=\"df-0d924922-09da-44be-923c-21cf39e0d37e\" class=\"colab-df-container\">\n",
              "    <div>\n",
              "<style scoped>\n",
              "    .dataframe tbody tr th:only-of-type {\n",
              "        vertical-align: middle;\n",
              "    }\n",
              "\n",
              "    .dataframe tbody tr th {\n",
              "        vertical-align: top;\n",
              "    }\n",
              "\n",
              "    .dataframe thead th {\n",
              "        text-align: right;\n",
              "    }\n",
              "</style>\n",
              "<table border=\"1\" class=\"dataframe\">\n",
              "  <thead>\n",
              "    <tr style=\"text-align: right;\">\n",
              "      <th></th>\n",
              "      <th>file_name</th>\n",
              "      <th>wiki_commons_id</th>\n",
              "      <th>wiki_data_id</th>\n",
              "      <th>depicts</th>\n",
              "      <th>description</th>\n",
              "      <th>parsed caption</th>\n",
              "      <th>commons_description</th>\n",
              "    </tr>\n",
              "  </thead>\n",
              "  <tbody>\n",
              "    <tr>\n",
              "      <th>0</th>\n",
              "      <td>File:Plac Wielkopolski w Poznaniu - czerwiec 2...</td>\n",
              "      <td>60332930</td>\n",
              "      <td>['Q11819181']</td>\n",
              "      <td>['Wielkopolski Square in Poznań']</td>\n",
              "      <td>['city square in Poznań, Poland']</td>\n",
              "      <td>Plac Wielkopolski w Poznaniu.\\n\\n</td>\n",
              "      <td>{'DateTime': {'value': '2017-06-24 03:53:38', ...</td>\n",
              "    </tr>\n",
              "    <tr>\n",
              "      <th>1</th>\n",
              "      <td>File:2018-10-10 Gymnastics at 2018 Summer Yout...</td>\n",
              "      <td>77382844</td>\n",
              "      <td>['Q93888038']</td>\n",
              "      <td>['Yin Dehang']</td>\n",
              "      <td>['Chinese artistic gymnast']</td>\n",
              "      <td>Horizontal bar qualification of the boys' arti...</td>\n",
              "      <td>{'DateTime': {'value': '2019-03-16 21:07:55', ...</td>\n",
              "    </tr>\n",
              "    <tr>\n",
              "      <th>2</th>\n",
              "      <td>File:CP 00118destructions rue de Tournai 1914.jpg</td>\n",
              "      <td>84142136</td>\n",
              "      <td>['Q39074508']</td>\n",
              "      <td>['Siege of Lille']</td>\n",
              "      <td>['1914 siege']</td>\n",
              "      <td>Lille (France - Nord department) - Destruction...</td>\n",
              "      <td>{'DateTime': {'value': '2019-11-19 16:24:13', ...</td>\n",
              "    </tr>\n",
              "    <tr>\n",
              "      <th>3</th>\n",
              "      <td>File:Waycross, Georgia Historic District (40).jpg</td>\n",
              "      <td>86478066</td>\n",
              "      <td>['Q30622481']</td>\n",
              "      <td>['Waycross Historic District']</td>\n",
              "      <td>['historic district in Waycross, Georgia']</td>\n",
              "      <td>Waycross Historic District, Waycross, Georgia\\...</td>\n",
              "      <td>{'DateTime': {'value': '2020-02-01 01:11:58', ...</td>\n",
              "    </tr>\n",
              "    <tr>\n",
              "      <th>4</th>\n",
              "      <td>File:J31 867 Kraftwerkskaverne.jpg</td>\n",
              "      <td>138279755</td>\n",
              "      <td>['Q963375']</td>\n",
              "      <td>['diesel generator']</td>\n",
              "      <td>['combination of a diesel engine with an elect...</td>\n",
              "      <td>Zwei Dieselgeneratoren für die Gesamtversorgun...</td>\n",
              "      <td>{'DateTime': {'value': '2023-07-16 20:54:40', ...</td>\n",
              "    </tr>\n",
              "  </tbody>\n",
              "</table>\n",
              "</div>\n",
              "    <div class=\"colab-df-buttons\">\n",
              "\n",
              "  <div class=\"colab-df-container\">\n",
              "    <button class=\"colab-df-convert\" onclick=\"convertToInteractive('df-0d924922-09da-44be-923c-21cf39e0d37e')\"\n",
              "            title=\"Convert this dataframe to an interactive table.\"\n",
              "            style=\"display:none;\">\n",
              "\n",
              "  <svg xmlns=\"http://www.w3.org/2000/svg\" height=\"24px\" viewBox=\"0 -960 960 960\">\n",
              "    <path d=\"M120-120v-720h720v720H120Zm60-500h600v-160H180v160Zm220 220h160v-160H400v160Zm0 220h160v-160H400v160ZM180-400h160v-160H180v160Zm440 0h160v-160H620v160ZM180-180h160v-160H180v160Zm440 0h160v-160H620v160Z\"/>\n",
              "  </svg>\n",
              "    </button>\n",
              "\n",
              "  <style>\n",
              "    .colab-df-container {\n",
              "      display:flex;\n",
              "      gap: 12px;\n",
              "    }\n",
              "\n",
              "    .colab-df-convert {\n",
              "      background-color: #E8F0FE;\n",
              "      border: none;\n",
              "      border-radius: 50%;\n",
              "      cursor: pointer;\n",
              "      display: none;\n",
              "      fill: #1967D2;\n",
              "      height: 32px;\n",
              "      padding: 0 0 0 0;\n",
              "      width: 32px;\n",
              "    }\n",
              "\n",
              "    .colab-df-convert:hover {\n",
              "      background-color: #E2EBFA;\n",
              "      box-shadow: 0px 1px 2px rgba(60, 64, 67, 0.3), 0px 1px 3px 1px rgba(60, 64, 67, 0.15);\n",
              "      fill: #174EA6;\n",
              "    }\n",
              "\n",
              "    .colab-df-buttons div {\n",
              "      margin-bottom: 4px;\n",
              "    }\n",
              "\n",
              "    [theme=dark] .colab-df-convert {\n",
              "      background-color: #3B4455;\n",
              "      fill: #D2E3FC;\n",
              "    }\n",
              "\n",
              "    [theme=dark] .colab-df-convert:hover {\n",
              "      background-color: #434B5C;\n",
              "      box-shadow: 0px 1px 3px 1px rgba(0, 0, 0, 0.15);\n",
              "      filter: drop-shadow(0px 1px 2px rgba(0, 0, 0, 0.3));\n",
              "      fill: #FFFFFF;\n",
              "    }\n",
              "  </style>\n",
              "\n",
              "    <script>\n",
              "      const buttonEl =\n",
              "        document.querySelector('#df-0d924922-09da-44be-923c-21cf39e0d37e button.colab-df-convert');\n",
              "      buttonEl.style.display =\n",
              "        google.colab.kernel.accessAllowed ? 'block' : 'none';\n",
              "\n",
              "      async function convertToInteractive(key) {\n",
              "        const element = document.querySelector('#df-0d924922-09da-44be-923c-21cf39e0d37e');\n",
              "        const dataTable =\n",
              "          await google.colab.kernel.invokeFunction('convertToInteractive',\n",
              "                                                    [key], {});\n",
              "        if (!dataTable) return;\n",
              "\n",
              "        const docLinkHtml = 'Like what you see? Visit the ' +\n",
              "          '<a target=\"_blank\" href=https://colab.research.google.com/notebooks/data_table.ipynb>data table notebook</a>'\n",
              "          + ' to learn more about interactive tables.';\n",
              "        element.innerHTML = '';\n",
              "        dataTable['output_type'] = 'display_data';\n",
              "        await google.colab.output.renderOutput(dataTable, element);\n",
              "        const docLink = document.createElement('div');\n",
              "        docLink.innerHTML = docLinkHtml;\n",
              "        element.appendChild(docLink);\n",
              "      }\n",
              "    </script>\n",
              "  </div>\n",
              "\n",
              "\n",
              "<div id=\"df-011c101c-7784-4f1f-97a4-fc8e6cbec019\">\n",
              "  <button class=\"colab-df-quickchart\" onclick=\"quickchart('df-011c101c-7784-4f1f-97a4-fc8e6cbec019')\"\n",
              "            title=\"Suggest charts\"\n",
              "            style=\"display:none;\">\n",
              "\n",
              "<svg xmlns=\"http://www.w3.org/2000/svg\" height=\"24px\"viewBox=\"0 0 24 24\"\n",
              "     width=\"24px\">\n",
              "    <g>\n",
              "        <path d=\"M19 3H5c-1.1 0-2 .9-2 2v14c0 1.1.9 2 2 2h14c1.1 0 2-.9 2-2V5c0-1.1-.9-2-2-2zM9 17H7v-7h2v7zm4 0h-2V7h2v10zm4 0h-2v-4h2v4z\"/>\n",
              "    </g>\n",
              "</svg>\n",
              "  </button>\n",
              "\n",
              "<style>\n",
              "  .colab-df-quickchart {\n",
              "      --bg-color: #E8F0FE;\n",
              "      --fill-color: #1967D2;\n",
              "      --hover-bg-color: #E2EBFA;\n",
              "      --hover-fill-color: #174EA6;\n",
              "      --disabled-fill-color: #AAA;\n",
              "      --disabled-bg-color: #DDD;\n",
              "  }\n",
              "\n",
              "  [theme=dark] .colab-df-quickchart {\n",
              "      --bg-color: #3B4455;\n",
              "      --fill-color: #D2E3FC;\n",
              "      --hover-bg-color: #434B5C;\n",
              "      --hover-fill-color: #FFFFFF;\n",
              "      --disabled-bg-color: #3B4455;\n",
              "      --disabled-fill-color: #666;\n",
              "  }\n",
              "\n",
              "  .colab-df-quickchart {\n",
              "    background-color: var(--bg-color);\n",
              "    border: none;\n",
              "    border-radius: 50%;\n",
              "    cursor: pointer;\n",
              "    display: none;\n",
              "    fill: var(--fill-color);\n",
              "    height: 32px;\n",
              "    padding: 0;\n",
              "    width: 32px;\n",
              "  }\n",
              "\n",
              "  .colab-df-quickchart:hover {\n",
              "    background-color: var(--hover-bg-color);\n",
              "    box-shadow: 0 1px 2px rgba(60, 64, 67, 0.3), 0 1px 3px 1px rgba(60, 64, 67, 0.15);\n",
              "    fill: var(--button-hover-fill-color);\n",
              "  }\n",
              "\n",
              "  .colab-df-quickchart-complete:disabled,\n",
              "  .colab-df-quickchart-complete:disabled:hover {\n",
              "    background-color: var(--disabled-bg-color);\n",
              "    fill: var(--disabled-fill-color);\n",
              "    box-shadow: none;\n",
              "  }\n",
              "\n",
              "  .colab-df-spinner {\n",
              "    border: 2px solid var(--fill-color);\n",
              "    border-color: transparent;\n",
              "    border-bottom-color: var(--fill-color);\n",
              "    animation:\n",
              "      spin 1s steps(1) infinite;\n",
              "  }\n",
              "\n",
              "  @keyframes spin {\n",
              "    0% {\n",
              "      border-color: transparent;\n",
              "      border-bottom-color: var(--fill-color);\n",
              "      border-left-color: var(--fill-color);\n",
              "    }\n",
              "    20% {\n",
              "      border-color: transparent;\n",
              "      border-left-color: var(--fill-color);\n",
              "      border-top-color: var(--fill-color);\n",
              "    }\n",
              "    30% {\n",
              "      border-color: transparent;\n",
              "      border-left-color: var(--fill-color);\n",
              "      border-top-color: var(--fill-color);\n",
              "      border-right-color: var(--fill-color);\n",
              "    }\n",
              "    40% {\n",
              "      border-color: transparent;\n",
              "      border-right-color: var(--fill-color);\n",
              "      border-top-color: var(--fill-color);\n",
              "    }\n",
              "    60% {\n",
              "      border-color: transparent;\n",
              "      border-right-color: var(--fill-color);\n",
              "    }\n",
              "    80% {\n",
              "      border-color: transparent;\n",
              "      border-right-color: var(--fill-color);\n",
              "      border-bottom-color: var(--fill-color);\n",
              "    }\n",
              "    90% {\n",
              "      border-color: transparent;\n",
              "      border-bottom-color: var(--fill-color);\n",
              "    }\n",
              "  }\n",
              "</style>\n",
              "\n",
              "  <script>\n",
              "    async function quickchart(key) {\n",
              "      const quickchartButtonEl =\n",
              "        document.querySelector('#' + key + ' button');\n",
              "      quickchartButtonEl.disabled = true;  // To prevent multiple clicks.\n",
              "      quickchartButtonEl.classList.add('colab-df-spinner');\n",
              "      try {\n",
              "        const charts = await google.colab.kernel.invokeFunction(\n",
              "            'suggestCharts', [key], {});\n",
              "      } catch (error) {\n",
              "        console.error('Error during call to suggestCharts:', error);\n",
              "      }\n",
              "      quickchartButtonEl.classList.remove('colab-df-spinner');\n",
              "      quickchartButtonEl.classList.add('colab-df-quickchart-complete');\n",
              "    }\n",
              "    (() => {\n",
              "      let quickchartButtonEl =\n",
              "        document.querySelector('#df-011c101c-7784-4f1f-97a4-fc8e6cbec019 button');\n",
              "      quickchartButtonEl.style.display =\n",
              "        google.colab.kernel.accessAllowed ? 'block' : 'none';\n",
              "    })();\n",
              "  </script>\n",
              "</div>\n",
              "\n",
              "    </div>\n",
              "  </div>\n"
            ],
            "application/vnd.google.colaboratory.intrinsic+json": {
              "type": "dataframe",
              "variable_name": "data",
              "summary": "{\n  \"name\": \"data\",\n  \"rows\": 1000,\n  \"fields\": [\n    {\n      \"column\": \"file_name\",\n      \"properties\": {\n        \"dtype\": \"string\",\n        \"num_unique_values\": 1000,\n        \"samples\": [\n          \"File:Bury St Edmunds buildings (26) (geograph 6645803).jpg\",\n          \"File:Heathrow Hotel - geograph.org.uk - 5241683.jpg\",\n          \"File:Renault 21 TXE (22521880068).jpg\"\n        ],\n        \"semantic_type\": \"\",\n        \"description\": \"\"\n      }\n    },\n    {\n      \"column\": \"wiki_commons_id\",\n      \"properties\": {\n        \"dtype\": \"number\",\n        \"std\": 42666728,\n        \"min\": 1410254,\n        \"max\": 147053043,\n        \"num_unique_values\": 1000,\n        \"samples\": [\n          138351327,\n          135758872,\n          45994780\n        ],\n        \"semantic_type\": \"\",\n        \"description\": \"\"\n      }\n    },\n    {\n      \"column\": \"wiki_data_id\",\n      \"properties\": {\n        \"dtype\": \"string\",\n        \"num_unique_values\": 975,\n        \"samples\": [\n          \"['Q34442', 'Q1892761']\",\n          \"['Q30619416']\",\n          \"['Q12902372', 'Q75210629']\"\n        ],\n        \"semantic_type\": \"\",\n        \"description\": \"\"\n      }\n    },\n    {\n      \"column\": \"depicts\",\n      \"properties\": {\n        \"dtype\": \"string\",\n        \"num_unique_values\": 944,\n        \"samples\": [\n          \"['Surroundings of the St. Roch church in Bia\\u0142ystok', \\\"St. Roch's Church in Bia\\u0142ystok\\\"]\",\n          \"['Maodo L\\u00f4']\",\n          \"[\\\"Michelle O'Neill\\\"]\"\n        ],\n        \"semantic_type\": \"\",\n        \"description\": \"\"\n      }\n    },\n    {\n      \"column\": \"description\",\n      \"properties\": {\n        \"dtype\": \"string\",\n        \"num_unique_values\": 862,\n        \"samples\": [\n          \"['sculpture stored in the mus\\u00e9e Saint-Raymond of Toulouse']\",\n          \"['wide way leading from one place to another, especially one with a specially prepared surface which vehicles can use', 'borough in the London Region in England']\",\n          \"['Dutch pop band']\"\n        ],\n        \"semantic_type\": \"\",\n        \"description\": \"\"\n      }\n    },\n    {\n      \"column\": \"parsed caption\",\n      \"properties\": {\n        \"dtype\": \"string\",\n        \"num_unique_values\": 933,\n        \"samples\": [\n          \"Ostrokrzew w Rewalu\\n\\n  *[![](https://upload.wikimedia.org/wikipedia/commons/thumb/5/53/Info_non-talk.svg/15px-Info_non-talk.svg.png)]: Files from the inventories \\u201cBild 101 Propagandakompanien der Wehrmacht\\u201d and \\u201cBild 183 ADN\\u201d may have particularly biased or politically extreme descriptions.\\n\\n\",\n          \"500px provided description: 1cun8138 Jpg [#lol ,#s5 ,#Paris ,#teamchina]\\n\\n\",\n          \"Wild Grassland Area [![Edit this at Structured Data on\\nCommons](https://upload.wikimedia.org/wikipedia/commons/thumb/8/8a/OOjs_UI_icon_edit-\\nltr-progressive.svg/10px-OOjs_UI_icon_edit-ltr-\\nprogressive.svg.png)](//commons.wikimedia.org/wiki/File:Wild_Grassland_Area_-\\n_geograph.org.uk_-_4058191.jpg#ooui-php-4 \\\"Edit this at Structured Data on\\nCommons\\\")\\n\\n\"\n        ],\n        \"semantic_type\": \"\",\n        \"description\": \"\"\n      }\n    },\n    {\n      \"column\": \"commons_description\",\n      \"properties\": {\n        \"dtype\": \"string\",\n        \"num_unique_values\": 994,\n        \"samples\": [\n          \"{'DateTime': {'value': '2018-10-06 20:00:23', 'source': 'mediawiki-metadata', 'hidden': ''}, 'ObjectName': {'value': '\\u0628\\u0631\\u062c \\u0631\\u0633\\u06a9\\u062a 3', 'source': 'mediawiki-metadata'}, 'CommonsMetadataExtension': {'value': 1.2, 'source': 'extension', 'hidden': ''}, 'Categories': {'value': 'Cultural heritage monuments in Iran with known IDs|Images from Wiki Loves Monuments 2018|Images from Wiki Loves Monuments 2018 in Iran|Images from Wiki Loves Monuments in Sari, Iran|Resket Tower|Self-published work|Uploaded via Campaign:wlm-ir', 'source': 'commons-categories', 'hidden': ''}, 'Assessments': {'value': '', 'source': 'commons-categories', 'hidden': ''}, 'ImageDescription': {'value': 'This is a photo of a monument in Iran identified by the ID', 'source': 'commons-desc-page'}, 'DateTimeOriginal': {'value': '2016-07-01 10:42:24', 'source': 'commons-desc-page'}, 'Credit': {'value': '<span class=\\\"int-own-work\\\" lang=\\\"en\\\">Own work</span>', 'source': 'commons-desc-page'}, 'Artist': {'value': '<a href=\\\"//commons.wikimedia.org/w/index.php?title=User:%D8%B1%D9%85%D8%B6%D8%A7%D9%86_%D8%B9%D9%85%D9%88%D8%A6%DB%8C&amp;action=edit&amp;redlink=1\\\" class=\\\"new\\\" title=\\\"User:\\u0631\\u0645\\u0636\\u0627\\u0646 \\u0639\\u0645\\u0648\\u0626\\u06cc (page does not exist)\\\">\\u0631\\u0645\\u0636\\u0627\\u0646 \\u0639\\u0645\\u0648\\u0626\\u06cc</a>', 'source': 'commons-desc-page'}, 'LicenseShortName': {'value': 'CC BY-SA 4.0', 'source': 'commons-desc-page', 'hidden': ''}, 'UsageTerms': {'value': 'Creative Commons Attribution-Share Alike 4.0', 'source': 'commons-desc-page'}, 'AttributionRequired': {'value': 'true', 'source': 'commons-desc-page', 'hidden': ''}, 'LicenseUrl': {'value': 'https://creativecommons.org/licenses/by-sa/4.0', 'source': 'commons-desc-page'}, 'Copyrighted': {'value': 'True', 'source': 'commons-desc-page', 'hidden': ''}, 'Restrictions': {'value': '', 'source': 'commons-desc-page', 'hidden': ''}, 'License': {'value': 'cc-by-sa-4.0', 'source': 'commons-templates', 'hidden': ''}}\",\n          \"{'DateTime': {'value': '2023-12-08 15:02:26', 'source': 'mediawiki-metadata', 'hidden': ''}, 'ObjectName': {'value': 'Northways Farm - geograph.org.uk - 5891239', 'source': 'mediawiki-metadata'}, 'CommonsMetadataExtension': {'value': 1.2, 'source': 'extension', 'hidden': ''}, 'Categories': {'value': 'Images from Geograph Britain and Ireland|Mawnan|Pages with camera coordinates from SDC|Pages with maps|Pages with object coordinates from SDC', 'source': 'commons-categories', 'hidden': ''}, 'Assessments': {'value': '', 'source': 'commons-categories', 'hidden': ''}, 'GPSLatitude': {'value': '50.123695', 'source': 'commons-desc-page'}, 'GPSLongitude': {'value': '-5.107016', 'source': 'commons-desc-page'}, 'GPSMapDatum': {'value': 'WGS-84', 'source': 'commons-desc-page', 'hidden': ''}, 'ImageDescription': {'value': 'Northways Farm\\\\xa0<span class=\\\"mw-valign-text-top\\\" typeof=\\\"mw:File/Frameless\\\"><a href=\\\"//commons.wikimedia.org/wiki/File:Northways_Farm_-_geograph.org.uk_-_5891239.jpg#ooui-php-4\\\" title=\\\"Edit this at Structured Data on Commons\\\"><img alt=\\\"Edit this at Structured Data on Commons\\\" src=\\\"https://upload.wikimedia.org/wikipedia/commons/thumb/8/8a/OOjs_UI_icon_edit-ltr-progressive.svg/10px-OOjs_UI_icon_edit-ltr-progressive.svg.png\\\" decoding=\\\"async\\\" width=\\\"10\\\" height=\\\"10\\\" class=\\\"mw-file-element\\\" srcset=\\\"https://upload.wikimedia.org/wikipedia/commons/thumb/8/8a/OOjs_UI_icon_edit-ltr-progressive.svg/15px-OOjs_UI_icon_edit-ltr-progressive.svg.png 1.5x, https://upload.wikimedia.org/wikipedia/commons/thumb/8/8a/OOjs_UI_icon_edit-ltr-progressive.svg/20px-OOjs_UI_icon_edit-ltr-progressive.svg.png 2x\\\" data-file-width=\\\"20\\\" data-file-height=\\\"20\\\"></a></span>', 'source': 'commons-desc-page'}, 'DateTimeOriginal': {'value': '2018-04-28', 'source': 'commons-desc-page'}, 'Credit': {'value': '<a rel=\\\"nofollow\\\" class=\\\"external text\\\" href=\\\"https://www.geograph.org.uk/photo/5891239\\\">Geograph Britain and Ireland</a>\\\\xa0<span class=\\\"mw-valign-text-top\\\" typeof=\\\"mw:File/Frameless\\\"><a href=\\\"//commons.wikimedia.org/wiki/File:Northways_Farm_-_geograph.org.uk_-_5891239.jpg#P7482\\\" title=\\\"Edit this at Structured Data on Commons\\\"><img alt=\\\"Edit this at Structured Data on Commons\\\" src=\\\"https://upload.wikimedia.org/wikipedia/commons/thumb/8/8a/OOjs_UI_icon_edit-ltr-progressive.svg/10px-OOjs_UI_icon_edit-ltr-progressive.svg.png\\\" decoding=\\\"async\\\" width=\\\"10\\\" height=\\\"10\\\" class=\\\"mw-file-element\\\" srcset=\\\"https://upload.wikimedia.org/wikipedia/commons/thumb/8/8a/OOjs_UI_icon_edit-ltr-progressive.svg/15px-OOjs_UI_icon_edit-ltr-progressive.svg.png 1.5x, https://upload.wikimedia.org/wikipedia/commons/thumb/8/8a/OOjs_UI_icon_edit-ltr-progressive.svg/20px-OOjs_UI_icon_edit-ltr-progressive.svg.png 2x\\\" data-file-width=\\\"20\\\" data-file-height=\\\"20\\\"></a></span>', 'source': 'commons-desc-page'}, 'Artist': {'value': '<a rel=\\\"nofollow\\\" class=\\\"external text\\\" href=\\\"https://www.geograph.org.uk/profile/3101\\\">N Chadwick</a>\\\\xa0<span class=\\\"mw-valign-text-top\\\" typeof=\\\"mw:File/Frameless\\\"><a href=\\\"//commons.wikimedia.org/wiki/File:Northways_Farm_-_geograph.org.uk_-_5891239.jpg#P170\\\" title=\\\"Edit this at Structured Data on Commons\\\"><img alt=\\\"Edit this at Structured Data on Commons\\\" src=\\\"https://upload.wikimedia.org/wikipedia/commons/thumb/8/8a/OOjs_UI_icon_edit-ltr-progressive.svg/10px-OOjs_UI_icon_edit-ltr-progressive.svg.png\\\" decoding=\\\"async\\\" width=\\\"10\\\" height=\\\"10\\\" class=\\\"mw-file-element\\\" srcset=\\\"https://upload.wikimedia.org/wikipedia/commons/thumb/8/8a/OOjs_UI_icon_edit-ltr-progressive.svg/15px-OOjs_UI_icon_edit-ltr-progressive.svg.png 1.5x, https://upload.wikimedia.org/wikipedia/commons/thumb/8/8a/OOjs_UI_icon_edit-ltr-progressive.svg/20px-OOjs_UI_icon_edit-ltr-progressive.svg.png 2x\\\" data-file-width=\\\"20\\\" data-file-height=\\\"20\\\"></a></span>', 'source': 'commons-desc-page'}, 'LicenseShortName': {'value': 'CC BY-SA 2.0', 'source': 'commons-desc-page', 'hidden': ''}, 'UsageTerms': {'value': 'Creative Commons Attribution-Share Alike 2.0', 'source': 'commons-desc-page'}, 'AttributionRequired': {'value': 'true', 'source': 'commons-desc-page', 'hidden': ''}, 'Attribution': {'value': '<i>Northways Farm</i> by\\\\xa0N Chadwick', 'source': 'commons-desc-page', 'hidden': ''}, 'LicenseUrl': {'value': 'https://creativecommons.org/licenses/by-sa/2.0', 'source': 'commons-desc-page'}, 'Copyrighted': {'value': 'True', 'source': 'commons-desc-page', 'hidden': ''}, 'Restrictions': {'value': '', 'source': 'commons-desc-page', 'hidden': ''}, 'License': {'value': 'cc-by-sa-2.0', 'source': 'commons-templates', 'hidden': ''}}\",\n          \"{'DateTime': {'value': '2017-12-18 23:07:04', 'source': 'mediawiki-metadata', 'hidden': ''}, 'ObjectName': {'value': '\\u062f\\u0648\\u0686\\u0631\\u062e\\u0647\\\\u200c\\u0633\\u0648\\u0627\\u0631\\u06cc \\u0628\\u06cc\\\\u200c\\u0627\\u0645\\\\u200c\\u0627\\u06a9\\u0633 \\u062f\\u0631 \\u067e\\u0627\\u0631\\u06a9 \\u0622\\u0628 \\u0648 \\u0622\\u062a\\u0634 \\u062a\\u0647\\u0631\\u0627\\u0646 BMX bike ride in \\\"Water and Fire\\\" park in Tehran 24', 'source': 'mediawiki-metadata'}, 'CommonsMetadataExtension': {'value': 1.2, 'source': 'extension', 'hidden': ''}, 'Categories': {'value': 'Ab-o-Atash Skatepark|April 2017 in Tehran|Clouds in Tehran|Cycling in Tehran|Domes in Tehran|Files with coordinates missing SDC location of creation|High-rises in Tehran|Iran photographs taken on 2017-04-21|Mina Dome Planetarium|Office buildings in Tehran|Pages with maps|Photographs by Mostafa Meraji|Self-published work', 'source': 'commons-categories', 'hidden': ''}, 'Assessments': {'value': '', 'source': 'commons-categories', 'hidden': ''}, 'GPSLatitude': {'value': '35.750578', 'source': 'commons-desc-page'}, 'GPSLongitude': {'value': '51.417983', 'source': 'commons-desc-page'}, 'GPSMapDatum': {'value': 'WGS-84', 'source': 'commons-desc-page', 'hidden': ''}, 'ImageDescription': {'value': 'BMX, an abbreviation for bicycle motocross or bike motocross, is a cycle sport performed on BMX bikes, either in competitive BMX racing or freestyle BMX, or else in general on- or off-road recreation. BMX began when young cyclists appropriated motocross tracks for fun, racing and stunts, eventually evolving specialized BMX bikes and competitions.\\\\nPhotographer: Mostafa Meraji', 'source': 'commons-desc-page'}, 'DateTimeOriginal': {'value': 'Taken on\\\\xa021 April 2017, 14:54:19', 'source': 'commons-desc-page'}, 'Credit': {'value': '<span class=\\\"int-own-work\\\" lang=\\\"en\\\">Own work</span>', 'source': 'commons-desc-page'}, 'Artist': {'value': '<a href=\\\"//commons.wikimedia.org/wiki/User:Mostafameraji\\\" title=\\\"User:Mostafameraji\\\">Mostafameraji</a>', 'source': 'commons-desc-page'}, 'LicenseShortName': {'value': 'CC BY-SA 4.0', 'source': 'commons-desc-page', 'hidden': ''}, 'UsageTerms': {'value': 'Creative Commons Attribution-Share Alike 4.0', 'source': 'commons-desc-page'}, 'AttributionRequired': {'value': 'true', 'source': 'commons-desc-page', 'hidden': ''}, 'LicenseUrl': {'value': 'https://creativecommons.org/licenses/by-sa/4.0', 'source': 'commons-desc-page'}, 'Copyrighted': {'value': 'True', 'source': 'commons-desc-page', 'hidden': ''}, 'Restrictions': {'value': '', 'source': 'commons-desc-page', 'hidden': ''}, 'License': {'value': 'cc-by-sa-4.0', 'source': 'commons-templates', 'hidden': ''}}\"\n        ],\n        \"semantic_type\": \"\",\n        \"description\": \"\"\n      }\n    }\n  ]\n}"
            }
          },
          "metadata": {},
          "execution_count": 39
        }
      ]
    },
    {
      "cell_type": "code",
      "source": [
        "data.iloc[1,3] = \"['Yin Dehang', '2018 Summer Youth Olympics']\""
      ],
      "metadata": {
        "id": "tsGzfCXOTS4e"
      },
      "execution_count": 40,
      "outputs": []
    },
    {
      "cell_type": "code",
      "source": [
        "data.shape[0]"
      ],
      "metadata": {
        "colab": {
          "base_uri": "https://localhost:8080/"
        },
        "id": "iRFOQ9YETVk4",
        "outputId": "ab0cb911-6620-4f64-94b3-4a2fa54df7d9"
      },
      "execution_count": 41,
      "outputs": [
        {
          "output_type": "execute_result",
          "data": {
            "text/plain": [
              "1000"
            ]
          },
          "metadata": {},
          "execution_count": 41
        }
      ]
    },
    {
      "cell_type": "code",
      "source": [
        "# download large SpaCy Model for testing purposes\n",
        "!python -m spacy download en_core_web_lg"
      ],
      "metadata": {
        "colab": {
          "base_uri": "https://localhost:8080/"
        },
        "id": "LrRF5y7lTXfG",
        "outputId": "09aff85e-c336-41f8-a163-e7f132b81139"
      },
      "execution_count": 7,
      "outputs": [
        {
          "output_type": "stream",
          "name": "stdout",
          "text": [
            "Collecting en-core-web-lg==3.7.1\n",
            "  Downloading https://github.com/explosion/spacy-models/releases/download/en_core_web_lg-3.7.1/en_core_web_lg-3.7.1-py3-none-any.whl (587.7 MB)\n",
            "\u001b[2K     \u001b[90m━━━━━━━━━━━━━━━━━━━━━━━━━━━━━━━━━━━━━━━━\u001b[0m \u001b[32m587.7/587.7 MB\u001b[0m \u001b[31m2.7 MB/s\u001b[0m eta \u001b[36m0:00:00\u001b[0m\n",
            "\u001b[?25hRequirement already satisfied: spacy<3.8.0,>=3.7.2 in /usr/local/lib/python3.10/dist-packages (from en-core-web-lg==3.7.1) (3.7.4)\n",
            "Requirement already satisfied: spacy-legacy<3.1.0,>=3.0.11 in /usr/local/lib/python3.10/dist-packages (from spacy<3.8.0,>=3.7.2->en-core-web-lg==3.7.1) (3.0.12)\n",
            "Requirement already satisfied: spacy-loggers<2.0.0,>=1.0.0 in /usr/local/lib/python3.10/dist-packages (from spacy<3.8.0,>=3.7.2->en-core-web-lg==3.7.1) (1.0.5)\n",
            "Requirement already satisfied: murmurhash<1.1.0,>=0.28.0 in /usr/local/lib/python3.10/dist-packages (from spacy<3.8.0,>=3.7.2->en-core-web-lg==3.7.1) (1.0.10)\n",
            "Requirement already satisfied: cymem<2.1.0,>=2.0.2 in /usr/local/lib/python3.10/dist-packages (from spacy<3.8.0,>=3.7.2->en-core-web-lg==3.7.1) (2.0.8)\n",
            "Requirement already satisfied: preshed<3.1.0,>=3.0.2 in /usr/local/lib/python3.10/dist-packages (from spacy<3.8.0,>=3.7.2->en-core-web-lg==3.7.1) (3.0.9)\n",
            "Requirement already satisfied: thinc<8.3.0,>=8.2.2 in /usr/local/lib/python3.10/dist-packages (from spacy<3.8.0,>=3.7.2->en-core-web-lg==3.7.1) (8.2.3)\n",
            "Requirement already satisfied: wasabi<1.2.0,>=0.9.1 in /usr/local/lib/python3.10/dist-packages (from spacy<3.8.0,>=3.7.2->en-core-web-lg==3.7.1) (1.1.2)\n",
            "Requirement already satisfied: srsly<3.0.0,>=2.4.3 in /usr/local/lib/python3.10/dist-packages (from spacy<3.8.0,>=3.7.2->en-core-web-lg==3.7.1) (2.4.8)\n",
            "Requirement already satisfied: catalogue<2.1.0,>=2.0.6 in /usr/local/lib/python3.10/dist-packages (from spacy<3.8.0,>=3.7.2->en-core-web-lg==3.7.1) (2.0.10)\n",
            "Requirement already satisfied: weasel<0.4.0,>=0.1.0 in /usr/local/lib/python3.10/dist-packages (from spacy<3.8.0,>=3.7.2->en-core-web-lg==3.7.1) (0.3.4)\n",
            "Requirement already satisfied: typer<0.10.0,>=0.3.0 in /usr/local/lib/python3.10/dist-packages (from spacy<3.8.0,>=3.7.2->en-core-web-lg==3.7.1) (0.9.4)\n",
            "Requirement already satisfied: smart-open<7.0.0,>=5.2.1 in /usr/local/lib/python3.10/dist-packages (from spacy<3.8.0,>=3.7.2->en-core-web-lg==3.7.1) (6.4.0)\n",
            "Requirement already satisfied: tqdm<5.0.0,>=4.38.0 in /usr/local/lib/python3.10/dist-packages (from spacy<3.8.0,>=3.7.2->en-core-web-lg==3.7.1) (4.66.2)\n",
            "Requirement already satisfied: requests<3.0.0,>=2.13.0 in /usr/local/lib/python3.10/dist-packages (from spacy<3.8.0,>=3.7.2->en-core-web-lg==3.7.1) (2.31.0)\n",
            "Requirement already satisfied: pydantic!=1.8,!=1.8.1,<3.0.0,>=1.7.4 in /usr/local/lib/python3.10/dist-packages (from spacy<3.8.0,>=3.7.2->en-core-web-lg==3.7.1) (2.7.1)\n",
            "Requirement already satisfied: jinja2 in /usr/local/lib/python3.10/dist-packages (from spacy<3.8.0,>=3.7.2->en-core-web-lg==3.7.1) (3.1.3)\n",
            "Requirement already satisfied: setuptools in /usr/local/lib/python3.10/dist-packages (from spacy<3.8.0,>=3.7.2->en-core-web-lg==3.7.1) (67.7.2)\n",
            "Requirement already satisfied: packaging>=20.0 in /usr/local/lib/python3.10/dist-packages (from spacy<3.8.0,>=3.7.2->en-core-web-lg==3.7.1) (24.0)\n",
            "Requirement already satisfied: langcodes<4.0.0,>=3.2.0 in /usr/local/lib/python3.10/dist-packages (from spacy<3.8.0,>=3.7.2->en-core-web-lg==3.7.1) (3.4.0)\n",
            "Requirement already satisfied: numpy>=1.19.0 in /usr/local/lib/python3.10/dist-packages (from spacy<3.8.0,>=3.7.2->en-core-web-lg==3.7.1) (1.25.2)\n",
            "Requirement already satisfied: language-data>=1.2 in /usr/local/lib/python3.10/dist-packages (from langcodes<4.0.0,>=3.2.0->spacy<3.8.0,>=3.7.2->en-core-web-lg==3.7.1) (1.2.0)\n",
            "Requirement already satisfied: annotated-types>=0.4.0 in /usr/local/lib/python3.10/dist-packages (from pydantic!=1.8,!=1.8.1,<3.0.0,>=1.7.4->spacy<3.8.0,>=3.7.2->en-core-web-lg==3.7.1) (0.6.0)\n",
            "Requirement already satisfied: pydantic-core==2.18.2 in /usr/local/lib/python3.10/dist-packages (from pydantic!=1.8,!=1.8.1,<3.0.0,>=1.7.4->spacy<3.8.0,>=3.7.2->en-core-web-lg==3.7.1) (2.18.2)\n",
            "Requirement already satisfied: typing-extensions>=4.6.1 in /usr/local/lib/python3.10/dist-packages (from pydantic!=1.8,!=1.8.1,<3.0.0,>=1.7.4->spacy<3.8.0,>=3.7.2->en-core-web-lg==3.7.1) (4.11.0)\n",
            "Requirement already satisfied: charset-normalizer<4,>=2 in /usr/local/lib/python3.10/dist-packages (from requests<3.0.0,>=2.13.0->spacy<3.8.0,>=3.7.2->en-core-web-lg==3.7.1) (3.3.2)\n",
            "Requirement already satisfied: idna<4,>=2.5 in /usr/local/lib/python3.10/dist-packages (from requests<3.0.0,>=2.13.0->spacy<3.8.0,>=3.7.2->en-core-web-lg==3.7.1) (3.7)\n",
            "Requirement already satisfied: urllib3<3,>=1.21.1 in /usr/local/lib/python3.10/dist-packages (from requests<3.0.0,>=2.13.0->spacy<3.8.0,>=3.7.2->en-core-web-lg==3.7.1) (2.0.7)\n",
            "Requirement already satisfied: certifi>=2017.4.17 in /usr/local/lib/python3.10/dist-packages (from requests<3.0.0,>=2.13.0->spacy<3.8.0,>=3.7.2->en-core-web-lg==3.7.1) (2024.2.2)\n",
            "Requirement already satisfied: blis<0.8.0,>=0.7.8 in /usr/local/lib/python3.10/dist-packages (from thinc<8.3.0,>=8.2.2->spacy<3.8.0,>=3.7.2->en-core-web-lg==3.7.1) (0.7.11)\n",
            "Requirement already satisfied: confection<1.0.0,>=0.0.1 in /usr/local/lib/python3.10/dist-packages (from thinc<8.3.0,>=8.2.2->spacy<3.8.0,>=3.7.2->en-core-web-lg==3.7.1) (0.1.4)\n",
            "Requirement already satisfied: click<9.0.0,>=7.1.1 in /usr/local/lib/python3.10/dist-packages (from typer<0.10.0,>=0.3.0->spacy<3.8.0,>=3.7.2->en-core-web-lg==3.7.1) (8.1.7)\n",
            "Requirement already satisfied: cloudpathlib<0.17.0,>=0.7.0 in /usr/local/lib/python3.10/dist-packages (from weasel<0.4.0,>=0.1.0->spacy<3.8.0,>=3.7.2->en-core-web-lg==3.7.1) (0.16.0)\n",
            "Requirement already satisfied: MarkupSafe>=2.0 in /usr/local/lib/python3.10/dist-packages (from jinja2->spacy<3.8.0,>=3.7.2->en-core-web-lg==3.7.1) (2.1.5)\n",
            "Requirement already satisfied: marisa-trie>=0.7.7 in /usr/local/lib/python3.10/dist-packages (from language-data>=1.2->langcodes<4.0.0,>=3.2.0->spacy<3.8.0,>=3.7.2->en-core-web-lg==3.7.1) (1.1.0)\n",
            "Installing collected packages: en-core-web-lg\n",
            "Successfully installed en-core-web-lg-3.7.1\n",
            "\u001b[38;5;2m✔ Download and installation successful\u001b[0m\n",
            "You can now load the package via spacy.load('en_core_web_lg')\n",
            "\u001b[38;5;3m⚠ Restart to reload dependencies\u001b[0m\n",
            "If you are in a Jupyter or Colab notebook, you may need to restart Python in\n",
            "order to load all the package's dependencies. You can do this by selecting the\n",
            "'Restart kernel' or 'Restart runtime' option.\n"
          ]
        }
      ]
    },
    {
      "cell_type": "code",
      "source": [
        "\n",
        "'''\n",
        "def clean_and_lemmatize(phrase, doc):\n",
        "    articles = ['the', 'a', 'an']\n",
        "    words = phrase.split()\n",
        "    if words and words[0].lower() in articles:\n",
        "        words = words[1:]\n",
        "    lemmatized_words = []\n",
        "    for word in words:\n",
        "        tokens = [token for token in doc if token.text.lower() == word.lower()]\n",
        "        if tokens:\n",
        "            lemmatized_words.append(tokens[0].lemma_)  # Append lemma to the list\n",
        "        else:\n",
        "            lemmatized_words.append(word)  # Append original word if no token found\n",
        "    return ' '.join(lemmatized_words)\n",
        "  '''\n",
        "import spacy\n",
        "import re\n",
        "\n",
        "nlp = spacy.load(\"en_core_web_lg\")\n",
        "def clean_and_lemmatize(phrase, doc):\n",
        "    articles = ['the', 'a', 'an']\n",
        "    words = phrase.split()\n",
        "    # Remove the first word if it is an article\n",
        "    if words[0].lower() in articles:\n",
        "        words = words[1:]\n",
        "    # Lemmatize each word in the phrase\n",
        "    lemmatized_words = []\n",
        "    for word in words:\n",
        "        # Find the token for this word (use the original text for matching)\n",
        "        tokens = [token for token in doc if token.text.lower() == word.lower()]\n",
        "        if tokens:\n",
        "            # Use the lemma of the first matching token\n",
        "            lemma = tokens[0].lemma_\n",
        "        else:\n",
        "            lemma = word  # Fallback to the original word if not found\n",
        "        lemmatized_words.append(lemma)\n",
        "    return ' '.join(lemmatized_words)\n",
        "\n",
        "def process_text(text):\n",
        "  try:\n",
        "    #stripped_text = text.strip(\"['\").strip(\"']\")\n",
        "    #doc = nlp(stripped_text)\n",
        "    doc = nlp(text)\n",
        "    url_pattern = r'https?://[^\\S\\n]*(?:[^\\s<>\"]|[^\\S\\n])+'\n",
        "    text = re.sub(url_pattern, '', text, flags=re.MULTILINE)\n",
        "    #noun_chunks = [clean_and_lemmatize(chunk.text, doc) for chunk in doc.noun_chunks]\n",
        "    noun_chunks = [clean_and_lemmatize(chunk.text, doc) for chunk in doc.noun_chunks]\n",
        "    named_entities = [clean_and_lemmatize(entity.text, doc) for entity in doc.ents]\n",
        "    tags = list(set(noun_chunks + named_entities))\n",
        "    #filtered_tags = [tag for tag in tags if not (tag.lower().startswith('http') or not tag[0].isalnum() or tag.isdigit())]\n",
        "    filtered_tags = [tag for tag in tags if not (tag.lower().startswith('http') or not tag.isalnum() or tag.isdigit())]\n",
        "    return filtered_tags\n",
        "  except:\n",
        "    return 'no tags found'\n",
        "\n",
        "# Apply the function to the DataFrame\n",
        "#results = data['parsed caption'].apply(process_text)\n",
        "#print(results)"
      ],
      "metadata": {
        "colab": {
          "base_uri": "https://localhost:8080/"
        },
        "id": "AH1lY55PTZC8",
        "outputId": "865fb2ea-60ab-432f-8766-8a2c618794a2"
      },
      "execution_count": 42,
      "outputs": [
        {
          "output_type": "stream",
          "name": "stderr",
          "text": [
            "/usr/local/lib/python3.10/dist-packages/spacy/util.py:1740: UserWarning: [W111] Jupyter notebook detected: if using `prefer_gpu()` or `require_gpu()`, include it in the same cell right before `spacy.load()` to ensure that the model is loaded on the correct device. More information: http://spacy.io/usage/v3#jupyter-notebook-gpu\n",
            "  warnings.warn(Warnings.W111)\n"
          ]
        }
      ]
    },
    {
      "cell_type": "code",
      "source": [
        "#data['extracted_tags'] = data['parsed caption'].apply(process_text)\n",
        "data['extracted_tags'] = data['parsed caption'].apply(process_text)"
      ],
      "metadata": {
        "id": "ut_qk4a1Talp"
      },
      "execution_count": 43,
      "outputs": []
    },
    {
      "cell_type": "code",
      "source": [
        "string = new_df.iloc[1,5]"
      ],
      "metadata": {
        "id": "Li1ySRI-c8Y1"
      },
      "execution_count": 99,
      "outputs": []
    },
    {
      "cell_type": "code",
      "source": [
        "string"
      ],
      "metadata": {
        "colab": {
          "base_uri": "https://localhost:8080/",
          "height": 35
        },
        "id": "yVL0H65RdLnJ",
        "outputId": "ac71b931-b157-4371-f165-7b1aca857e37"
      },
      "execution_count": 105,
      "outputs": [
        {
          "output_type": "execute_result",
          "data": {
            "text/plain": [
              "\"Horizontal bar qualification of the boys' artistic gymnastics at the 2018\\nSummer Youth Olympics in Buenos Aires on 10 October 2018. Depicted: Yin\\nDehang.\\n\\n\""
            ],
            "application/vnd.google.colaboratory.intrinsic+json": {
              "type": "string"
            }
          },
          "metadata": {},
          "execution_count": 105
        }
      ]
    },
    {
      "cell_type": "code",
      "source": [
        "process_text(string)"
      ],
      "metadata": {
        "colab": {
          "base_uri": "https://localhost:8080/"
        },
        "id": "tf3HFVjwdEyH",
        "outputId": "61dba277-e3c1-4e81-c5e8-e0a5b9a2d635"
      },
      "execution_count": 103,
      "outputs": [
        {
          "output_type": "execute_result",
          "data": {
            "text/plain": [
              "[]"
            ]
          },
          "metadata": {},
          "execution_count": 103
        }
      ]
    },
    {
      "cell_type": "code",
      "source": [
        "data.head()"
      ],
      "metadata": {
        "colab": {
          "base_uri": "https://localhost:8080/",
          "height": 362
        },
        "id": "f_N7XQu-TcJ8",
        "outputId": "d00d16d6-aa7e-4f3c-86df-6bf306970a15"
      },
      "execution_count": 10,
      "outputs": [
        {
          "output_type": "execute_result",
          "data": {
            "text/plain": [
              "                                           file_name  wiki_commons_id  \\\n",
              "0  File:Plac Wielkopolski w Poznaniu - czerwiec 2...         60332930   \n",
              "1  File:2018-10-10 Gymnastics at 2018 Summer Yout...         77382844   \n",
              "2  File:CP 00118destructions rue de Tournai 1914.jpg         84142136   \n",
              "3  File:Waycross, Georgia Historic District (40).jpg         86478066   \n",
              "4                 File:J31 867 Kraftwerkskaverne.jpg        138279755   \n",
              "\n",
              "    wiki_data_id                                       depicts  \\\n",
              "0  ['Q11819181']             ['Wielkopolski Square in Poznań']   \n",
              "1  ['Q93888038']  ['Yin Dehang', '2018 Summer Youth Olympics']   \n",
              "2  ['Q39074508']                            ['Siege of Lille']   \n",
              "3  ['Q30622481']                ['Waycross Historic District']   \n",
              "4    ['Q963375']                          ['diesel generator']   \n",
              "\n",
              "                                         description  \\\n",
              "0                  ['city square in Poznań, Poland']   \n",
              "1                       ['Chinese artistic gymnast']   \n",
              "2                                     ['1914 siege']   \n",
              "3         ['historic district in Waycross, Georgia']   \n",
              "4  ['combination of a diesel engine with an elect...   \n",
              "\n",
              "                                      parsed caption  \\\n",
              "0                  Plac Wielkopolski w Poznaniu.\\n\\n   \n",
              "1  Horizontal bar qualification of the boys' arti...   \n",
              "2  Lille (France - Nord department) - Destruction...   \n",
              "3  Waycross Historic District, Waycross, Georgia\\...   \n",
              "4  Zwei Dieselgeneratoren für die Gesamtversorgun...   \n",
              "\n",
              "                                 commons_description  \\\n",
              "0  {'DateTime': {'value': '2017-06-24 03:53:38', ...   \n",
              "1  {'DateTime': {'value': '2019-03-16 21:07:55', ...   \n",
              "2  {'DateTime': {'value': '2019-11-19 16:24:13', ...   \n",
              "3  {'DateTime': {'value': '2020-02-01 01:11:58', ...   \n",
              "4  {'DateTime': {'value': '2023-07-16 20:54:40', ...   \n",
              "\n",
              "                                      extracted_tags  \n",
              "0                     [Plac Wielkopolski w Poznaniu]  \n",
              "1  [Buenos Aires, 10 October, Yin Dehang, 2018 Su...  \n",
              "2  [under-german, October, the-department, histor...  \n",
              "3  [America](https://en.wikipedia.org, place, Way...  \n",
              "4  [Maschinen mit Druckgas, der Wand, Zwei Diesel...  "
            ],
            "text/html": [
              "\n",
              "  <div id=\"df-11b53c92-f8ce-46fe-b7d3-3e05781f1d48\" class=\"colab-df-container\">\n",
              "    <div>\n",
              "<style scoped>\n",
              "    .dataframe tbody tr th:only-of-type {\n",
              "        vertical-align: middle;\n",
              "    }\n",
              "\n",
              "    .dataframe tbody tr th {\n",
              "        vertical-align: top;\n",
              "    }\n",
              "\n",
              "    .dataframe thead th {\n",
              "        text-align: right;\n",
              "    }\n",
              "</style>\n",
              "<table border=\"1\" class=\"dataframe\">\n",
              "  <thead>\n",
              "    <tr style=\"text-align: right;\">\n",
              "      <th></th>\n",
              "      <th>file_name</th>\n",
              "      <th>wiki_commons_id</th>\n",
              "      <th>wiki_data_id</th>\n",
              "      <th>depicts</th>\n",
              "      <th>description</th>\n",
              "      <th>parsed caption</th>\n",
              "      <th>commons_description</th>\n",
              "      <th>extracted_tags</th>\n",
              "    </tr>\n",
              "  </thead>\n",
              "  <tbody>\n",
              "    <tr>\n",
              "      <th>0</th>\n",
              "      <td>File:Plac Wielkopolski w Poznaniu - czerwiec 2...</td>\n",
              "      <td>60332930</td>\n",
              "      <td>['Q11819181']</td>\n",
              "      <td>['Wielkopolski Square in Poznań']</td>\n",
              "      <td>['city square in Poznań, Poland']</td>\n",
              "      <td>Plac Wielkopolski w Poznaniu.\\n\\n</td>\n",
              "      <td>{'DateTime': {'value': '2017-06-24 03:53:38', ...</td>\n",
              "      <td>[Plac Wielkopolski w Poznaniu]</td>\n",
              "    </tr>\n",
              "    <tr>\n",
              "      <th>1</th>\n",
              "      <td>File:2018-10-10 Gymnastics at 2018 Summer Yout...</td>\n",
              "      <td>77382844</td>\n",
              "      <td>['Q93888038']</td>\n",
              "      <td>['Yin Dehang', '2018 Summer Youth Olympics']</td>\n",
              "      <td>['Chinese artistic gymnast']</td>\n",
              "      <td>Horizontal bar qualification of the boys' arti...</td>\n",
              "      <td>{'DateTime': {'value': '2019-03-16 21:07:55', ...</td>\n",
              "      <td>[Buenos Aires, 10 October, Yin Dehang, 2018 Su...</td>\n",
              "    </tr>\n",
              "    <tr>\n",
              "      <th>2</th>\n",
              "      <td>File:CP 00118destructions rue de Tournai 1914.jpg</td>\n",
              "      <td>84142136</td>\n",
              "      <td>['Q39074508']</td>\n",
              "      <td>['Siege of Lille']</td>\n",
              "      <td>['1914 siege']</td>\n",
              "      <td>Lille (France - Nord department) - Destruction...</td>\n",
              "      <td>{'DateTime': {'value': '2019-11-19 16:24:13', ...</td>\n",
              "      <td>[under-german, October, the-department, histor...</td>\n",
              "    </tr>\n",
              "    <tr>\n",
              "      <th>3</th>\n",
              "      <td>File:Waycross, Georgia Historic District (40).jpg</td>\n",
              "      <td>86478066</td>\n",
              "      <td>['Q30622481']</td>\n",
              "      <td>['Waycross Historic District']</td>\n",
              "      <td>['historic district in Waycross, Georgia']</td>\n",
              "      <td>Waycross Historic District, Waycross, Georgia\\...</td>\n",
              "      <td>{'DateTime': {'value': '2020-02-01 01:11:58', ...</td>\n",
              "      <td>[America](https://en.wikipedia.org, place, Way...</td>\n",
              "    </tr>\n",
              "    <tr>\n",
              "      <th>4</th>\n",
              "      <td>File:J31 867 Kraftwerkskaverne.jpg</td>\n",
              "      <td>138279755</td>\n",
              "      <td>['Q963375']</td>\n",
              "      <td>['diesel generator']</td>\n",
              "      <td>['combination of a diesel engine with an elect...</td>\n",
              "      <td>Zwei Dieselgeneratoren für die Gesamtversorgun...</td>\n",
              "      <td>{'DateTime': {'value': '2023-07-16 20:54:40', ...</td>\n",
              "      <td>[Maschinen mit Druckgas, der Wand, Zwei Diesel...</td>\n",
              "    </tr>\n",
              "  </tbody>\n",
              "</table>\n",
              "</div>\n",
              "    <div class=\"colab-df-buttons\">\n",
              "\n",
              "  <div class=\"colab-df-container\">\n",
              "    <button class=\"colab-df-convert\" onclick=\"convertToInteractive('df-11b53c92-f8ce-46fe-b7d3-3e05781f1d48')\"\n",
              "            title=\"Convert this dataframe to an interactive table.\"\n",
              "            style=\"display:none;\">\n",
              "\n",
              "  <svg xmlns=\"http://www.w3.org/2000/svg\" height=\"24px\" viewBox=\"0 -960 960 960\">\n",
              "    <path d=\"M120-120v-720h720v720H120Zm60-500h600v-160H180v160Zm220 220h160v-160H400v160Zm0 220h160v-160H400v160ZM180-400h160v-160H180v160Zm440 0h160v-160H620v160ZM180-180h160v-160H180v160Zm440 0h160v-160H620v160Z\"/>\n",
              "  </svg>\n",
              "    </button>\n",
              "\n",
              "  <style>\n",
              "    .colab-df-container {\n",
              "      display:flex;\n",
              "      gap: 12px;\n",
              "    }\n",
              "\n",
              "    .colab-df-convert {\n",
              "      background-color: #E8F0FE;\n",
              "      border: none;\n",
              "      border-radius: 50%;\n",
              "      cursor: pointer;\n",
              "      display: none;\n",
              "      fill: #1967D2;\n",
              "      height: 32px;\n",
              "      padding: 0 0 0 0;\n",
              "      width: 32px;\n",
              "    }\n",
              "\n",
              "    .colab-df-convert:hover {\n",
              "      background-color: #E2EBFA;\n",
              "      box-shadow: 0px 1px 2px rgba(60, 64, 67, 0.3), 0px 1px 3px 1px rgba(60, 64, 67, 0.15);\n",
              "      fill: #174EA6;\n",
              "    }\n",
              "\n",
              "    .colab-df-buttons div {\n",
              "      margin-bottom: 4px;\n",
              "    }\n",
              "\n",
              "    [theme=dark] .colab-df-convert {\n",
              "      background-color: #3B4455;\n",
              "      fill: #D2E3FC;\n",
              "    }\n",
              "\n",
              "    [theme=dark] .colab-df-convert:hover {\n",
              "      background-color: #434B5C;\n",
              "      box-shadow: 0px 1px 3px 1px rgba(0, 0, 0, 0.15);\n",
              "      filter: drop-shadow(0px 1px 2px rgba(0, 0, 0, 0.3));\n",
              "      fill: #FFFFFF;\n",
              "    }\n",
              "  </style>\n",
              "\n",
              "    <script>\n",
              "      const buttonEl =\n",
              "        document.querySelector('#df-11b53c92-f8ce-46fe-b7d3-3e05781f1d48 button.colab-df-convert');\n",
              "      buttonEl.style.display =\n",
              "        google.colab.kernel.accessAllowed ? 'block' : 'none';\n",
              "\n",
              "      async function convertToInteractive(key) {\n",
              "        const element = document.querySelector('#df-11b53c92-f8ce-46fe-b7d3-3e05781f1d48');\n",
              "        const dataTable =\n",
              "          await google.colab.kernel.invokeFunction('convertToInteractive',\n",
              "                                                    [key], {});\n",
              "        if (!dataTable) return;\n",
              "\n",
              "        const docLinkHtml = 'Like what you see? Visit the ' +\n",
              "          '<a target=\"_blank\" href=https://colab.research.google.com/notebooks/data_table.ipynb>data table notebook</a>'\n",
              "          + ' to learn more about interactive tables.';\n",
              "        element.innerHTML = '';\n",
              "        dataTable['output_type'] = 'display_data';\n",
              "        await google.colab.output.renderOutput(dataTable, element);\n",
              "        const docLink = document.createElement('div');\n",
              "        docLink.innerHTML = docLinkHtml;\n",
              "        element.appendChild(docLink);\n",
              "      }\n",
              "    </script>\n",
              "  </div>\n",
              "\n",
              "\n",
              "<div id=\"df-43907468-1c9c-4d17-958a-5b7b20b178af\">\n",
              "  <button class=\"colab-df-quickchart\" onclick=\"quickchart('df-43907468-1c9c-4d17-958a-5b7b20b178af')\"\n",
              "            title=\"Suggest charts\"\n",
              "            style=\"display:none;\">\n",
              "\n",
              "<svg xmlns=\"http://www.w3.org/2000/svg\" height=\"24px\"viewBox=\"0 0 24 24\"\n",
              "     width=\"24px\">\n",
              "    <g>\n",
              "        <path d=\"M19 3H5c-1.1 0-2 .9-2 2v14c0 1.1.9 2 2 2h14c1.1 0 2-.9 2-2V5c0-1.1-.9-2-2-2zM9 17H7v-7h2v7zm4 0h-2V7h2v10zm4 0h-2v-4h2v4z\"/>\n",
              "    </g>\n",
              "</svg>\n",
              "  </button>\n",
              "\n",
              "<style>\n",
              "  .colab-df-quickchart {\n",
              "      --bg-color: #E8F0FE;\n",
              "      --fill-color: #1967D2;\n",
              "      --hover-bg-color: #E2EBFA;\n",
              "      --hover-fill-color: #174EA6;\n",
              "      --disabled-fill-color: #AAA;\n",
              "      --disabled-bg-color: #DDD;\n",
              "  }\n",
              "\n",
              "  [theme=dark] .colab-df-quickchart {\n",
              "      --bg-color: #3B4455;\n",
              "      --fill-color: #D2E3FC;\n",
              "      --hover-bg-color: #434B5C;\n",
              "      --hover-fill-color: #FFFFFF;\n",
              "      --disabled-bg-color: #3B4455;\n",
              "      --disabled-fill-color: #666;\n",
              "  }\n",
              "\n",
              "  .colab-df-quickchart {\n",
              "    background-color: var(--bg-color);\n",
              "    border: none;\n",
              "    border-radius: 50%;\n",
              "    cursor: pointer;\n",
              "    display: none;\n",
              "    fill: var(--fill-color);\n",
              "    height: 32px;\n",
              "    padding: 0;\n",
              "    width: 32px;\n",
              "  }\n",
              "\n",
              "  .colab-df-quickchart:hover {\n",
              "    background-color: var(--hover-bg-color);\n",
              "    box-shadow: 0 1px 2px rgba(60, 64, 67, 0.3), 0 1px 3px 1px rgba(60, 64, 67, 0.15);\n",
              "    fill: var(--button-hover-fill-color);\n",
              "  }\n",
              "\n",
              "  .colab-df-quickchart-complete:disabled,\n",
              "  .colab-df-quickchart-complete:disabled:hover {\n",
              "    background-color: var(--disabled-bg-color);\n",
              "    fill: var(--disabled-fill-color);\n",
              "    box-shadow: none;\n",
              "  }\n",
              "\n",
              "  .colab-df-spinner {\n",
              "    border: 2px solid var(--fill-color);\n",
              "    border-color: transparent;\n",
              "    border-bottom-color: var(--fill-color);\n",
              "    animation:\n",
              "      spin 1s steps(1) infinite;\n",
              "  }\n",
              "\n",
              "  @keyframes spin {\n",
              "    0% {\n",
              "      border-color: transparent;\n",
              "      border-bottom-color: var(--fill-color);\n",
              "      border-left-color: var(--fill-color);\n",
              "    }\n",
              "    20% {\n",
              "      border-color: transparent;\n",
              "      border-left-color: var(--fill-color);\n",
              "      border-top-color: var(--fill-color);\n",
              "    }\n",
              "    30% {\n",
              "      border-color: transparent;\n",
              "      border-left-color: var(--fill-color);\n",
              "      border-top-color: var(--fill-color);\n",
              "      border-right-color: var(--fill-color);\n",
              "    }\n",
              "    40% {\n",
              "      border-color: transparent;\n",
              "      border-right-color: var(--fill-color);\n",
              "      border-top-color: var(--fill-color);\n",
              "    }\n",
              "    60% {\n",
              "      border-color: transparent;\n",
              "      border-right-color: var(--fill-color);\n",
              "    }\n",
              "    80% {\n",
              "      border-color: transparent;\n",
              "      border-right-color: var(--fill-color);\n",
              "      border-bottom-color: var(--fill-color);\n",
              "    }\n",
              "    90% {\n",
              "      border-color: transparent;\n",
              "      border-bottom-color: var(--fill-color);\n",
              "    }\n",
              "  }\n",
              "</style>\n",
              "\n",
              "  <script>\n",
              "    async function quickchart(key) {\n",
              "      const quickchartButtonEl =\n",
              "        document.querySelector('#' + key + ' button');\n",
              "      quickchartButtonEl.disabled = true;  // To prevent multiple clicks.\n",
              "      quickchartButtonEl.classList.add('colab-df-spinner');\n",
              "      try {\n",
              "        const charts = await google.colab.kernel.invokeFunction(\n",
              "            'suggestCharts', [key], {});\n",
              "      } catch (error) {\n",
              "        console.error('Error during call to suggestCharts:', error);\n",
              "      }\n",
              "      quickchartButtonEl.classList.remove('colab-df-spinner');\n",
              "      quickchartButtonEl.classList.add('colab-df-quickchart-complete');\n",
              "    }\n",
              "    (() => {\n",
              "      let quickchartButtonEl =\n",
              "        document.querySelector('#df-43907468-1c9c-4d17-958a-5b7b20b178af button');\n",
              "      quickchartButtonEl.style.display =\n",
              "        google.colab.kernel.accessAllowed ? 'block' : 'none';\n",
              "    })();\n",
              "  </script>\n",
              "</div>\n",
              "\n",
              "    </div>\n",
              "  </div>\n"
            ],
            "application/vnd.google.colaboratory.intrinsic+json": {
              "type": "dataframe",
              "variable_name": "data",
              "summary": "{\n  \"name\": \"data\",\n  \"rows\": 1000,\n  \"fields\": [\n    {\n      \"column\": \"file_name\",\n      \"properties\": {\n        \"dtype\": \"string\",\n        \"num_unique_values\": 1000,\n        \"samples\": [\n          \"File:Bury St Edmunds buildings (26) (geograph 6645803).jpg\",\n          \"File:Heathrow Hotel - geograph.org.uk - 5241683.jpg\",\n          \"File:Renault 21 TXE (22521880068).jpg\"\n        ],\n        \"semantic_type\": \"\",\n        \"description\": \"\"\n      }\n    },\n    {\n      \"column\": \"wiki_commons_id\",\n      \"properties\": {\n        \"dtype\": \"number\",\n        \"std\": 42666728,\n        \"min\": 1410254,\n        \"max\": 147053043,\n        \"num_unique_values\": 1000,\n        \"samples\": [\n          138351327,\n          135758872,\n          45994780\n        ],\n        \"semantic_type\": \"\",\n        \"description\": \"\"\n      }\n    },\n    {\n      \"column\": \"wiki_data_id\",\n      \"properties\": {\n        \"dtype\": \"string\",\n        \"num_unique_values\": 975,\n        \"samples\": [\n          \"['Q34442', 'Q1892761']\",\n          \"['Q30619416']\",\n          \"['Q12902372', 'Q75210629']\"\n        ],\n        \"semantic_type\": \"\",\n        \"description\": \"\"\n      }\n    },\n    {\n      \"column\": \"depicts\",\n      \"properties\": {\n        \"dtype\": \"string\",\n        \"num_unique_values\": 944,\n        \"samples\": [\n          \"['Surroundings of the St. Roch church in Bia\\u0142ystok', \\\"St. Roch's Church in Bia\\u0142ystok\\\"]\",\n          \"['Maodo L\\u00f4']\",\n          \"[\\\"Michelle O'Neill\\\"]\"\n        ],\n        \"semantic_type\": \"\",\n        \"description\": \"\"\n      }\n    },\n    {\n      \"column\": \"description\",\n      \"properties\": {\n        \"dtype\": \"string\",\n        \"num_unique_values\": 862,\n        \"samples\": [\n          \"['sculpture stored in the mus\\u00e9e Saint-Raymond of Toulouse']\",\n          \"['wide way leading from one place to another, especially one with a specially prepared surface which vehicles can use', 'borough in the London Region in England']\",\n          \"['Dutch pop band']\"\n        ],\n        \"semantic_type\": \"\",\n        \"description\": \"\"\n      }\n    },\n    {\n      \"column\": \"parsed caption\",\n      \"properties\": {\n        \"dtype\": \"string\",\n        \"num_unique_values\": 933,\n        \"samples\": [\n          \"Ostrokrzew w Rewalu\\n\\n  *[![](https://upload.wikimedia.org/wikipedia/commons/thumb/5/53/Info_non-talk.svg/15px-Info_non-talk.svg.png)]: Files from the inventories \\u201cBild 101 Propagandakompanien der Wehrmacht\\u201d and \\u201cBild 183 ADN\\u201d may have particularly biased or politically extreme descriptions.\\n\\n\",\n          \"500px provided description: 1cun8138 Jpg [#lol ,#s5 ,#Paris ,#teamchina]\\n\\n\",\n          \"Wild Grassland Area [![Edit this at Structured Data on\\nCommons](https://upload.wikimedia.org/wikipedia/commons/thumb/8/8a/OOjs_UI_icon_edit-\\nltr-progressive.svg/10px-OOjs_UI_icon_edit-ltr-\\nprogressive.svg.png)](//commons.wikimedia.org/wiki/File:Wild_Grassland_Area_-\\n_geograph.org.uk_-_4058191.jpg#ooui-php-4 \\\"Edit this at Structured Data on\\nCommons\\\")\\n\\n\"\n        ],\n        \"semantic_type\": \"\",\n        \"description\": \"\"\n      }\n    },\n    {\n      \"column\": \"commons_description\",\n      \"properties\": {\n        \"dtype\": \"string\",\n        \"num_unique_values\": 994,\n        \"samples\": [\n          \"{'DateTime': {'value': '2018-10-06 20:00:23', 'source': 'mediawiki-metadata', 'hidden': ''}, 'ObjectName': {'value': '\\u0628\\u0631\\u062c \\u0631\\u0633\\u06a9\\u062a 3', 'source': 'mediawiki-metadata'}, 'CommonsMetadataExtension': {'value': 1.2, 'source': 'extension', 'hidden': ''}, 'Categories': {'value': 'Cultural heritage monuments in Iran with known IDs|Images from Wiki Loves Monuments 2018|Images from Wiki Loves Monuments 2018 in Iran|Images from Wiki Loves Monuments in Sari, Iran|Resket Tower|Self-published work|Uploaded via Campaign:wlm-ir', 'source': 'commons-categories', 'hidden': ''}, 'Assessments': {'value': '', 'source': 'commons-categories', 'hidden': ''}, 'ImageDescription': {'value': 'This is a photo of a monument in Iran identified by the ID', 'source': 'commons-desc-page'}, 'DateTimeOriginal': {'value': '2016-07-01 10:42:24', 'source': 'commons-desc-page'}, 'Credit': {'value': '<span class=\\\"int-own-work\\\" lang=\\\"en\\\">Own work</span>', 'source': 'commons-desc-page'}, 'Artist': {'value': '<a href=\\\"//commons.wikimedia.org/w/index.php?title=User:%D8%B1%D9%85%D8%B6%D8%A7%D9%86_%D8%B9%D9%85%D9%88%D8%A6%DB%8C&amp;action=edit&amp;redlink=1\\\" class=\\\"new\\\" title=\\\"User:\\u0631\\u0645\\u0636\\u0627\\u0646 \\u0639\\u0645\\u0648\\u0626\\u06cc (page does not exist)\\\">\\u0631\\u0645\\u0636\\u0627\\u0646 \\u0639\\u0645\\u0648\\u0626\\u06cc</a>', 'source': 'commons-desc-page'}, 'LicenseShortName': {'value': 'CC BY-SA 4.0', 'source': 'commons-desc-page', 'hidden': ''}, 'UsageTerms': {'value': 'Creative Commons Attribution-Share Alike 4.0', 'source': 'commons-desc-page'}, 'AttributionRequired': {'value': 'true', 'source': 'commons-desc-page', 'hidden': ''}, 'LicenseUrl': {'value': 'https://creativecommons.org/licenses/by-sa/4.0', 'source': 'commons-desc-page'}, 'Copyrighted': {'value': 'True', 'source': 'commons-desc-page', 'hidden': ''}, 'Restrictions': {'value': '', 'source': 'commons-desc-page', 'hidden': ''}, 'License': {'value': 'cc-by-sa-4.0', 'source': 'commons-templates', 'hidden': ''}}\",\n          \"{'DateTime': {'value': '2023-12-08 15:02:26', 'source': 'mediawiki-metadata', 'hidden': ''}, 'ObjectName': {'value': 'Northways Farm - geograph.org.uk - 5891239', 'source': 'mediawiki-metadata'}, 'CommonsMetadataExtension': {'value': 1.2, 'source': 'extension', 'hidden': ''}, 'Categories': {'value': 'Images from Geograph Britain and Ireland|Mawnan|Pages with camera coordinates from SDC|Pages with maps|Pages with object coordinates from SDC', 'source': 'commons-categories', 'hidden': ''}, 'Assessments': {'value': '', 'source': 'commons-categories', 'hidden': ''}, 'GPSLatitude': {'value': '50.123695', 'source': 'commons-desc-page'}, 'GPSLongitude': {'value': '-5.107016', 'source': 'commons-desc-page'}, 'GPSMapDatum': {'value': 'WGS-84', 'source': 'commons-desc-page', 'hidden': ''}, 'ImageDescription': {'value': 'Northways Farm\\\\xa0<span class=\\\"mw-valign-text-top\\\" typeof=\\\"mw:File/Frameless\\\"><a href=\\\"//commons.wikimedia.org/wiki/File:Northways_Farm_-_geograph.org.uk_-_5891239.jpg#ooui-php-4\\\" title=\\\"Edit this at Structured Data on Commons\\\"><img alt=\\\"Edit this at Structured Data on Commons\\\" src=\\\"https://upload.wikimedia.org/wikipedia/commons/thumb/8/8a/OOjs_UI_icon_edit-ltr-progressive.svg/10px-OOjs_UI_icon_edit-ltr-progressive.svg.png\\\" decoding=\\\"async\\\" width=\\\"10\\\" height=\\\"10\\\" class=\\\"mw-file-element\\\" srcset=\\\"https://upload.wikimedia.org/wikipedia/commons/thumb/8/8a/OOjs_UI_icon_edit-ltr-progressive.svg/15px-OOjs_UI_icon_edit-ltr-progressive.svg.png 1.5x, https://upload.wikimedia.org/wikipedia/commons/thumb/8/8a/OOjs_UI_icon_edit-ltr-progressive.svg/20px-OOjs_UI_icon_edit-ltr-progressive.svg.png 2x\\\" data-file-width=\\\"20\\\" data-file-height=\\\"20\\\"></a></span>', 'source': 'commons-desc-page'}, 'DateTimeOriginal': {'value': '2018-04-28', 'source': 'commons-desc-page'}, 'Credit': {'value': '<a rel=\\\"nofollow\\\" class=\\\"external text\\\" href=\\\"https://www.geograph.org.uk/photo/5891239\\\">Geograph Britain and Ireland</a>\\\\xa0<span class=\\\"mw-valign-text-top\\\" typeof=\\\"mw:File/Frameless\\\"><a href=\\\"//commons.wikimedia.org/wiki/File:Northways_Farm_-_geograph.org.uk_-_5891239.jpg#P7482\\\" title=\\\"Edit this at Structured Data on Commons\\\"><img alt=\\\"Edit this at Structured Data on Commons\\\" src=\\\"https://upload.wikimedia.org/wikipedia/commons/thumb/8/8a/OOjs_UI_icon_edit-ltr-progressive.svg/10px-OOjs_UI_icon_edit-ltr-progressive.svg.png\\\" decoding=\\\"async\\\" width=\\\"10\\\" height=\\\"10\\\" class=\\\"mw-file-element\\\" srcset=\\\"https://upload.wikimedia.org/wikipedia/commons/thumb/8/8a/OOjs_UI_icon_edit-ltr-progressive.svg/15px-OOjs_UI_icon_edit-ltr-progressive.svg.png 1.5x, https://upload.wikimedia.org/wikipedia/commons/thumb/8/8a/OOjs_UI_icon_edit-ltr-progressive.svg/20px-OOjs_UI_icon_edit-ltr-progressive.svg.png 2x\\\" data-file-width=\\\"20\\\" data-file-height=\\\"20\\\"></a></span>', 'source': 'commons-desc-page'}, 'Artist': {'value': '<a rel=\\\"nofollow\\\" class=\\\"external text\\\" href=\\\"https://www.geograph.org.uk/profile/3101\\\">N Chadwick</a>\\\\xa0<span class=\\\"mw-valign-text-top\\\" typeof=\\\"mw:File/Frameless\\\"><a href=\\\"//commons.wikimedia.org/wiki/File:Northways_Farm_-_geograph.org.uk_-_5891239.jpg#P170\\\" title=\\\"Edit this at Structured Data on Commons\\\"><img alt=\\\"Edit this at Structured Data on Commons\\\" src=\\\"https://upload.wikimedia.org/wikipedia/commons/thumb/8/8a/OOjs_UI_icon_edit-ltr-progressive.svg/10px-OOjs_UI_icon_edit-ltr-progressive.svg.png\\\" decoding=\\\"async\\\" width=\\\"10\\\" height=\\\"10\\\" class=\\\"mw-file-element\\\" srcset=\\\"https://upload.wikimedia.org/wikipedia/commons/thumb/8/8a/OOjs_UI_icon_edit-ltr-progressive.svg/15px-OOjs_UI_icon_edit-ltr-progressive.svg.png 1.5x, https://upload.wikimedia.org/wikipedia/commons/thumb/8/8a/OOjs_UI_icon_edit-ltr-progressive.svg/20px-OOjs_UI_icon_edit-ltr-progressive.svg.png 2x\\\" data-file-width=\\\"20\\\" data-file-height=\\\"20\\\"></a></span>', 'source': 'commons-desc-page'}, 'LicenseShortName': {'value': 'CC BY-SA 2.0', 'source': 'commons-desc-page', 'hidden': ''}, 'UsageTerms': {'value': 'Creative Commons Attribution-Share Alike 2.0', 'source': 'commons-desc-page'}, 'AttributionRequired': {'value': 'true', 'source': 'commons-desc-page', 'hidden': ''}, 'Attribution': {'value': '<i>Northways Farm</i> by\\\\xa0N Chadwick', 'source': 'commons-desc-page', 'hidden': ''}, 'LicenseUrl': {'value': 'https://creativecommons.org/licenses/by-sa/2.0', 'source': 'commons-desc-page'}, 'Copyrighted': {'value': 'True', 'source': 'commons-desc-page', 'hidden': ''}, 'Restrictions': {'value': '', 'source': 'commons-desc-page', 'hidden': ''}, 'License': {'value': 'cc-by-sa-2.0', 'source': 'commons-templates', 'hidden': ''}}\",\n          \"{'DateTime': {'value': '2017-12-18 23:07:04', 'source': 'mediawiki-metadata', 'hidden': ''}, 'ObjectName': {'value': '\\u062f\\u0648\\u0686\\u0631\\u062e\\u0647\\\\u200c\\u0633\\u0648\\u0627\\u0631\\u06cc \\u0628\\u06cc\\\\u200c\\u0627\\u0645\\\\u200c\\u0627\\u06a9\\u0633 \\u062f\\u0631 \\u067e\\u0627\\u0631\\u06a9 \\u0622\\u0628 \\u0648 \\u0622\\u062a\\u0634 \\u062a\\u0647\\u0631\\u0627\\u0646 BMX bike ride in \\\"Water and Fire\\\" park in Tehran 24', 'source': 'mediawiki-metadata'}, 'CommonsMetadataExtension': {'value': 1.2, 'source': 'extension', 'hidden': ''}, 'Categories': {'value': 'Ab-o-Atash Skatepark|April 2017 in Tehran|Clouds in Tehran|Cycling in Tehran|Domes in Tehran|Files with coordinates missing SDC location of creation|High-rises in Tehran|Iran photographs taken on 2017-04-21|Mina Dome Planetarium|Office buildings in Tehran|Pages with maps|Photographs by Mostafa Meraji|Self-published work', 'source': 'commons-categories', 'hidden': ''}, 'Assessments': {'value': '', 'source': 'commons-categories', 'hidden': ''}, 'GPSLatitude': {'value': '35.750578', 'source': 'commons-desc-page'}, 'GPSLongitude': {'value': '51.417983', 'source': 'commons-desc-page'}, 'GPSMapDatum': {'value': 'WGS-84', 'source': 'commons-desc-page', 'hidden': ''}, 'ImageDescription': {'value': 'BMX, an abbreviation for bicycle motocross or bike motocross, is a cycle sport performed on BMX bikes, either in competitive BMX racing or freestyle BMX, or else in general on- or off-road recreation. BMX began when young cyclists appropriated motocross tracks for fun, racing and stunts, eventually evolving specialized BMX bikes and competitions.\\\\nPhotographer: Mostafa Meraji', 'source': 'commons-desc-page'}, 'DateTimeOriginal': {'value': 'Taken on\\\\xa021 April 2017, 14:54:19', 'source': 'commons-desc-page'}, 'Credit': {'value': '<span class=\\\"int-own-work\\\" lang=\\\"en\\\">Own work</span>', 'source': 'commons-desc-page'}, 'Artist': {'value': '<a href=\\\"//commons.wikimedia.org/wiki/User:Mostafameraji\\\" title=\\\"User:Mostafameraji\\\">Mostafameraji</a>', 'source': 'commons-desc-page'}, 'LicenseShortName': {'value': 'CC BY-SA 4.0', 'source': 'commons-desc-page', 'hidden': ''}, 'UsageTerms': {'value': 'Creative Commons Attribution-Share Alike 4.0', 'source': 'commons-desc-page'}, 'AttributionRequired': {'value': 'true', 'source': 'commons-desc-page', 'hidden': ''}, 'LicenseUrl': {'value': 'https://creativecommons.org/licenses/by-sa/4.0', 'source': 'commons-desc-page'}, 'Copyrighted': {'value': 'True', 'source': 'commons-desc-page', 'hidden': ''}, 'Restrictions': {'value': '', 'source': 'commons-desc-page', 'hidden': ''}, 'License': {'value': 'cc-by-sa-4.0', 'source': 'commons-templates', 'hidden': ''}}\"\n        ],\n        \"semantic_type\": \"\",\n        \"description\": \"\"\n      }\n    },\n    {\n      \"column\": \"extracted_tags\",\n      \"properties\": {\n        \"dtype\": \"object\",\n        \"semantic_type\": \"\",\n        \"description\": \"\"\n      }\n    }\n  ]\n}"
            }
          },
          "metadata": {},
          "execution_count": 10
        }
      ]
    },
    {
      "cell_type": "code",
      "source": [
        "data = data[data['extracted_tags'] != 'no tags found']"
      ],
      "metadata": {
        "id": "mGf6qwHQTdDD"
      },
      "execution_count": 44,
      "outputs": []
    },
    {
      "cell_type": "code",
      "source": [
        "new_df = data.copy()\n",
        "data = data[['depicts', 'extracted_tags']]"
      ],
      "metadata": {
        "id": "Xip6D1e0TeWl"
      },
      "execution_count": 45,
      "outputs": []
    },
    {
      "cell_type": "code",
      "source": [
        "import torch\n",
        "\n",
        "if torch.cuda.is_available():\n",
        "    print(f\"GPU available: {torch.cuda.get_device_name(0)}\")\n",
        "else:\n",
        "    print(\"GPU not available.\")"
      ],
      "metadata": {
        "colab": {
          "base_uri": "https://localhost:8080/"
        },
        "id": "iJCgZ7nITfyT",
        "outputId": "97046fb0-af68-4b8d-fe89-7e0a912e10fb"
      },
      "execution_count": 46,
      "outputs": [
        {
          "output_type": "stream",
          "name": "stdout",
          "text": [
            "GPU available: Tesla T4\n"
          ]
        }
      ]
    },
    {
      "cell_type": "code",
      "source": [
        "datalist = []\n",
        "for _, row in data.iterrows():\n",
        "    # Join the list of depicts into a single string, separating by a space or a period\n",
        "    depicts = ' '.join(row['depicts'])\n",
        "    for tag in row['extracted_tags']:\n",
        "        # Check if the tag is a substring of the 'depicts'\n",
        "        label = 1 if tag in depicts else 0\n",
        "        datalist.append({'depicts': depicts, 'tag': tag, 'label': label})\n",
        "\n",
        "expanded_df = pd.DataFrame(datalist)"
      ],
      "metadata": {
        "id": "sLKkhOJlUy8U"
      },
      "execution_count": 47,
      "outputs": []
    },
    {
      "cell_type": "code",
      "source": [
        "from sklearn.model_selection import train_test_split\n",
        "train_df, test_df = train_test_split(data, test_size=0.20, random_state=42)\n",
        "\n",
        "print(\"Training Data:\")\n",
        "print(len(train_df))\n",
        "print(\"\\nTesting Data:\")\n",
        "print(len(test_df))"
      ],
      "metadata": {
        "colab": {
          "base_uri": "https://localhost:8080/"
        },
        "id": "dDrHrHJsTh0M",
        "outputId": "652f55b4-6c7f-4957-c2ff-0636f36ec984"
      },
      "execution_count": 54,
      "outputs": [
        {
          "output_type": "stream",
          "name": "stdout",
          "text": [
            "Training Data:\n",
            "770\n",
            "\n",
            "Testing Data:\n",
            "193\n"
          ]
        }
      ]
    },
    {
      "cell_type": "code",
      "source": [
        "from transformers import pipeline\n",
        "classifier = pipeline(\"zero-shot-classification\", model=\"facebook/bart-large-mnli\", device=0)"
      ],
      "metadata": {
        "id": "4-qTQ5xUTnoG"
      },
      "execution_count": 49,
      "outputs": []
    },
    {
      "cell_type": "code",
      "source": [
        "def evaluate_model(dataframe):\n",
        "    results_list = []\n",
        "    for _, row in dataframe.iterrows():\n",
        "        depicts = row['depicts']\n",
        "        tags = row['extracted_tags']\n",
        "        # Ensure both 'depicts' and 'tags' are not empty\n",
        "        if depicts and tags:\n",
        "            # Predicting probabilities\n",
        "            prediction = classifier(\n",
        "                depicts,\n",
        "                candidate_labels=tags,\n",
        "                hypothesis_template=\"This image is described as {}.\",\n",
        "                multi_label=True\n",
        "            )\n",
        "            # Creating the output dictionary for this observation\n",
        "            tag_probabilities = {tag: prob for tag, prob in zip(prediction['labels'], prediction['scores'])}\n",
        "            results_list.append(tag_probabilities)\n",
        "        else:\n",
        "            # Handle the case where 'depicts' or 'tags' are empty\n",
        "            results_list.append({\"error\": \"Empty depicts or tags\"})\n",
        "\n",
        "    return results_list"
      ],
      "metadata": {
        "id": "-UpGUuVDT-Ug"
      },
      "execution_count": 59,
      "outputs": []
    },
    {
      "cell_type": "code",
      "source": [
        "train_results = evaluate_model(train_df)\n",
        "print(train_results)"
      ],
      "metadata": {
        "colab": {
          "base_uri": "https://localhost:8080/"
        },
        "id": "ErUrCPmwUIt2",
        "outputId": "fc63eba1-5463-4f1a-9252-497dec973a08"
      },
      "execution_count": 60,
      "outputs": [
        {
          "output_type": "stream",
          "name": "stdout",
          "text": [
            "[{'error': 'Empty depicts or tags'}, {'ADN': 0.020425252616405487, 'Ostrokrzew': 0.010315170511603355, 'inventory': 0.005940333474427462}, {'Napoleon': 0.9991390705108643, 'part': 0.9841270446777344, 'source': 0.8122299313545227, 'series': 0.36406445503234863, 'companion': 0.0573003925383091, 'ADN': 0.05438261106610298, 'field': 0.014127996750175953, 'inventory': 0.006425544619560242, 'Waterloo': 0.0005987246986478567, 'Wellington': 0.0003077960864175111}, {'Trentino': 0.03211657330393791, 'Italy': 0.013469738885760307, 'Agrone': 0.013321289792656898}, {'this': 0.8565976619720459, 'image': 0.18427234888076782}, {'Deutscher': 0.5556896924972534}, {'Carolina': 0.9460090398788452, 'localizado': 0.7191158533096313, 'MA': 0.07883813977241516, 'ADN': 0.016887327656149864, 'inventory': 0.01386864110827446, 'Estreito': 0.0009707824210636318, 'Riachão': 0.0008572899387218058}, {'error': 'Empty depicts or tags'}, {'Copse': 0.6744462251663208, 'this': 0.2719849944114685, 'commons': 0.1481017917394638, 'pine': 0.06974460184574127}, {'this': 0.6778656244277954, 'commons': 0.18077121675014496}, {'number': 0.763733983039856, 'this': 0.7584449052810669, 'image': 0.7419219017028809, 'ADN': 0.07048667967319489, 'inventory': 0.055755484849214554}, {'Canada': 0.5993927121162415}, {'EFHS': 0.9929813146591187, 'which': 0.8959284424781799}, {'this': 0.5131624341011047, 'commons': 0.04007978364825249, 'Leytonstone': 0.0027739389333873987}, {'ADN': 0.16172616183757782, 'inventory': 0.006612708792090416}, {'history': 0.9976561069488525, 'Siege': 0.9930254220962524, 'fighting': 0.9913058876991272, 'France': 0.983586847782135, 'destruction': 0.9538396000862122, 'Lille': 0.9499717354774475, 'October': 0.010947629809379578}, {'photo': 0.5202138423919678, 'monument': 0.12826023995876312, 'ID': 0.1255989670753479, 'WLM': 0.038516297936439514, 'this': 0.037394069135189056, 'Poland': 0.011825022287666798}, {'marketplace': 0.02962680160999298, 'Kazimierz': 0.007916024886071682}, {'ADN': 0.03168287128210068, 'inventory': 0.0015960513846948743}, {'this': 0.9693115949630737, 'image': 0.34619733691215515, 'ADN': 0.021117528900504112, 'inventory': 0.010026415809988976}, {'image': 0.5932390689849854, 'this': 0.28692564368247986}, {'Grillplats': 0.0004952473100274801}, {'Swaffham': 0.8011014461517334, 'church': 0.4717140197753906, 'this': 0.1532413810491562, 'commons': 0.03148438408970833, 'Julitta': 0.0015284753171727061}, {'structure': 0.9846953749656677, 'calcium': 0.29485830664634705, 'silica': 0.1285240650177002, 'Mineralogy': 0.12003572285175323, 'layering': 0.11257710307836533, 'potassium': 0.04744729399681091, 'silicon': 0.03016808070242405, 'Ståhl': 0.029773380607366562, 'apophyllite': 0.029106685891747475, 'fluorine': 0.023635150864720345, 'hydroxyl': 0.019597429782152176, 'Kenny': 0.004803180228918791, 'oxygen': 0.0019188146106898785}, {'this': 0.6152503490447998, 'commons': 0.24919579923152924, 'ADN': 0.027361247688531876, 'inventory': 0.005177125800400972}, {'error': 'Empty depicts or tags'}, {'this': 0.13013814389705658, 'commons': 0.10021189600229263, 'mogul': 0.0011188037460669875}, {'Chauchau': 0.00903436541557312}, {'error': 'Empty depicts or tags'}, {'error': 'Empty depicts or tags'}, {'error': 'Empty depicts or tags'}, {'this': 0.18214209377765656, 'commons': 0.03239310532808304}, {'как': 0.0744585320353508, 'до': 0.07261253893375397, 'ADN': 0.024470653384923935, 'Амарант': 0.01521847490221262, 'Москва': 0.0146068399772048, 'Дубининской': 0.01116666104644537, 'inventory': 0.0071439482271671295}, {'ADN': 0.02619369700551033, 'inventory': 0.007677765563130379}, {'ANTALYA': 0.0006395900854840875}, {'Harz': 0.9976844787597656, 'inventory': 0.006226729601621628, 'ADN': 0.0043165856041014194}, {'commons': 0.49321913719177246, 'this': 0.3730427026748657, 'sandstone': 0.024989765137434006, 'megaripple': 0.005749928764998913}, {'american': 0.9211241602897644}, {'日本寺': 0.019091244786977768, '千葉県鋸南町': 0.011325669474899769}, {'Arezzo': 0.0013090238207951188}, {'Hardegg': 0.9878036379814148, 'Special': 0.9540622234344482, 'Austria': 0.05718671530485153, 'Burgkapelle': 0.003210193943232298, 'Niederösterreich': 0.00125600746832788}, {'this': 0.7347692251205444, 'commons': 0.354158878326416, 'ADN': 0.018488779664039612, 'Ballaclucas': 0.004081373568624258, 'inventory': 0.0020410744473338127}, {'visitor': 0.04174154996871948, 'Devon': 0.0062577929347753525, 'Charlotte': 0.002621485386043787, 'George': 0.0020975652150809765}, {'stream': 0.9929826855659485, 'this': 0.8186874389648438, 'commons': 0.3420026898384094}, {'September': 0.27475446462631226, 'ADN': 0.03150327131152153, 'inventory': 0.006117687094956636}, {'this': 0.1401955783367157, 'commons': 0.040592487901449203}, {'Czech': 0.9962387084960938, 'this': 0.8228981494903564, 'number': 0.8217050433158875, 'photo': 0.26467165350914}, {'hour': 0.9827637672424316, 'Good': 0.9745175242424011, 'Philip': 0.8767482042312622}, {'this': 0.3047410249710083, 'commons': 0.11131317168474197}, {'Beschrijving': 0.13008427619934082, 'Nummer': 0.1247275099158287, 'Fotograaf': 0.035276755690574646, 'Auteursrechthebbende': 0.018628491088747978, 'Materiaalsoort': 0.014094647020101547, 'Datum': 0.012458114884793758, 'Serie': 0.0107243238016963, 'Persoonsnaam': 0.004009234718978405, 'Bestanddeelnummer': 0.0029603687580674887, 'Anefo': 0.001179789542220533}, {'this': 0.2709798216819763, 'commons': 0.05159536004066467}, {'Weilova': 0.9975754618644714, 'east': 0.4737919270992279, 'Hostivař': 0.00517664710059762, 'Prague': 0.00046799256233498454}, {'Ellora': 0.9802455306053162, 'Kailash': 0.49959826469421387, 'five': 0.28210124373435974}, {'Spock': 0.9933111071586609, 'photo': 0.010051097720861435}, {'this': 0.3307810425758362, 'commons': 0.09454219043254852, 'Kent': 0.0005648520891554654}, {'plate': 0.023935124278068542, 'Horch': 0.0037762017454952, 'Aglais': 0.0037093819119036198, 'guhni': 0.002120695309713483, 'alphea': 0.0018386323936283588, 'Arethusana': 0.0013497789623215795, 'Tschauner': 0.001046625548042357, 'Warnecke': 0.0006490450468845665, 'Stauder': 0.00042192472028546035}, {'monument': 0.592133104801178, 'this': 0.056059353053569794, 'photo': 0.03763725236058235, 'P3170': 0.024023013189435005, 'Armenia': 0.013584859669208527, 'Property': 0.01265119668096304}, {'this': 0.24441508948802948, 'commons': 0.01859220676124096}, {'Rokyten': 0.9696387052536011, 'Rokytná': 0.9566102623939514}, {'Mattar': 0.9924456477165222}, {'photo': 0.3752085864543915, 'Hrodna': 0.13690300285816193}, {'Scraptoft': 0.9342190027236938, 'this': 0.49316367506980896, 'commons': 0.0367780365049839}, {'train': 0.965843677520752, 'set': 0.8520880341529846, 'carriage': 0.7848376631736755, 'who': 0.4642874598503113, 'west': 0.4349774122238159, 'Line': 0.4142077565193176, 'honour': 0.3416818082332611, 'mix': 0.1591629981994629, 'h': 0.08739504218101501, 'inventory': 0.05435512959957123, 'ADN': 0.05038740858435631, 'Shenfield': 0.00807501096278429, '4G': 0.005408161785453558, 'Elizabeth': 0.003967791795730591, 'Aventra': 0.0033560136798769236, 'Paddington': 0.0018848010804504156, 'Bombardier': 0.001313034095801413, 'Heathrow': 0.0008274907595477998}, {'who': 0.9792516827583313, 'game': 0.0936165452003479}, {'figure': 0.4771301746368408, 'nov': 0.3967972695827484, 'Habitus': 0.006348922848701477}, {'work': 0.9962564706802368, 'this': 0.7545357346534729, 'image': 0.29104477167129517, 'african': 0.03653915598988533}, {'order': 0.9524412751197815, 'Bexley': 0.9293130040168762, 'road': 0.8673572540283203, 'GLA': 0.7553141117095947, 'section': 0.6260719299316406, 'which': 0.5567926168441772, 'State': 0.20603226125240326, 'effect': 0.19308851659297943, 'Secretary': 0.15339705348014832, 'schedule': 0.1143108457326889, 'Transport': 0.10882733017206192, '124a': 0.10591086000204086, 'London': 0.08717074990272522, 'inventory': 0.06185095012187958, 'ADN': 0.05444701015949249}, {'Path': 0.9782893061637878, 'this': 0.3876640498638153, 'commons': 0.07714365422725677}, {'Singapore': 0.17140400409698486}, {'CSD': 0.11869390308856964, 'Hamburg': 0.00037033442640677094}, {'Calders': 0.9038335680961609, 'inventory': 0.42313826084136963, 'ADN': 0.005247320979833603}, {'Lichterfelde': 0.8354023098945618, 'Germany': 0.8173829317092896, 'I': 0.16019749641418457, 'ADN': 0.10832716524600983, 'inventory': 0.002534500090405345, 'Barnim': 0.0018373946659266949}, {'inventory': 0.08589498698711395, 'ADN': 0.08107426017522812, 'Sky': 0.010361033491790295, 'Selsey': 0.0008743143989704549, 'Brian': 0.0005585260223597288}, {'Ukraine': 0.9273428916931152, 'photo': 0.6069924831390381, 'this': 0.38047653436660767, 'ADN': 0.042734891176223755, 'inventory': 0.00468491530045867}, {'ADN': 0.021373430266976357, 'inventory': 0.0028583891689777374}, {'photo': 0.5202138423919678, 'number': 0.4093913733959198, 'Czech': 0.1148187667131424, 'this': 0.037394069135189056}, {'Slovenia': 0.9360288381576538, 'EID': 0.0126650957390666}, {'air': 0.9226380586624146, 'this': 0.40761667490005493, 'commons': 0.06593219935894012, 'Wimbledon': 0.0024094567634165287}, {'Neda': 0.9973117113113403, 'autor': 0.8180777430534363, 'Coruña': 0.02224733680486679, 'Monumento': 0.005695322994142771}, {'Fleurbaix': 0.0010312488302588463}, {'front': 0.6507349610328674}, {'Донецк': 0.023370208218693733}, {'Norrisia': 0.9918838739395142, 'kelp': 0.0013907887041568756}, {'wood': 0.9730616211891174, 'Sulham': 0.9281802177429199, 'this': 0.5435550808906555, 'commons': 0.10709375888109207, 'Berkshire': 0.0012765518622472882}, {'this': 0.8259087800979614, 'commons': 0.14695417881011963, 'south': 0.1302369087934494}, {'this': 0.15686540305614471, 'commons': 0.02069050259888172, 'inventory': 0.011594053357839584, 'ADN': 0.005929991602897644}, {'variation': 0.8754324913024902, 'State': 0.4439016282558441, 'purpose': 0.3499165177345276, 'loan': 0.3323793113231659, 'force': 0.13622577488422394, 'sum': 0.13236480951309204, 'effect': 0.1181437149643898, 'Secretary': 0.11280506104230881, 'amount': 0.11042962223291397, 'rate': 0.09604804217815399, 'respect': 0.09373677521944046, 'article': 0.054309502243995667}, {'error': 'Empty depicts or tags'}, {'Netherlands': 0.9919334053993225, 'ADN': 0.03375603258609772, 'inventory': 0.0005220472230575979}, {'rail': 0.9935047626495361, 'this': 0.647347629070282, 'commons': 0.33345746994018555, 'ADN': 0.008073588833212852, 'inventory': 0.0014004402328282595}, {'Württemberg': 0.001373348175548017, 'Neckar': 0.0012426725588738918, 'Deutschland': 0.0005598754505626857}, {'inventory': 0.10151202231645584, 'ADN': 0.06533477455377579}, {'black': 0.6371952891349792}, {'vault': 0.9955940246582031, 'austrian': 0.8597058057785034, 'ADN': 0.21787022054195404, 'competition': 0.19820426404476166, '15th': 0.13282445073127747, 'inventory': 0.07271341234445572, 'Canada': 0.004627056885510683}, {'this': 0.8635842800140381, 'western': 0.43069976568222046, 'commons': 0.3620240390300751, 'ADN': 0.04745960608124733, 'inventory': 0.006025753449648619}, {'reference': 0.9682744741439819, 'it': 0.8784048557281494, 'database': 0.00030803054687567055}, {'church': 0.9976871609687805, 'France': 0.9076199531555176, 'Janzé': 0.8805857300758362, 'Brittany': 0.0824253186583519}, {'Finland': 0.9751070141792297, 'complete': 0.9669197201728821, 'design': 0.8443827033042908, 'front': 0.7838376760482788, 'Turku': 0.003254577051848173}, {'Oberdielfen': 0.9713945984840393, 'Germany': 0.9646719694137573, 'Siegen': 0.3705471158027649, 'ADN': 0.0240346547216177, 'inventory': 0.007363352924585342}, {'Oberhof': 0.0007261641439981759}, {'Dresden': 0.9449291229248047, 'Oberwartha': 0.9341861605644226}, {'this': 0.4467039406299591, 'commons': 0.20414215326309204}, {'this': 0.5909105539321899, 'A10': 0.4998464584350586, 'commons': 0.32037314772605896}, {'this': 0.3067726492881775, 'commons': 0.026461046189069748, 'Cwmbran': 0.006586478557437658}, {'President': 0.11414051055908203}, {'footpath': 0.9920435547828674, 'Barton': 0.9787365794181824, 'this': 0.6082993745803833, 'commons': 0.16342200338840485}, {'Q384544': 0.10873328149318695}, {'erbaut': 0.5532999634742737, 'I': 0.07187561690807343, 'Klösterli': 0.01077566109597683}, {'I': 0.09241903573274612, '1m': 0.08918493986129761, 'Abgebildet': 0.002241905080154538}, {'it': 0.5985223650932312, 'tensione': 0.02780771628022194, 'Grafico': 0.012128724716603756, 'spiegare': 0.005727196112275124, 'superficiale': 0.0056205387227237225}, {'inventory': 0.14172391593456268, '55a': 0.11442817002534866, 'this': 0.039095036685466766, 'commons': 0.012701157480478287, 'ADN': 0.012468289583921432}, {'error': 'Empty depicts or tags'}, {'error': 'Empty depicts or tags'}, {'ADN': 0.003395739011466503, 'inventory': 0.0024893744848668575}, {'Deutschland': 0.18379369378089905}, {'this': 0.5582153797149658, 'commons': 0.18965008854866028}, {'Yarka': 0.011775399558246136}, {'France': 0.9961302876472473}, {'it': 0.9917250275611877, 'w': 0.8315263986587524, 'Mamaroneck': 0.004836289677768946}, {'entry': 0.5020436644554138, 'sign': 0.10310668498277664}, {'this': 0.5199428796768188, 'commons': 0.18818356096744537, 'Nelson': 0.0012785851722583175}, {'competition': 0.764525830745697, '15th': 0.16964447498321533, 'austrian': 0.06745645403862, 'Aargau': 0.0019580195657908916, 'Switzerland': 0.0010212550405412912, 'Linz': 0.0008370789582841098}, {'this': 0.7305544018745422, 'N55': 0.7130635976791382, 'commons': 0.322811096906662, 'ADN': 0.06444137543439865, 'inventory': 0.003914664499461651}, {'tower': 0.896822452545166, 'this': 0.051041170954704285, 'commons': 0.004648485686630011}, {'House': 0.92099529504776, 'inventory': 0.05507291480898857, 'this': 0.024896591901779175, 'ADN': 0.004645073786377907, 'commons': 0.0030075572431087494}, {'image': 0.5807114243507385, 'this': 0.5199235677719116}, {'error': 'Empty depicts or tags'}, {'Sun': 0.9965987801551819, 'prominence': 0.9667035341262817, 'place': 0.40197065472602844, 'area': 0.11106675118207932, 'ADN': 0.026283470913767815, 'II': 0.011880967766046524, 'inventory': 0.005556539166718721, 'plasma': 0.0026509538292884827, 'filament': 0.0013187609147280455}, {'image': 0.5231373906135559, 'nl': 0.5181136131286621, 'number': 0.4093913733959198, 'Nederland': 0.08681108802556992, 'this': 0.037394069135189056, 'Netherlands': 0.01645321026444435}, {'this': 0.5566853880882263, 'commons': 0.04736843332648277}, {'play': 0.4821975827217102, 'Löwen': 0.0038120909593999386, 'Frankfurt': 0.0032329706009477377}, {'yunnanense': 0.9676494002342224, 'blühend': 0.21146176755428314, 'Ruhland': 0.012492474168539047, 'Riesenlilie': 0.003259392222389579, 'Grenzstraße': 0.002397299977019429}, {'this': 0.8125485777854919, 'commons': 0.2508135735988617, 'ADN': 0.028668079525232315, 'inventory': 0.007815955206751823, 'reef': 0.002670014277100563}, {'image': 0.4868271052837372, 'this': 0.24716442823410034}, {'this': 0.775496780872345, 'commons': 0.5805704593658447}, {'this': 0.7101874351501465, 'commons': 0.07970023155212402}, {'this': 0.5801014304161072, 'picture': 0.41499030590057373, 'ID': 0.09810596704483032}, {'folkestone': 0.9985982775688171, 'this': 0.9692889451980591, 'commons': 0.9142807126045227}, {'3rd': 0.3291928768157959, 'play': 0.2963082194328308, 'Bundesliga': 0.024800783023238182, 'Ulm': 0.0096365287899971}, {'this': 0.2639542520046234, 'commons': 0.09858082979917526}, {'this': 0.08045481145381927, 'commons': 0.021799350157380104}, {'inventory': 0.012334296479821205, 'ADN': 0.008634290657937527}, {'error': 'Empty depicts or tags'}, {'שירה': 0.35319146513938904}, {'error': 'Empty depicts or tags'}, {'that': 0.9944679737091064, 'it': 0.9726147055625916, 'I': 0.09444840997457504}, {'Bartoškova': 0.9982225894927979, 'czech': 0.9918064475059509, 'Prague': 0.002945276442915201, 'Vršovice': 0.0010367805371060967, 'Michle': 0.0006248782738111913}, {'error': 'Empty depicts or tags'}, {'this': 0.6225062012672424, 'image': 0.5921664834022522}, {'site': 0.9799224734306335, 'ADN': 0.09419166296720505, 'inventory': 0.003923168871551752}, {'this': 0.1937781572341919, 'commons': 0.09424971789121628, 'Minshull': 0.0033798799850046635, 'Cheshire': 0.0008977761608548462}, {'identificatie': 0.9802328944206238, 'uitgever': 0.7083635330200195, 'het': 0.7021092772483826, 'gestempeld': 0.5196524262428284, 'datering': 0.5057756304740906, 'plaat': 0.4598199725151062, 'verwerve': 0.44233837723731995, 'wie': 0.4106377065181732, 'naar': 0.3991231620311737, 'catalogusreferentie': 0.3716597259044647, 'vermeld': 0.3587355315685272, 'vervaardiging': 0.2634833753108978, 'opmerke': 0.2193010002374649, 'aan': 0.19708067178726196, 'prentmaker': 0.1740003079175949, 'verso': 0.17051926255226135, 'lof': 0.09034208953380585, 'staat': 0.08296744525432587, 'convitia': 0.05342986062169075, 'rechten': 0.046769268810749054, 'Objectnummer': 0.013261803425848484, 'Afmetingen': 0.00754905678331852, 'Materiaal': 0.0075135426595807076, 'Lugt': 0.007374987937510014, 'Rijksprentenkabinet': 0.005630142521113157, 'Onderwerp': 0.0050328318029642105, 'Queborn': 0.003832814982160926, 'Fysieke': 0.0017114290967583656, 'Latijn': 0.0011032812763005495}, {'file': 0.9486933946609497, 'inventory': 0.6677286028862, 'ADN': 0.05742501839995384}, {'Manufactured': 0.1464257538318634, 'diameter': 0.09188433736562729, 'length': 0.07115990668535233, 'Tronix': 0.01739790104329586, '12au7': 0.008467862382531166}, {'this': 0.47374415397644043, 'commons': 0.2586067318916321}, {'this': 0.781711995601654, 'commons': 0.3177644610404968, 'ADN': 0.025709182024002075, 'inventory': 0.008109834976494312}, {'5th': 0.19121097028255463, 'I': 0.12270878255367279}, {'México': 0.002259235130622983, 'Guanajuato': 0.00128355179913342}, {'Bridge': 0.996771514415741, 'e': 0.19030623137950897, 'Netherlands': 0.0386262908577919, 'A15': 0.021783478558063507, 'Papendrecht': 0.01610821858048439}, {'indian': 0.6333903670310974, 'image': 0.629785418510437}, {'Oberthur1897BullSocEntFrance188': 0.0020492631010711193}, {'Jerusalem': 0.35011985898017883, 'ADN': 0.09565146267414093, 'inventory': 0.002663038205355406}, {'first': 0.45501163601875305, 'airbaltic': 0.09830362349748611, 'cs300': 0.01924230344593525}, {'this': 0.440801203250885, 'commons': 0.031628020107746124}, {'error': 'Empty depicts or tags'}, {'that': 0.9941990375518799, 'place': 0.9939587712287903, 'this': 0.8734223246574402, 'image': 0.6995817422866821, 'building': 0.6875416040420532, 'USA': 0.4357876777648926, 'ADN': 0.03505273535847664, 'inventory': 0.006871015299111605}, {'error': 'Empty depicts or tags'}, {'Amizade': 0.6829137802124023, 'ADN': 0.14027126133441925, 'file': 0.0604502409696579, 'inventory': 0.009333585388958454}, {'Clausewitzstraße': 0.9955532550811768, 'Bahnen': 0.0028990628197789192}, {'ADN': 0.017422955483198166, 'inventory': 0.004310098942369223, 'Duitsland': 0.0028801674488931894, 'Rimburg': 0.0022165304981172085}, {'Estonia': 0.41736412048339844, 'file': 0.21070635318756104, 'ADN': 0.020345086231827736, 'inventory': 0.0028388909995555878, 'Tallinn': 0.0004569831071421504}, {'inventory': 0.025619005784392357, 'ADN': 0.009676904417574406}, {'Kerala': 0.0681237205862999, 'India': 0.00985215324908495}, {'traffic': 0.9986797571182251, 'this': 0.29099729657173157, 'commons': 0.06786657869815826}, {'action': 0.8317798376083374, 'Picture': 0.18356698751449585, 'ADN': 0.17090368270874023, 'inventory': 0.07290346175432205, 'Britain': 0.013877804391086102, 'Doha': 0.0008132776711136103}, {'photo': 0.5768398642539978, 'DCMS': 0.004636847414076328}, {'I': 0.3627273440361023, 'ADN': 0.15349948406219482, 'inventory': 0.01148605439811945, 'Wildapfel': 0.008189302869141102}, {'Recupero': 0.6996215581893921, 'Monastery': 0.01886594668030739, 'Catania': 0.006490594241768122}, {'this': 0.8075945377349854, 'image': 0.24214014410972595}, {'subject': 0.8455175757408142, 'next': 0.7094169855117798, 'issue': 0.5158400535583496, 'microfilm': 0.03565901145339012}, {'west': 0.2693317234516144, 'ADN': 0.03194461762905121, 'inventory': 0.007987996563315392, 'Ballroom': 0.0022311019711196423}, {'error': 'Empty depicts or tags'}, {'image': 0.5279250741004944, 'ROH': 0.011418357491493225, 'myself': 0.0029454072937369347, 'September': 0.002900828141719103}, {'兆禧站月台': 0.029897665604948997}, {'this': 0.9011572003364563, 'commons': 0.4711741507053375}, {'this': 0.7717306017875671, 'commons': 0.17079386115074158, 'inventory': 0.07778283208608627, 'ADN': 0.02910078503191471}, {'ADN': 0.23563408851623535, 'inventory': 0.10618791729211807}, {'European': 0.9910995364189148, 'Munich': 0.003963977098464966}, {'Czech': 0.9932271838188171, 'number': 0.9931049346923828, 'this': 0.5354323387145996, 'photo': 0.3461889922618866}, {'Bewdley': 0.8839657306671143, 'this': 0.38755175471305847, 'commons': 0.2579600214958191}, {'this': 0.2817290127277374, 'commons': 0.09231376647949219, 'bog': 0.013101118616759777, 'Moorland': 0.00428532250225544}, {'Bailon': 0.004242287017405033}, {'error': 'Empty depicts or tags'}, {'Grób': 0.39797243475914, 'Ś': 0.03814827278256416}, {'Creek': 0.0002929873880930245}, {'error': 'Empty depicts or tags'}, {'Markierungen': 0.004267222713679075}, {'Exterior': 0.43841618299484253, 'MA': 0.015733789652585983, 'Middleboro': 0.0005575492978096008}, {'this': 0.17401057481765747, 'commons': 0.05259016901254654}, {'Kleneč': 0.9972116947174072, 'Czech': 0.9969961047172546, 'view': 0.07969958335161209, 'Litoměřice': 0.048647552728652954, 'Ústí': 0.008131112903356552}, {'Antonio': 0.9979013204574585}, {'error': 'Empty depicts or tags'}, {'this': 0.30625322461128235, 'commons': 0.0048164925538003445, 'window': 0.0016355908010154963}, {'error': 'Empty depicts or tags'}, {'Saturday': 0.4598242938518524, 'Casey': 0.000631712784525007}, {'which': 0.9318938255310059, 'it': 0.860027015209198, 'Music': 0.8438982963562012, 'rumour': 0.6144359707832336, 'lesson': 0.27772727608680725, 'addition': 0.18117991089820862, 'first': 0.13842397928237915, 'Europeans': 0.0890635997056961, 'he': 0.031756795942783356, 'turn': 0.026649048551917076, 'Exhibition': 0.01718243770301342, 'Dhurandhar': 0.008704062551259995}, {'ver': 0.30851981043815613}, {'this': 0.723616361618042, 'commons': 0.39080244302749634}, {'this': 0.8999840617179871, 'they': 0.6101911067962646, 'I': 0.10089978575706482, 'Oldham': 0.0004054651944898069}, {'entry': 0.21884770691394806, 'inventory': 0.17428936064243317, 'ADN': 0.12320777028799057, 'Q2067287': 0.06875087320804596}, {'Pitty': 0.9967439770698547, 'RS': 0.10511550307273865, 'Portugal': 0.061341166496276855, 'foto': 0.0556524321436882, 'Sul': 0.052212197333574295, 'Armandinho': 0.04108673706650734, 'ADN': 0.02646101452410221, 'Fresno': 0.01813497394323349, 'inventory': 0.014753373339772224, 'Gramado': 0.014586939476430416, 'Tatu': 0.008674108423292637, 'Phanatic': 0.008496665395796299, 'África': 0.0075189294293522835, 'Israel': 0.0066181570291519165, 'Astral': 0.002181287854909897}, {'Seehausen': 0.7606212496757507, 'Börde': 0.002053801203146577}, {'this': 0.38100165128707886, 'commons': 0.14980106055736542}, {'Cochabamba': 0.03174804896116257}, {'ADN': 0.020221717655658722, 'scale': 0.008688021451234818, 'inventory': 0.002293336670845747}, {'Germany': 0.7169416546821594, 'preservation': 0.5669369697570801, 'residence': 0.3521437644958496, 'Bonn': 0.004167849197983742}, {'flyover': 0.002945719985291362}, {'Aylesbury': 0.9791263937950134, 'this': 0.3518410921096802, 'commons': 0.04838624224066734}, {'inventory': 0.07610467076301575, 'ADN': 0.015533116646111012}, {'this': 0.36625856161117554, 'commons': 0.3075166344642639, 'ridge': 0.012566469609737396}, {'error': 'Empty depicts or tags'}, {'notera': 0.996170699596405, 'denna': 0.7858185172080994, 'i': 0.5788893103599548, 'Motiv': 0.06591212749481201, 'Nässjö': 0.040249671787023544, 'Gravfält': 0.009250507690012455, 'Nyckelord': 0.007534417323768139}, {'category': 0.3692079186439514, 'ADN': 0.06829923391342163, 'Poussines': 0.0033463998697698116, 'Bettembourg': 0.0030255350284278393, 'Benjamines': 0.0020296908915042877, 'Minimes': 0.0008723469800315797, 'inventory': 0.0006425598985515535}, {'view': 0.16181063652038574, 'Seychelles': 0.00038159010000526905}, {'organ': 0.9863079190254211}, {'league': 0.5649835467338562, '2nd': 0.37561240792274475, 'Austria': 0.0005677292938344181}, {'we': 0.03360361605882645, 'Lwowie': 0.0029917769134044647}, {'Italy': 0.011993635445833206, 'Lombardy': 0.00716777890920639, 'Region': 0.0027634920552372932, 'Milan': 0.001119496882893145}, {'паралімпійської': 0.3090096116065979, 'національної': 0.20202524960041046, 'inventory': 0.04476386681199074, 'ADN': 0.03543100506067276, 'України': 0.030801216140389442}, {'Västerås': 0.0016320263966917992}, {'indian': 0.9395473599433899, 'photo': 0.1633971929550171, 'First': 0.0510491244494915, 'India': 0.03039480373263359}, {'grenspaal': 0.04876299574971199, 'Smeermaas': 0.03962327912449837, 'Maastricht': 0.02419319562613964}, {'d': 0.16446062922477722, 'penitence': 0.1256796270608902, 'Q1535695': 0.09567254781723022}, {'this': 0.783120334148407, 'commons': 0.5012325644493103}, {'Ukraine': 0.7963005900382996, 'this': 0.2530292570590973, 'photo': 0.1607273519039154}, {'Buenos': 0.0377250574529171, 'Aires': 0.008154165931046009}, {'dina': 0.0046088239178061485}, {'Monumento': 0.003528212197124958}, {'error': 'Empty depicts or tags'}, {'image': 0.5696269869804382, 'this': 0.5275356769561768, 'ADN': 0.06769578158855438, 'inventory': 0.06705023348331451}, {'this': 0.9505463242530823, 'image': 0.68415367603302, 'ADN': 0.03867428004741669, 'inventory': 0.015644853934645653}, {'ADN': 0.012827226892113686, 'inventory': 0.012198100797832012, 'Lafayette': 0.0010743397288024426}, {'Estonia': 0.8514706492424011, 'this': 0.8176447153091431, 'photo': 0.16501131653785706}, {'Wiki': 0.8562911748886108}, {'that': 0.9838752746582031, 'Cycleway': 0.9798570275306702, 'Walkway': 0.927277147769928, 'viewpoint': 0.03730184584856033, 'end': 0.0241229385137558, 'erosion': 0.0004575469356495887}, {'overview': 0.40715375542640686, 'path': 0.11323569715023041, 'Kojatice': 0.030758608132600784}, {'Carlisle': 0.7632565498352051, 'this': 0.07646557688713074, 'commons': 0.011177985928952694}, {'Didcot': 0.993175208568573, 'this': 0.9431939721107483, 'commons': 0.5890634655952454}, {'this': 0.7839676141738892, 'view': 0.6321913003921509, 'commons': 0.5251464247703552, 'inventory': 0.07964303344488144, 'Ouagadougou': 0.0722372978925705, 'ADN': 0.05375209078192711, 'Banfora': 0.02550579607486725, 'bus': 0.003639770904555917}, {'Redmarshall': 0.8515768051147461, 'this': 0.09595455229282379, 'commons': 0.006791176274418831}, {'this': 0.27259427309036255, 'commons': 0.07022082060575485, 'Sandbanks': 0.000399865850340575}, {'error': 'Empty depicts or tags'}, {'age': 0.2878648340702057, 'file': 0.11910736560821533, 'Canon': 0.10835535824298859, 'England': 0.08443553000688553, 'village': 0.007598557509481907, 'EOS': 0.006644429173320532, 'Hill': 0.0021732114255428314, 'Nuthurst': 0.0016479273326694965, 'camera': 0.0015260401414707303}, {'monument': 0.9889129400253296, 'this': 0.7981414794921875, 'ID': 0.6802951097488403, 'photo': 0.45158883929252625, 'Iran': 0.1307196021080017, 'ADN': 0.02480655163526535, 'inventory': 0.007451828569173813}, {'this': 0.7096791863441467, 'commons': 0.4849109649658203, 'ADN': 0.06191002577543259, 'Gwyddgrug': 0.04690505564212799, 'A485': 0.03400362282991409, 'inventory': 0.002880860585719347}, {'inventory': 0.018524767830967903, 'ADN': 0.011716007255017757}, {'Gmelina': 0.9923851490020752, 'flower': 0.8812569379806519, 'fruit': 0.6159173846244812, 'inventory': 0.030592935159802437, 'ADN': 0.014481908641755581, 'Cairns': 0.0015435150125995278}, {'Победы': 0.05349983647465706}, {'Perranporth': 0.011350926011800766, 'Mount': 0.004890415817499161}, {'this': 0.8812864422798157, 'Armenia': 0.8100234270095825, 'monument': 0.7372519969940186, 'Property': 0.4245971441268921, 'photo': 0.14068500697612762, 'P3170': 0.013458464294672012}, {'Argentina': 0.4886074364185333, 'Hungary': 0.0008749866392463446}, {'Ramona': 0.9970917105674744, 'american': 0.6964978575706482, 'set': 0.6293691992759705, 'cinematographer': 0.05643920972943306, 'aviator': 0.0012539465678855777}, {'photographie': 0.21863259375095367}, {'this': 0.9644738435745239, 'commons': 0.9411946535110474, 'ADN': 0.1506626307964325, 'inventory': 0.004014142788946629}, {'this': 0.13160495460033417, 'commons': 0.07645338028669357, 'Garth': 0.0022229596506804228}, {'this': 0.4089311361312866, 'commons': 0.09409506618976593}, {'this': 0.701554536819458, 'commons': 0.13346703350543976}, {'departure': 0.48140576481819153}, {'GNR': 0.9858930706977844, 'no': 0.8948850631713867, 'inventory': 0.09764605760574341, 'ADN': 0.012129416689276695}, {'this': 0.6926197409629822, 'commons': 0.2576439082622528}, {'Brasil': 0.39745911955833435}, {'error': 'Empty depicts or tags'}, {'pond': 0.5604605674743652, 'this': 0.17402604222297668, 'commons': 0.06145577132701874, 'Summertrees': 0.0012836243258789182}, {'Airbus': 0.9987231492996216}, {'error': 'Empty depicts or tags'}, {'Barcelona': 0.19152432680130005}, {'that': 0.9666745066642761, 'place': 0.9486308097839355, 'Waycross': 0.9176955223083496, 'Georgia': 0.7742986083030701, 'building': 0.36801543831825256, 'this': 0.36195823550224304, 'image': 0.2516970932483673, 'USA': 0.06787308305501938}, {'9th': 0.04540003091096878}, {'London': 0.7123644948005676, 'this': 0.595561683177948, 'commons': 0.21805541217327118}, {'Palau': 0.001241079531610012, 'Robert': 0.0009605777449905872, 'Barcelona': 0.0007047952967695892}, {'which': 0.976382851600647, 'ADN': 0.07025144249200821, 'inventory': 0.051122911274433136, 'Hannover': 0.0008620184380561113}, {'part': 0.9948770403862, 'location': 0.9938010573387146, 'two': 0.8225237131118774, 'itself': 0.6519486904144287, 'gun': 0.06475762277841568, 'signage': 0.013634073548018932, 'MKXI': 0.0030600440222769976, 'shield': 0.001706173992715776, 'Albany': 0.0003267646243330091}, {'Leominster': 0.9452173113822937, 'this': 0.4223373830318451, 'commons': 0.05773714929819107, 'inventory': 0.0374007523059845, 'ADN': 0.01757132261991501}, {'this': 0.6348291039466858, 'commons': 0.4216526448726654}, {'this': 0.47542354464530945, 'commons': 0.027525141835212708}, {'Romania': 0.8753593564033508, 'fortification': 0.5644535422325134}, {'Apollo': 0.9971606731414795, 'Hasselblad': 0.005744993221014738}, {'error': 'Empty depicts or tags'}, {'Men': 0.9410892724990845, 'Finland': 0.514535665512085, 'USA': 0.0012297076173126698, 'Lausanne': 0.0011049333261325955}, {'monument': 0.8734859824180603, 'this': 0.8410900831222534, 'ID': 0.37069982290267944, 'photo': 0.2805951237678528, 'Iran': 0.0003137489256914705}, {'Auferstehungskirche': 0.041359301656484604, 'parsonage': 0.013460720889270306, 'Lutheran': 0.00916354451328516}, {'member': 0.9904166460037231, 'Representatives': 0.9730358719825745, 'portrait': 0.0029480664525181055}, {'betoniarni': 0.01115383766591549, 'Pluton': 0.0013711275532841682}, {'Poland': 0.9673465490341187, 'monument': 0.939471960067749, 'this': 0.5568540096282959, 'ID': 0.5328216552734375, 'photo': 0.5037456154823303, 'WLM': 0.029437020421028137}, {'error': 'Empty depicts or tags'}, {'error': 'Empty depicts or tags'}, {'this': 0.18594713509082794, 'commons': 0.051188960671424866, 'ADN': 0.0056830537505447865, 'inventory': 0.0028986779507249594}, {'comitiva': 0.9259185791015625, 'ADN': 0.10447745025157928, 'foto': 0.08125439286231995, 'inventory': 0.02364901825785637}, {'competition': 0.6579663157463074}, {'error': 'Empty depicts or tags'}, {'this': 0.034557729959487915, 'commons': 0.026583492755889893}, {'qualification': 0.8579451441764832, 'day': 0.06250014156103134, 'Brazil': 0.0005484243156388402}, {'avril': 0.06038062646985054, 'ADN': 0.010740294121205807, 'inventory': 0.010000701993703842}, {'this': 0.36178481578826904, 'Institute': 0.06172705814242363, 'ADN': 0.0149250952526927, 'commons': 0.005262321326881647, 'inventory': 0.0005415029008872807}, {'image': 0.4363083243370056, 'this': 0.3569629490375519}, {'Martirosjan': 0.9602227807044983, 'round': 0.6385037899017334, '198kg': 0.06723718345165253, 'Österreichische': 0.010216360911726952, 'April': 0.005298406817018986}, {'this': 0.23409543931484222, 'commons': 0.09195646643638611}, {'Montpellier': 0.0018351103644818068}, {'Canada': 0.9955247640609741, 'Cannore': 0.9936817288398743, 'Mountains': 0.9829179644584656, 'subject': 0.90249103307724, 'tag': 0.8986576795578003, 'limnology': 0.12188903242349625, 'Alta': 0.06268758326768875, 'Alberta': 0.004665594082325697}, {'this': 0.9378608465194702, 'commons': 0.44635525345802307, 'three': 0.3107301890850067}, {'cat': 0.9977278113365173, 'garden': 0.00028916477458551526}, {'error': 'Empty depicts or tags'}, {'canal': 0.9442738890647888, 'this': 0.43509820103645325, 'commons': 0.12473869323730469, 'winter': 0.002815753221511841}, {'Carbonbetonhaus': 0.9941916465759277, 'Dresden': 0.8417235016822815, 'Bau': 0.27520090341567993, 'I': 0.14128971099853516, 'Zustand': 0.0030767940916121006}, {'abgebildet': 0.028339531272649765, 'ADN': 0.01781333237886429, 'inventory': 0.00705368909984827, 'Finals': 0.0026670126244425774, 'Brno': 0.0010803504846990108}, {'Osbu': 0.986838698387146, 'kraftverk': 0.0028948839753866196}, {'Michigan': 0.0018059799913316965, 'Chesterfield': 0.0017920216778293252}, {'detail': 0.8142899870872498, 'viewer': 0.4531325399875641, 'citation': 0.23034974932670593, 'p4': 0.04254872351884842, 'ADN': 0.007272770162671804, 'inventory': 0.001672261510975659, 'England': 0.0009579663746990263, 'Grylle': 0.0008192333625629544, 'Healey': 0.0004967678687535226, 'Mallinson': 0.0004555009654723108, 'Manningham': 0.0002925837761722505, 'Bradford': 0.00027958108694292605, 'Belliston': 0.00026442212401889265, 'London': 0.00025582389207556844, 'Window': 0.00015718842041678727}, {'photo': 0.4203346371650696, 'First': 0.14095456898212433, 'ADN': 0.04681715741753578, 'reception': 0.027859721332788467, 'inventory': 0.01049081701785326, 'Thai': 0.00047988136066123843}, {'extrait': 0.48993396759033203}, {'ID': 0.7942463755607605, 'Bavaria': 0.7861528396606445, 'this': 0.7700436115264893, 'picture': 0.505764365196228, 'Baudenkmal': 0.001302434946410358}, {'this': 0.9159620404243469, 'commons': 0.6279345750808716}, {'Straßenseite': 0.007205720990896225}, {'Augustowie': 0.8040094971656799, 'Truszkowskich': 0.4432689845561981}, {'that': 0.9951052665710449, 'Albanian': 0.9822422862052917, 'Culture': 0.3880349397659302, 'State': 0.23241044580936432, 'Understanding': 0.05041482672095299, 'August': 0.004223816562443972}, {'error': 'Empty depicts or tags'}, {'it': 0.9656456112861633, 'Accosciati': 0.005009848158806562, 'Chiarini': 0.00366259110160172, 'Martini': 0.0012553161941468716}, {'error': 'Empty depicts or tags'}, {'error': 'Empty depicts or tags'}, {'arm': 0.23679636418819427, 'inventory': 0.04150059446692467, 'ADN': 0.006789423990994692}, {'w': 0.6085519194602966, 'collage': 0.5875689387321472}, {'african': 0.7038576006889343, 'this': 0.275913804769516, 'image': 0.17056307196617126, 'work': 0.0007355066481977701}, {'Vondelpark': 0.004067692440003157}, {'earth': 0.9094967246055603, 'Fire': 0.6746116876602173, 'photoshoot': 0.026357034221291542, 'May': 0.0032810838893055916}, {'Rétromobile': 0.9983679056167603}, {'error': 'Empty depicts or tags'}, {'this': 0.298933207988739, 'commons': 0.017040155827999115, 'Wigtwizzle': 0.0004652682109735906}, {'memorial': 0.6012070178985596, 'Meonstoke': 0.3383599519729614, 'this': 0.07962177693843842, 'commons': 0.008719315752387047}, {'they': 0.2080330103635788, 'plaque': 0.025851065292954445, 'ADN': 0.012210341170430183, 'Battle': 0.007600546348839998, 'inventory': 0.0019498018082231283, 'Westport': 0.00017081077385228127, 'reconciliation': 0.00011063103011110798}, {'northwest': 0.6630765199661255, 'senator': 0.6403497457504272, 'Pres': 0.32924604415893555, 'inventory': 0.04588184505701065, 'ADN': 0.03373610973358154, 'glass': 0.01193221565335989, 'Washington': 0.0011865159031003714, 'Coolidge': 0.00031054383725859225}, {'sheep': 0.9971226453781128, 'this': 0.22341887652873993, 'commons': 0.06980180740356445, 'lamb': 0.027483178302645683}, {'error': 'Empty depicts or tags'}, {'this': 0.980588972568512, 'commons': 0.6321272850036621}, {'monument': 0.9395830631256104, 'Iran': 0.8905854821205139, 'this': 0.7546604871749878, 'photo': 0.6625866293907166, 'ID': 0.6285907030105591}, {'Cajon': 0.9966427683830261, 'stage': 0.00885807629674673}, {'this': 0.353268563747406, 'commons': 0.022420164197683334, 'ADN': 0.005593099631369114, 'Gravel': 0.0013166317949071527, 'inventory': 0.001244235783815384}, {'summer': 0.7993046045303345, 'village': 0.6964359879493713, 'image': 0.4334518313407898, 'Catalonia': 0.1709982454776764, 'inventory': 0.023906219750642776, 'Fontanilles': 0.010218611918389797, 'ADN': 0.007494441699236631}, {'this': 0.03490503877401352, 'commons': 0.0032665510661900043}, {'error': 'Empty depicts or tags'}, {'this': 0.8794402480125427, 'commons': 0.377998411655426, 'Ranby': 0.0036030523478984833}, {'house': 0.9967738389968872, 'Himley': 0.982860803604126, 'this': 0.8330025672912598, 'commons': 0.35981449484825134}, {'this': 0.890601396560669, 'image': 0.7600998878479004}, {'cyanobacteria': 0.9963623881340027, 'that': 0.9807511568069458, 'France': 0.892959475517273, 'location': 0.45037922263145447, 'area': 0.34979838132858276, 'north': 0.2224564552307129, 'sample': 0.07287117838859558, 'biofilm': 0.07199689000844955, 'Lille': 0.06430239230394363, 'downtown': 0.0400330051779747, 'accumulation': 0.013571497052907944, 'trace': 0.004055180586874485, 'water': 0.001188026275485754, 'Bloom': 0.0008096140227280557, 'duck': 0.0002863607951439917, 'fish': 0.00023531918122898787}, {'inventory': 0.10779188573360443, 'ADN': 0.05240309238433838}, {'this': 0.7894925475120544, 'commons': 0.26086369156837463}, {'portrait': 0.09625975042581558, 'Savoy': 0.02228400483727455, 'Eugene': 0.010727804154157639}, {'banner': 0.9713045954704285, '24th': 0.07945055514574051, 'ADN': 0.014717009849846363, 'bow': 0.008596748113632202, 'Entitat': 0.006304755806922913, 'Act': 0.003711245721206069, 'inventory': 0.0008032304467633367}, {'error': 'Empty depicts or tags'}, {'error': 'Empty depicts or tags'}, {'one': 0.9851763248443604, 'two': 0.48812517523765564, 'ADN': 0.050565727055072784, 'inventory': 0.00458956602960825}, {'Romania': 0.006380054634064436}, {'Méjanes': 0.9976807236671448, 'France': 0.9964442849159241, 'which': 0.8815457820892334, 'reconstruction': 0.5360787510871887, 'who': 0.5188511610031128, 'premise': 0.10320161283016205, 'tower': 0.01008018758147955, 'Aiguières': 0.009950898587703705, 'Camargue': 0.006439730990678072}, {'Hebrew': 0.9958366751670837, 'Torah': 0.9949017763137817, 'parchment': 0.03421434387564659}, {'error': 'Empty depicts or tags'}, {'this': 0.8892532587051392, 'commons': 0.4327102303504944, 'Gwynedd': 0.054495833814144135, 'Porthmadog': 0.025352975353598595}, {'Llangynidr': 0.7086897492408752, 'this': 0.22899191081523895, 'commons': 0.0992932915687561, 'Pencommin': 0.008045146241784096}, {'russian': 0.9932998418807983, 'chinese': 0.08867835253477097, 'inventory': 0.032100893557071686, 'ADN': 0.01940596103668213}, {'GWR': 0.993400514125824, 'Truro': 0.9929727911949158, 'City': 0.9908941984176636, 'inventory': 0.065726138651371, 'ADN': 0.051827091723680496}, {'this': 0.5103201866149902, 'ADN': 0.020326534286141396, 'commons': 0.010360711254179478, 'inventory': 0.0019078945042565465}, {'error': 'Empty depicts or tags'}, {'Sun': 0.9965987801551819, 'surface': 0.8078391551971436, 'location': 0.6256796717643738, 'arcs': 0.015405826270580292, 'corona': 0.01067289151251316, 'plasma': 0.0026509538292884827}, {'blackboard': 0.0018702686065807939}, {'this': 0.4325607717037201, 'commons': 0.11179541051387787}, {'error': 'Empty depicts or tags'}, {'Wigan': 0.9932694435119629, 'this': 0.789343535900116, 'commons': 0.4529884457588196}, {'this': 0.612259566783905, 'commons': 0.040110863745212555, 'ADN': 0.023215968161821365, 'inventory': 0.0007860427722334862}, {'this': 0.5758222937583923, 'commons': 0.21301820874214172, 'ADN': 0.016185151413083076, 'inventory': 0.001895978464744985}, {'Drina': 0.9973514080047607, 'river': 0.857700526714325, 'city': 0.10007563978433609, 'ADN': 0.05004516616463661, 'Goražde': 0.004984882194548845, 'inventory': 0.003227426903322339}, {'number': 0.2508028745651245, 'ADN': 0.027993764728307724, 'inventory': 0.005658694077283144, 'Bolivia': 0.0006358763203024864}, {'Córdoba': 0.9178154468536377, 'España': 0.010618829168379307}, {'this': 0.16235707700252533, 'commons': 0.04231707379221916, 'viewpoint': 0.005870154593139887}, {'Leicester': 0.966445803642273, 'this': 0.7520027756690979, 'commons': 0.22220079600811005}, {'Dwellings': 0.8751095533370972, 'River': 0.4905262887477875, 'this': 0.07399910688400269, 'commons': 0.042076725512742996}, {'Ernstbrunn': 0.9935033321380615}, {'this': 0.4832962453365326, 'photo': 0.17126373946666718}, {'photo': 0.5202138423919678, 'monument': 0.12826023995876312, 'ID': 0.1255989670753479, 'this': 0.037394069135189056, 'Iran': 0.002446394646540284}, {'error': 'Empty depicts or tags'}, {'pasture': 0.9282436370849609, 'this': 0.09305603802204132, 'commons': 0.04414388909935951}, {'Harbridge': 0.7535415887832642, 'this': 0.09907200932502747, 'commons': 0.018651451915502548, 'ADN': 0.008220373652875423, 'inventory': 0.002357012592256069}, {'BERLIN': 0.6649340987205505, 'Urheberrechtsrichtlinie': 0.05839626491069794, 'ADN': 0.01654997281730175, 'inventory': 0.006786053068935871}, {'concentració': 0.18074394762516022, 'Barcelona': 0.03663842752575874}, {'this': 0.9746376872062683, 'number': 0.9022104740142822, 'India': 0.3657323718070984, 'photo': 0.20023113489151, 'ASI': 0.006782469339668751}, {'Geely': 0.997433066368103, 'Boyue': 0.9904226660728455, 'ADN': 0.06528159230947495, 'inventory': 0.02874581143260002}, {'that': 0.9941163659095764, 'sunspot': 0.575732409954071, 'lot': 0.5721837878227234, 'place': 0.40197065472602844, 'AIA': 0.05492856726050377, 'wavelength': 0.01485898531973362, 'bundle': 0.002234279876574874}, {'Blazon': 0.20635582506656647, 'Papworth': 0.029112888500094414, 'Perkins': 0.0021668735425919294}, {'this': 0.871188223361969, 'image': 0.7237629294395447, 'ADN': 0.06587017327547073, 'inventory': 0.03589048236608505}, {'this': 0.5394544005393982, 'commons': 0.061158597469329834}, {'Romania': 0.9399181008338928, 'photo': 0.3686854839324951, 'this': 0.22191059589385986, 'LMI': 0.03552641347050667}, {'Ukraine': 0.798031210899353, 'photo': 0.5987193584442139, 'this': 0.384282648563385}, {'andělíčka': 0.09459759294986725, 'Socha': 0.047423552721738815}, {'error': 'Empty depicts or tags'}, {'this': 0.9500718116760254, 'commons': 0.5638461112976074, 'ADN': 0.048503052443265915, 'inventory': 0.00721749709919095}, {'error': 'Empty depicts or tags'}, {'Zacatecas': 0.9659476280212402, 'Sombrerete': 0.9604530930519104, 'México': 0.2846457362174988, 'rojos': 0.017501618713140488, 'ADN': 0.011572363786399364, 'inventory': 0.011000473983585835, 'Otoño': 0.0050246817991137505}, {'portrait': 0.4511226713657379}, {'this': 0.34903523325920105, 'photo': 0.2619735598564148, 'Chile': 0.04487236961722374}, {'Ломако': 0.0481644831597805}, {'this': 0.9355770945549011, 'commons': 0.6442490816116333}, {'this': 0.7538854479789734, 'commons': 0.5042558312416077, 'bus': 0.0019476929446682334}, {'HOLOTYPE': 0.0027751789893954992}, {'this': 0.5932943224906921, 'photo': 0.3505219519138336, 'cataloge': 0.034352514892816544, 'inventory': 0.019649563357234, 'ADN': 0.015455449000000954, 'Barcelona': 0.00032705633202567697, 'Spain': 0.0002948864712379873}, {'inventory': 0.018566938117146492, 'ADN': 0.010112813673913479}, {'Nieznamirowice': 0.9386290311813354, 'pl': 0.3727242648601532, 'Andrzeja': 0.009675666689872742}, {'veeggarri': 0.003007453866302967}, {'this': 0.084641233086586, 'commons': 0.036442555487155914, 'Pottery': 0.00011736730812117457}, {'place': 0.9946040511131287, 'that': 0.994327962398529, 'alcatraz': 0.9939387440681458, 'image': 0.7541385889053345, 'this': 0.5455683469772339, 'cell': 0.14200560748577118, 'USA': 0.03267841786146164, 'building': 0.02160026691854}, {'this': 0.8195602893829346, 'ID': 0.7775890231132507, 'picture': 0.6972804665565491, 'Bavaria': 0.5355207920074463, 'inventory': 0.04049467295408249, 'ADN': 0.030095534399151802, 'Baudenkmal': 0.0011985980672761798}, {'Bridge': 0.8955519795417786, 'Omagh': 0.596634566783905, 'this': 0.3337361216545105, 'commons': 0.32344457507133484}, {'this': 0.8088586926460266, 'commons': 0.18210145831108093}, {'error': 'Empty depicts or tags'}, {'creation': 0.8287509679794312, 'Málaga': 0.42913568019866943, 'España': 0.17511041462421417, 'representaba': 0.15289920568466187, 'otra': 0.13358712196350098, 'ADN': 0.03504416346549988, 'inventory': 0.0012287510326132178}, {'Christ': 0.9957340955734253, 'Head': 0.992991030216217}, {'Obrana': 0.9881978034973145, 'lidu': 0.9756245017051697, 'inventory': 0.059277281165122986, 'ADN': 0.035121966153383255}, {'5k': 0.1567573994398117, '10k': 0.10082055628299713, 'Music': 0.04851526767015457, 'People': 0.01740308478474617, 'bike': 0.008164328522980213, 'Food': 0.006331953685730696, 'Kayaks': 0.0035955319181084633}, {'Russia': 0.9944910407066345, 'this': 0.8234614729881287, 'photo': 0.32620084285736084}, {'Fotografía': 0.14145514369010925, 'Nacido': 0.0037168904673308134}, {'this': 0.9388498663902283, 'monument': 0.8044508099555969, 'ID': 0.760418713092804, 'photo': 0.22418354451656342, 'inventory': 0.013488001190125942, 'ADN': 0.01053554005920887, 'Georgia': 0.00411083223298192}, {'this': 0.12584500014781952, 'commons': 0.03267147019505501}, {'Evian': 0.34301501512527466}, {'this': 0.2873115837574005, 'commons': 0.206743523478508, 'ADN': 0.011378888040781021, 'inventory': 0.006375493947416544}, {'this': 0.14158058166503906, 'commons': 0.06331116706132889, 'sheep': 0.007960254326462746, 'ADN': 0.005291819106787443, 'inventory': 0.0005522494902834296}, {'finnish': 0.6776491403579712}, {'error': 'Empty depicts or tags'}, {'5th': 0.2795872688293457, 'III': 0.06565944105386734, 'ADN': 0.022513089701533318, 'inventory': 0.0015806130832061172}, {'ADN': 0.0971948578953743, 'inventory': 0.013807273469865322, 'Strasbourg': 0.0011497650993987918}, {'region': 0.7423365116119385, 'problem': 0.47188428044319153, 'Galilee': 0.011165542528033257}, {'this': 0.5556395053863525, 'commons': 0.0170516986399889, 'ADN': 0.008028337731957436, 'inventory': 0.0014262318145483732}, {'this': 0.5863450765609741, 'commons': 0.08669418841600418, 'Stranraer': 0.04840550944209099, 'ADN': 0.011259901337325573, 'inventory': 0.001241144840605557}, {'portuguese': 0.9882075190544128}, {'Moche': 0.2090097814798355, 'ADN': 0.029079554602503777, 'file': 0.027208777144551277, 'inventory': 0.006740671582520008, 'ornament': 0.0031369985081255436}, {'Kassim': 0.24258102476596832}, {'error': 'Empty depicts or tags'}, {'this': 0.8660532236099243, 'commons': 0.4040450155735016, 'Upstream': 0.0888947993516922}, {'commons': 0.8321857452392578, 'this': 0.12669751048088074, 'ADN': 0.004381979815661907, 'inventory': 0.0016910356935113668}, {'house': 0.9909254908561707, 'this': 0.22930453717708588, 'commons': 0.17994414269924164}, {'Streimberg': 0.8485727310180664, 'municipality': 0.7118983864784241, 'Austria': 0.6672762632369995, 'w': 0.48286551237106323, 'ADN': 0.010308855213224888, 'Baptist': 0.008916511200368404, 'Carinthia': 0.0024675088934600353, 'inventory': 0.001330666127614677}, {'building': 0.6428940892219543, 'this': 0.6260240077972412, 'commons': 0.19652816653251648}, {'this': 0.15295231342315674, 'commons': 0.10586341470479965}, {'Rockeskyll': 0.9443082213401794, 'spätgotischer': 0.623791515827179, 'ursprünglich': 0.36296722292900085, 'ADN': 0.05055266618728638, 'inventory': 0.015659470111131668, 'Dorfstraße': 0.0003744626883417368}, {'this': 0.4712825417518616, 'commons': 0.20468097925186157}, {'Technology': 0.275785893201828}, {'regulation': 0.9348609447479248, 'abbreviation': 0.6672475337982178, 'fee': 0.4568251073360443, 'issue': 0.4026559889316559, 'ADR': 0.3177243769168854, 'Road': 0.30432236194610596, 'vehicle': 0.17594586312770844, 'approval': 0.12349651753902435, 'pursuance': 0.10369730740785599, 'connection': 0.09827911108732224, 'Transport': 0.02594694495201111}, {'tombstone': 0.9917218685150146, 'Paris': 0.0004415971343405545}, {'error': 'Empty depicts or tags'}, {'woman': 0.9978444576263428, 'left': 0.7491708397865295, 'ADN': 0.09674429148435593, 'inventory': 0.0025869759265333414, 'Belita': 0.0010504057863727212}, {'decommissioning': 0.9877625107765198, 'vessel': 0.6566072106361389, 'making': 0.6240002512931824, 'State': 0.5312938094139099, 'Fisheries': 0.5129411816596985, 'grant': 0.11771220713853836, 'respect': 0.11030373722314835, 'Minister': 0.03840571641921997, 'Wales': 0.009666146710515022, 'Scotland': 0.002362141851335764, 'Secretaries': 0.002126373816281557, 'Food': 0.0003935094573535025, 'Agriculture': 0.00011655575508484617}, {'this': 0.13627022504806519, 'commons': 0.00356795871630311}, {'photograph': 0.15813003480434418}, {'this': 0.17340873181819916, 'commons': 0.07945381850004196, 'partridge': 0.014676269143819809}, {'Funchal': 0.8806538581848145, 'ADN': 0.01457842905074358, 'inventory': 0.007255984004586935}, {'photographer': 0.12843206524848938, 'T': 0.09025675058364868, 'Pedro': 0.004958699457347393, 'Tom': 0.004511612001806498, 'Klugh': 0.004202731419354677, 'Boucher': 0.00373569643124938, 'Behrens': 0.002682806458324194, 'Price': 0.002336591249331832, 'transmitter': 0.001920434064231813, 'Antonelli': 0.0012073299149051309, 'Virginia': 0.00044990386231802404}, {'Piano': 0.9963482022285461, 'ADN': 0.009898952208459377, 'inventory': 0.0009783958084881306}, {'ship': 0.5831082463264465, 'file': 0.15708968043327332, 'ADN': 0.04196116328239441, 'inventory': 0.028558798134326935, 'Esbjerg': 0.0007436504820361733}, {'prise': 0.36313772201538086, 'un': 0.06690127402544022}, {'vault': 0.9940165281295776, 'inventory': 0.07703891396522522, 'Open': 0.02552175149321556, 'ADN': 0.01741972006857395, 'Bettembourg': 0.0073358104564249516}, {'económico': 0.6660003066062927, 'un': 0.28514984250068665, 'paseos': 0.16513794660568237, 'cafeterías': 0.13595610857009888, 'bicicleta': 0.09005353599786758}, {'Bridge': 0.962567150592804, 'this': 0.24657027423381805, 'River': 0.23683089017868042, 'commons': 0.12754330039024353}, {'number': 0.9926456809043884, 'this': 0.7236802577972412, 'image': 0.5824604034423828}, {'player': 0.9749628305435181}, {'this': 0.5383633971214294, 'image': 0.4830111861228943}, {'work': 0.9988709688186646}, {'this': 0.7551727294921875, 'commons': 0.16439315676689148}, {'Bexhill': 0.9668306708335876, 'west': 0.4728727638721466, 'this': 0.13995665311813354, 'commons': 0.09678185731172562}, {'countryside': 0.9963441491127014, 'this': 0.24459777772426605, 'east': 0.19802866876125336, 'commons': 0.020756272599101067}, {'un': 0.015218137763440609}, {'Matka': 0.009929056279361248, 'Tyre': 0.0020787750836461782}, {'25th': 0.11708053201436996, 'P6': 0.05086977779865265, 'Widnau': 0.0030005150474607944, 'Rheintalcup': 0.0008586877956986427}, {'Borehamwood': 0.7224785685539246, 'this': 0.16189175844192505, 'commons': 0.028393765911459923, 'rise': 0.012992121279239655}, {'path': 0.9930762648582458, 'this': 0.730399489402771, 'commons': 0.14692050218582153}, {'error': 'Empty depicts or tags'}, {'ADN': 0.011324712075293064, 'inventory': 0.0008663379703648388}, {'category': 0.6753705739974976, 'Open': 0.01619376614689827, 'exercise': 0.01414765790104866, 'Bettembourg': 0.0017391087021678686}, {'ADN': 0.016447465866804123, 'inventory': 0.01073768176138401}, {'Nationscup': 0.003359957132488489, 'Winterberg': 0.00031086080707609653}, {'track': 0.8783236145973206, 'this': 0.40100184082984924, 'commons': 0.062010880559682846, 'ADN': 0.0069347769021987915, 'inventory': 0.002027063397690654}, {'India': 0.9601302146911621, 'this': 0.8663095235824585, 'number': 0.6378788352012634, 'photo': 0.4850166440010071, 'ASI': 0.0719272568821907}, {'this': 0.5716757774353027, 'commons': 0.18948127329349518, 'Millbrook': 0.0011834315955638885}, {'emphasis': 0.9258540868759155, 'center': 0.9172111749649048, 'initiative': 0.7168601751327515, 'wellness': 0.4130209982395172, 'problem': 0.395040899515152, 'theme': 0.3778921663761139, 'health': 0.18885613977909088, 'anchor': 0.18304075300693512, 'usda': 0.1444210410118103, 'First': 0.06912412494421005, 'annual': 0.04695859178900719, 'April': 0.027481934055685997, 'child': 0.011508381925523281, 'Washington': 0.0015455028042197227, 'NBC': 0.0006435649702325463}, {'Winners': 0.05122066289186478}, {'ADN': 0.05730867013335228, 'photograph': 0.01333535648882389, 'Photographs': 0.005249772220849991, 'inventory': 0.001231242436915636}, {'this': 0.14681680500507355, 'commons': 0.1046246811747551}, {'extinction': 0.9020789265632629}, {'Armenia': 0.9348883628845215, 'monument': 0.5705977082252502, 'this': 0.35767698287963867, 'photo': 0.22740831971168518, 'P3170': 0.13823525607585907, 'Property': 0.007134706247597933}, {'Footbridge': 0.4851008653640747, 'this': 0.09773243963718414, 'commons': 0.02654227800667286, 'Seabridge': 0.0016968605341389775}, {'England': 0.08769544959068298, 'view': 0.001989395823329687}, {'error': 'Empty depicts or tags'}, {'Euthalia': 0.9952564239501953, 'Changyang': 0.001266020000912249}, {'this': 0.24356265366077423, 'commons': 0.09318344295024872, 'Monmouthshire': 0.02534167282283306, 'ADN': 0.022041259333491325, 'inventory': 0.006349327974021435, 'Hendre': 0.0037312605418264866, 'shell': 0.002303861314430833}, {'this': 0.16335752606391907, 'commons': 0.0127741489559412}, {'vault': 0.9958063364028931, 'I': 0.13822178542613983, '5th': 0.12978287041187286}, {'Czech': 0.9944286346435547, 'this': 0.7389117479324341, 'photo': 0.5075183510780334, 'number': 0.0929589718580246, 'ADN': 0.05828748643398285, 'inventory': 0.004899861756712198}, {'photograph': 0.004741783253848553, 'Photographs': 0.00271965260617435}, {'error': 'Empty depicts or tags'}, {'this': 0.32179510593414307, 'commons': 0.012258497066795826}, {'Israel': 0.00065763940801844}, {'error': 'Empty depicts or tags'}, {'this': 0.9372016787528992, 'commons': 0.15662406384944916}, {'greek': 0.005199203733354807, 'Kylix': 0.0026255114935338497, 'attic': 0.0016194554045796394, 'vase': 0.0005223070620559156}, {'Faculty': 0.9597772359848022, 'Czech': 0.9000673294067383, 'building': 0.3422108590602875, 'September': 0.17725540697574615, 'CERIT': 0.016785379499197006, 'Brno': 0.002694003051146865}, {'house': 0.9526309370994568, 'this': 0.28094589710235596, 'commons': 0.15789224207401276, 'bream': 0.015925604850053787, 'view': 0.0027705663815140724}, {'grade': 0.3643563389778137, 'Marburg': 0.0020862009841948748}, {'that': 0.9941163659095764, 'sunspot': 0.575732409954071, 'lot': 0.5721837878227234, 'place': 0.40197065472602844, 'AIA': 0.05492856726050377, 'wavelength': 0.01485898531973362, 'bundle': 0.002234279876574874}, {'this': 0.12486117333173752, 'photo': 0.027551280334591866, 'ADN': 0.0067037371918559074, 'Ukraine': 0.004551074467599392, 'inventory': 0.003436191938817501}, {'politician': 0.7403472065925598, 'ADN': 0.019954431802034378, 'inventory': 0.016242310404777527}, {'inschrift': 0.042634014040231705, 'ADN': 0.029544472694396973, 'inventory': 0.00031904419302009046}, {'Owmby': 0.6645855903625488, 'Spital': 0.5170069932937622, 'this': 0.04404045641422272, 'commons': 0.01573018543422222}, {'this': 0.09961701929569244, 'commons': 0.07375762611627579}, {'error': 'Empty depicts or tags'}, {'image': 0.5231373906135559, 'inventory': 0.17428936064243317, 'ADN': 0.12320777028799057, 'this': 0.037394069135189056}, {'this': 0.8324064016342163, 'commons': 0.41143783926963806, 'ADN': 0.0408780574798584, 'inventory': 0.0041964175179600716}, {'british': 0.9848681688308716, 'ADN': 0.18541716039180756, 'Wales': 0.1094219982624054, 'inventory': 0.06806983798742294, 'portrait': 0.027683770284056664}, {'Chauburji': 0.9977388978004456, 'it': 0.9733526110649109, 'city': 0.9597494006156921, 'who': 0.9487910270690918, 'inscription': 0.8979116082191467, 'restoration': 0.7893166542053223, 'Punjab': 0.7136452794075012, 'Province': 0.6876511573791504, 'un': 0.175375297665596, 'gateway': 0.13053865730762482, 'establishment': 0.08487382531166077, 'Pakistan': 0.03400709107518196, 'Lahore': 0.0008153395028784871}, {'Wien': 0.014255078509449959, 'Rinnböckstraße': 0.011771533638238907}, {'inventory': 0.17428936064243317, 'ADN': 0.12320777028799057, 'Hărțău': 0.04631786048412323, 'Romania': 0.006380054634064436}, {'this': 0.25899943709373474, 'commons': 0.04830937087535858}, {'this': 0.5063095092773438, 'commons': 0.026012351736426353, 'ADN': 0.008883357979357243, 'inventory': 0.0017351747956126928}, {'Iran': 0.2881263196468353, 'this': 0.122504822909832, 'ADN': 0.09310197085142136, 'ID': 0.08250483870506287, 'photo': 0.06036371737718582, 'monument': 0.0067653716541826725, 'inventory': 0.004389494191855192}, {'Stanton': 0.7099524140357971, 'this': 0.03678974136710167, 'commons': 0.00878213532269001, 'Cove': 0.0019265650771558285}, {'number': 0.9225638508796692, 'inventory': 0.5043995976448059, 'photo': 0.22602646052837372, 'ADN': 0.10300640016794205, 'this': 0.09302522987127304}, {'part': 0.9916974902153015, 'Italy': 0.9904653429985046, 'which': 0.9578368067741394, 'monument': 0.9429070353507996, 'it': 0.8499260544776917, 'this': 0.5188188552856445, 'Monuments': 0.24476198852062225, 'contest': 0.222188800573349, 'photo': 0.20654642581939697, 'Progetto': 0.18460385501384735, 'wiki': 0.01825198344886303, 'ADN': 0.01749221608042717, 'inventory': 0.004765644203871489}, {'Mapa': 0.6353873014450073}, {'this': 0.20852306485176086, 'Ukraine': 0.14797577261924744, 'photo': 0.02986559458076954, 'ADN': 0.008387651294469833, 'inventory': 0.00032821379136294127}, {'source': 0.8735146522521973, 'he': 0.4936518669128418, 'third': 0.09423184394836426, 'rejoicing': 0.017387039959430695}, {'this': 0.33111733198165894, 'image': 0.17282350361347198}, {'this': 0.10288701951503754, 'York': 0.0783129632472992, 'Yorkshire': 0.06888832151889801, 'commons': 0.014623741619288921, 'ADN': 0.005273682065308094, 'inventory': 0.0014465446583926678}, {'Brixham': 0.9672109484672546, 'home': 0.9338831305503845, 'this': 0.5829004645347595, 'commons': 0.12193430215120316, 'Lauriston': 0.00046263542026281357}, {'this': 0.7104764580726624, 'commons': 0.33793890476226807, 'Glenfeshie': 0.009698263369500637}, {'Liverpool': 0.00040969037218019366}, {'Winterberg': 0.0003230501606594771}, {'35th': 0.988028883934021, 'patch': 0.0896986573934555, 'Ukraine': 0.0034210090525448322}, {'Hollenthon': 0.9471832513809204, 'Austria': 0.42587342858314514, 'photo': 0.26047107577323914, 'ADN': 0.024256261065602303, 'inventory': 0.004249578807502985}, {'Berlin': 0.009533371776342392}, {'sculpture': 0.1775462031364441, 'artwork': 0.003558517899364233, 'Odisha': 0.0017413680907338858}, {'these': 0.9852355122566223, 'it': 0.9798043370246887, 'who': 0.9209620356559753, 'they': 0.796996533870697, 'I': 0.19251300394535065}, {'this': 0.5459186434745789, 'number': 0.16177473962306976, 'photo': 0.06983310729265213, 'ADN': 0.011862370185554028, 'inventory': 0.0025356088299304247, 'Czech': 0.001338521484285593}, {'NATO': 0.9987489581108093, 'ADN': 0.00263399095274508, 'inventory': 0.0019000947941094637}, {'Wolfgang': 0.9969273209571838}, {'ADN': 0.12816089391708374, 'inventory': 0.06328492611646652}, {'error': 'Empty depicts or tags'}, {'preparation': 0.5942804217338562, 'Germany': 0.4932660162448883, 'Main': 0.01417896244674921, 'Frankfurt': 0.001742107211612165}, {'this': 0.0793411135673523, 'commons': 0.022314174100756645}, {'part': 0.63166344165802, 'Záboří': 0.0405273474752903, 'Habrkovice': 0.03491603210568428}, {'this': 0.07517916709184647, 'inventory': 0.004738789517432451, 'ADN': 0.0014413155149668455, 'commons': 0.00139569491147995}, {'Befestigungen': 0.09515989571809769, 'nachdem': 0.09386139363050461, 'foto': 0.008774364367127419, 'Nordturm': 0.0078005981631577015, 'Kranwagen': 0.002119259675964713}, {'error': 'Empty depicts or tags'}, {'error': 'Empty depicts or tags'}, {'mural': 0.9966079592704773, 'ADN': 0.01657821610569954, 'Urvanity': 0.003999645821750164, 'Spain': 0.0037975439336150885, 'Madrid': 0.0021597405429929495, 'inventory': 0.000979796051979065}, {'wikidata': 0.9584504961967468, 'interlink': 0.8279280662536621, 'arywiki': 0.007697064429521561}, {'this': 0.792065441608429, 'commons': 0.4462593197822571}, {'logo': 0.9970989227294922}, {'tehty': 0.4624924063682556, 'taiteilijan': 0.09576013684272766, 'maalau': 0.06329704076051712, 'yksityiskokoelmaan': 0.033637288957834244}, {'Switzerland': 0.010953711345791817, 'Mendrisio': 0.0017180750146508217}, {'age': 0.4735882878303528, 'waterskiing': 0.007858666591346264}, {'Knowth': 0.9826470613479614, 'Ireland': 0.9621448516845703, 'inventory': 0.2515104115009308, 'Bóinne': 0.08468972891569138, 'Brú': 0.047487616539001465, 'ADN': 0.03625279292464256, 'Drogheda': 0.008690092712640762}, {'Japanese': 0.9971368908882141, 'Patriot': 0.9935346841812134, 'air': 0.812567949295044, 'inventory': 0.13417527079582214, 'ADN': 0.03369322419166565}, {'this': 0.5500929355621338, 'commons': 0.21479617059230804, 'spring': 0.00613411096855998}, {'error': 'Empty depicts or tags'}, {'error': 'Empty depicts or tags'}, {'España': 0.016134167090058327}, {'this': 0.7734639644622803, 'commons': 0.4536484181880951, 'ADN': 0.07411301136016846, 'inventory': 0.0024533693213015795}, {'Babirussa': 0.9977738857269287, 'inventory': 0.012194081209599972, 'ADN': 0.008811350911855698, 'akwaforta': 0.008538607507944107}, {'ADN': 0.01622416451573372, 'Râșnov': 0.0018944891635328531, 'Brașov': 0.0011641429737210274, 'inventory': 0.0007182236877270043}, {'aircraft': 0.9985718131065369, 'Perth': 0.9121500849723816}, {'France': 0.9942031502723694, 'Reims': 0.9821792244911194, 'baptistery': 0.6964569091796875, 'ADN': 0.023492051288485527, 'inventory': 0.0127616161480546, 'Marne': 0.002092906506732106}, {'entry': 0.21884770691394806, 'Q1085': 0.08805684745311737, 'plaque': 0.0720248818397522}, {'this': 0.6130054593086243, 'Croaghan': 0.07637366652488708, 'commons': 0.05403997749090195, 'ADN': 0.02598394826054573, 'inventory': 0.008401638828217983}, {'circulant': 0.9443145990371704, 'vide': 0.028058554977178574, 'Rogier': 0.0209216121584177}, {'inventory': 0.1334993839263916, 'ADN': 0.0681041032075882}, {'this': 0.9776760935783386, 'commons': 0.6363099217414856}, {'Czech': 0.8022993803024292, 'number': 0.18411745131015778, 'this': 0.14723554253578186, 'photo': 0.043572403490543365}, {'this': 0.7007074356079102, 'commons': 0.3399905264377594, 'Hollywood': 0.0007079170318320394}, {'publisher': 0.573003888130188, 'May': 0.154401496052742, 'volume': 0.13353848457336426, 'democratic': 0.0464044064283371, 'Support': 0.011720284819602966, 'Taiwan': 0.005289614200592041}, {'Austin': 0.0034744313452392817}, {'Africa': 0.02776779793202877}, {'this': 0.44993025064468384, 'commons': 0.15426968038082123, 'B9168': 0.05578666925430298}, {'print': 0.001344973687082529}, {'Hoefslagpaal': 0.029264377430081367}, {'vault': 0.9973838925361633, 'abgebildet': 0.11599814891815186, 'Finals': 0.04439046233892441, 'Brno': 0.002282888162881136}, {'this': 0.8762093782424927, 'commons': 0.41096168756484985, 'ADN': 0.04356217756867409, 'BRD': 0.036742959171533585, 'inventory': 0.011896762996912003}, {'ADN': 0.17053525149822235, 'inventory': 0.09116613864898682}, {'Berlin': 0.9800865054130554, 'ADN': 0.04253315553069115, 'September': 0.015615793876349926, 'inventory': 0.0011984085431322455}, {'this': 0.4105442464351654, 'commons': 0.07827150076627731, 'ADN': 0.004755236674100161, 'inventory': 0.002093177055940032, 'Aberdeen': 0.0013961043441668153}, {'Bern': 0.9724878668785095, 'ADN': 0.027406444773077965, 'inventory': 0.002117129974067211}, {'Poland': 0.9728564620018005, 'this': 0.7517916560173035, 'photo': 0.725800096988678, 'ID': 0.6753763556480408, 'WLM': 0.2063259780406952, 'monument': 0.16807690262794495}, {'mężczyzn': 0.019022472202777863, 'Konkurs': 0.0017182924784719944}, {'error': 'Empty depicts or tags'}, {'french': 0.9960740804672241, 'France': 0.9732564091682434, 'Tarn': 0.7881513237953186, 'diameter': 0.2590964436531067, 'department': 0.054438184946775436, 'SW': 0.016499413177371025, 'ADN': 0.005635592620819807, 'inventory': 0.002550422679632902}, {'China': 0.0014741237973794341, 'Shanghai': 0.0008609291398897767}, {'Scotland': 0.8736138939857483, 'commencement': 0.6452475190162659, 'respect': 0.003221436869353056}, {'photo': 0.5202138423919678, 'monument': 0.12826023995876312, 'ID': 0.1255989670753479, 'this': 0.037394069135189056, 'Iran': 0.002446394646540284}, {'Castle': 0.9902794361114502, 'France': 0.9883350729942322, 'Sceaux': 0.9569284915924072}, {'this': 0.3453388810157776, 'commons': 0.10763510316610336, 'ADN': 0.008935065940022469, 'inventory': 0.000606267829425633}, {'monument': 0.9958345890045166, 'Monuments': 0.99407958984375, 'part': 0.9869920015335083, 'which': 0.9625608921051025, 'it': 0.9103168249130249, 'Italy': 0.6574146151542664, 'this': 0.42541196942329407, 'photo': 0.07189521193504333, 'Progetto': 0.03347272053360939, 'wiki': 0.009312170557677746, 'contest': 0.006821122951805592}, {'Ruhland': 0.0030089979991316795, 'Sommerlinde': 0.0012379508698359132, 'Frühherbst': 0.0011821553343906999}, {'Peru': 0.9953649640083313, 'view': 0.4180159866809845, 'ADN': 0.05949733033776283, 'inventory': 0.01987076923251152}, {'error': 'Empty depicts or tags'}, {'Madonna': 0.9985324144363403, 'ADN': 0.08872618526220322, 'inventory': 0.0011928168823942542, 'Kempten': 0.0011729010147973895}, {'remark': 0.8543605804443359, 'announcement': 0.4084520637989044, 'February': 0.12450174242258072, 'ADN': 0.03954422101378441, 'inventory': 0.010125963017344475, 'House': 0.008806999772787094, 'Tritium': 0.0007041753269731998, 'Eisenhower': 0.00016344315372407436}, {'protest': 0.9763725399971008, 'front': 0.2655975818634033, 'PEGIDA': 0.04313553124666214, 'UN': 0.04124872013926506, 'Berlin': 0.005962597671896219}, {'error': 'Empty depicts or tags'}, {'ADN': 0.15191814303398132, 'inventory': 0.12971119582653046, 'Round': 0.11821205168962479, 'Lausanne': 0.002058078069239855}, {'commons': 0.8823320269584656, 'this': 0.3898819088935852}, {'Wisbech': 0.6515794992446899, 'this': 0.09356258809566498, 'Church': 0.06171204522252083, 'inventory': 0.023359455168247223, 'commons': 0.017678020521998405, 'ADN': 0.005154683720320463}, {'this': 0.2277529537677765, 'commons': 0.12562768161296844}, {'Alston': 0.9978387355804443, 'this': 0.9718141555786133, 'commons': 0.728095293045044, 'ADN': 0.2817137539386749, 'inventory': 0.0038480903021991253}, {'BMX': 0.7975443601608276, 'fun': 0.6343315839767456, 'abbreviation': 0.45675423741340637, 'recreation': 0.11955630779266357, 'competition': 0.007490401156246662, 'photographer': 0.000891790259629488, 'road': 0.0003306177968624979}, {'España': 0.14337648451328278, 'Recreación': 0.008018654771149158}, {'error': 'Empty depicts or tags'}, {'this': 0.4348699450492859, 'commons': 0.07767346501350403}, {'grave': 0.9978737235069275, 'ADN': 0.018134979531168938, 'inventory': 0.0011597394477576017}, {'error': 'Empty depicts or tags'}, {'kamp': 0.7488393187522888, 'nl': 0.502515971660614}, {'image': 0.5231373906135559, 'this': 0.037394069135189056}, {'Sun': 0.9965987801551819, 'prominence': 0.9667035341262817, 'place': 0.40197065472602844, 'area': 0.11106675118207932, 'II': 0.011880967766046524, 'plasma': 0.0026509538292884827, 'filament': 0.0013187609147280455}, {'ID': 0.7990025281906128, 'monument': 0.7211123704910278, 'this': 0.6405304670333862, 'photo': 0.16625456511974335, 'Iran': 0.0008425098494626582}, {'Huntington': 0.9827364087104797, 'this': 0.6396226286888123, 'commons': 0.14358778297901154, 'Rake': 0.0023661358281970024}, {'Külosküppel': 0.9979872107505798, 'inventory': 0.0216277614235878, 'ADN': 0.004320693202316761}, {'ID': 0.7011059522628784, 'Bavaria': 0.5297367572784424, 'this': 0.4660050570964813, 'picture': 0.4455787241458893, 'Baudenkmal': 0.005317486822605133}, {'this': 0.45057860016822815, 'g': 0.20152299106121063, 'commons': 0.15571799874305725}, {'one': 0.997073769569397, 'it': 0.9926934242248535, 'work': 0.8255219459533691, 'gunpowder': 0.7301281690597534, 'reign': 0.010601858608424664, 'Prague': 0.00044700002763420343}, {'Ramsgate': 0.9651178121566772, 'this': 0.44245120882987976, 'commons': 0.03299558907747269, 'ADN': 0.019139796495437622, 'inventory': 0.010412945412099361}, {'VAB': 0.9838495254516602, 'modification': 0.7247340679168701, 'member': 0.16787229478359222, 'premier': 0.04939946159720421, 'Development': 0.03901820257306099, 'mission': 0.013062977232038975, 'director': 0.009039648808538914, 'background': 0.002536496613174677, 'NASA': 0.0019832984544336796, 'Orion': 0.0016277986578643322, 'processing': 0.0007898143958300352, 'Earth': 0.000574814504943788, 'balcony': 0.00045287239481694996}, {'this': 0.6031358242034912, 'commons': 0.2324211150407791, 'Gairlochy': 0.001507168053649366}, {'air': 0.41329845786094666, 'this': 0.12129660695791245, 'commons': 0.04327574372291565, 'ADN': 0.006564598996192217, 'inventory': 0.001505815307609737}, {'this': 0.9636658430099487, 'photo': 0.5289918184280396, 'Estonia': 0.08800320327281952}, {'part': 0.9903415441513062, 'House': 0.8483743667602539, 'Tourtellotte': 0.0020665014162659645, 'Idaho': 0.001104750670492649, 'Boise': 0.0010174957569688559}, {'house': 0.9967780709266663, 'this': 0.44088298082351685, 'commons': 0.14816276729106903}, {'this': 0.35634151101112366, 'commons': 0.12123525142669678, 'MG': 0.013373538851737976}, {'this': 0.2284809648990631, 'commons': 0.08176258206367493, 'Manish': 0.01152859814465046}, {'Rathaus': 0.9971916675567627, 'Marktrodach': 0.0017417686758562922}, {'error': 'Empty depicts or tags'}, {'error': 'Empty depicts or tags'}, {'site': 0.8767735958099365, 'this': 0.07089012861251831, 'commons': 0.006653297692537308, 'Abbey': 0.002091366099193692}, {'wood': 0.9844259023666382, 'this': 0.7071643471717834, 'commons': 0.34525978565216064}, {'today': 0.31742772459983826, 'pupil': 0.03415698930621147, 'rappelling': 0.010618597269058228}, {'error': 'Empty depicts or tags'}, {'this': 0.8136454820632935, 'commons': 0.2677904963493347, 'ADN': 0.04722857102751732, 'inventory': 0.008967705070972443}, {'1930s': 0.8038318753242493, 'photograph': 0.3991384506225586}, {'Special': 0.9488434791564941, 'it': 0.8810408711433411, 'photographer': 0.400456041097641, 'photo': 0.3837864398956299, 'user': 0.33914846181869507, 'vrts': 0.3321966826915741, 'permission': 0.3197246789932251, 'ADN': 0.029595451429486275, 'inventory': 0.026053650304675102}, {'Earth': 0.6992831230163574, 'view': 0.3381301462650299}, {'Hatfield': 0.9472635388374329, 'this': 0.639462947845459, 'commons': 0.16012170910835266, 'ADN': 0.01014790777117014, 'inventory': 0.0011959807015955448}, {'two': 0.6833055019378662}, {'this': 0.07006938010454178, 'commons': 0.016143202781677246}, {'Dargilan': 0.9034466743469238, 'concretion': 0.044628459960222244}, {'this': 0.5946954488754272, 'commons': 0.19399553537368774}, {'Cratomorphus': 0.9947888851165771}, {'Patagonia': 0.9979843497276306, 'impression': 0.004432936664670706}, {'India': 0.8330456614494324, 'this': 0.7905440330505371, 'ASI': 0.42647117376327515, 'number': 0.3370071053504944, 'photo': 0.12624114751815796, 'ADN': 0.08531796932220459, 'inventory': 0.001437380793504417}, {'Friwen': 0.15259471535682678, 'guest': 0.060784950852394104, 'Village': 0.0004024621448479593}, {'inventory': 0.47240445017814636, 'ADN': 0.2578955590724945}, {'2nd': 0.4724051356315613, 'league': 0.16959381103515625, 'Austria': 0.0006482281605713069}, {'parish': 0.9432034492492676, 'Hoheneich': 0.9168478846549988, 'Austria': 0.6883285045623779, 'crescent': 0.013532779179513454, 'Madonna': 0.000876227451954037}, {'this': 0.7280346155166626, 'commons': 0.27375808358192444, 'ADN': 0.04099734127521515, 'inventory': 0.014709408394992352, 'armada': 0.005978346802294254}, {'Ukraine': 0.6390186548233032, 'this': 0.06185942143201828, 'photo': 0.02413768135011196}, {'erbaut': 0.4264254570007324, 'eingetragen': 0.035085901618003845, 'Müncheberg': 0.0018236644100397825}, {'Czech': 0.9836322069168091, 'number': 0.3370532691478729, 'this': 0.11765972524881363, 'photo': 0.036829717457294464}, {'number': 0.884018063545227, 'this': 0.7322825193405151, 'image': 0.5615615248680115}, {'två': 0.12861742079257965, 'med': 0.09728161245584488, 'Sveagruvan': 0.004013548605144024}, {'Ringmer': 0.8542085289955139, 'this': 0.15577222406864166, 'commons': 0.011351530440151691}, {'3rd': 0.24255722761154175, 'Rodez': 0.0011117230169475079, 'PSG': 0.0009117148583754897}, {'error': 'Empty depicts or tags'}, {'Končiny': 0.9954417943954468, 'house': 0.02058246359229088, 'inventory': 0.018477238714694977, 'ADN': 0.0036165579222142696, 'Zábrodí': 0.0022949629928916693}, {'Hausen': 0.04902739077806473, 'ADN': 0.009606918320059776, 'inventory': 0.0031878408044576645, 'Nordflügel': 0.002138531534001231}, {'Uruguay': 0.05625119060277939, 'inventory': 0.04013998806476593, 'III': 0.03611205518245697, 'ADN': 0.019892999902367592, 'Mitsubishi': 0.0013046590611338615}, {'Education': 0.8737526535987854}, {'honour': 0.8787626624107361, '17th': 0.13844464719295502, 'November': 0.11885080486536026, 'guard': 0.03178456053137779, 'Maldives': 0.0004976417403668165}, {'this': 0.36198145151138306, 'commons': 0.04403485357761383}, {'SYNTYPE': 0.31978940963745117, 'Mya': 0.22573000192642212}, {'Property': 0.7127311825752258, 'photo': 0.5202138423919678, 'inventory': 0.17428936064243317, 'P3170': 0.174007385969162, 'monument': 0.12826023995876312, 'ADN': 0.12320777028799057, 'this': 0.037394069135189056, 'Armenia': 0.008192134089767933}, {'Aeronauticum': 0.12502215802669525, 'photograph': 0.011980465613305569, 'Nordholz': 0.011965839192271233, 'Cuxhaven': 0.0032571563497185707, 'Germany': 0.0031116949394345284, 'district': 0.001691914163529873}, {'р': 0.16051022708415985, 'тысячелистнике': 0.11781123280525208, 'н': 0.08669625222682953, 'днём': 0.06520099937915802, 'Пестово': 0.0432700589299202, 'Одинцовский': 0.04258081316947937, 'Exemplar': 0.009116102941334248, 'Russia': 0.006550294812768698, 'Pestovo': 0.0016787588829174638}, {'victim': 0.01691528595983982, 'Holocaust': 0.00013724037853535265}, {'inventory': 0.16043104231357574, 'ADN': 0.1126660630106926}, {'February': 0.04790870472788811, 'ADN': 0.009325133636593819, 'Paris': 0.005418332293629646, 'inventory': 0.0005306869279593229}, {'this': 0.5495490431785583, 'commons': 0.17423997819423676}, {'this': 0.29087474942207336, 'commons': 0.012941248714923859}, {'Stagnov': 0.9975849390029907, 'Czech': 0.9534735679626465, 'Pozůstatky': 0.014610923826694489}, {'error': 'Empty depicts or tags'}, {'this': 0.8735426664352417, 'commons': 0.6071466207504272, 'ADN': 0.0707826167345047, 'inventory': 0.001662759343162179}, {'part': 0.9899472594261169, 'which': 0.9122632145881653, 'it': 0.8906657695770264, 'photo': 0.47319141030311584, 'this': 0.33650344610214233, 'monument': 0.12039249390363693, 'ADN': 0.09721962362527847, 'Monuments': 0.02329893223941326, 'wiki': 0.014219083823263645, 'Progetto': 0.0104947155341506, 'inventory': 0.005508410278707743, 'Italy': 0.00476483441889286, 'contest': 0.0023296026047319174}, {'Snowdon': 0.9980618953704834, 'England': 0.05290843918919563, 'book': 0.014873835258185863, 'Letters': 0.0013829567469656467}, {'Belgium': 0.467746376991272}, {'stuff': 0.456876665353775, 'this': 0.06030545011162758, 'commons': 0.020910266786813736, 'Saturday': 0.016445500776171684, 'you': 0.003967924974858761}, {'commons': 0.9827725291252136, 'this': 0.7507064938545227, 'Heather': 0.0005725362570956349}, {'neuentstandenen': 0.8869848847389221, 'inventory': 0.5262323617935181, 'wurde': 0.4867548644542694, 'Kirmes': 0.43268999457359314, 'Museumslok': 0.268779456615448, 'ADN': 0.2110929936170578, 'Bahnhof': 0.13705363869667053, 'Weihnachtsmärkte': 0.10989993065595627, 'Chemnitz': 0.04621842876076698}, {'this': 0.12357994168996811, 'commons': 0.038613587617874146}, {'Lotus': 0.9924477934837341, '60th': 0.037231992930173874, 'Celebration': 0.03619780391454697}, {'Kennedy': 0.9935416579246521, 'MA': 0.24161401391029358, 'Weekend': 0.006074389908462763, 'Hyannisport': 0.000497451052069664}, {'this': 0.04627632349729538, 'commons': 0.0037280574906617403}, {'Buchmesse': 0.0017893080366775393}, {'image': 0.5231373906135559, 'this': 0.037394069135189056}, {'number': 0.9156688451766968, 'this': 0.8499050736427307, 'photo': 0.22194209694862366}, {'Holten': 0.9123213887214661}, {'this': 0.9564986228942871, 'commons': 0.7115018367767334, 'view': 0.43800705671310425, 'inventory': 0.11133433133363724, 'ADN': 0.03150428086519241}, {'this': 0.32013800740242004, 'commons': 0.07762181013822556, 'footpath': 0.0002380565565545112}, {'photo': 0.5202138423919678, 'monument': 0.12826023995876312, 'ID': 0.1255989670753479, 'this': 0.037394069135189056, 'Iran': 0.002446394646540284}, {'this': 0.31011486053466797, 'commons': 0.0104109151288867}, {'Igreja': 0.9847812056541443, 'Nosso': 0.8130231499671936, 'Brazil': 0.18367566168308258, 'Bahia': 0.004538658540695906}, {'fot': 0.06797310709953308, 'Warszawa': 0.001686769537627697}, {'snow': 0.9981650114059448, 'Tram': 0.9669585227966309, 'Nottingham': 0.8812522888183594, 'UK': 0.7947409749031067, 'this': 0.5722017288208008, 'commons': 0.16155380010604858}, {'japanese': 0.9923346042633057, 'Kyokashotai': 0.023336946964263916}, {'action': 0.9896396994590759, 'one': 0.4403851628303528, 'site': 0.22145913541316986, 'acer': 0.1975030153989792, 'two': 0.05797503888607025, 'ADN': 0.011302978731691837, 'inventory': 0.0056185368448495865}, {'this': 0.3762553334236145, 'commons': 0.20465882122516632, 'Mynydd': 0.00939114484935999, 'inventory': 0.008302183821797371, 'ADN': 0.003772928612306714, 'Marchywel': 0.0015654779272153974}, {'publica': 0.8559109568595886}, {'Army': 0.9898822903633118, 'Spc': 0.5288553833961487, 'USAREUR': 0.19319498538970947, 'April': 0.09279946237802505, 'place': 0.03858726844191551, 'interoperability': 0.017046643421053886, 'ADN': 0.01483052596449852, 'JMRC': 0.005189267452806234, 'Readiness': 0.0027979945298284292, 'exercise': 0.0006998713943175972, 'inventory': 0.0003592996799852699, 'security': 0.0003502307226881385, 'Hohenfels': 0.00030323912505991757, 'NATO': 0.00013480223424267024, 'Europe': 8.45760660013184e-05, 'european': 6.22343723080121e-05, 'Germany': 4.3111853301525116e-05}, {'Холст': 0.05259894207119942, 'Музей': 0.02966490015387535, 'Осло': 0.028804518282413483, 'Мунка': 0.017447249963879585, 'Strandmotiv': 0.010209305211901665}, {'Provinces': 0.9869208335876465, 'Vercelli': 0.9430108070373535, 'Italgeo': 0.03359832242131233, 'ADN': 0.0253615565598011, 'inventory': 0.01791989803314209, 'Cuneo': 0.002419788623228669, 'Aosta': 0.0017973369685932994, 'Novara': 0.001668846933171153, 'Alexandria': 0.00039010532782413065, 'Milan': 0.0002934041549451649}, {'this': 0.08762841671705246, 'commons': 0.008914636448025703}, {'presentation': 0.6535114049911499, 'file': 0.26032233238220215, 'ADN': 0.2273864597082138, 'inventory': 0.07672980427742004, 'Szekszárd': 0.003760636318475008}, {'this': 0.7351608276367188, 'commons': 0.6403641104698181}, {'this': 0.29872941970825195, 'P3170': 0.0707109346985817, 'photo': 0.056685008108615875, 'monument': 0.024361005052924156, 'Property': 0.003120150649920106, 'Armenia': 0.0021607456728816032}, {'ADN': 0.02922758460044861, 'Igreja': 0.005490792449563742, 'inventory': 0.0031629912555217743}, {'this': 0.524904727935791, 'commons': 0.1275257170200348}, {'Rainow': 0.8669064044952393, 'this': 0.16709718108177185, 'commons': 0.027185900136828423}, {'westward': 0.7999102473258972, 'this': 0.6881683468818665, 'commons': 0.2957499921321869}, {'ID': 0.3331053853034973, 'Saxony': 0.29817306995391846, 'ADN': 0.024450484663248062, 'inventory': 0.01051647774875164}, {'south': 0.5625156164169312, 'Tay': 0.06242396682500839, 'Scotscraig': 0.05950385332107544, 'Firth': 0.025503508746623993, 'Tayport': 0.010342782363295555}, {'August': 0.10085299611091614, 'K193': 0.07575323432683945, 'Chengdu': 0.03909514099359512, 'Guangzhou': 0.028254404664039612}, {'Australia': 0.887437641620636, 'Sydney': 0.41865575313568115}, {'error': 'Empty depicts or tags'}, {'sec': 0.31867799162864685, 'Ansamblul': 0.027376318350434303}, {'this': 0.4648420810699463, 'commons': 0.0835198163986206}, {'politician': 0.9897882342338562, 'slovene': 0.01817750558257103, 'Vrhnika': 0.0034679656382650137}, {'ano': 0.8652649521827698, 'influencer': 0.6828768849372864, 'para': 0.3079662621021271, 'ADN': 0.1184009537100792, 'Jogo': 0.06545190513134003, 'sociedade': 0.06296044588088989, 'autoridade': 0.04528116062283516, 'Natal': 0.026955319568514824, 'Assembleia': 0.0233386792242527, 'horário': 0.011348990723490715, 'Jogar': 0.0070959837175905704, 'vereadores': 0.006257270462810993, 'inventory': 0.0005575616960413754}, {'ADN': 0.007294910494238138, 'inventory': 0.002190656727179885}, {'this': 0.42695480585098267, 'commons': 0.05803303048014641}, {'Ukraine': 0.9696801900863647, 'photo': 0.9311323761940002, 'this': 0.6762218475341797}, {'weekly': 0.04525396227836609}, {'error': 'Empty depicts or tags'}, {'error': 'Empty depicts or tags'}, {'Farmland': 0.8019417524337769, 'this': 0.39635810256004333, 'commons': 0.18572299182415009}, {'President': 0.9900819659233093, 'Business': 0.31717637181282043, 'Director': 0.10854806005954742, 'Department': 0.03144216164946556, 'NCNW': 0.023238232359290123, 'NCCW': 0.022779639810323715, 'GFWC': 0.017916889861226082, 'NFBPWC': 0.006414452102035284, 'Labor': 0.0012265994446352124, 'Legislation': 0.0012188834371045232, 'Washington': 0.001217110431753099, 'UAW': 0.0011635577538982034, 'Clubs': 0.0009396402165293694, 'Missouri': 0.0007116071064956486, 'Michigan': 0.0004129968292545527, 'Oregon': 0.000315333076287061}, {'fence': 0.9710286259651184, 'this': 0.43740957975387573, 'commons': 0.11258474737405777, 'Nidd': 0.0037291620392352343}, {'Apollo': 0.995298445224762, 'ADN': 0.020631341263651848, 'inventory': 0.005977553315460682, 'Hasselblad': 0.0041166977025568485, 'Mendeleev': 0.002373517258092761, 'Benedict': 0.00046589699923060834}, {'this': 0.2307029366493225, 'commons': 0.07248450815677643}, {'manhole': 0.9807603359222412, 'this': 0.4070289433002472, 'commons': 0.12330508232116699, 'pavement': 0.0006842631264589727}, {'Naturdenkmal': 0.2354603260755539, 'Sachsen': 0.03969019278883934, 'Blutbuche': 0.0035099168308079243}, {'moderation': 0.8867788314819336, 'I': 0.2430325597524643, 'inventory': 0.06633070111274719, 'ADN': 0.04419777914881706, 'Veranstaltung': 0.041779015213251114, 'Schauspielerin': 0.013897321186959743, 'Sängerin': 0.005326893180608749, 'Vors': 0.004228706005960703, 'Stellv': 0.0018736565252766013, 'Deutschland': 0.000980048207566142}, {'sign': 0.6760314702987671, 'I': 0.5655537843704224, 'picture': 0.45902806520462036, 'Rouelles': 0.32499659061431885, 'entrance': 0.28371337056159973, 'August': 0.2328294813632965}, {'旗山醫院行政大樓': 0.013342935591936111}, {'this': 0.16729222238063812, 'West': 0.04777096211910248, 'commons': 0.02358284220099449}, {'this': 0.8664920330047607, 'Cree': 0.5556565523147583, 'commons': 0.47320228815078735}, {'this': 0.12092617899179459, 'commons': 0.016137544065713882, 'Bonchurch': 0.006063669454306364, 'Hatchment': 0.0039796712808310986, 'ADN': 0.0035798060707747936, 'inventory': 0.0029766978695988655}, {'this': 0.8632734417915344, 'commons': 0.40661799907684326}, {'error': 'Empty depicts or tags'}, {'Riddarholmen': 0.9901012182235718}, {'this': 0.2096409946680069, 'commons': 0.026898210868239403}, {'training': 0.3359775245189667, 'Liberec': 0.0032457374036312103}, {'this': 0.3357880711555481, 'commons': 0.21039757132530212}, {'this': 0.7309480905532837, 'commons': 0.32082468271255493}, {'this': 0.7570732235908508, 'commons': 0.2834585905075073}, {'combat': 0.9990252256393433, 'Beaufighter': 0.9974011182785034, 'it': 0.9820254445075989, 'commander': 0.8974733352661133, 'who': 0.8886764645576477, 'german': 0.13447238504886627, 'October': 0.07501594722270966, 'September': 0.04554276913404465, 'T5049': 0.013022171333432198, 'Nhill': 0.009250509552657604, 'Pacific': 0.008839174173772335, 'Australia': 0.002840999513864517, 'Ohio': 0.0008452677866443992, 'dump': 0.0006723276455886662, 'Dayton': 0.0006571683916263282}, {'Corpach': 0.9854668378829956, 'this': 0.6393836736679077, 'commons': 0.0972752496600151}, {'it': 0.9857608079910278, 'view': 0.9133515357971191, 'image': 0.7295599579811096, 'order': 0.3575272560119629, 'AIA': 0.05492856726050377, 'wavelength': 0.01485898531973362, 'flare': 0.009222570806741714}, {'description': 0.5393950343132019, 'lol': 0.15279006958007812, 'Jpg': 0.0033923625014722347, '500px': 0.0030893711373209953, 'Paris': 0.001945938216522336}, {'Strasbourg': 0.0016546488041058183}, {'this': 0.638502836227417, 'commons': 0.06416317075490952}, {'inventory': 0.13439783453941345, 'ADN': 0.043901171535253525, 'Idstein': 0.00469248928129673}, {'this': 0.7839885950088501, 'commons': 0.0328136682510376}, {'Sheffield': 0.991945207118988, 'this': 0.6752963662147522, 'commons': 0.10661806911230087}]\n"
          ]
        }
      ]
    },
    {
      "cell_type": "code",
      "source": [
        "test_df.iloc[0,]"
      ],
      "metadata": {
        "colab": {
          "base_uri": "https://localhost:8080/"
        },
        "id": "sJyUo119UWHF",
        "outputId": "0a666fb0-8a64-43da-9671-fa61c9d927c0"
      },
      "execution_count": 55,
      "outputs": [
        {
          "output_type": "execute_result",
          "data": {
            "text/plain": [
              "depicts           ['Jana Lisa Rother', 'Frithjof Seidel']\n",
              "extracted_tags                        [3m, I, Abgebildet]\n",
              "Name: 552, dtype: object"
            ]
          },
          "metadata": {},
          "execution_count": 55
        }
      ]
    },
    {
      "cell_type": "code",
      "source": [
        "'charing_cross_station_-'[0].isalnum()"
      ],
      "metadata": {
        "colab": {
          "base_uri": "https://localhost:8080/"
        },
        "id": "h8FKn9QOUWXu",
        "outputId": "2ff7d49d-de84-4d84-a6b8-ae12f6f2546d"
      },
      "execution_count": 35,
      "outputs": [
        {
          "output_type": "execute_result",
          "data": {
            "text/plain": [
              "True"
            ]
          },
          "metadata": {},
          "execution_count": 35
        }
      ]
    },
    {
      "cell_type": "code",
      "source": [
        "train_results[1]"
      ],
      "metadata": {
        "colab": {
          "base_uri": "https://localhost:8080/"
        },
        "id": "pVnaMKjcVzgs",
        "outputId": "da9e594c-b0a4-4b8a-cf46-92929d7f6183"
      },
      "execution_count": 62,
      "outputs": [
        {
          "output_type": "execute_result",
          "data": {
            "text/plain": [
              "{'ADN': 0.020425252616405487,\n",
              " 'Ostrokrzew': 0.010315170511603355,\n",
              " 'inventory': 0.005940333474427462}"
            ]
          },
          "metadata": {},
          "execution_count": 62
        }
      ]
    },
    {
      "cell_type": "code",
      "source": [
        "train_results"
      ],
      "metadata": {
        "id": "mYbs9btqW7RC"
      },
      "execution_count": null,
      "outputs": []
    },
    {
      "cell_type": "code",
      "source": [
        "######"
      ],
      "metadata": {
        "id": "eTcd2kb8W-qL"
      },
      "execution_count": 64,
      "outputs": []
    },
    {
      "cell_type": "code",
      "source": [
        "#####\n"
      ],
      "metadata": {
        "id": "K7Ahg2ypX04h"
      },
      "execution_count": 65,
      "outputs": []
    },
    {
      "cell_type": "code",
      "source": [
        "from transformers import BertTokenizer\n",
        "\n",
        "tokenizer = BertTokenizer.from_pretrained('bert-base-uncased')\n",
        "\n",
        "def encode_tag_as_depicts(tag):\n",
        "    # Treat the tag as both 'depicts' and 'tag'\n",
        "    texts = tag + \" [SEP] \" + tag  # You might choose to handle this concatenation differently based on model training\n",
        "    encoded_dict = tokenizer(texts, max_length=128, padding='max_length', truncation=True, return_tensors='tf')\n",
        "    return encoded_dict['input_ids'], encoded_dict['attention_mask']"
      ],
      "metadata": {
        "colab": {
          "base_uri": "https://localhost:8080/",
          "height": 145,
          "referenced_widgets": [
            "1ca7204bb48b47ffaf955dab9a9988b1",
            "655ae76cd1e24731bd3ede1269d26456",
            "017ca8b3c3d4408d945d52bfbf8cb716",
            "5c2509d8c86d4dedb6284f35e13c21f1",
            "e18fc534e42e429bb831b0cb06e836d1",
            "3e17367a81e948b9b30bc0acecb89a06",
            "d16efabb7f754360bcc45d2d474372c7",
            "7279a9b0fab9405da4bbf648496f17a6",
            "70a05c7c1fb445679c438afc78f50b7d",
            "0b941c7243a94770a4db92b235583954",
            "e610195b8aa347158c3edb2f81505865",
            "b22fb58da8d84c0295c28600b7afa3e7",
            "c86a483a5ff74fbaa37a7727f244c354",
            "fdbb32c517c047eeb97554e57610f361",
            "bcaad4cf387e4449a8551c08d083e1a5",
            "0195c09fa02d41669583e68ab23225bc",
            "0d8d8dbea8624571b9245c77154e1e15",
            "4adc2f68031640c6985da0b90da92e6e",
            "003b4343beaf41b89ad3f6f7199d8f96",
            "2f23ec727aa84913b2e4ee1270390f1a",
            "99e924cb658448e88bed661ecb390058",
            "125aef4091b04af985e6057ef2d5d791",
            "69ea308280084ec5b5b4a6cbc285d817",
            "8c7130fe56824cdbaa1d3257ca80ac8e",
            "372e96ac931a4fe3859a95a898533d68",
            "5ff9f09e95df4669a6de64b72b7c2d3e",
            "cd396928ad724fc787d04240870bc2da",
            "272bce251a734b369da7e51d2f759215",
            "e600e4e4a162479b8ea811765aefd0b7",
            "260034c92a0b434ba56729cbec341881",
            "b91ad4b4037544ebbdae5d338e383bc5",
            "5165352c120c45138322ec1d22c41079",
            "3819371b2c6444d7a2564a6bca73eed7",
            "14e21407973c471d8cc66dfd0b9fdfab",
            "3c0d30cfa6f54e988a405d2a44838c34",
            "b21137d5529845a48b9a70a97bdcdda3",
            "a414608909024314927f95acd96e3652",
            "40d2276a517c4aab952c4690f896f0ab",
            "fa8640385a71434f9442e95a8c62891e",
            "f871f33443a44de2ba34258473d5c674",
            "b5553750e9e9481ca87c42385afdd464",
            "9b6de8479275429e87244925079844c1",
            "fe2a27787d5b4f2a8021ad2764076d4d",
            "ed38d0d1d69e43319f6c10c034633d4c"
          ]
        },
        "id": "gMIRMj0vX1mK",
        "outputId": "2f6813e1-ceb7-4aab-af0f-a471c120ca3d"
      },
      "execution_count": 66,
      "outputs": [
        {
          "output_type": "display_data",
          "data": {
            "text/plain": [
              "tokenizer_config.json:   0%|          | 0.00/48.0 [00:00<?, ?B/s]"
            ],
            "application/vnd.jupyter.widget-view+json": {
              "version_major": 2,
              "version_minor": 0,
              "model_id": "1ca7204bb48b47ffaf955dab9a9988b1"
            }
          },
          "metadata": {}
        },
        {
          "output_type": "display_data",
          "data": {
            "text/plain": [
              "vocab.txt:   0%|          | 0.00/232k [00:00<?, ?B/s]"
            ],
            "application/vnd.jupyter.widget-view+json": {
              "version_major": 2,
              "version_minor": 0,
              "model_id": "b22fb58da8d84c0295c28600b7afa3e7"
            }
          },
          "metadata": {}
        },
        {
          "output_type": "display_data",
          "data": {
            "text/plain": [
              "tokenizer.json:   0%|          | 0.00/466k [00:00<?, ?B/s]"
            ],
            "application/vnd.jupyter.widget-view+json": {
              "version_major": 2,
              "version_minor": 0,
              "model_id": "69ea308280084ec5b5b4a6cbc285d817"
            }
          },
          "metadata": {}
        },
        {
          "output_type": "display_data",
          "data": {
            "text/plain": [
              "config.json:   0%|          | 0.00/570 [00:00<?, ?B/s]"
            ],
            "application/vnd.jupyter.widget-view+json": {
              "version_major": 2,
              "version_minor": 0,
              "model_id": "14e21407973c471d8cc66dfd0b9fdfab"
            }
          },
          "metadata": {}
        }
      ]
    },
    {
      "cell_type": "code",
      "source": [
        "def predict_tag_relevance_single(model, tag):\n",
        "    input_ids, attention_mask = encode_tag_as_depicts(tag)\n",
        "    prediction = model.predict([input_ids, attention_mask])\n",
        "    return prediction[0][0]"
      ],
      "metadata": {
        "id": "XuVdTh_aX5pe"
      },
      "execution_count": 67,
      "outputs": []
    },
    {
      "cell_type": "code",
      "source": [
        "tags = ['Buenos Aires', '10 October', 'Yin Dehang', '2018 Summer Youth Olymnpics']\n",
        "predictions = {tag: predict_tag_relevance_single(classifier, tag) for tag in tags}\n",
        "\n",
        "for tag, prob in predictions.items():\n",
        "    print(f\"The probability that '{tag}' is a relevant tag on its own is {prob:.2f}\")"
      ],
      "metadata": {
        "colab": {
          "base_uri": "https://localhost:8080/",
          "height": 365
        },
        "id": "sFZJamuOX7rK",
        "outputId": "b6682f0e-da51-47b3-f7ff-f616567f0e6d"
      },
      "execution_count": 70,
      "outputs": [
        {
          "output_type": "error",
          "ename": "TypeError",
          "evalue": "object of type 'NoneType' has no len()",
          "traceback": [
            "\u001b[0;31m---------------------------------------------------------------------------\u001b[0m",
            "\u001b[0;31mTypeError\u001b[0m                                 Traceback (most recent call last)",
            "\u001b[0;32m<ipython-input-70-d992994598b8>\u001b[0m in \u001b[0;36m<cell line: 2>\u001b[0;34m()\u001b[0m\n\u001b[1;32m      1\u001b[0m \u001b[0mtags\u001b[0m \u001b[0;34m=\u001b[0m \u001b[0;34m[\u001b[0m\u001b[0;34m'Buenos Aires'\u001b[0m\u001b[0;34m,\u001b[0m \u001b[0;34m'10 October'\u001b[0m\u001b[0;34m,\u001b[0m \u001b[0;34m'Yin Dehang'\u001b[0m\u001b[0;34m,\u001b[0m \u001b[0;34m'2018 Summer Youth Olymnpics'\u001b[0m\u001b[0;34m]\u001b[0m\u001b[0;34m\u001b[0m\u001b[0;34m\u001b[0m\u001b[0m\n\u001b[0;32m----> 2\u001b[0;31m \u001b[0mpredictions\u001b[0m \u001b[0;34m=\u001b[0m \u001b[0;34m{\u001b[0m\u001b[0mtag\u001b[0m\u001b[0;34m:\u001b[0m \u001b[0mpredict_tag_relevance_single\u001b[0m\u001b[0;34m(\u001b[0m\u001b[0mclassifier\u001b[0m\u001b[0;34m,\u001b[0m \u001b[0mtag\u001b[0m\u001b[0;34m)\u001b[0m \u001b[0;32mfor\u001b[0m \u001b[0mtag\u001b[0m \u001b[0;32min\u001b[0m \u001b[0mtags\u001b[0m\u001b[0;34m}\u001b[0m\u001b[0;34m\u001b[0m\u001b[0;34m\u001b[0m\u001b[0m\n\u001b[0m\u001b[1;32m      3\u001b[0m \u001b[0;34m\u001b[0m\u001b[0m\n\u001b[1;32m      4\u001b[0m \u001b[0;32mfor\u001b[0m \u001b[0mtag\u001b[0m\u001b[0;34m,\u001b[0m \u001b[0mprob\u001b[0m \u001b[0;32min\u001b[0m \u001b[0mpredictions\u001b[0m\u001b[0;34m.\u001b[0m\u001b[0mitems\u001b[0m\u001b[0;34m(\u001b[0m\u001b[0;34m)\u001b[0m\u001b[0;34m:\u001b[0m\u001b[0;34m\u001b[0m\u001b[0;34m\u001b[0m\u001b[0m\n\u001b[1;32m      5\u001b[0m     \u001b[0mprint\u001b[0m\u001b[0;34m(\u001b[0m\u001b[0;34mf\"The probability that '{tag}' is a relevant tag on its own is {prob:.2f}\"\u001b[0m\u001b[0;34m)\u001b[0m\u001b[0;34m\u001b[0m\u001b[0;34m\u001b[0m\u001b[0m\n",
            "\u001b[0;32m<ipython-input-70-d992994598b8>\u001b[0m in \u001b[0;36m<dictcomp>\u001b[0;34m(.0)\u001b[0m\n\u001b[1;32m      1\u001b[0m \u001b[0mtags\u001b[0m \u001b[0;34m=\u001b[0m \u001b[0;34m[\u001b[0m\u001b[0;34m'Buenos Aires'\u001b[0m\u001b[0;34m,\u001b[0m \u001b[0;34m'10 October'\u001b[0m\u001b[0;34m,\u001b[0m \u001b[0;34m'Yin Dehang'\u001b[0m\u001b[0;34m,\u001b[0m \u001b[0;34m'2018 Summer Youth Olymnpics'\u001b[0m\u001b[0;34m]\u001b[0m\u001b[0;34m\u001b[0m\u001b[0;34m\u001b[0m\u001b[0m\n\u001b[0;32m----> 2\u001b[0;31m \u001b[0mpredictions\u001b[0m \u001b[0;34m=\u001b[0m \u001b[0;34m{\u001b[0m\u001b[0mtag\u001b[0m\u001b[0;34m:\u001b[0m \u001b[0mpredict_tag_relevance_single\u001b[0m\u001b[0;34m(\u001b[0m\u001b[0mclassifier\u001b[0m\u001b[0;34m,\u001b[0m \u001b[0mtag\u001b[0m\u001b[0;34m)\u001b[0m \u001b[0;32mfor\u001b[0m \u001b[0mtag\u001b[0m \u001b[0;32min\u001b[0m \u001b[0mtags\u001b[0m\u001b[0;34m}\u001b[0m\u001b[0;34m\u001b[0m\u001b[0;34m\u001b[0m\u001b[0m\n\u001b[0m\u001b[1;32m      3\u001b[0m \u001b[0;34m\u001b[0m\u001b[0m\n\u001b[1;32m      4\u001b[0m \u001b[0;32mfor\u001b[0m \u001b[0mtag\u001b[0m\u001b[0;34m,\u001b[0m \u001b[0mprob\u001b[0m \u001b[0;32min\u001b[0m \u001b[0mpredictions\u001b[0m\u001b[0;34m.\u001b[0m\u001b[0mitems\u001b[0m\u001b[0;34m(\u001b[0m\u001b[0;34m)\u001b[0m\u001b[0;34m:\u001b[0m\u001b[0;34m\u001b[0m\u001b[0;34m\u001b[0m\u001b[0m\n\u001b[1;32m      5\u001b[0m     \u001b[0mprint\u001b[0m\u001b[0;34m(\u001b[0m\u001b[0;34mf\"The probability that '{tag}' is a relevant tag on its own is {prob:.2f}\"\u001b[0m\u001b[0;34m)\u001b[0m\u001b[0;34m\u001b[0m\u001b[0;34m\u001b[0m\u001b[0m\n",
            "\u001b[0;32m<ipython-input-67-ef676bfed425>\u001b[0m in \u001b[0;36mpredict_tag_relevance_single\u001b[0;34m(model, tag)\u001b[0m\n\u001b[1;32m      1\u001b[0m \u001b[0;32mdef\u001b[0m \u001b[0mpredict_tag_relevance_single\u001b[0m\u001b[0;34m(\u001b[0m\u001b[0mmodel\u001b[0m\u001b[0;34m,\u001b[0m \u001b[0mtag\u001b[0m\u001b[0;34m)\u001b[0m\u001b[0;34m:\u001b[0m\u001b[0;34m\u001b[0m\u001b[0;34m\u001b[0m\u001b[0m\n\u001b[1;32m      2\u001b[0m     \u001b[0minput_ids\u001b[0m\u001b[0;34m,\u001b[0m \u001b[0mattention_mask\u001b[0m \u001b[0;34m=\u001b[0m \u001b[0mencode_tag_as_depicts\u001b[0m\u001b[0;34m(\u001b[0m\u001b[0mtag\u001b[0m\u001b[0;34m)\u001b[0m\u001b[0;34m\u001b[0m\u001b[0;34m\u001b[0m\u001b[0m\n\u001b[0;32m----> 3\u001b[0;31m     \u001b[0mprediction\u001b[0m \u001b[0;34m=\u001b[0m \u001b[0mmodel\u001b[0m\u001b[0;34m.\u001b[0m\u001b[0mpredict\u001b[0m\u001b[0;34m(\u001b[0m\u001b[0;34m[\u001b[0m\u001b[0minput_ids\u001b[0m\u001b[0;34m,\u001b[0m \u001b[0mattention_mask\u001b[0m\u001b[0;34m]\u001b[0m\u001b[0;34m)\u001b[0m\u001b[0;34m\u001b[0m\u001b[0;34m\u001b[0m\u001b[0m\n\u001b[0m\u001b[1;32m      4\u001b[0m     \u001b[0;32mreturn\u001b[0m \u001b[0mprediction\u001b[0m\u001b[0;34m[\u001b[0m\u001b[0;36m0\u001b[0m\u001b[0;34m]\u001b[0m\u001b[0;34m[\u001b[0m\u001b[0;36m0\u001b[0m\u001b[0;34m]\u001b[0m\u001b[0;34m\u001b[0m\u001b[0;34m\u001b[0m\u001b[0m\n",
            "\u001b[0;32m/usr/local/lib/python3.10/dist-packages/transformers/pipelines/base.py\u001b[0m in \u001b[0;36mpredict\u001b[0;34m(self, X)\u001b[0m\n\u001b[1;32m    992\u001b[0m         \u001b[0mScikit\u001b[0m \u001b[0;34m/\u001b[0m \u001b[0mKeras\u001b[0m \u001b[0minterface\u001b[0m \u001b[0mto\u001b[0m \u001b[0mtransformers\u001b[0m\u001b[0;31m'\u001b[0m \u001b[0mpipelines\u001b[0m\u001b[0;34m.\u001b[0m \u001b[0mThis\u001b[0m \u001b[0mmethod\u001b[0m \u001b[0mwill\u001b[0m \u001b[0mforward\u001b[0m \u001b[0mto\u001b[0m \u001b[0m__call__\u001b[0m\u001b[0;34m(\u001b[0m\u001b[0;34m)\u001b[0m\u001b[0;34m.\u001b[0m\u001b[0;34m\u001b[0m\u001b[0;34m\u001b[0m\u001b[0m\n\u001b[1;32m    993\u001b[0m         \"\"\"\n\u001b[0;32m--> 994\u001b[0;31m         \u001b[0;32mreturn\u001b[0m \u001b[0mself\u001b[0m\u001b[0;34m(\u001b[0m\u001b[0mX\u001b[0m\u001b[0;34m)\u001b[0m\u001b[0;34m\u001b[0m\u001b[0;34m\u001b[0m\u001b[0m\n\u001b[0m\u001b[1;32m    995\u001b[0m \u001b[0;34m\u001b[0m\u001b[0m\n\u001b[1;32m    996\u001b[0m     \u001b[0;34m@\u001b[0m\u001b[0mproperty\u001b[0m\u001b[0;34m\u001b[0m\u001b[0;34m\u001b[0m\u001b[0m\n",
            "\u001b[0;32m/usr/local/lib/python3.10/dist-packages/transformers/pipelines/zero_shot_classification.py\u001b[0m in \u001b[0;36m__call__\u001b[0;34m(self, sequences, *args, **kwargs)\u001b[0m\n\u001b[1;32m    204\u001b[0m             \u001b[0;32mraise\u001b[0m \u001b[0mValueError\u001b[0m\u001b[0;34m(\u001b[0m\u001b[0;34mf\"Unable to understand extra arguments {args}\"\u001b[0m\u001b[0;34m)\u001b[0m\u001b[0;34m\u001b[0m\u001b[0;34m\u001b[0m\u001b[0m\n\u001b[1;32m    205\u001b[0m \u001b[0;34m\u001b[0m\u001b[0m\n\u001b[0;32m--> 206\u001b[0;31m         \u001b[0;32mreturn\u001b[0m \u001b[0msuper\u001b[0m\u001b[0;34m(\u001b[0m\u001b[0;34m)\u001b[0m\u001b[0;34m.\u001b[0m\u001b[0m__call__\u001b[0m\u001b[0;34m(\u001b[0m\u001b[0msequences\u001b[0m\u001b[0;34m,\u001b[0m \u001b[0;34m**\u001b[0m\u001b[0mkwargs\u001b[0m\u001b[0;34m)\u001b[0m\u001b[0;34m\u001b[0m\u001b[0;34m\u001b[0m\u001b[0m\n\u001b[0m\u001b[1;32m    207\u001b[0m \u001b[0;34m\u001b[0m\u001b[0m\n\u001b[1;32m    208\u001b[0m     \u001b[0;32mdef\u001b[0m \u001b[0mpreprocess\u001b[0m\u001b[0;34m(\u001b[0m\u001b[0mself\u001b[0m\u001b[0;34m,\u001b[0m \u001b[0minputs\u001b[0m\u001b[0;34m,\u001b[0m \u001b[0mcandidate_labels\u001b[0m\u001b[0;34m=\u001b[0m\u001b[0;32mNone\u001b[0m\u001b[0;34m,\u001b[0m \u001b[0mhypothesis_template\u001b[0m\u001b[0;34m=\u001b[0m\u001b[0;34m\"This example is {}.\"\u001b[0m\u001b[0;34m)\u001b[0m\u001b[0;34m:\u001b[0m\u001b[0;34m\u001b[0m\u001b[0;34m\u001b[0m\u001b[0m\n",
            "\u001b[0;32m/usr/local/lib/python3.10/dist-packages/transformers/pipelines/base.py\u001b[0m in \u001b[0;36m__call__\u001b[0;34m(self, inputs, num_workers, batch_size, *args, **kwargs)\u001b[0m\n\u001b[1;32m   1221\u001b[0m                     \u001b[0minputs\u001b[0m\u001b[0;34m,\u001b[0m \u001b[0mnum_workers\u001b[0m\u001b[0;34m,\u001b[0m \u001b[0mbatch_size\u001b[0m\u001b[0;34m,\u001b[0m \u001b[0mpreprocess_params\u001b[0m\u001b[0;34m,\u001b[0m \u001b[0mforward_params\u001b[0m\u001b[0;34m,\u001b[0m \u001b[0mpostprocess_params\u001b[0m\u001b[0;34m\u001b[0m\u001b[0;34m\u001b[0m\u001b[0m\n\u001b[1;32m   1222\u001b[0m                 )\n\u001b[0;32m-> 1223\u001b[0;31m                 \u001b[0moutputs\u001b[0m \u001b[0;34m=\u001b[0m \u001b[0mlist\u001b[0m\u001b[0;34m(\u001b[0m\u001b[0mfinal_iterator\u001b[0m\u001b[0;34m)\u001b[0m\u001b[0;34m\u001b[0m\u001b[0;34m\u001b[0m\u001b[0m\n\u001b[0m\u001b[1;32m   1224\u001b[0m                 \u001b[0;32mreturn\u001b[0m \u001b[0moutputs\u001b[0m\u001b[0;34m\u001b[0m\u001b[0;34m\u001b[0m\u001b[0m\n\u001b[1;32m   1225\u001b[0m             \u001b[0;32melse\u001b[0m\u001b[0;34m:\u001b[0m\u001b[0;34m\u001b[0m\u001b[0;34m\u001b[0m\u001b[0m\n",
            "\u001b[0;32m/usr/local/lib/python3.10/dist-packages/transformers/pipelines/pt_utils.py\u001b[0m in \u001b[0;36m__next__\u001b[0;34m(self)\u001b[0m\n\u001b[1;32m    122\u001b[0m \u001b[0;34m\u001b[0m\u001b[0m\n\u001b[1;32m    123\u001b[0m         \u001b[0;31m# We're out of items within a batch\u001b[0m\u001b[0;34m\u001b[0m\u001b[0;34m\u001b[0m\u001b[0m\n\u001b[0;32m--> 124\u001b[0;31m         \u001b[0mitem\u001b[0m \u001b[0;34m=\u001b[0m \u001b[0mnext\u001b[0m\u001b[0;34m(\u001b[0m\u001b[0mself\u001b[0m\u001b[0;34m.\u001b[0m\u001b[0miterator\u001b[0m\u001b[0;34m)\u001b[0m\u001b[0;34m\u001b[0m\u001b[0;34m\u001b[0m\u001b[0m\n\u001b[0m\u001b[1;32m    125\u001b[0m         \u001b[0mprocessed\u001b[0m \u001b[0;34m=\u001b[0m \u001b[0mself\u001b[0m\u001b[0;34m.\u001b[0m\u001b[0minfer\u001b[0m\u001b[0;34m(\u001b[0m\u001b[0mitem\u001b[0m\u001b[0;34m,\u001b[0m \u001b[0;34m**\u001b[0m\u001b[0mself\u001b[0m\u001b[0;34m.\u001b[0m\u001b[0mparams\u001b[0m\u001b[0;34m)\u001b[0m\u001b[0;34m\u001b[0m\u001b[0;34m\u001b[0m\u001b[0m\n\u001b[1;32m    126\u001b[0m         \u001b[0;31m# We now have a batch of \"inferred things\".\u001b[0m\u001b[0;34m\u001b[0m\u001b[0;34m\u001b[0m\u001b[0m\n",
            "\u001b[0;32m/usr/local/lib/python3.10/dist-packages/transformers/pipelines/pt_utils.py\u001b[0m in \u001b[0;36m__next__\u001b[0;34m(self)\u001b[0m\n\u001b[1;32m    267\u001b[0m \u001b[0;34m\u001b[0m\u001b[0m\n\u001b[1;32m    268\u001b[0m         \u001b[0;32mwhile\u001b[0m \u001b[0;32mnot\u001b[0m \u001b[0mis_last\u001b[0m\u001b[0;34m:\u001b[0m\u001b[0;34m\u001b[0m\u001b[0;34m\u001b[0m\u001b[0m\n\u001b[0;32m--> 269\u001b[0;31m             \u001b[0mprocessed\u001b[0m \u001b[0;34m=\u001b[0m \u001b[0mself\u001b[0m\u001b[0;34m.\u001b[0m\u001b[0minfer\u001b[0m\u001b[0;34m(\u001b[0m\u001b[0mnext\u001b[0m\u001b[0;34m(\u001b[0m\u001b[0mself\u001b[0m\u001b[0;34m.\u001b[0m\u001b[0miterator\u001b[0m\u001b[0;34m)\u001b[0m\u001b[0;34m,\u001b[0m \u001b[0;34m**\u001b[0m\u001b[0mself\u001b[0m\u001b[0;34m.\u001b[0m\u001b[0mparams\u001b[0m\u001b[0;34m)\u001b[0m\u001b[0;34m\u001b[0m\u001b[0;34m\u001b[0m\u001b[0m\n\u001b[0m\u001b[1;32m    270\u001b[0m             \u001b[0;32mif\u001b[0m \u001b[0mself\u001b[0m\u001b[0;34m.\u001b[0m\u001b[0mloader_batch_size\u001b[0m \u001b[0;32mis\u001b[0m \u001b[0;32mnot\u001b[0m \u001b[0;32mNone\u001b[0m\u001b[0;34m:\u001b[0m\u001b[0;34m\u001b[0m\u001b[0;34m\u001b[0m\u001b[0m\n\u001b[1;32m    271\u001b[0m                 \u001b[0;32mif\u001b[0m \u001b[0misinstance\u001b[0m\u001b[0;34m(\u001b[0m\u001b[0mprocessed\u001b[0m\u001b[0;34m,\u001b[0m \u001b[0mtorch\u001b[0m\u001b[0;34m.\u001b[0m\u001b[0mTensor\u001b[0m\u001b[0;34m)\u001b[0m\u001b[0;34m:\u001b[0m\u001b[0;34m\u001b[0m\u001b[0;34m\u001b[0m\u001b[0m\n",
            "\u001b[0;32m/usr/local/lib/python3.10/dist-packages/torch/utils/data/dataloader.py\u001b[0m in \u001b[0;36m__next__\u001b[0;34m(self)\u001b[0m\n\u001b[1;32m    629\u001b[0m                 \u001b[0;31m# TODO(https://github.com/pytorch/pytorch/issues/76750)\u001b[0m\u001b[0;34m\u001b[0m\u001b[0;34m\u001b[0m\u001b[0m\n\u001b[1;32m    630\u001b[0m                 \u001b[0mself\u001b[0m\u001b[0;34m.\u001b[0m\u001b[0m_reset\u001b[0m\u001b[0;34m(\u001b[0m\u001b[0;34m)\u001b[0m  \u001b[0;31m# type: ignore[call-arg]\u001b[0m\u001b[0;34m\u001b[0m\u001b[0;34m\u001b[0m\u001b[0m\n\u001b[0;32m--> 631\u001b[0;31m             \u001b[0mdata\u001b[0m \u001b[0;34m=\u001b[0m \u001b[0mself\u001b[0m\u001b[0;34m.\u001b[0m\u001b[0m_next_data\u001b[0m\u001b[0;34m(\u001b[0m\u001b[0;34m)\u001b[0m\u001b[0;34m\u001b[0m\u001b[0;34m\u001b[0m\u001b[0m\n\u001b[0m\u001b[1;32m    632\u001b[0m             \u001b[0mself\u001b[0m\u001b[0;34m.\u001b[0m\u001b[0m_num_yielded\u001b[0m \u001b[0;34m+=\u001b[0m \u001b[0;36m1\u001b[0m\u001b[0;34m\u001b[0m\u001b[0;34m\u001b[0m\u001b[0m\n\u001b[1;32m    633\u001b[0m             \u001b[0;32mif\u001b[0m \u001b[0mself\u001b[0m\u001b[0;34m.\u001b[0m\u001b[0m_dataset_kind\u001b[0m \u001b[0;34m==\u001b[0m \u001b[0m_DatasetKind\u001b[0m\u001b[0;34m.\u001b[0m\u001b[0mIterable\u001b[0m \u001b[0;32mand\u001b[0m\u001b[0;31m \u001b[0m\u001b[0;31m\\\u001b[0m\u001b[0;34m\u001b[0m\u001b[0;34m\u001b[0m\u001b[0m\n",
            "\u001b[0;32m/usr/local/lib/python3.10/dist-packages/torch/utils/data/dataloader.py\u001b[0m in \u001b[0;36m_next_data\u001b[0;34m(self)\u001b[0m\n\u001b[1;32m    673\u001b[0m     \u001b[0;32mdef\u001b[0m \u001b[0m_next_data\u001b[0m\u001b[0;34m(\u001b[0m\u001b[0mself\u001b[0m\u001b[0;34m)\u001b[0m\u001b[0;34m:\u001b[0m\u001b[0;34m\u001b[0m\u001b[0;34m\u001b[0m\u001b[0m\n\u001b[1;32m    674\u001b[0m         \u001b[0mindex\u001b[0m \u001b[0;34m=\u001b[0m \u001b[0mself\u001b[0m\u001b[0;34m.\u001b[0m\u001b[0m_next_index\u001b[0m\u001b[0;34m(\u001b[0m\u001b[0;34m)\u001b[0m  \u001b[0;31m# may raise StopIteration\u001b[0m\u001b[0;34m\u001b[0m\u001b[0;34m\u001b[0m\u001b[0m\n\u001b[0;32m--> 675\u001b[0;31m         \u001b[0mdata\u001b[0m \u001b[0;34m=\u001b[0m \u001b[0mself\u001b[0m\u001b[0;34m.\u001b[0m\u001b[0m_dataset_fetcher\u001b[0m\u001b[0;34m.\u001b[0m\u001b[0mfetch\u001b[0m\u001b[0;34m(\u001b[0m\u001b[0mindex\u001b[0m\u001b[0;34m)\u001b[0m  \u001b[0;31m# may raise StopIteration\u001b[0m\u001b[0;34m\u001b[0m\u001b[0;34m\u001b[0m\u001b[0m\n\u001b[0m\u001b[1;32m    676\u001b[0m         \u001b[0;32mif\u001b[0m \u001b[0mself\u001b[0m\u001b[0;34m.\u001b[0m\u001b[0m_pin_memory\u001b[0m\u001b[0;34m:\u001b[0m\u001b[0;34m\u001b[0m\u001b[0;34m\u001b[0m\u001b[0m\n\u001b[1;32m    677\u001b[0m             \u001b[0mdata\u001b[0m \u001b[0;34m=\u001b[0m \u001b[0m_utils\u001b[0m\u001b[0;34m.\u001b[0m\u001b[0mpin_memory\u001b[0m\u001b[0;34m.\u001b[0m\u001b[0mpin_memory\u001b[0m\u001b[0;34m(\u001b[0m\u001b[0mdata\u001b[0m\u001b[0;34m,\u001b[0m \u001b[0mself\u001b[0m\u001b[0;34m.\u001b[0m\u001b[0m_pin_memory_device\u001b[0m\u001b[0;34m)\u001b[0m\u001b[0;34m\u001b[0m\u001b[0;34m\u001b[0m\u001b[0m\n",
            "\u001b[0;32m/usr/local/lib/python3.10/dist-packages/torch/utils/data/_utils/fetch.py\u001b[0m in \u001b[0;36mfetch\u001b[0;34m(self, possibly_batched_index)\u001b[0m\n\u001b[1;32m     30\u001b[0m             \u001b[0;32mfor\u001b[0m \u001b[0m_\u001b[0m \u001b[0;32min\u001b[0m \u001b[0mpossibly_batched_index\u001b[0m\u001b[0;34m:\u001b[0m\u001b[0;34m\u001b[0m\u001b[0;34m\u001b[0m\u001b[0m\n\u001b[1;32m     31\u001b[0m                 \u001b[0;32mtry\u001b[0m\u001b[0;34m:\u001b[0m\u001b[0;34m\u001b[0m\u001b[0;34m\u001b[0m\u001b[0m\n\u001b[0;32m---> 32\u001b[0;31m                     \u001b[0mdata\u001b[0m\u001b[0;34m.\u001b[0m\u001b[0mappend\u001b[0m\u001b[0;34m(\u001b[0m\u001b[0mnext\u001b[0m\u001b[0;34m(\u001b[0m\u001b[0mself\u001b[0m\u001b[0;34m.\u001b[0m\u001b[0mdataset_iter\u001b[0m\u001b[0;34m)\u001b[0m\u001b[0;34m)\u001b[0m\u001b[0;34m\u001b[0m\u001b[0;34m\u001b[0m\u001b[0m\n\u001b[0m\u001b[1;32m     33\u001b[0m                 \u001b[0;32mexcept\u001b[0m \u001b[0mStopIteration\u001b[0m\u001b[0;34m:\u001b[0m\u001b[0;34m\u001b[0m\u001b[0;34m\u001b[0m\u001b[0m\n\u001b[1;32m     34\u001b[0m                     \u001b[0mself\u001b[0m\u001b[0;34m.\u001b[0m\u001b[0mended\u001b[0m \u001b[0;34m=\u001b[0m \u001b[0;32mTrue\u001b[0m\u001b[0;34m\u001b[0m\u001b[0;34m\u001b[0m\u001b[0m\n",
            "\u001b[0;32m/usr/local/lib/python3.10/dist-packages/transformers/pipelines/pt_utils.py\u001b[0m in \u001b[0;36m__next__\u001b[0;34m(self)\u001b[0m\n\u001b[1;32m    184\u001b[0m         \u001b[0;32mtry\u001b[0m\u001b[0;34m:\u001b[0m\u001b[0;34m\u001b[0m\u001b[0;34m\u001b[0m\u001b[0m\n\u001b[1;32m    185\u001b[0m             \u001b[0;31m# Try to return next item\u001b[0m\u001b[0;34m\u001b[0m\u001b[0;34m\u001b[0m\u001b[0m\n\u001b[0;32m--> 186\u001b[0;31m             \u001b[0mprocessed\u001b[0m \u001b[0;34m=\u001b[0m \u001b[0mnext\u001b[0m\u001b[0;34m(\u001b[0m\u001b[0mself\u001b[0m\u001b[0;34m.\u001b[0m\u001b[0msubiterator\u001b[0m\u001b[0;34m)\u001b[0m\u001b[0;34m\u001b[0m\u001b[0;34m\u001b[0m\u001b[0m\n\u001b[0m\u001b[1;32m    187\u001b[0m         \u001b[0;32mexcept\u001b[0m \u001b[0mStopIteration\u001b[0m\u001b[0;34m:\u001b[0m\u001b[0;34m\u001b[0m\u001b[0;34m\u001b[0m\u001b[0m\n\u001b[1;32m    188\u001b[0m             \u001b[0;31m# When a preprocess iterator ends, we can start lookig at the next item\u001b[0m\u001b[0;34m\u001b[0m\u001b[0;34m\u001b[0m\u001b[0m\n",
            "\u001b[0;32m/usr/local/lib/python3.10/dist-packages/transformers/pipelines/zero_shot_classification.py\u001b[0m in \u001b[0;36mpreprocess\u001b[0;34m(self, inputs, candidate_labels, hypothesis_template)\u001b[0m\n\u001b[1;32m    207\u001b[0m \u001b[0;34m\u001b[0m\u001b[0m\n\u001b[1;32m    208\u001b[0m     \u001b[0;32mdef\u001b[0m \u001b[0mpreprocess\u001b[0m\u001b[0;34m(\u001b[0m\u001b[0mself\u001b[0m\u001b[0;34m,\u001b[0m \u001b[0minputs\u001b[0m\u001b[0;34m,\u001b[0m \u001b[0mcandidate_labels\u001b[0m\u001b[0;34m=\u001b[0m\u001b[0;32mNone\u001b[0m\u001b[0;34m,\u001b[0m \u001b[0mhypothesis_template\u001b[0m\u001b[0;34m=\u001b[0m\u001b[0;34m\"This example is {}.\"\u001b[0m\u001b[0;34m)\u001b[0m\u001b[0;34m:\u001b[0m\u001b[0;34m\u001b[0m\u001b[0;34m\u001b[0m\u001b[0m\n\u001b[0;32m--> 209\u001b[0;31m         \u001b[0msequence_pairs\u001b[0m\u001b[0;34m,\u001b[0m \u001b[0msequences\u001b[0m \u001b[0;34m=\u001b[0m \u001b[0mself\u001b[0m\u001b[0;34m.\u001b[0m\u001b[0m_args_parser\u001b[0m\u001b[0;34m(\u001b[0m\u001b[0minputs\u001b[0m\u001b[0;34m,\u001b[0m \u001b[0mcandidate_labels\u001b[0m\u001b[0;34m,\u001b[0m \u001b[0mhypothesis_template\u001b[0m\u001b[0;34m)\u001b[0m\u001b[0;34m\u001b[0m\u001b[0;34m\u001b[0m\u001b[0m\n\u001b[0m\u001b[1;32m    210\u001b[0m \u001b[0;34m\u001b[0m\u001b[0m\n\u001b[1;32m    211\u001b[0m         \u001b[0;32mfor\u001b[0m \u001b[0mi\u001b[0m\u001b[0;34m,\u001b[0m \u001b[0;34m(\u001b[0m\u001b[0mcandidate_label\u001b[0m\u001b[0;34m,\u001b[0m \u001b[0msequence_pair\u001b[0m\u001b[0;34m)\u001b[0m \u001b[0;32min\u001b[0m \u001b[0menumerate\u001b[0m\u001b[0;34m(\u001b[0m\u001b[0mzip\u001b[0m\u001b[0;34m(\u001b[0m\u001b[0mcandidate_labels\u001b[0m\u001b[0;34m,\u001b[0m \u001b[0msequence_pairs\u001b[0m\u001b[0;34m)\u001b[0m\u001b[0;34m)\u001b[0m\u001b[0;34m:\u001b[0m\u001b[0;34m\u001b[0m\u001b[0;34m\u001b[0m\u001b[0m\n",
            "\u001b[0;32m/usr/local/lib/python3.10/dist-packages/transformers/pipelines/zero_shot_classification.py\u001b[0m in \u001b[0;36m__call__\u001b[0;34m(self, sequences, labels, hypothesis_template)\u001b[0m\n\u001b[1;32m     24\u001b[0m \u001b[0;34m\u001b[0m\u001b[0m\n\u001b[1;32m     25\u001b[0m     \u001b[0;32mdef\u001b[0m \u001b[0m__call__\u001b[0m\u001b[0;34m(\u001b[0m\u001b[0mself\u001b[0m\u001b[0;34m,\u001b[0m \u001b[0msequences\u001b[0m\u001b[0;34m,\u001b[0m \u001b[0mlabels\u001b[0m\u001b[0;34m,\u001b[0m \u001b[0mhypothesis_template\u001b[0m\u001b[0;34m)\u001b[0m\u001b[0;34m:\u001b[0m\u001b[0;34m\u001b[0m\u001b[0;34m\u001b[0m\u001b[0m\n\u001b[0;32m---> 26\u001b[0;31m         \u001b[0;32mif\u001b[0m \u001b[0mlen\u001b[0m\u001b[0;34m(\u001b[0m\u001b[0mlabels\u001b[0m\u001b[0;34m)\u001b[0m \u001b[0;34m==\u001b[0m \u001b[0;36m0\u001b[0m \u001b[0;32mor\u001b[0m \u001b[0mlen\u001b[0m\u001b[0;34m(\u001b[0m\u001b[0msequences\u001b[0m\u001b[0;34m)\u001b[0m \u001b[0;34m==\u001b[0m \u001b[0;36m0\u001b[0m\u001b[0;34m:\u001b[0m\u001b[0;34m\u001b[0m\u001b[0;34m\u001b[0m\u001b[0m\n\u001b[0m\u001b[1;32m     27\u001b[0m             \u001b[0;32mraise\u001b[0m \u001b[0mValueError\u001b[0m\u001b[0;34m(\u001b[0m\u001b[0;34m\"You must include at least one label and at least one sequence.\"\u001b[0m\u001b[0;34m)\u001b[0m\u001b[0;34m\u001b[0m\u001b[0;34m\u001b[0m\u001b[0m\n\u001b[1;32m     28\u001b[0m         \u001b[0;32mif\u001b[0m \u001b[0mhypothesis_template\u001b[0m\u001b[0;34m.\u001b[0m\u001b[0mformat\u001b[0m\u001b[0;34m(\u001b[0m\u001b[0mlabels\u001b[0m\u001b[0;34m[\u001b[0m\u001b[0;36m0\u001b[0m\u001b[0;34m]\u001b[0m\u001b[0;34m)\u001b[0m \u001b[0;34m==\u001b[0m \u001b[0mhypothesis_template\u001b[0m\u001b[0;34m:\u001b[0m\u001b[0;34m\u001b[0m\u001b[0;34m\u001b[0m\u001b[0m\n",
            "\u001b[0;31mTypeError\u001b[0m: object of type 'NoneType' has no len()"
          ]
        }
      ]
    },
    {
      "cell_type": "code",
      "source": [
        "def predict_tag_relevance_single(classifier, tag, context=\"This is a description about\"):\n",
        "    \"\"\" Predict the relevance of a single tag given a context.\n",
        "\n",
        "    Args:\n",
        "        classifier (pipeline): The zero-shot classification pipeline.\n",
        "        tag (str): The tag to evaluate.\n",
        "        context (str): A context string to use for prediction.\n",
        "\n",
        "    Returns:\n",
        "        float: The relevance probability of the tag.\n",
        "    \"\"\"\n",
        "    try:\n",
        "        # Ensuring the tag is used as a label and context is a non-empty sequence\n",
        "        if tag and context:\n",
        "            prediction = classifier(\n",
        "                context,  # This is the sequence where the tag's relevance is checked\n",
        "                candidate_labels=[tag],  # Single tag as a list of one label\n",
        "                hypothesis_template=\"This text is about {}.\",  # Simple hypothesis template\n",
        "                multi_label=False  # Assuming non-multi label as we're checking one tag at a time\n",
        "            )\n",
        "            return prediction['scores'][0]  # Return the relevance probability of the tag\n",
        "        else:\n",
        "            return 0.0  # Return zero probability if the tag or context is empty\n",
        "    except Exception as e:\n",
        "        print(f\"An error occurred: {e}\")\n",
        "        return 0.0\n",
        "\n",
        "# Example usage\n",
        "tags = ['Buenos Aires', '10 October', 'Yin Dehang', '2018 Summer Youth Olympics']\n",
        "predictions = {tag: predict_tag_relevance_single(classifier, tag) for tag in tags}\n",
        "\n",
        "#for tag, prob in predictions.items():\n",
        "#    print(f\"The probability that '{tag}' is a relevant tag on its own is {prob:.2f}\")\n"
      ],
      "metadata": {
        "colab": {
          "base_uri": "https://localhost:8080/"
        },
        "id": "Fc6IsJOBYOtv",
        "outputId": "39b594e6-3dc5-4a79-b7cd-ccb2f5d2e77b"
      },
      "execution_count": 71,
      "outputs": [
        {
          "output_type": "stream",
          "name": "stdout",
          "text": [
            "The probability that 'Buenos Aires' is a relevant tag on its own is 0.61\n",
            "The probability that '10 October' is a relevant tag on its own is 0.16\n",
            "The probability that 'Yin Dehang' is a relevant tag on its own is 0.44\n",
            "The probability that '2018 Summer Youth Olympics' is a relevant tag on its own is 0.18\n"
          ]
        }
      ]
    },
    {
      "cell_type": "code",
      "source": [
        "predictions"
      ],
      "metadata": {
        "colab": {
          "base_uri": "https://localhost:8080/"
        },
        "id": "B_g8cG7MY4GS",
        "outputId": "9fce1171-624e-4eb8-d2f6-078264fae5e5"
      },
      "execution_count": 72,
      "outputs": [
        {
          "output_type": "execute_result",
          "data": {
            "text/plain": [
              "{'Buenos Aires': 0.6138836145401001,\n",
              " '10 October': 0.16300183534622192,\n",
              " 'Yin Dehang': 0.43886271119117737,\n",
              " '2018 Summer Youth Olympics': 0.182575985789299}"
            ]
          },
          "metadata": {},
          "execution_count": 72
        }
      ]
    },
    {
      "cell_type": "code",
      "source": [
        "import requests\n",
        "\n",
        "def get_qnum(tag):\n",
        "    try:\n",
        "        url = f'https://www.wikidata.org/w/api.php?action=wbgetentities&sites=enwiki&titles={tag}&languages=en&props=labels&format=json'\n",
        "        response = requests.get(url).json()\n",
        "        qnum = next(iter(response['entities']))\n",
        "        if qnum.startswith('Q'):\n",
        "            return qnum\n",
        "        else:\n",
        "            return None\n",
        "    except:\n",
        "        return None\n",
        "\n",
        "def process_dict(input_dict):\n",
        "    output_dict = {}\n",
        "    for key, value in input_dict.items():\n",
        "        qnum = get_qnum(key)\n",
        "        if qnum:\n",
        "            output_dict[qnum] = value\n",
        "    return output_dict"
      ],
      "metadata": {
        "id": "0SNfdbZzasJx"
      },
      "execution_count": 91,
      "outputs": []
    },
    {
      "cell_type": "code",
      "source": [
        "def filter_tags_by_threshold(predictions_dict, threshold):\n",
        "    \"\"\"\n",
        "    Filters a dictionary of tag probabilities, returning only those entries where\n",
        "    the probability is at least as large as the specified threshold.\n",
        "\n",
        "    Args:\n",
        "        predictions_dict (dict): Dictionary with tags as keys and probabilities as values.\n",
        "        threshold (float): The threshold probability; only tags with probabilities\n",
        "                           equal to or greater than this value are returned.\n",
        "\n",
        "    Returns:\n",
        "        dict: A filtered dictionary of tags that meet or exceed the threshold.\n",
        "    \"\"\"\n",
        "    # Create a new dictionary with only the tags that meet or exceed the threshold\n",
        "    filtered_dict = {tag: prob for tag, prob in predictions_dict.items() if prob >= threshold}\n",
        "    return filtered_dict"
      ],
      "metadata": {
        "id": "1hG_NypcccwV"
      },
      "execution_count": 92,
      "outputs": []
    },
    {
      "cell_type": "code",
      "source": [
        "def final(test, threshold=0.0):\n",
        "  predictions = {tag: predict_tag_relevance_single(classifier, tag) for tag in tags}\n",
        "  qnum_dict = process_dict(predictions)\n",
        "  filtered_dict = filter_tags_by_threshold(qnum_dict, threshold)\n",
        "  return filtered_dict"
      ],
      "metadata": {
        "id": "X8n6nsc3ZXB_"
      },
      "execution_count": 93,
      "outputs": []
    },
    {
      "cell_type": "code",
      "source": [
        "test = ['Buenos Aires', '10 October', 'Yin Dehang', '2018 Summer Youth Olympics']\n",
        "\n",
        "final(test)#, threshold = 0.2)"
      ],
      "metadata": {
        "colab": {
          "base_uri": "https://localhost:8080/"
        },
        "id": "v7PIOYWhZug0",
        "outputId": "32a13651-3c0e-44f9-9161-e6b0813d6645"
      },
      "execution_count": 108,
      "outputs": [
        {
          "output_type": "execute_result",
          "data": {
            "text/plain": [
              "{'Q1486': 0.6138836145401001,\n",
              " 'Q93888038': 0.43886271119117737,\n",
              " 'Q870879': 0.182575985789299}"
            ]
          },
          "metadata": {},
          "execution_count": 108
        }
      ]
    },
    {
      "cell_type": "code",
      "source": [
        "string"
      ],
      "metadata": {
        "colab": {
          "base_uri": "https://localhost:8080/",
          "height": 35
        },
        "id": "9vsiV-i4bFNf",
        "outputId": "483fb783-f211-46d1-db63-2d3851e379b3"
      },
      "execution_count": 106,
      "outputs": [
        {
          "output_type": "execute_result",
          "data": {
            "text/plain": [
              "\"Horizontal bar qualification of the boys' artistic gymnastics at the 2018\\nSummer Youth Olympics in Buenos Aires on 10 October 2018. Depicted: Yin\\nDehang.\\n\\n\""
            ],
            "application/vnd.google.colaboratory.intrinsic+json": {
              "type": "string"
            }
          },
          "metadata": {},
          "execution_count": 106
        }
      ]
    },
    {
      "cell_type": "code",
      "source": [
        "string.process_text()"
      ],
      "metadata": {
        "colab": {
          "base_uri": "https://localhost:8080/",
          "height": 144
        },
        "id": "3FWkldSRdgcL",
        "outputId": "9f81942c-c549-4832-ba7d-b8fe67e941de"
      },
      "execution_count": 107,
      "outputs": [
        {
          "output_type": "error",
          "ename": "AttributeError",
          "evalue": "'str' object has no attribute 'process_text'",
          "traceback": [
            "\u001b[0;31m---------------------------------------------------------------------------\u001b[0m",
            "\u001b[0;31mAttributeError\u001b[0m                            Traceback (most recent call last)",
            "\u001b[0;32m<ipython-input-107-b79513bf4f77>\u001b[0m in \u001b[0;36m<cell line: 1>\u001b[0;34m()\u001b[0m\n\u001b[0;32m----> 1\u001b[0;31m \u001b[0mstring\u001b[0m\u001b[0;34m.\u001b[0m\u001b[0mprocess_text\u001b[0m\u001b[0;34m(\u001b[0m\u001b[0;34m)\u001b[0m\u001b[0;34m\u001b[0m\u001b[0;34m\u001b[0m\u001b[0m\n\u001b[0m",
            "\u001b[0;31mAttributeError\u001b[0m: 'str' object has no attribute 'process_text'"
          ]
        }
      ]
    },
    {
      "cell_type": "code",
      "source": [],
      "metadata": {
        "id": "lptofPdkdjFD"
      },
      "execution_count": null,
      "outputs": []
    }
  ]
}