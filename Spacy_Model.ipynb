{
  "nbformat": 4,
  "nbformat_minor": 0,
  "metadata": {
    "colab": {
      "provenance": []
    },
    "kernelspec": {
      "name": "python3",
      "display_name": "Python 3"
    },
    "language_info": {
      "name": "python"
    }
  },
  "cells": [
    {
      "cell_type": "code",
      "source": [
        "import spacy\n",
        "import os\n",
        "import numpy as np\n",
        "import pandas as pd\n",
        "from google.colab import drive\n",
        "import requests"
      ],
      "metadata": {
        "id": "wLW3SpD552e8"
      },
      "execution_count": null,
      "outputs": []
    },
    {
      "cell_type": "code",
      "source": [
        "drive.mount('/content/drive')\n",
        "os.chdir('/content/drive/MyDrive/CAPSTONE')\n",
        "os.getcwd()"
      ],
      "metadata": {
        "colab": {
          "base_uri": "https://localhost:8080/",
          "height": 53
        },
        "id": "y8zpOaAc6BlT",
        "outputId": "a5da62bc-0eb1-4f9a-fa38-d0c950ebbfc6"
      },
      "execution_count": null,
      "outputs": [
        {
          "output_type": "stream",
          "name": "stdout",
          "text": [
            "Mounted at /content/drive\n"
          ]
        },
        {
          "output_type": "execute_result",
          "data": {
            "text/plain": [
              "'/content/drive/MyDrive/CAPSTONE'"
            ],
            "application/vnd.google.colaboratory.intrinsic+json": {
              "type": "string"
            }
          },
          "metadata": {},
          "execution_count": 2
        }
      ]
    },
    {
      "cell_type": "code",
      "source": [
        "os.listdir()"
      ],
      "metadata": {
        "colab": {
          "base_uri": "https://localhost:8080/"
        },
        "id": "p7wTCTvr6Owv",
        "outputId": "bf4708fa-3019-41bf-b0a3-3e09a062863a"
      },
      "execution_count": null,
      "outputs": [
        {
          "output_type": "execute_result",
          "data": {
            "text/plain": [
              "['Will_1k_set_1.csv', 'data']"
            ]
          },
          "metadata": {},
          "execution_count": 3
        }
      ]
    },
    {
      "cell_type": "code",
      "source": [
        "# API only allows 1,000 observations to be fetched in one sitting\n",
        "# combine different csv files into one large data frame\n",
        "\n",
        "dfs = []\n",
        "for i in range(1, 26):\n",
        "    filename = f\"Will_1k_set_{i}.csv\"\n",
        "    df = pd.read_csv(filename)\n",
        "    dfs.append(df)\n",
        "combined_df = pd.concat(dfs, ignore_index=True)\n",
        "combined_df.to_csv(\"Will_set_merged.csv\", index=False)"
      ],
      "metadata": {
        "id": "8a2Yyw7YemMQ"
      },
      "execution_count": null,
      "outputs": []
    },
    {
      "cell_type": "code",
      "source": [
        "# import csv file, drop irrelevant column\n",
        "#data = pd.read_csv('Will_1k_set_1.csv')\n",
        "data = pd.read_csv('Will_set_merged.csv')\n",
        "data.drop('Unnamed: 0', axis=1, inplace=True)\n",
        "data.head()"
      ],
      "metadata": {
        "colab": {
          "base_uri": "https://localhost:8080/",
          "height": 293
        },
        "id": "ehqzii5J6aCx",
        "outputId": "4fad38e8-eea4-4999-95c7-4cc7ace675c2"
      },
      "execution_count": null,
      "outputs": [
        {
          "output_type": "execute_result",
          "data": {
            "text/plain": [
              "                                           file_name  wiki_commons_id  \\\n",
              "0  File:Plac Wielkopolski w Poznaniu - czerwiec 2...         60332930   \n",
              "1  File:2018-10-10 Gymnastics at 2018 Summer Yout...         77382844   \n",
              "2  File:CP 00118destructions rue de Tournai 1914.jpg         84142136   \n",
              "3  File:Waycross, Georgia Historic District (40).jpg         86478066   \n",
              "4                 File:J31 867 Kraftwerkskaverne.jpg        138279755   \n",
              "\n",
              "    wiki_data_id                            depicts  \\\n",
              "0  ['Q11819181']  ['Wielkopolski Square in Poznań']   \n",
              "1  ['Q93888038']                     ['Yin Dehang']   \n",
              "2  ['Q39074508']                 ['Siege of Lille']   \n",
              "3  ['Q30622481']     ['Waycross Historic District']   \n",
              "4    ['Q963375']               ['diesel generator']   \n",
              "\n",
              "                                         description  \\\n",
              "0                  ['city square in Poznań, Poland']   \n",
              "1                       ['Chinese artistic gymnast']   \n",
              "2                                     ['1914 siege']   \n",
              "3         ['historic district in Waycross, Georgia']   \n",
              "4  ['combination of a diesel engine with an elect...   \n",
              "\n",
              "                                      parsed caption  \\\n",
              "0                  Plac Wielkopolski w Poznaniu.\\n\\n   \n",
              "1  Horizontal bar qualification of the boys' arti...   \n",
              "2  Lille (France - Nord department) - Destruction...   \n",
              "3  Waycross Historic District, Waycross, Georgia\\...   \n",
              "4  Zwei Dieselgeneratoren für die Gesamtversorgun...   \n",
              "\n",
              "                                 commons_description  \n",
              "0  {'DateTime': {'value': '2017-06-24 03:53:38', ...  \n",
              "1  {'DateTime': {'value': '2019-03-16 21:07:55', ...  \n",
              "2  {'DateTime': {'value': '2019-11-19 16:24:13', ...  \n",
              "3  {'DateTime': {'value': '2020-02-01 01:11:58', ...  \n",
              "4  {'DateTime': {'value': '2023-07-16 20:54:40', ...  "
            ],
            "text/html": [
              "\n",
              "  <div id=\"df-4a7b30dd-45c2-4079-892e-3eeb6c5bf087\" class=\"colab-df-container\">\n",
              "    <div>\n",
              "<style scoped>\n",
              "    .dataframe tbody tr th:only-of-type {\n",
              "        vertical-align: middle;\n",
              "    }\n",
              "\n",
              "    .dataframe tbody tr th {\n",
              "        vertical-align: top;\n",
              "    }\n",
              "\n",
              "    .dataframe thead th {\n",
              "        text-align: right;\n",
              "    }\n",
              "</style>\n",
              "<table border=\"1\" class=\"dataframe\">\n",
              "  <thead>\n",
              "    <tr style=\"text-align: right;\">\n",
              "      <th></th>\n",
              "      <th>file_name</th>\n",
              "      <th>wiki_commons_id</th>\n",
              "      <th>wiki_data_id</th>\n",
              "      <th>depicts</th>\n",
              "      <th>description</th>\n",
              "      <th>parsed caption</th>\n",
              "      <th>commons_description</th>\n",
              "    </tr>\n",
              "  </thead>\n",
              "  <tbody>\n",
              "    <tr>\n",
              "      <th>0</th>\n",
              "      <td>File:Plac Wielkopolski w Poznaniu - czerwiec 2...</td>\n",
              "      <td>60332930</td>\n",
              "      <td>['Q11819181']</td>\n",
              "      <td>['Wielkopolski Square in Poznań']</td>\n",
              "      <td>['city square in Poznań, Poland']</td>\n",
              "      <td>Plac Wielkopolski w Poznaniu.\\n\\n</td>\n",
              "      <td>{'DateTime': {'value': '2017-06-24 03:53:38', ...</td>\n",
              "    </tr>\n",
              "    <tr>\n",
              "      <th>1</th>\n",
              "      <td>File:2018-10-10 Gymnastics at 2018 Summer Yout...</td>\n",
              "      <td>77382844</td>\n",
              "      <td>['Q93888038']</td>\n",
              "      <td>['Yin Dehang']</td>\n",
              "      <td>['Chinese artistic gymnast']</td>\n",
              "      <td>Horizontal bar qualification of the boys' arti...</td>\n",
              "      <td>{'DateTime': {'value': '2019-03-16 21:07:55', ...</td>\n",
              "    </tr>\n",
              "    <tr>\n",
              "      <th>2</th>\n",
              "      <td>File:CP 00118destructions rue de Tournai 1914.jpg</td>\n",
              "      <td>84142136</td>\n",
              "      <td>['Q39074508']</td>\n",
              "      <td>['Siege of Lille']</td>\n",
              "      <td>['1914 siege']</td>\n",
              "      <td>Lille (France - Nord department) - Destruction...</td>\n",
              "      <td>{'DateTime': {'value': '2019-11-19 16:24:13', ...</td>\n",
              "    </tr>\n",
              "    <tr>\n",
              "      <th>3</th>\n",
              "      <td>File:Waycross, Georgia Historic District (40).jpg</td>\n",
              "      <td>86478066</td>\n",
              "      <td>['Q30622481']</td>\n",
              "      <td>['Waycross Historic District']</td>\n",
              "      <td>['historic district in Waycross, Georgia']</td>\n",
              "      <td>Waycross Historic District, Waycross, Georgia\\...</td>\n",
              "      <td>{'DateTime': {'value': '2020-02-01 01:11:58', ...</td>\n",
              "    </tr>\n",
              "    <tr>\n",
              "      <th>4</th>\n",
              "      <td>File:J31 867 Kraftwerkskaverne.jpg</td>\n",
              "      <td>138279755</td>\n",
              "      <td>['Q963375']</td>\n",
              "      <td>['diesel generator']</td>\n",
              "      <td>['combination of a diesel engine with an elect...</td>\n",
              "      <td>Zwei Dieselgeneratoren für die Gesamtversorgun...</td>\n",
              "      <td>{'DateTime': {'value': '2023-07-16 20:54:40', ...</td>\n",
              "    </tr>\n",
              "  </tbody>\n",
              "</table>\n",
              "</div>\n",
              "    <div class=\"colab-df-buttons\">\n",
              "\n",
              "  <div class=\"colab-df-container\">\n",
              "    <button class=\"colab-df-convert\" onclick=\"convertToInteractive('df-4a7b30dd-45c2-4079-892e-3eeb6c5bf087')\"\n",
              "            title=\"Convert this dataframe to an interactive table.\"\n",
              "            style=\"display:none;\">\n",
              "\n",
              "  <svg xmlns=\"http://www.w3.org/2000/svg\" height=\"24px\" viewBox=\"0 -960 960 960\">\n",
              "    <path d=\"M120-120v-720h720v720H120Zm60-500h600v-160H180v160Zm220 220h160v-160H400v160Zm0 220h160v-160H400v160ZM180-400h160v-160H180v160Zm440 0h160v-160H620v160ZM180-180h160v-160H180v160Zm440 0h160v-160H620v160Z\"/>\n",
              "  </svg>\n",
              "    </button>\n",
              "\n",
              "  <style>\n",
              "    .colab-df-container {\n",
              "      display:flex;\n",
              "      gap: 12px;\n",
              "    }\n",
              "\n",
              "    .colab-df-convert {\n",
              "      background-color: #E8F0FE;\n",
              "      border: none;\n",
              "      border-radius: 50%;\n",
              "      cursor: pointer;\n",
              "      display: none;\n",
              "      fill: #1967D2;\n",
              "      height: 32px;\n",
              "      padding: 0 0 0 0;\n",
              "      width: 32px;\n",
              "    }\n",
              "\n",
              "    .colab-df-convert:hover {\n",
              "      background-color: #E2EBFA;\n",
              "      box-shadow: 0px 1px 2px rgba(60, 64, 67, 0.3), 0px 1px 3px 1px rgba(60, 64, 67, 0.15);\n",
              "      fill: #174EA6;\n",
              "    }\n",
              "\n",
              "    .colab-df-buttons div {\n",
              "      margin-bottom: 4px;\n",
              "    }\n",
              "\n",
              "    [theme=dark] .colab-df-convert {\n",
              "      background-color: #3B4455;\n",
              "      fill: #D2E3FC;\n",
              "    }\n",
              "\n",
              "    [theme=dark] .colab-df-convert:hover {\n",
              "      background-color: #434B5C;\n",
              "      box-shadow: 0px 1px 3px 1px rgba(0, 0, 0, 0.15);\n",
              "      filter: drop-shadow(0px 1px 2px rgba(0, 0, 0, 0.3));\n",
              "      fill: #FFFFFF;\n",
              "    }\n",
              "  </style>\n",
              "\n",
              "    <script>\n",
              "      const buttonEl =\n",
              "        document.querySelector('#df-4a7b30dd-45c2-4079-892e-3eeb6c5bf087 button.colab-df-convert');\n",
              "      buttonEl.style.display =\n",
              "        google.colab.kernel.accessAllowed ? 'block' : 'none';\n",
              "\n",
              "      async function convertToInteractive(key) {\n",
              "        const element = document.querySelector('#df-4a7b30dd-45c2-4079-892e-3eeb6c5bf087');\n",
              "        const dataTable =\n",
              "          await google.colab.kernel.invokeFunction('convertToInteractive',\n",
              "                                                    [key], {});\n",
              "        if (!dataTable) return;\n",
              "\n",
              "        const docLinkHtml = 'Like what you see? Visit the ' +\n",
              "          '<a target=\"_blank\" href=https://colab.research.google.com/notebooks/data_table.ipynb>data table notebook</a>'\n",
              "          + ' to learn more about interactive tables.';\n",
              "        element.innerHTML = '';\n",
              "        dataTable['output_type'] = 'display_data';\n",
              "        await google.colab.output.renderOutput(dataTable, element);\n",
              "        const docLink = document.createElement('div');\n",
              "        docLink.innerHTML = docLinkHtml;\n",
              "        element.appendChild(docLink);\n",
              "      }\n",
              "    </script>\n",
              "  </div>\n",
              "\n",
              "\n",
              "<div id=\"df-d065605a-dca2-42a5-8de7-888d5fa61db9\">\n",
              "  <button class=\"colab-df-quickchart\" onclick=\"quickchart('df-d065605a-dca2-42a5-8de7-888d5fa61db9')\"\n",
              "            title=\"Suggest charts\"\n",
              "            style=\"display:none;\">\n",
              "\n",
              "<svg xmlns=\"http://www.w3.org/2000/svg\" height=\"24px\"viewBox=\"0 0 24 24\"\n",
              "     width=\"24px\">\n",
              "    <g>\n",
              "        <path d=\"M19 3H5c-1.1 0-2 .9-2 2v14c0 1.1.9 2 2 2h14c1.1 0 2-.9 2-2V5c0-1.1-.9-2-2-2zM9 17H7v-7h2v7zm4 0h-2V7h2v10zm4 0h-2v-4h2v4z\"/>\n",
              "    </g>\n",
              "</svg>\n",
              "  </button>\n",
              "\n",
              "<style>\n",
              "  .colab-df-quickchart {\n",
              "      --bg-color: #E8F0FE;\n",
              "      --fill-color: #1967D2;\n",
              "      --hover-bg-color: #E2EBFA;\n",
              "      --hover-fill-color: #174EA6;\n",
              "      --disabled-fill-color: #AAA;\n",
              "      --disabled-bg-color: #DDD;\n",
              "  }\n",
              "\n",
              "  [theme=dark] .colab-df-quickchart {\n",
              "      --bg-color: #3B4455;\n",
              "      --fill-color: #D2E3FC;\n",
              "      --hover-bg-color: #434B5C;\n",
              "      --hover-fill-color: #FFFFFF;\n",
              "      --disabled-bg-color: #3B4455;\n",
              "      --disabled-fill-color: #666;\n",
              "  }\n",
              "\n",
              "  .colab-df-quickchart {\n",
              "    background-color: var(--bg-color);\n",
              "    border: none;\n",
              "    border-radius: 50%;\n",
              "    cursor: pointer;\n",
              "    display: none;\n",
              "    fill: var(--fill-color);\n",
              "    height: 32px;\n",
              "    padding: 0;\n",
              "    width: 32px;\n",
              "  }\n",
              "\n",
              "  .colab-df-quickchart:hover {\n",
              "    background-color: var(--hover-bg-color);\n",
              "    box-shadow: 0 1px 2px rgba(60, 64, 67, 0.3), 0 1px 3px 1px rgba(60, 64, 67, 0.15);\n",
              "    fill: var(--button-hover-fill-color);\n",
              "  }\n",
              "\n",
              "  .colab-df-quickchart-complete:disabled,\n",
              "  .colab-df-quickchart-complete:disabled:hover {\n",
              "    background-color: var(--disabled-bg-color);\n",
              "    fill: var(--disabled-fill-color);\n",
              "    box-shadow: none;\n",
              "  }\n",
              "\n",
              "  .colab-df-spinner {\n",
              "    border: 2px solid var(--fill-color);\n",
              "    border-color: transparent;\n",
              "    border-bottom-color: var(--fill-color);\n",
              "    animation:\n",
              "      spin 1s steps(1) infinite;\n",
              "  }\n",
              "\n",
              "  @keyframes spin {\n",
              "    0% {\n",
              "      border-color: transparent;\n",
              "      border-bottom-color: var(--fill-color);\n",
              "      border-left-color: var(--fill-color);\n",
              "    }\n",
              "    20% {\n",
              "      border-color: transparent;\n",
              "      border-left-color: var(--fill-color);\n",
              "      border-top-color: var(--fill-color);\n",
              "    }\n",
              "    30% {\n",
              "      border-color: transparent;\n",
              "      border-left-color: var(--fill-color);\n",
              "      border-top-color: var(--fill-color);\n",
              "      border-right-color: var(--fill-color);\n",
              "    }\n",
              "    40% {\n",
              "      border-color: transparent;\n",
              "      border-right-color: var(--fill-color);\n",
              "      border-top-color: var(--fill-color);\n",
              "    }\n",
              "    60% {\n",
              "      border-color: transparent;\n",
              "      border-right-color: var(--fill-color);\n",
              "    }\n",
              "    80% {\n",
              "      border-color: transparent;\n",
              "      border-right-color: var(--fill-color);\n",
              "      border-bottom-color: var(--fill-color);\n",
              "    }\n",
              "    90% {\n",
              "      border-color: transparent;\n",
              "      border-bottom-color: var(--fill-color);\n",
              "    }\n",
              "  }\n",
              "</style>\n",
              "\n",
              "  <script>\n",
              "    async function quickchart(key) {\n",
              "      const quickchartButtonEl =\n",
              "        document.querySelector('#' + key + ' button');\n",
              "      quickchartButtonEl.disabled = true;  // To prevent multiple clicks.\n",
              "      quickchartButtonEl.classList.add('colab-df-spinner');\n",
              "      try {\n",
              "        const charts = await google.colab.kernel.invokeFunction(\n",
              "            'suggestCharts', [key], {});\n",
              "      } catch (error) {\n",
              "        console.error('Error during call to suggestCharts:', error);\n",
              "      }\n",
              "      quickchartButtonEl.classList.remove('colab-df-spinner');\n",
              "      quickchartButtonEl.classList.add('colab-df-quickchart-complete');\n",
              "    }\n",
              "    (() => {\n",
              "      let quickchartButtonEl =\n",
              "        document.querySelector('#df-d065605a-dca2-42a5-8de7-888d5fa61db9 button');\n",
              "      quickchartButtonEl.style.display =\n",
              "        google.colab.kernel.accessAllowed ? 'block' : 'none';\n",
              "    })();\n",
              "  </script>\n",
              "</div>\n",
              "\n",
              "    </div>\n",
              "  </div>\n"
            ],
            "application/vnd.google.colaboratory.intrinsic+json": {
              "type": "dataframe",
              "variable_name": "data",
              "summary": "{\n  \"name\": \"data\",\n  \"rows\": 1000,\n  \"fields\": [\n    {\n      \"column\": \"file_name\",\n      \"properties\": {\n        \"dtype\": \"string\",\n        \"num_unique_values\": 1000,\n        \"samples\": [\n          \"File:Bury St Edmunds buildings (26) (geograph 6645803).jpg\",\n          \"File:Heathrow Hotel - geograph.org.uk - 5241683.jpg\",\n          \"File:Renault 21 TXE (22521880068).jpg\"\n        ],\n        \"semantic_type\": \"\",\n        \"description\": \"\"\n      }\n    },\n    {\n      \"column\": \"wiki_commons_id\",\n      \"properties\": {\n        \"dtype\": \"number\",\n        \"std\": 42666728,\n        \"min\": 1410254,\n        \"max\": 147053043,\n        \"num_unique_values\": 1000,\n        \"samples\": [\n          138351327,\n          135758872,\n          45994780\n        ],\n        \"semantic_type\": \"\",\n        \"description\": \"\"\n      }\n    },\n    {\n      \"column\": \"wiki_data_id\",\n      \"properties\": {\n        \"dtype\": \"string\",\n        \"num_unique_values\": 975,\n        \"samples\": [\n          \"['Q34442', 'Q1892761']\",\n          \"['Q30619416']\",\n          \"['Q12902372', 'Q75210629']\"\n        ],\n        \"semantic_type\": \"\",\n        \"description\": \"\"\n      }\n    },\n    {\n      \"column\": \"depicts\",\n      \"properties\": {\n        \"dtype\": \"string\",\n        \"num_unique_values\": 944,\n        \"samples\": [\n          \"['Surroundings of the St. Roch church in Bia\\u0142ystok', \\\"St. Roch's Church in Bia\\u0142ystok\\\"]\",\n          \"['Maodo L\\u00f4']\",\n          \"[\\\"Michelle O'Neill\\\"]\"\n        ],\n        \"semantic_type\": \"\",\n        \"description\": \"\"\n      }\n    },\n    {\n      \"column\": \"description\",\n      \"properties\": {\n        \"dtype\": \"string\",\n        \"num_unique_values\": 862,\n        \"samples\": [\n          \"['sculpture stored in the mus\\u00e9e Saint-Raymond of Toulouse']\",\n          \"['wide way leading from one place to another, especially one with a specially prepared surface which vehicles can use', 'borough in the London Region in England']\",\n          \"['Dutch pop band']\"\n        ],\n        \"semantic_type\": \"\",\n        \"description\": \"\"\n      }\n    },\n    {\n      \"column\": \"parsed caption\",\n      \"properties\": {\n        \"dtype\": \"string\",\n        \"num_unique_values\": 933,\n        \"samples\": [\n          \"Ostrokrzew w Rewalu\\n\\n  *[![](https://upload.wikimedia.org/wikipedia/commons/thumb/5/53/Info_non-talk.svg/15px-Info_non-talk.svg.png)]: Files from the inventories \\u201cBild 101 Propagandakompanien der Wehrmacht\\u201d and \\u201cBild 183 ADN\\u201d may have particularly biased or politically extreme descriptions.\\n\\n\",\n          \"500px provided description: 1cun8138 Jpg [#lol ,#s5 ,#Paris ,#teamchina]\\n\\n\",\n          \"Wild Grassland Area [![Edit this at Structured Data on\\nCommons](https://upload.wikimedia.org/wikipedia/commons/thumb/8/8a/OOjs_UI_icon_edit-\\nltr-progressive.svg/10px-OOjs_UI_icon_edit-ltr-\\nprogressive.svg.png)](//commons.wikimedia.org/wiki/File:Wild_Grassland_Area_-\\n_geograph.org.uk_-_4058191.jpg#ooui-php-4 \\\"Edit this at Structured Data on\\nCommons\\\")\\n\\n\"\n        ],\n        \"semantic_type\": \"\",\n        \"description\": \"\"\n      }\n    },\n    {\n      \"column\": \"commons_description\",\n      \"properties\": {\n        \"dtype\": \"string\",\n        \"num_unique_values\": 994,\n        \"samples\": [\n          \"{'DateTime': {'value': '2018-10-06 20:00:23', 'source': 'mediawiki-metadata', 'hidden': ''}, 'ObjectName': {'value': '\\u0628\\u0631\\u062c \\u0631\\u0633\\u06a9\\u062a 3', 'source': 'mediawiki-metadata'}, 'CommonsMetadataExtension': {'value': 1.2, 'source': 'extension', 'hidden': ''}, 'Categories': {'value': 'Cultural heritage monuments in Iran with known IDs|Images from Wiki Loves Monuments 2018|Images from Wiki Loves Monuments 2018 in Iran|Images from Wiki Loves Monuments in Sari, Iran|Resket Tower|Self-published work|Uploaded via Campaign:wlm-ir', 'source': 'commons-categories', 'hidden': ''}, 'Assessments': {'value': '', 'source': 'commons-categories', 'hidden': ''}, 'ImageDescription': {'value': 'This is a photo of a monument in Iran identified by the ID', 'source': 'commons-desc-page'}, 'DateTimeOriginal': {'value': '2016-07-01 10:42:24', 'source': 'commons-desc-page'}, 'Credit': {'value': '<span class=\\\"int-own-work\\\" lang=\\\"en\\\">Own work</span>', 'source': 'commons-desc-page'}, 'Artist': {'value': '<a href=\\\"//commons.wikimedia.org/w/index.php?title=User:%D8%B1%D9%85%D8%B6%D8%A7%D9%86_%D8%B9%D9%85%D9%88%D8%A6%DB%8C&amp;action=edit&amp;redlink=1\\\" class=\\\"new\\\" title=\\\"User:\\u0631\\u0645\\u0636\\u0627\\u0646 \\u0639\\u0645\\u0648\\u0626\\u06cc (page does not exist)\\\">\\u0631\\u0645\\u0636\\u0627\\u0646 \\u0639\\u0645\\u0648\\u0626\\u06cc</a>', 'source': 'commons-desc-page'}, 'LicenseShortName': {'value': 'CC BY-SA 4.0', 'source': 'commons-desc-page', 'hidden': ''}, 'UsageTerms': {'value': 'Creative Commons Attribution-Share Alike 4.0', 'source': 'commons-desc-page'}, 'AttributionRequired': {'value': 'true', 'source': 'commons-desc-page', 'hidden': ''}, 'LicenseUrl': {'value': 'https://creativecommons.org/licenses/by-sa/4.0', 'source': 'commons-desc-page'}, 'Copyrighted': {'value': 'True', 'source': 'commons-desc-page', 'hidden': ''}, 'Restrictions': {'value': '', 'source': 'commons-desc-page', 'hidden': ''}, 'License': {'value': 'cc-by-sa-4.0', 'source': 'commons-templates', 'hidden': ''}}\",\n          \"{'DateTime': {'value': '2023-12-08 15:02:26', 'source': 'mediawiki-metadata', 'hidden': ''}, 'ObjectName': {'value': 'Northways Farm - geograph.org.uk - 5891239', 'source': 'mediawiki-metadata'}, 'CommonsMetadataExtension': {'value': 1.2, 'source': 'extension', 'hidden': ''}, 'Categories': {'value': 'Images from Geograph Britain and Ireland|Mawnan|Pages with camera coordinates from SDC|Pages with maps|Pages with object coordinates from SDC', 'source': 'commons-categories', 'hidden': ''}, 'Assessments': {'value': '', 'source': 'commons-categories', 'hidden': ''}, 'GPSLatitude': {'value': '50.123695', 'source': 'commons-desc-page'}, 'GPSLongitude': {'value': '-5.107016', 'source': 'commons-desc-page'}, 'GPSMapDatum': {'value': 'WGS-84', 'source': 'commons-desc-page', 'hidden': ''}, 'ImageDescription': {'value': 'Northways Farm\\\\xa0<span class=\\\"mw-valign-text-top\\\" typeof=\\\"mw:File/Frameless\\\"><a href=\\\"//commons.wikimedia.org/wiki/File:Northways_Farm_-_geograph.org.uk_-_5891239.jpg#ooui-php-4\\\" title=\\\"Edit this at Structured Data on Commons\\\"><img alt=\\\"Edit this at Structured Data on Commons\\\" src=\\\"https://upload.wikimedia.org/wikipedia/commons/thumb/8/8a/OOjs_UI_icon_edit-ltr-progressive.svg/10px-OOjs_UI_icon_edit-ltr-progressive.svg.png\\\" decoding=\\\"async\\\" width=\\\"10\\\" height=\\\"10\\\" class=\\\"mw-file-element\\\" srcset=\\\"https://upload.wikimedia.org/wikipedia/commons/thumb/8/8a/OOjs_UI_icon_edit-ltr-progressive.svg/15px-OOjs_UI_icon_edit-ltr-progressive.svg.png 1.5x, https://upload.wikimedia.org/wikipedia/commons/thumb/8/8a/OOjs_UI_icon_edit-ltr-progressive.svg/20px-OOjs_UI_icon_edit-ltr-progressive.svg.png 2x\\\" data-file-width=\\\"20\\\" data-file-height=\\\"20\\\"></a></span>', 'source': 'commons-desc-page'}, 'DateTimeOriginal': {'value': '2018-04-28', 'source': 'commons-desc-page'}, 'Credit': {'value': '<a rel=\\\"nofollow\\\" class=\\\"external text\\\" href=\\\"https://www.geograph.org.uk/photo/5891239\\\">Geograph Britain and Ireland</a>\\\\xa0<span class=\\\"mw-valign-text-top\\\" typeof=\\\"mw:File/Frameless\\\"><a href=\\\"//commons.wikimedia.org/wiki/File:Northways_Farm_-_geograph.org.uk_-_5891239.jpg#P7482\\\" title=\\\"Edit this at Structured Data on Commons\\\"><img alt=\\\"Edit this at Structured Data on Commons\\\" src=\\\"https://upload.wikimedia.org/wikipedia/commons/thumb/8/8a/OOjs_UI_icon_edit-ltr-progressive.svg/10px-OOjs_UI_icon_edit-ltr-progressive.svg.png\\\" decoding=\\\"async\\\" width=\\\"10\\\" height=\\\"10\\\" class=\\\"mw-file-element\\\" srcset=\\\"https://upload.wikimedia.org/wikipedia/commons/thumb/8/8a/OOjs_UI_icon_edit-ltr-progressive.svg/15px-OOjs_UI_icon_edit-ltr-progressive.svg.png 1.5x, https://upload.wikimedia.org/wikipedia/commons/thumb/8/8a/OOjs_UI_icon_edit-ltr-progressive.svg/20px-OOjs_UI_icon_edit-ltr-progressive.svg.png 2x\\\" data-file-width=\\\"20\\\" data-file-height=\\\"20\\\"></a></span>', 'source': 'commons-desc-page'}, 'Artist': {'value': '<a rel=\\\"nofollow\\\" class=\\\"external text\\\" href=\\\"https://www.geograph.org.uk/profile/3101\\\">N Chadwick</a>\\\\xa0<span class=\\\"mw-valign-text-top\\\" typeof=\\\"mw:File/Frameless\\\"><a href=\\\"//commons.wikimedia.org/wiki/File:Northways_Farm_-_geograph.org.uk_-_5891239.jpg#P170\\\" title=\\\"Edit this at Structured Data on Commons\\\"><img alt=\\\"Edit this at Structured Data on Commons\\\" src=\\\"https://upload.wikimedia.org/wikipedia/commons/thumb/8/8a/OOjs_UI_icon_edit-ltr-progressive.svg/10px-OOjs_UI_icon_edit-ltr-progressive.svg.png\\\" decoding=\\\"async\\\" width=\\\"10\\\" height=\\\"10\\\" class=\\\"mw-file-element\\\" srcset=\\\"https://upload.wikimedia.org/wikipedia/commons/thumb/8/8a/OOjs_UI_icon_edit-ltr-progressive.svg/15px-OOjs_UI_icon_edit-ltr-progressive.svg.png 1.5x, https://upload.wikimedia.org/wikipedia/commons/thumb/8/8a/OOjs_UI_icon_edit-ltr-progressive.svg/20px-OOjs_UI_icon_edit-ltr-progressive.svg.png 2x\\\" data-file-width=\\\"20\\\" data-file-height=\\\"20\\\"></a></span>', 'source': 'commons-desc-page'}, 'LicenseShortName': {'value': 'CC BY-SA 2.0', 'source': 'commons-desc-page', 'hidden': ''}, 'UsageTerms': {'value': 'Creative Commons Attribution-Share Alike 2.0', 'source': 'commons-desc-page'}, 'AttributionRequired': {'value': 'true', 'source': 'commons-desc-page', 'hidden': ''}, 'Attribution': {'value': '<i>Northways Farm</i> by\\\\xa0N Chadwick', 'source': 'commons-desc-page', 'hidden': ''}, 'LicenseUrl': {'value': 'https://creativecommons.org/licenses/by-sa/2.0', 'source': 'commons-desc-page'}, 'Copyrighted': {'value': 'True', 'source': 'commons-desc-page', 'hidden': ''}, 'Restrictions': {'value': '', 'source': 'commons-desc-page', 'hidden': ''}, 'License': {'value': 'cc-by-sa-2.0', 'source': 'commons-templates', 'hidden': ''}}\",\n          \"{'DateTime': {'value': '2017-12-18 23:07:04', 'source': 'mediawiki-metadata', 'hidden': ''}, 'ObjectName': {'value': '\\u062f\\u0648\\u0686\\u0631\\u062e\\u0647\\\\u200c\\u0633\\u0648\\u0627\\u0631\\u06cc \\u0628\\u06cc\\\\u200c\\u0627\\u0645\\\\u200c\\u0627\\u06a9\\u0633 \\u062f\\u0631 \\u067e\\u0627\\u0631\\u06a9 \\u0622\\u0628 \\u0648 \\u0622\\u062a\\u0634 \\u062a\\u0647\\u0631\\u0627\\u0646 BMX bike ride in \\\"Water and Fire\\\" park in Tehran 24', 'source': 'mediawiki-metadata'}, 'CommonsMetadataExtension': {'value': 1.2, 'source': 'extension', 'hidden': ''}, 'Categories': {'value': 'Ab-o-Atash Skatepark|April 2017 in Tehran|Clouds in Tehran|Cycling in Tehran|Domes in Tehran|Files with coordinates missing SDC location of creation|High-rises in Tehran|Iran photographs taken on 2017-04-21|Mina Dome Planetarium|Office buildings in Tehran|Pages with maps|Photographs by Mostafa Meraji|Self-published work', 'source': 'commons-categories', 'hidden': ''}, 'Assessments': {'value': '', 'source': 'commons-categories', 'hidden': ''}, 'GPSLatitude': {'value': '35.750578', 'source': 'commons-desc-page'}, 'GPSLongitude': {'value': '51.417983', 'source': 'commons-desc-page'}, 'GPSMapDatum': {'value': 'WGS-84', 'source': 'commons-desc-page', 'hidden': ''}, 'ImageDescription': {'value': 'BMX, an abbreviation for bicycle motocross or bike motocross, is a cycle sport performed on BMX bikes, either in competitive BMX racing or freestyle BMX, or else in general on- or off-road recreation. BMX began when young cyclists appropriated motocross tracks for fun, racing and stunts, eventually evolving specialized BMX bikes and competitions.\\\\nPhotographer: Mostafa Meraji', 'source': 'commons-desc-page'}, 'DateTimeOriginal': {'value': 'Taken on\\\\xa021 April 2017, 14:54:19', 'source': 'commons-desc-page'}, 'Credit': {'value': '<span class=\\\"int-own-work\\\" lang=\\\"en\\\">Own work</span>', 'source': 'commons-desc-page'}, 'Artist': {'value': '<a href=\\\"//commons.wikimedia.org/wiki/User:Mostafameraji\\\" title=\\\"User:Mostafameraji\\\">Mostafameraji</a>', 'source': 'commons-desc-page'}, 'LicenseShortName': {'value': 'CC BY-SA 4.0', 'source': 'commons-desc-page', 'hidden': ''}, 'UsageTerms': {'value': 'Creative Commons Attribution-Share Alike 4.0', 'source': 'commons-desc-page'}, 'AttributionRequired': {'value': 'true', 'source': 'commons-desc-page', 'hidden': ''}, 'LicenseUrl': {'value': 'https://creativecommons.org/licenses/by-sa/4.0', 'source': 'commons-desc-page'}, 'Copyrighted': {'value': 'True', 'source': 'commons-desc-page', 'hidden': ''}, 'Restrictions': {'value': '', 'source': 'commons-desc-page', 'hidden': ''}, 'License': {'value': 'cc-by-sa-4.0', 'source': 'commons-templates', 'hidden': ''}}\"\n        ],\n        \"semantic_type\": \"\",\n        \"description\": \"\"\n      }\n    }\n  ]\n}"
            }
          },
          "metadata": {},
          "execution_count": 29
        }
      ]
    },
    {
      "cell_type": "code",
      "source": [
        "# verify that all csv files were indeed added together\n",
        "data.shape[0]"
      ],
      "metadata": {
        "id": "CpHXCt5UfPqN"
      },
      "execution_count": null,
      "outputs": []
    },
    {
      "cell_type": "markdown",
      "source": [
        "## Original Spacy Model"
      ],
      "metadata": {
        "id": "48JR_UsmdpEn"
      }
    },
    {
      "cell_type": "code",
      "execution_count": null,
      "metadata": {
        "id": "CCzY7KbhozXM"
      },
      "outputs": [],
      "source": [
        "# Load the English language model for SpaCy\n",
        "nlp = spacy.load(\"en_core_web_sm\")\n",
        "\n",
        "def extract_tags(description):\n",
        "  \"\"\"\n",
        "  This function takes an image description as input and extracts potential tags.\n",
        "\n",
        "  Args:\n",
        "      description (str): The text description of the image.\n",
        "\n",
        "  Returns:\n",
        "      list: A list of potential tags extracted from the description.\n",
        "  \"\"\"\n",
        "  # Preprocess the text\n",
        "  description = description.lower()\n",
        "  description = description.strip() # Remove leading/trailing whitespaces\n",
        "\n",
        "  # Perform NLP with spaCy\n",
        "  doc = nlp(description)\n",
        "\n",
        "  # Extract potential tags\n",
        "  tags = []\n",
        "  prev_token = None\n",
        "  for token in doc:\n",
        "    if token.pos_ in [\"NOUN\", \"PROPN\"]: # Consider nouns and proper nouns\n",
        "      if prev_token and prev_token.pos_ in [\"NOUN\", \"PROPN\"]:\n",
        "        # Combine the current and previous token for multi-word tags\n",
        "        tags.append(prev_token.text + \" \" + token.text)\n",
        "      else:\n",
        "        tags.append(token.text)\n",
        "    prev_token = token\n",
        "\n",
        "  return tags"
      ]
    },
    {
      "cell_type": "code",
      "source": [
        "\n",
        "# Extracting a single string, test usage\n",
        "image_description = \"A photo of a Golden Gate Bridge at sunset, with sailboats in the foreground.\"\n",
        "tags = extract_tags(image_description)\n",
        "\n",
        "print(\"Extracted tags:\", tags)"
      ],
      "metadata": {
        "colab": {
          "base_uri": "https://localhost:8080/"
        },
        "id": "tI3G5kX3o2VA",
        "outputId": "31151a75-2079-4319-f665-b91bae71aae7"
      },
      "execution_count": null,
      "outputs": [
        {
          "output_type": "stream",
          "name": "stdout",
          "text": [
            "Extracted tags: ['photo', 'golden', 'golden gate', 'gate bridge', 'sunset', 'sailboats', 'foreground']\n"
          ]
        }
      ]
    },
    {
      "cell_type": "code",
      "source": [
        "#######\n",
        "#######\n",
        "#######\n",
        "#######"
      ],
      "metadata": {
        "id": "sSosx_z-pc8z"
      },
      "execution_count": null,
      "outputs": []
    },
    {
      "cell_type": "code",
      "source": [
        "# Download larger model (medium), has to be repeated every time Colab session is opened\n",
        "!python -m spacy download en_core_web_md"
      ],
      "metadata": {
        "colab": {
          "base_uri": "https://localhost:8080/"
        },
        "id": "m2XEdVStq1_v",
        "outputId": "d28f1c1c-49c2-4335-9a1a-45c3d61e1f51"
      },
      "execution_count": null,
      "outputs": [
        {
          "output_type": "execute_result",
          "data": {
            "text/plain": [
              "['Collecting en-core-web-md==3.7.1',\n",
              " '  Downloading https://github.com/explosion/spacy-models/releases/download/en_core_web_md-3.7.1/en_core_web_md-3.7.1-py3-none-any.whl (42.8 MB)',\n",
              " '\\x1b[?25l     \\x1b[90m━━━━━━━━━━━━━━━━━━━━━━━━━━━━━━━━━━━━━━━━\\x1b[0m \\x1b[32m0.0/42.8 MB\\x1b[0m \\x1b[31m?\\x1b[0m eta \\x1b[36m-:--:--\\x1b[0m',\n",
              " '\\x1b[2K     \\x1b[90m━━━━━━━━━━━━━━━━━━━━━━━━━━━━━━━━━━━━━━━━\\x1b[0m \\x1b[32m0.2/42.8 MB\\x1b[0m \\x1b[31m7.2 MB/s\\x1b[0m eta \\x1b[36m0:00:06\\x1b[0m',\n",
              " '\\x1b[2K     \\x1b[91m╸\\x1b[0m\\x1b[90m━━━━━━━━━━━━━━━━━━━━━━━━━━━━━━━━━━━━━━━\\x1b[0m \\x1b[32m0.8/42.8 MB\\x1b[0m \\x1b[31m11.3 MB/s\\x1b[0m eta \\x1b[36m0:00:04\\x1b[0m',\n",
              " '\\x1b[2K     \\x1b[91m━\\x1b[0m\\x1b[90m╺\\x1b[0m\\x1b[90m━━━━━━━━━━━━━━━━━━━━━━━━━━━━━━━━━━━━━━\\x1b[0m \\x1b[32m1.4/42.8 MB\\x1b[0m \\x1b[31m13.5 MB/s\\x1b[0m eta \\x1b[36m0:00:04\\x1b[0m',\n",
              " '\\x1b[2K     \\x1b[91m━━\\x1b[0m\\x1b[90m╺\\x1b[0m\\x1b[90m━━━━━━━━━━━━━━━━━━━━━━━━━━━━━━━━━━━━━\\x1b[0m \\x1b[32m2.2/42.8 MB\\x1b[0m \\x1b[31m15.8 MB/s\\x1b[0m eta \\x1b[36m0:00:03\\x1b[0m',\n",
              " '\\x1b[2K     \\x1b[91m━━━\\x1b[0m\\x1b[90m╺\\x1b[0m\\x1b[90m━━━━━━━━━━━━━━━━━━━━━━━━━━━━━━━━━━━━\\x1b[0m \\x1b[32m3.2/42.8 MB\\x1b[0m \\x1b[31m18.2 MB/s\\x1b[0m eta \\x1b[36m0:00:03\\x1b[0m',\n",
              " '\\x1b[2K     \\x1b[91m━━━━\\x1b[0m\\x1b[90m╺\\x1b[0m\\x1b[90m━━━━━━━━━━━━━━━━━━━━━━━━━━━━━━━━━━━\\x1b[0m \\x1b[32m4.5/42.8 MB\\x1b[0m \\x1b[31m21.2 MB/s\\x1b[0m eta \\x1b[36m0:00:02\\x1b[0m',\n",
              " '\\x1b[2K     \\x1b[91m━━━━━\\x1b[0m\\x1b[91m╸\\x1b[0m\\x1b[90m━━━━━━━━━━━━━━━━━━━━━━━━━━━━━━━━━━\\x1b[0m \\x1b[32m6.1/42.8 MB\\x1b[0m \\x1b[31m24.3 MB/s\\x1b[0m eta \\x1b[36m0:00:02\\x1b[0m',\n",
              " '\\x1b[2K     \\x1b[91m━━━━━━━\\x1b[0m\\x1b[91m╸\\x1b[0m\\x1b[90m━━━━━━━━━━━━━━━━━━━━━━━━━━━━━━━━\\x1b[0m \\x1b[32m8.0/42.8 MB\\x1b[0m \\x1b[31m28.2 MB/s\\x1b[0m eta \\x1b[36m0:00:02\\x1b[0m',\n",
              " '\\x1b[2K     \\x1b[91m━━━━━━━━━\\x1b[0m\\x1b[91m╸\\x1b[0m\\x1b[90m━━━━━━━━━━━━━━━━━━━━━━━━━━━━━━\\x1b[0m \\x1b[32m10.6/42.8 MB\\x1b[0m \\x1b[31m37.1 MB/s\\x1b[0m eta \\x1b[36m0:00:01\\x1b[0m',\n",
              " '\\x1b[2K     \\x1b[91m━━━━━━━━━━━━\\x1b[0m\\x1b[91m╸\\x1b[0m\\x1b[90m━━━━━━━━━━━━━━━━━━━━━━━━━━━\\x1b[0m \\x1b[32m13.9/42.8 MB\\x1b[0m \\x1b[31m61.2 MB/s\\x1b[0m eta \\x1b[36m0:00:01\\x1b[0m',\n",
              " '\\x1b[2K     \\x1b[91m━━━━━━━━━━━━━━━━\\x1b[0m\\x1b[91m╸\\x1b[0m\\x1b[90m━━━━━━━━━━━━━━━━━━━━━━━\\x1b[0m \\x1b[32m17.7/42.8 MB\\x1b[0m \\x1b[31m86.9 MB/s\\x1b[0m eta \\x1b[36m0:00:01\\x1b[0m',\n",
              " '\\x1b[2K     \\x1b[91m━━━━━━━━━━━━━━━━━━━━\\x1b[0m\\x1b[91m╸\\x1b[0m\\x1b[90m━━━━━━━━━━━━━━━━━━━\\x1b[0m \\x1b[32m22.5/42.8 MB\\x1b[0m \\x1b[31m115.6 MB/s\\x1b[0m eta \\x1b[36m0:00:01\\x1b[0m',\n",
              " '\\x1b[2K     \\x1b[91m━━━━━━━━━━━━━━━━━━━━━━━━━\\x1b[0m\\x1b[90m╺\\x1b[0m\\x1b[90m━━━━━━━━━━━━━━\\x1b[0m \\x1b[32m27.1/42.8 MB\\x1b[0m \\x1b[31m124.1 MB/s\\x1b[0m eta \\x1b[36m0:00:01\\x1b[0m',\n",
              " '\\x1b[2K     \\x1b[91m━━━━━━━━━━━━━━━━━━━━━━━━━━━━━\\x1b[0m\\x1b[90m╺\\x1b[0m\\x1b[90m━━━━━━━━━━\\x1b[0m \\x1b[32m31.3/42.8 MB\\x1b[0m \\x1b[31m117.4 MB/s\\x1b[0m eta \\x1b[36m0:00:01\\x1b[0m',\n",
              " '\\x1b[2K     \\x1b[91m━━━━━━━━━━━━━━━━━━━━━━━━━━━━━━━━━━\\x1b[0m\\x1b[90m╺\\x1b[0m\\x1b[90m━━━━━\\x1b[0m \\x1b[32m36.4/42.8 MB\\x1b[0m \\x1b[31m114.4 MB/s\\x1b[0m eta \\x1b[36m0:00:01\\x1b[0m',\n",
              " '\\x1b[2K     \\x1b[91m━━━━━━━━━━━━━━━━━━━━━━━━━━━━━━━━━━━━━━\\x1b[0m\\x1b[91m╸\\x1b[0m\\x1b[90m━\\x1b[0m \\x1b[32m41.5/42.8 MB\\x1b[0m \\x1b[31m122.9 MB/s\\x1b[0m eta \\x1b[36m0:00:01\\x1b[0m',\n",
              " '\\x1b[2K     \\x1b[91m━━━━━━━━━━━━━━━━━━━━━━━━━━━━━━━━━━━━━━━\\x1b[0m\\x1b[91m╸\\x1b[0m \\x1b[32m42.8/42.8 MB\\x1b[0m \\x1b[31m126.1 MB/s\\x1b[0m eta \\x1b[36m0:00:01\\x1b[0m',\n",
              " '\\x1b[2K     \\x1b[91m━━━━━━━━━━━━━━━━━━━━━━━━━━━━━━━━━━━━━━━\\x1b[0m\\x1b[91m╸\\x1b[0m \\x1b[32m42.8/42.8 MB\\x1b[0m \\x1b[31m126.1 MB/s\\x1b[0m eta \\x1b[36m0:00:01\\x1b[0m',\n",
              " '\\x1b[2K     \\x1b[91m━━━━━━━━━━━━━━━━━━━━━━━━━━━━━━━━━━━━━━━\\x1b[0m\\x1b[91m╸\\x1b[0m \\x1b[32m42.8/42.8 MB\\x1b[0m \\x1b[31m126.1 MB/s\\x1b[0m eta \\x1b[36m0:00:01\\x1b[0m',\n",
              " '\\x1b[2K     \\x1b[91m━━━━━━━━━━━━━━━━━━━━━━━━━━━━━━━━━━━━━━━\\x1b[0m\\x1b[91m╸\\x1b[0m \\x1b[32m42.8/42.8 MB\\x1b[0m \\x1b[31m126.1 MB/s\\x1b[0m eta \\x1b[36m0:00:01\\x1b[0m',\n",
              " '\\x1b[2K     \\x1b[91m━━━━━━━━━━━━━━━━━━━━━━━━━━━━━━━━━━━━━━━\\x1b[0m\\x1b[91m╸\\x1b[0m \\x1b[32m42.8/42.8 MB\\x1b[0m \\x1b[31m126.1 MB/s\\x1b[0m eta \\x1b[36m0:00:01\\x1b[0m',\n",
              " '\\x1b[2K     \\x1b[91m━━━━━━━━━━━━━━━━━━━━━━━━━━━━━━━━━━━━━━━\\x1b[0m\\x1b[91m╸\\x1b[0m \\x1b[32m42.8/42.8 MB\\x1b[0m \\x1b[31m126.1 MB/s\\x1b[0m eta \\x1b[36m0:00:01\\x1b[0m',\n",
              " '\\x1b[2K     \\x1b[91m━━━━━━━━━━━━━━━━━━━━━━━━━━━━━━━━━━━━━━━\\x1b[0m\\x1b[91m╸\\x1b[0m \\x1b[32m42.8/42.8 MB\\x1b[0m \\x1b[31m126.1 MB/s\\x1b[0m eta \\x1b[36m0:00:01\\x1b[0m',\n",
              " '\\x1b[2K     \\x1b[91m━━━━━━━━━━━━━━━━━━━━━━━━━━━━━━━━━━━━━━━\\x1b[0m\\x1b[91m╸\\x1b[0m \\x1b[32m42.8/42.8 MB\\x1b[0m \\x1b[31m126.1 MB/s\\x1b[0m eta \\x1b[36m0:00:01\\x1b[0m',\n",
              " '\\x1b[2K     \\x1b[91m━━━━━━━━━━━━━━━━━━━━━━━━━━━━━━━━━━━━━━━\\x1b[0m\\x1b[91m╸\\x1b[0m \\x1b[32m42.8/42.8 MB\\x1b[0m \\x1b[31m126.1 MB/s\\x1b[0m eta \\x1b[36m0:00:01\\x1b[0m',\n",
              " '\\x1b[2K     \\x1b[91m━━━━━━━━━━━━━━━━━━━━━━━━━━━━━━━━━━━━━━━\\x1b[0m\\x1b[91m╸\\x1b[0m \\x1b[32m42.8/42.8 MB\\x1b[0m \\x1b[31m126.1 MB/s\\x1b[0m eta \\x1b[36m0:00:01\\x1b[0m',\n",
              " '\\x1b[2K     \\x1b[91m━━━━━━━━━━━━━━━━━━━━━━━━━━━━━━━━━━━━━━━\\x1b[0m\\x1b[91m╸\\x1b[0m \\x1b[32m42.8/42.8 MB\\x1b[0m \\x1b[31m126.1 MB/s\\x1b[0m eta \\x1b[36m0:00:01\\x1b[0m',\n",
              " '\\x1b[2K     \\x1b[91m━━━━━━━━━━━━━━━━━━━━━━━━━━━━━━━━━━━━━━━\\x1b[0m\\x1b[91m╸\\x1b[0m \\x1b[32m42.8/42.8 MB\\x1b[0m \\x1b[31m126.1 MB/s\\x1b[0m eta \\x1b[36m0:00:01\\x1b[0m',\n",
              " '\\x1b[2K     \\x1b[91m━━━━━━━━━━━━━━━━━━━━━━━━━━━━━━━━━━━━━━━\\x1b[0m\\x1b[91m╸\\x1b[0m \\x1b[32m42.8/42.8 MB\\x1b[0m \\x1b[31m126.1 MB/s\\x1b[0m eta \\x1b[36m0:00:01\\x1b[0m',\n",
              " '\\x1b[2K     \\x1b[91m━━━━━━━━━━━━━━━━━━━━━━━━━━━━━━━━━━━━━━━\\x1b[0m\\x1b[91m╸\\x1b[0m \\x1b[32m42.8/42.8 MB\\x1b[0m \\x1b[31m126.1 MB/s\\x1b[0m eta \\x1b[36m0:00:01\\x1b[0m',\n",
              " '\\x1b[2K     \\x1b[91m━━━━━━━━━━━━━━━━━━━━━━━━━━━━━━━━━━━━━━━\\x1b[0m\\x1b[91m╸\\x1b[0m \\x1b[32m42.8/42.8 MB\\x1b[0m \\x1b[31m126.1 MB/s\\x1b[0m eta \\x1b[36m0:00:01\\x1b[0m',\n",
              " '\\x1b[2K     \\x1b[90m━━━━━━━━━━━━━━━━━━━━━━━━━━━━━━━━━━━━━━━━\\x1b[0m \\x1b[32m42.8/42.8 MB\\x1b[0m \\x1b[31m15.3 MB/s\\x1b[0m eta \\x1b[36m0:00:00\\x1b[0m',\n",
              " '\\x1b[?25hRequirement already satisfied: spacy<3.8.0,>=3.7.2 in /usr/local/lib/python3.10/dist-packages (from en-core-web-md==3.7.1) (3.7.4)',\n",
              " 'Requirement already satisfied: spacy-legacy<3.1.0,>=3.0.11 in /usr/local/lib/python3.10/dist-packages (from spacy<3.8.0,>=3.7.2->en-core-web-md==3.7.1) (3.0.12)',\n",
              " 'Requirement already satisfied: spacy-loggers<2.0.0,>=1.0.0 in /usr/local/lib/python3.10/dist-packages (from spacy<3.8.0,>=3.7.2->en-core-web-md==3.7.1) (1.0.5)',\n",
              " 'Requirement already satisfied: murmurhash<1.1.0,>=0.28.0 in /usr/local/lib/python3.10/dist-packages (from spacy<3.8.0,>=3.7.2->en-core-web-md==3.7.1) (1.0.10)',\n",
              " 'Requirement already satisfied: cymem<2.1.0,>=2.0.2 in /usr/local/lib/python3.10/dist-packages (from spacy<3.8.0,>=3.7.2->en-core-web-md==3.7.1) (2.0.8)',\n",
              " 'Requirement already satisfied: preshed<3.1.0,>=3.0.2 in /usr/local/lib/python3.10/dist-packages (from spacy<3.8.0,>=3.7.2->en-core-web-md==3.7.1) (3.0.9)',\n",
              " 'Requirement already satisfied: thinc<8.3.0,>=8.2.2 in /usr/local/lib/python3.10/dist-packages (from spacy<3.8.0,>=3.7.2->en-core-web-md==3.7.1) (8.2.3)',\n",
              " 'Requirement already satisfied: wasabi<1.2.0,>=0.9.1 in /usr/local/lib/python3.10/dist-packages (from spacy<3.8.0,>=3.7.2->en-core-web-md==3.7.1) (1.1.2)',\n",
              " 'Requirement already satisfied: srsly<3.0.0,>=2.4.3 in /usr/local/lib/python3.10/dist-packages (from spacy<3.8.0,>=3.7.2->en-core-web-md==3.7.1) (2.4.8)',\n",
              " 'Requirement already satisfied: catalogue<2.1.0,>=2.0.6 in /usr/local/lib/python3.10/dist-packages (from spacy<3.8.0,>=3.7.2->en-core-web-md==3.7.1) (2.0.10)',\n",
              " 'Requirement already satisfied: weasel<0.4.0,>=0.1.0 in /usr/local/lib/python3.10/dist-packages (from spacy<3.8.0,>=3.7.2->en-core-web-md==3.7.1) (0.3.4)',\n",
              " 'Requirement already satisfied: typer<0.10.0,>=0.3.0 in /usr/local/lib/python3.10/dist-packages (from spacy<3.8.0,>=3.7.2->en-core-web-md==3.7.1) (0.9.4)',\n",
              " 'Requirement already satisfied: smart-open<7.0.0,>=5.2.1 in /usr/local/lib/python3.10/dist-packages (from spacy<3.8.0,>=3.7.2->en-core-web-md==3.7.1) (6.4.0)',\n",
              " 'Requirement already satisfied: tqdm<5.0.0,>=4.38.0 in /usr/local/lib/python3.10/dist-packages (from spacy<3.8.0,>=3.7.2->en-core-web-md==3.7.1) (4.66.2)',\n",
              " 'Requirement already satisfied: requests<3.0.0,>=2.13.0 in /usr/local/lib/python3.10/dist-packages (from spacy<3.8.0,>=3.7.2->en-core-web-md==3.7.1) (2.31.0)',\n",
              " 'Requirement already satisfied: pydantic!=1.8,!=1.8.1,<3.0.0,>=1.7.4 in /usr/local/lib/python3.10/dist-packages (from spacy<3.8.0,>=3.7.2->en-core-web-md==3.7.1) (2.6.4)',\n",
              " 'Requirement already satisfied: jinja2 in /usr/local/lib/python3.10/dist-packages (from spacy<3.8.0,>=3.7.2->en-core-web-md==3.7.1) (3.1.3)',\n",
              " 'Requirement already satisfied: setuptools in /usr/local/lib/python3.10/dist-packages (from spacy<3.8.0,>=3.7.2->en-core-web-md==3.7.1) (67.7.2)',\n",
              " 'Requirement already satisfied: packaging>=20.0 in /usr/local/lib/python3.10/dist-packages (from spacy<3.8.0,>=3.7.2->en-core-web-md==3.7.1) (24.0)',\n",
              " 'Requirement already satisfied: langcodes<4.0.0,>=3.2.0 in /usr/local/lib/python3.10/dist-packages (from spacy<3.8.0,>=3.7.2->en-core-web-md==3.7.1) (3.3.0)',\n",
              " 'Requirement already satisfied: numpy>=1.19.0 in /usr/local/lib/python3.10/dist-packages (from spacy<3.8.0,>=3.7.2->en-core-web-md==3.7.1) (1.25.2)',\n",
              " 'Requirement already satisfied: annotated-types>=0.4.0 in /usr/local/lib/python3.10/dist-packages (from pydantic!=1.8,!=1.8.1,<3.0.0,>=1.7.4->spacy<3.8.0,>=3.7.2->en-core-web-md==3.7.1) (0.6.0)',\n",
              " 'Requirement already satisfied: pydantic-core==2.16.3 in /usr/local/lib/python3.10/dist-packages (from pydantic!=1.8,!=1.8.1,<3.0.0,>=1.7.4->spacy<3.8.0,>=3.7.2->en-core-web-md==3.7.1) (2.16.3)',\n",
              " 'Requirement already satisfied: typing-extensions>=4.6.1 in /usr/local/lib/python3.10/dist-packages (from pydantic!=1.8,!=1.8.1,<3.0.0,>=1.7.4->spacy<3.8.0,>=3.7.2->en-core-web-md==3.7.1) (4.10.0)',\n",
              " 'Requirement already satisfied: charset-normalizer<4,>=2 in /usr/local/lib/python3.10/dist-packages (from requests<3.0.0,>=2.13.0->spacy<3.8.0,>=3.7.2->en-core-web-md==3.7.1) (3.3.2)',\n",
              " 'Requirement already satisfied: idna<4,>=2.5 in /usr/local/lib/python3.10/dist-packages (from requests<3.0.0,>=2.13.0->spacy<3.8.0,>=3.7.2->en-core-web-md==3.7.1) (3.6)',\n",
              " 'Requirement already satisfied: urllib3<3,>=1.21.1 in /usr/local/lib/python3.10/dist-packages (from requests<3.0.0,>=2.13.0->spacy<3.8.0,>=3.7.2->en-core-web-md==3.7.1) (2.0.7)',\n",
              " 'Requirement already satisfied: certifi>=2017.4.17 in /usr/local/lib/python3.10/dist-packages (from requests<3.0.0,>=2.13.0->spacy<3.8.0,>=3.7.2->en-core-web-md==3.7.1) (2024.2.2)',\n",
              " 'Requirement already satisfied: blis<0.8.0,>=0.7.8 in /usr/local/lib/python3.10/dist-packages (from thinc<8.3.0,>=8.2.2->spacy<3.8.0,>=3.7.2->en-core-web-md==3.7.1) (0.7.11)',\n",
              " 'Requirement already satisfied: confection<1.0.0,>=0.0.1 in /usr/local/lib/python3.10/dist-packages (from thinc<8.3.0,>=8.2.2->spacy<3.8.0,>=3.7.2->en-core-web-md==3.7.1) (0.1.4)',\n",
              " 'Requirement already satisfied: click<9.0.0,>=7.1.1 in /usr/local/lib/python3.10/dist-packages (from typer<0.10.0,>=0.3.0->spacy<3.8.0,>=3.7.2->en-core-web-md==3.7.1) (8.1.7)',\n",
              " 'Requirement already satisfied: cloudpathlib<0.17.0,>=0.7.0 in /usr/local/lib/python3.10/dist-packages (from weasel<0.4.0,>=0.1.0->spacy<3.8.0,>=3.7.2->en-core-web-md==3.7.1) (0.16.0)',\n",
              " 'Requirement already satisfied: MarkupSafe>=2.0 in /usr/local/lib/python3.10/dist-packages (from jinja2->spacy<3.8.0,>=3.7.2->en-core-web-md==3.7.1) (2.1.5)',\n",
              " 'Installing collected packages: en-core-web-md',\n",
              " 'Successfully installed en-core-web-md-3.7.1',\n",
              " '\\x1b[38;5;2m✔ Download and installation successful\\x1b[0m',\n",
              " \"You can now load the package via spacy.load('en_core_web_md')\",\n",
              " '\\x1b[38;5;3m⚠ Restart to reload dependencies\\x1b[0m',\n",
              " 'If you are in a Jupyter or Colab notebook, you may need to restart Python in',\n",
              " \"order to load all the package's dependencies. You can do this by selecting the\",\n",
              " \"'Restart kernel' or 'Restart runtime' option.\"]"
            ]
          },
          "metadata": {},
          "execution_count": 12
        }
      ]
    },
    {
      "cell_type": "markdown",
      "source": [
        "## SpaCy update to remove articles from tags"
      ],
      "metadata": {
        "id": "1PtOcNQbd_xu"
      }
    },
    {
      "cell_type": "code",
      "source": [
        "import spacy\n",
        "\n",
        "# Load the SpaCy model\n",
        "nlp = spacy.load(\"en_core_web_md\")\n",
        "\n",
        "# Example text from an image description\n",
        "text = \"The photo shows the Eiffel Tower at sunset, surrounded by tourists taking photographs.\"\n",
        "\n",
        "# Process the text\n",
        "doc = nlp(text)\n",
        "\n",
        "def remove_articles(phrase):\n",
        "    # List of articles to remove\n",
        "    articles = ['the', 'a', 'an']\n",
        "    words = phrase.split()\n",
        "    # Remove the first word if it is an article\n",
        "    if words[0].lower() in articles:\n",
        "        return ' '.join(words[1:])\n",
        "    return phrase\n",
        "\n",
        "# Extract noun chunks as potential tags\n",
        "noun_chunks = [remove_articles(chunk.text) for chunk in doc.noun_chunks]\n",
        "\n",
        "# Extract named entities as specific tags\n",
        "named_entities = [remove_articles(entity.text) for entity in doc.ents]"
      ],
      "metadata": {
        "id": "45rXTLZupfL1"
      },
      "execution_count": null,
      "outputs": []
    },
    {
      "cell_type": "code",
      "source": [
        "tags = list(set(noun_chunks + named_entities))\n",
        "\n",
        "print(\"Extracted Tags:\", tags)"
      ],
      "metadata": {
        "colab": {
          "base_uri": "https://localhost:8080/"
        },
        "id": "5NCtg-e2pfWG",
        "outputId": "77ca4497-b5d0-4d5e-cdd7-c73e25fdef4b"
      },
      "execution_count": null,
      "outputs": [
        {
          "output_type": "stream",
          "name": "stdout",
          "text": [
            "Extracted Tags: ['Eiffel Tower', 'photographs', 'photo', 'sunset', 'tourists']\n"
          ]
        }
      ]
    },
    {
      "cell_type": "markdown",
      "source": [
        "## Test - Stemming:"
      ],
      "metadata": {
        "id": "l688pFp5d76m"
      }
    },
    {
      "cell_type": "code",
      "source": [
        "# Process the text\n",
        "doc2 = nlp(text2)\n",
        "\n",
        "# Extract noun chunks as potential tags\n",
        "noun_chunks2 = [remove_articles(chunk.text) for chunk in doc2.noun_chunks]\n",
        "\n",
        "# Extract named entities as specific tags\n",
        "named_entities2 = [remove_articles(entity.text) for entity in doc.ents]\n",
        "tags2 = list(set(noun_chunks2 + named_entities2))\n",
        "\n",
        "print(\"Extracted Tags:\", tags2)"
      ],
      "metadata": {
        "colab": {
          "base_uri": "https://localhost:8080/"
        },
        "id": "8G0xYRnJpth0",
        "outputId": "cc85a72c-ddda-418f-a4d1-de434973f5e4"
      },
      "execution_count": null,
      "outputs": [
        {
          "output_type": "stream",
          "name": "stdout",
          "text": [
            "Extracted Tags: ['sailboats', 'Eiffel Tower', 'Golden Gate Bridge', 'photo', 'sunset', 'foreground']\n"
          ]
        }
      ]
    },
    {
      "cell_type": "code",
      "source": [
        "#####\n",
        "#####\n",
        "#####"
      ],
      "metadata": {
        "id": "WAzA3djNr_vk"
      },
      "execution_count": null,
      "outputs": []
    },
    {
      "cell_type": "code",
      "source": [
        "# download large SpaCy Model for testing purposes\n",
        "!python -m spacy download en_core_web_lg"
      ],
      "metadata": {
        "colab": {
          "base_uri": "https://localhost:8080/"
        },
        "id": "7woOr_Nt7Qsj",
        "outputId": "35ef79c1-1c95-43a2-92df-fb6351f452b7"
      },
      "execution_count": null,
      "outputs": [
        {
          "output_type": "stream",
          "name": "stdout",
          "text": [
            "Collecting en-core-web-lg==3.7.1\n",
            "  Downloading https://github.com/explosion/spacy-models/releases/download/en_core_web_lg-3.7.1/en_core_web_lg-3.7.1-py3-none-any.whl (587.7 MB)\n",
            "\u001b[2K     \u001b[90m━━━━━━━━━━━━━━━━━━━━━━━━━━━━━━━━━━━━━━━━\u001b[0m \u001b[32m587.7/587.7 MB\u001b[0m \u001b[31m2.5 MB/s\u001b[0m eta \u001b[36m0:00:00\u001b[0m\n",
            "\u001b[?25hRequirement already satisfied: spacy<3.8.0,>=3.7.2 in /usr/local/lib/python3.10/dist-packages (from en-core-web-lg==3.7.1) (3.7.4)\n",
            "Requirement already satisfied: spacy-legacy<3.1.0,>=3.0.11 in /usr/local/lib/python3.10/dist-packages (from spacy<3.8.0,>=3.7.2->en-core-web-lg==3.7.1) (3.0.12)\n",
            "Requirement already satisfied: spacy-loggers<2.0.0,>=1.0.0 in /usr/local/lib/python3.10/dist-packages (from spacy<3.8.0,>=3.7.2->en-core-web-lg==3.7.1) (1.0.5)\n",
            "Requirement already satisfied: murmurhash<1.1.0,>=0.28.0 in /usr/local/lib/python3.10/dist-packages (from spacy<3.8.0,>=3.7.2->en-core-web-lg==3.7.1) (1.0.10)\n",
            "Requirement already satisfied: cymem<2.1.0,>=2.0.2 in /usr/local/lib/python3.10/dist-packages (from spacy<3.8.0,>=3.7.2->en-core-web-lg==3.7.1) (2.0.8)\n",
            "Requirement already satisfied: preshed<3.1.0,>=3.0.2 in /usr/local/lib/python3.10/dist-packages (from spacy<3.8.0,>=3.7.2->en-core-web-lg==3.7.1) (3.0.9)\n",
            "Requirement already satisfied: thinc<8.3.0,>=8.2.2 in /usr/local/lib/python3.10/dist-packages (from spacy<3.8.0,>=3.7.2->en-core-web-lg==3.7.1) (8.2.3)\n",
            "Requirement already satisfied: wasabi<1.2.0,>=0.9.1 in /usr/local/lib/python3.10/dist-packages (from spacy<3.8.0,>=3.7.2->en-core-web-lg==3.7.1) (1.1.2)\n",
            "Requirement already satisfied: srsly<3.0.0,>=2.4.3 in /usr/local/lib/python3.10/dist-packages (from spacy<3.8.0,>=3.7.2->en-core-web-lg==3.7.1) (2.4.8)\n",
            "Requirement already satisfied: catalogue<2.1.0,>=2.0.6 in /usr/local/lib/python3.10/dist-packages (from spacy<3.8.0,>=3.7.2->en-core-web-lg==3.7.1) (2.0.10)\n",
            "Requirement already satisfied: weasel<0.4.0,>=0.1.0 in /usr/local/lib/python3.10/dist-packages (from spacy<3.8.0,>=3.7.2->en-core-web-lg==3.7.1) (0.3.4)\n",
            "Requirement already satisfied: typer<0.10.0,>=0.3.0 in /usr/local/lib/python3.10/dist-packages (from spacy<3.8.0,>=3.7.2->en-core-web-lg==3.7.1) (0.9.4)\n",
            "Requirement already satisfied: smart-open<7.0.0,>=5.2.1 in /usr/local/lib/python3.10/dist-packages (from spacy<3.8.0,>=3.7.2->en-core-web-lg==3.7.1) (6.4.0)\n",
            "Requirement already satisfied: tqdm<5.0.0,>=4.38.0 in /usr/local/lib/python3.10/dist-packages (from spacy<3.8.0,>=3.7.2->en-core-web-lg==3.7.1) (4.66.2)\n",
            "Requirement already satisfied: requests<3.0.0,>=2.13.0 in /usr/local/lib/python3.10/dist-packages (from spacy<3.8.0,>=3.7.2->en-core-web-lg==3.7.1) (2.31.0)\n",
            "Requirement already satisfied: pydantic!=1.8,!=1.8.1,<3.0.0,>=1.7.4 in /usr/local/lib/python3.10/dist-packages (from spacy<3.8.0,>=3.7.2->en-core-web-lg==3.7.1) (2.6.4)\n",
            "Requirement already satisfied: jinja2 in /usr/local/lib/python3.10/dist-packages (from spacy<3.8.0,>=3.7.2->en-core-web-lg==3.7.1) (3.1.3)\n",
            "Requirement already satisfied: setuptools in /usr/local/lib/python3.10/dist-packages (from spacy<3.8.0,>=3.7.2->en-core-web-lg==3.7.1) (67.7.2)\n",
            "Requirement already satisfied: packaging>=20.0 in /usr/local/lib/python3.10/dist-packages (from spacy<3.8.0,>=3.7.2->en-core-web-lg==3.7.1) (24.0)\n",
            "Requirement already satisfied: langcodes<4.0.0,>=3.2.0 in /usr/local/lib/python3.10/dist-packages (from spacy<3.8.0,>=3.7.2->en-core-web-lg==3.7.1) (3.3.0)\n",
            "Requirement already satisfied: numpy>=1.19.0 in /usr/local/lib/python3.10/dist-packages (from spacy<3.8.0,>=3.7.2->en-core-web-lg==3.7.1) (1.25.2)\n",
            "Requirement already satisfied: annotated-types>=0.4.0 in /usr/local/lib/python3.10/dist-packages (from pydantic!=1.8,!=1.8.1,<3.0.0,>=1.7.4->spacy<3.8.0,>=3.7.2->en-core-web-lg==3.7.1) (0.6.0)\n",
            "Requirement already satisfied: pydantic-core==2.16.3 in /usr/local/lib/python3.10/dist-packages (from pydantic!=1.8,!=1.8.1,<3.0.0,>=1.7.4->spacy<3.8.0,>=3.7.2->en-core-web-lg==3.7.1) (2.16.3)\n",
            "Requirement already satisfied: typing-extensions>=4.6.1 in /usr/local/lib/python3.10/dist-packages (from pydantic!=1.8,!=1.8.1,<3.0.0,>=1.7.4->spacy<3.8.0,>=3.7.2->en-core-web-lg==3.7.1) (4.11.0)\n",
            "Requirement already satisfied: charset-normalizer<4,>=2 in /usr/local/lib/python3.10/dist-packages (from requests<3.0.0,>=2.13.0->spacy<3.8.0,>=3.7.2->en-core-web-lg==3.7.1) (3.3.2)\n",
            "Requirement already satisfied: idna<4,>=2.5 in /usr/local/lib/python3.10/dist-packages (from requests<3.0.0,>=2.13.0->spacy<3.8.0,>=3.7.2->en-core-web-lg==3.7.1) (3.6)\n",
            "Requirement already satisfied: urllib3<3,>=1.21.1 in /usr/local/lib/python3.10/dist-packages (from requests<3.0.0,>=2.13.0->spacy<3.8.0,>=3.7.2->en-core-web-lg==3.7.1) (2.0.7)\n",
            "Requirement already satisfied: certifi>=2017.4.17 in /usr/local/lib/python3.10/dist-packages (from requests<3.0.0,>=2.13.0->spacy<3.8.0,>=3.7.2->en-core-web-lg==3.7.1) (2024.2.2)\n",
            "Requirement already satisfied: blis<0.8.0,>=0.7.8 in /usr/local/lib/python3.10/dist-packages (from thinc<8.3.0,>=8.2.2->spacy<3.8.0,>=3.7.2->en-core-web-lg==3.7.1) (0.7.11)\n",
            "Requirement already satisfied: confection<1.0.0,>=0.0.1 in /usr/local/lib/python3.10/dist-packages (from thinc<8.3.0,>=8.2.2->spacy<3.8.0,>=3.7.2->en-core-web-lg==3.7.1) (0.1.4)\n",
            "Requirement already satisfied: click<9.0.0,>=7.1.1 in /usr/local/lib/python3.10/dist-packages (from typer<0.10.0,>=0.3.0->spacy<3.8.0,>=3.7.2->en-core-web-lg==3.7.1) (8.1.7)\n",
            "Requirement already satisfied: cloudpathlib<0.17.0,>=0.7.0 in /usr/local/lib/python3.10/dist-packages (from weasel<0.4.0,>=0.1.0->spacy<3.8.0,>=3.7.2->en-core-web-lg==3.7.1) (0.16.0)\n",
            "Requirement already satisfied: MarkupSafe>=2.0 in /usr/local/lib/python3.10/dist-packages (from jinja2->spacy<3.8.0,>=3.7.2->en-core-web-lg==3.7.1) (2.1.5)\n",
            "Installing collected packages: en-core-web-lg\n",
            "Successfully installed en-core-web-lg-3.7.1\n",
            "\u001b[38;5;2m✔ Download and installation successful\u001b[0m\n",
            "You can now load the package via spacy.load('en_core_web_lg')\n",
            "\u001b[38;5;3m⚠ Restart to reload dependencies\u001b[0m\n",
            "If you are in a Jupyter or Colab notebook, you may need to restart Python in\n",
            "order to load all the package's dependencies. You can do this by selecting the\n",
            "'Restart kernel' or 'Restart runtime' option.\n"
          ]
        }
      ]
    },
    {
      "cell_type": "markdown",
      "source": [
        "## Incorporate Lemmatization"
      ],
      "metadata": {
        "id": "wKUdwu9XeWI-"
      }
    },
    {
      "cell_type": "code",
      "source": [
        "\n",
        "# Load the SpaCy model\n",
        "nlp = spacy.load(\"en_core_web_lg\")\n",
        "\n",
        "# Example text from an image description\n",
        "#text = \"['Waycross Historic District']\"\n",
        "text = \"['Horizontal bar qualification of the boys' artistic gymnastics at the 2018 Summer Youth Olympics in Buenos Aires on 10 October 2018. Depicted: Yin Dehang.']\"\n",
        "# A photo of a Golden Gate Bridge at sunset, with sailboats in the foreground.\n",
        "\n",
        "# Process the text with SpaCy\n",
        "doc = nlp(text)\n",
        "\n",
        "# Function to remove leading articles and lemmatize\n",
        "def clean_and_lemmatize(phrase, doc):\n",
        "    articles = ['the', 'a', 'an']\n",
        "    words = phrase.split()\n",
        "    # Remove the first word if it is an article\n",
        "    if words[0].lower() in articles:\n",
        "        words = words[1:]\n",
        "    # Lemmatize each word in the phrase\n",
        "    lemmatized_words = []\n",
        "    for word in words:\n",
        "        # Find the token for this word (use the original text for matching)\n",
        "        tokens = [token for token in doc if token.text.lower() == word.lower()]\n",
        "        if tokens:\n",
        "            # Use the lemma of the first matching token\n",
        "            lemma = tokens[0].lemma_\n",
        "        else:\n",
        "            lemma = word  # Fallback to the original word if not found\n",
        "        lemmatized_words.append(lemma)\n",
        "    return ' '.join(lemmatized_words)\n",
        "\n",
        "# Extract noun chunks and clean them\n",
        "noun_chunks = [clean_and_lemmatize(chunk.text, doc) for chunk in doc.noun_chunks]\n",
        "\n",
        "# Extract named entities, clean and lemmatize\n",
        "named_entities = [clean_and_lemmatize(entity.text, doc) for entity in doc.ents]\n",
        "\n",
        "# Combine both sets of tags, removing duplicates\n",
        "tags = list(set(noun_chunks + named_entities))\n",
        "\n",
        "print(\"Extracted Tags:\", tags)"
      ],
      "metadata": {
        "colab": {
          "base_uri": "https://localhost:8080/"
        },
        "id": "sfFN8xW9sBQb",
        "outputId": "a436118c-f01a-4ebe-bb6a-0b1539cd5a56"
      },
      "execution_count": null,
      "outputs": [
        {
          "output_type": "stream",
          "name": "stdout",
          "text": [
            "Extracted Tags: ['2018 Summer Youth Olympics', '2018', 'Summer Youth Olympics', '10 October', \"boys' artistic gymnastic\", 'Buenos Aires', \"['Horizontal bar qualification\", 'Yin Dehang', '10 October 2018']\n"
          ]
        }
      ]
    },
    {
      "cell_type": "code",
      "source": [
        "\n",
        "'''\n",
        "def clean_and_lemmatize(phrase, doc):\n",
        "    articles = ['the', 'a', 'an']\n",
        "    words = phrase.split()\n",
        "    if words and words[0].lower() in articles:\n",
        "        words = words[1:]\n",
        "    lemmatized_words = []\n",
        "    for word in words:\n",
        "        tokens = [token for token in doc if token.text.lower() == word.lower()]\n",
        "        if tokens:\n",
        "            lemmatized_words.append(tokens[0].lemma_)  # Append lemma to the list\n",
        "        else:\n",
        "            lemmatized_words.append(word)  # Append original word if no token found\n",
        "    return ' '.join(lemmatized_words)\n",
        "  '''\n",
        "\n",
        "def clean_and_lemmatize(phrase, doc):\n",
        "    articles = ['the', 'a', 'an']\n",
        "    words = phrase.split()\n",
        "    # Remove the first word if it is an article\n",
        "    if words[0].lower() in articles:\n",
        "        words = words[1:]\n",
        "    # Lemmatize each word in the phrase\n",
        "    lemmatized_words = []\n",
        "    for word in words:\n",
        "        # Find the token for this word (use the original text for matching)\n",
        "        tokens = [token for token in doc if token.text.lower() == word.lower()]\n",
        "        if tokens:\n",
        "            # Use the lemma of the first matching token\n",
        "            lemma = tokens[0].lemma_\n",
        "        else:\n",
        "            lemma = word  # Fallback to the original word if not found\n",
        "        lemmatized_words.append(lemma)\n",
        "    return ' '.join(lemmatized_words)\n",
        "\n",
        "def process_text(text):\n",
        "    stripped_text = text.strip(\"['\").strip(\"']\")\n",
        "    doc = nlp(stripped_text)\n",
        "    #noun_chunks = [clean_and_lemmatize(chunk.text, doc) for chunk in doc.noun_chunks]\n",
        "    noun_chunks = [clean_and_lemmatize(chunk.text, doc) for chunk in doc.noun_chunks]\n",
        "    named_entities = [clean_and_lemmatize(entity.text, doc) for entity in doc.ents]\n",
        "    return list(set(noun_chunks + named_entities))\n",
        "\n",
        "# Apply the function to the DataFrame\n",
        "results = data['parsed caption'].apply(process_text)\n",
        "print(results)"
      ],
      "metadata": {
        "colab": {
          "base_uri": "https://localhost:8080/"
        },
        "id": "gu2kCrXX8kU4",
        "outputId": "e5a8eb30-9c06-459c-bc4f-6ce687b1b0c8"
      },
      "execution_count": null,
      "outputs": [
        {
          "output_type": "stream",
          "name": "stdout",
          "text": [
            "0                        [Poznań, Wielkopolski Square]\n",
            "1                                         [Yin Dehang]\n",
            "2                                       [siege, Lille]\n",
            "3      [Historic District, Waycross Historic District]\n",
            "4                                   [diesel generator]\n",
            "                            ...                       \n",
            "995                                       [Sam Arnold]\n",
            "996                                          [Končiny]\n",
            "997                                              [Sun]\n",
            "998                       [Kilbarchan railway station]\n",
            "999                                   [theale, mining]\n",
            "Name: depicts, Length: 1000, dtype: object\n"
          ]
        }
      ]
    },
    {
      "cell_type": "code",
      "source": [
        "# extract single observation\n",
        "results[115]"
      ],
      "metadata": {
        "colab": {
          "base_uri": "https://localhost:8080/"
        },
        "id": "ZGP0KjZy8zdk",
        "outputId": "abd604cc-b1c0-426c-914e-69e8d5fed23a"
      },
      "execution_count": null,
      "outputs": [
        {
          "output_type": "execute_result",
          "data": {
            "text/plain": [
              "['Grote Kerk']"
            ]
          },
          "metadata": {},
          "execution_count": 54
        }
      ]
    },
    {
      "cell_type": "code",
      "source": [
        "# TO-DO-NEXT:\n",
        "# ground truth = depicts column\n",
        "#   --> if tag appears anywhere in depicts, it's a hit\n",
        "#       tags don't have to match depicts statement because of inconsistencies"
      ],
      "metadata": {
        "id": "jYtV60GmeerI"
      },
      "execution_count": null,
      "outputs": []
    },
    {
      "cell_type": "code",
      "source": [
        "test = ['2018 Summer Youth Olympics', '2018', 'Summer Youth Olympics', '10 October', \"boys' artistic gymnastic\", 'Buenos Aires', \"['Horizontal bar qualification\", 'Yin Dehang', '10 October 2018']"
      ],
      "metadata": {
        "id": "TDQGZRnb7Xjg"
      },
      "execution_count": 2,
      "outputs": []
    },
    {
      "cell_type": "code",
      "source": [
        "test"
      ],
      "metadata": {
        "colab": {
          "base_uri": "https://localhost:8080/"
        },
        "id": "sP5v78k37YfS",
        "outputId": "9ce33188-a1d2-490b-8e9f-2f4175e1158e"
      },
      "execution_count": 3,
      "outputs": [
        {
          "output_type": "execute_result",
          "data": {
            "text/plain": [
              "['2018 Summer Youth Olympics',\n",
              " '2018',\n",
              " 'Summer Youth Olympics',\n",
              " '10 October',\n",
              " \"boys' artistic gymnastic\",\n",
              " 'Buenos Aires',\n",
              " \"['Horizontal bar qualification\",\n",
              " 'Yin Dehang',\n",
              " '10 October 2018']"
            ]
          },
          "metadata": {},
          "execution_count": 3
        }
      ]
    },
    {
      "cell_type": "code",
      "source": [
        "def get_qnums(tag_list):\n",
        "    qnum_dict = {}\n",
        "    for s in tag_list:\n",
        "        try:\n",
        "            url = f'https://www.wikidata.org/w/api.php?action=wbgetentities&sites=enwiki&titles={s}&languages=en&props=labels&format=json'\n",
        "            response = requests.get(url).json()\n",
        "            qnum = next(iter(response['entities']))\n",
        "            if qnum.startswith('Q'):\n",
        "                qnum_dict[s] = qnum\n",
        "            else:\n",
        "                #qnum_dict[s] = 'None'\n",
        "                pass\n",
        "        except:\n",
        "            qnum_dict[s] = None\n",
        "    # qnum_list = list(qnum_dict.values())\n",
        "    # return qnum_list\n",
        "    return qnum_dict"
      ],
      "metadata": {
        "id": "hsd0CRoa7duD"
      },
      "execution_count": 20,
      "outputs": []
    },
    {
      "cell_type": "code",
      "source": [
        "test_qnums = get_qnums(test)"
      ],
      "metadata": {
        "id": "prK-sjSz7ggv"
      },
      "execution_count": 12,
      "outputs": []
    },
    {
      "cell_type": "code",
      "source": [
        "test_qnums"
      ],
      "metadata": {
        "colab": {
          "base_uri": "https://localhost:8080/"
        },
        "id": "2zqiYx6D7kQZ",
        "outputId": "76285c42-485b-4d49-87fe-af09141de619"
      },
      "execution_count": 13,
      "outputs": [
        {
          "output_type": "execute_result",
          "data": {
            "text/plain": [
              "{'2018 Summer Youth Olympics': 'Q870879',\n",
              " '2018': 'Q25291',\n",
              " 'Buenos Aires': 'Q1486',\n",
              " 'Yin Dehang': 'Q93888038'}"
            ]
          },
          "metadata": {},
          "execution_count": 13
        }
      ]
    },
    {
      "cell_type": "code",
      "source": [
        "q_num_list = list(test_qnums.values())\n",
        "q_num_list"
      ],
      "metadata": {
        "colab": {
          "base_uri": "https://localhost:8080/"
        },
        "id": "M-UzW6RM8Pc-",
        "outputId": "ded2a6ff-a838-4c94-f46c-89ccc7b4c822"
      },
      "execution_count": 19,
      "outputs": [
        {
          "output_type": "execute_result",
          "data": {
            "text/plain": [
              "['Q870879', 'Q25291', 'Q1486', 'Q93888038']"
            ]
          },
          "metadata": {},
          "execution_count": 19
        }
      ]
    },
    {
      "cell_type": "code",
      "source": [
        "tag_suggestions = list(test_qnums.keys())\n",
        "tag_suggestions"
      ],
      "metadata": {
        "colab": {
          "base_uri": "https://localhost:8080/"
        },
        "id": "-opA-mc-8p3r",
        "outputId": "a8c83690-d807-4a4e-a5d7-a91ecd66f22d"
      },
      "execution_count": 18,
      "outputs": [
        {
          "output_type": "execute_result",
          "data": {
            "text/plain": [
              "['2018 Summer Youth Olympics', '2018', 'Buenos Aires', 'Yin Dehang']"
            ]
          },
          "metadata": {},
          "execution_count": 18
        }
      ]
    }
  ]
}