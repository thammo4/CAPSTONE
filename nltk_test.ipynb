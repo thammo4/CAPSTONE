{
 "cells": [
  {
   "cell_type": "code",
   "execution_count": 15,
   "id": "1554e081",
   "metadata": {},
   "outputs": [],
   "source": [
    "import pandas as pd\n",
    "import numpy as np\n",
    "import nltk\n",
    "from sklearn.feature_extraction.text import TfidfVectorizer\n",
    "w = pd.read_csv(\"wikimedia_images_data.csv\")"
   ]
  },
  {
   "cell_type": "code",
   "execution_count": 18,
   "id": "50f913c7",
   "metadata": {},
   "outputs": [],
   "source": [
    "# https://spotintelligence.com/2022/12/13/keyword-extraction/"
   ]
  },
  {
   "cell_type": "code",
   "execution_count": 9,
   "id": "b7dbf77c",
   "metadata": {},
   "outputs": [],
   "source": [
    "ww = w.pivot(index='Image Title', columns='Metadata Key', values='Metadata Value')\n",
    "ww.columns.name = None\n",
    "ww.reset_index(inplace=True)"
   ]
  },
  {
   "cell_type": "code",
   "execution_count": 25,
   "id": "fa67b832",
   "metadata": {},
   "outputs": [
    {
     "name": "stdout",
     "output_type": "stream",
     "text": [
      "['fremantle', 'australia', 'western']\n"
     ]
    }
   ],
   "source": [
    "text = ww[\"ImageDescription\"][0]\n",
    "\n",
    "text = text.lower().replace(\".\", \"\") \n",
    "\n",
    "tokens = nltk.word_tokenize(text) \n",
    "\n",
    "tags = nltk.pos_tag(tokens) \n",
    "nouns = [word for (word, tag) in tags if tag == \"NN\"] \n",
    "\n",
    "vectorizer = TfidfVectorizer() \n",
    "tfidf = vectorizer.fit_transform([text]) \n",
    " \n",
    "top_nouns = sorted(vectorizer.vocabulary_, key=lambda x: tfidf[0, vectorizer.vocabulary_[x]], reverse=True)[:3] \n",
    "\n",
    "print(top_nouns)"
   ]
  },
  {
   "cell_type": "code",
   "execution_count": 26,
   "id": "06b3631d",
   "metadata": {
    "scrolled": true
   },
   "outputs": [
    {
     "data": {
      "text/plain": [
       "['fremantle',\n",
       " 'australia',\n",
       " 'western',\n",
       " '2017',\n",
       " 'toyota',\n",
       " 'corolla',\n",
       " 'zre172r',\n",
       " 'ascent',\n",
       " 'sedan',\n",
       " 'photographed',\n",
       " 'in',\n",
       " 'href',\n",
       " 'https',\n",
       " 'enwikipediaorg',\n",
       " 'wiki',\n",
       " '_western_australia',\n",
       " 'class',\n",
       " 'extiw',\n",
       " 'title']"
      ]
     },
     "execution_count": 26,
     "metadata": {},
     "output_type": "execute_result"
    }
   ],
   "source": [
    "sorted(vectorizer.vocabulary_, key=lambda x: tfidf[0, vectorizer.vocabulary_[x]], reverse=True)"
   ]
  },
  {
   "cell_type": "code",
   "execution_count": 24,
   "id": "48687c23",
   "metadata": {},
   "outputs": [
    {
     "name": "stdout",
     "output_type": "stream",
     "text": [
      "['fremantle', 'australia', 'western']\n",
      "['peru', 'presidente', 'da']\n",
      "['competition', '20', '3m']\n",
      "['the', '80', '458962']\n",
      "['butterfly']\n",
      "['a35', '20130605', '134']\n",
      "['br', 'of', 'gnuplot']\n",
      "['href', 'https', 'enwikipediaorg']\n",
      "['boeing', '737', '700']\n",
      "['nan']\n",
      "['de', 'appointements', 'sujet']\n",
      "['les', 'de', 'sujet']\n",
      "['de', 'opéra', 'paris']\n",
      "['half', 'width', 'station']\n",
      "['the', 'backmuir', 'cottages']\n",
      "['this', 'photo', 'of']\n",
      "['div', 'info_non', 'class']\n",
      "['burg', 'stargard', 'krummes']\n",
      "['text', 'class', 'external']\n",
      "['cochlearia', 'danica', 'at']\n",
      "['des', 'stenografie', 'dek']\n",
      "['nan']\n",
      "['dsc_0011']\n",
      "['in', 'the', 'al']\n",
      "['und', 'adres', 'wydawniczy']\n",
      "['la', 'de', 'et']\n",
      "['bakáts', 'tér', 'assisi']\n",
      "['to', 'was', 'the']\n",
      "['경기과학기술대학교', '기숙사', '다솜1관']\n",
      "['br', '33', 'adres']\n",
      "['href', 'https', 'enwikipediaorg']\n",
      "['ghazanchetsots', 'cathedral', 'href']\n",
      "['golden', 'support', 'vessel']\n",
      "['br', 'div', 'class']\n",
      "['arabic', 'script', 'half']\n",
      "['view', 'of', 'earth']\n",
      "['view', 'of', 'earth']\n",
      "['view', 'of', 'earth']\n",
      "['ارتش', 'نیروی', 'دریایی']\n",
      "['john', 'lockley', 'xhosa']\n",
      "['div', 'class', 'description']\n",
      "['br', 'de', 'http']\n",
      "['kirche', 'in', 'grafhorst']\n",
      "['kriegerdenkmal', 'zweiter', 'weltkrieg']\n",
      "['lingualibre', 'logo', 'no']\n",
      "['lošinj', 'airport', 'tower']\n",
      "['d0', 'd1', 'b2']\n",
      "['oojs_ui_icon_edit', 'ltr', 'file']\n",
      "['memorial', 'of', 'the']\n",
      "['appartient', 'ensemble', 'documentaire']\n",
      "['appartient', 'ensemble', 'documentaire']\n",
      "['appartient', 'ensemble', 'documentaire']\n",
      "['div', 'class', 'description']\n",
      "['nan']\n",
      "['nan']\n",
      "['br', 'div', 'class']\n",
      "['div', 'class', 'description']\n",
      "['indian', 'rhinoceros', 'href']\n",
      "['pt', 'c3', 'noções']\n",
      "['rijksmonument', 'href', 'https']\n",
      "['of', 'cartoon', 'representation']\n",
      "['palazzo', 'di', 'negro']\n",
      "['par', 'album', 'école']\n",
      "['pepperdine', 'university', 'commencement']\n",
      "['nan']\n",
      "['nan']\n",
      "['nan']\n",
      "['colchester', 'zoo', 'essex']\n",
      "['santa', 'marta']\n",
      "['roślinne', 'krzesła', 'przed']\n",
      "['altschmiedestraße', '32', 'rostock']\n",
      "['hoek', 'van', 'holland']\n",
      "['nan']\n",
      "['div', 'from', 'class']\n",
      "['in', 'snow', 'cannon']\n",
      "['sedlec', 'href', 'https']\n",
      "['de', 'acesso', 'ao']\n",
      "['the', 'vehicle', 'to']\n",
      "['larva', 'of', 'an']\n",
      "['jakobo', 'ŝapiro', '1897']\n",
      "['photo', 'arno', 'mikkor']\n",
      "['yard', 'covered', 'boats']\n",
      "['div', 'daily', 'class']\n",
      "['monde', 'sujet', 'couverture']\n",
      "['one', 'high', 'five']\n",
      "['john', 'smucker', 'goshen']\n",
      "['the', 'longridge', 'href']\n",
      "['us', 'programs', 'alumni']\n",
      "['pronunciation', 'of', 'word']\n",
      "['div', 'class', 'description']\n",
      "['stolperstein', 'von', 'gerd']\n",
      "['youtubestjernenes', 'medieverden', 'med']\n",
      "['this', 'is', 'photo']\n",
      "['this', 'is', 'photo']\n",
      "['першамайскі', 'пасёлак', 'сядзіба']\n",
      "['развилка', 'неподалеку', 'от']\n",
      "['ukraine', 'amp', 'href']\n",
      "['expo', 'the', 'of']\n",
      "['上板サービスエリア', 'kamiita', 'sa']\n"
     ]
    }
   ],
   "source": [
    "for i in range(len(ww)):\n",
    "    text = str(ww[\"ImageDescription\"][i])\n",
    "\n",
    "    text = text.lower().replace(\".\", \"\") \n",
    "\n",
    "    tokens = nltk.word_tokenize(text) \n",
    "\n",
    "    tags = nltk.pos_tag(tokens) \n",
    "    nouns = [word for (word, tag) in tags if tag == \"NN\"] \n",
    "    \n",
    "    vectorizer = TfidfVectorizer() \n",
    "    tfidf = vectorizer.fit_transform([text]) \n",
    "\n",
    "    top_nouns = sorted(vectorizer.vocabulary_, key=lambda x: tfidf[0, vectorizer.vocabulary_[x]], reverse=True)[:3] \n",
    "\n",
    "    print(top_nouns)\n",
    "    #print(str(ww[\"Image Title\"][i]))"
   ]
  },
  {
   "cell_type": "code",
   "execution_count": null,
   "id": "86264b78",
   "metadata": {},
   "outputs": [],
   "source": []
  }
 ],
 "metadata": {
  "kernelspec": {
   "display_name": "Python 3 (ipykernel)",
   "language": "python",
   "name": "python3"
  },
  "language_info": {
   "codemirror_mode": {
    "name": "ipython",
    "version": 3
   },
   "file_extension": ".py",
   "mimetype": "text/x-python",
   "name": "python",
   "nbconvert_exporter": "python",
   "pygments_lexer": "ipython3",
   "version": "3.8.8"
  }
 },
 "nbformat": 4,
 "nbformat_minor": 5
}
