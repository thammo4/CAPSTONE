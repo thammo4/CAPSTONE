{
  "nbformat": 4,
  "nbformat_minor": 0,
  "metadata": {
    "colab": {
      "provenance": []
    },
    "kernelspec": {
      "name": "python3",
      "display_name": "Python 3"
    },
    "language_info": {
      "name": "python"
    }
  },
  "cells": [
    {
      "cell_type": "code",
      "source": [
        "import pandas as pd\n",
        "import numpy as np"
      ],
      "metadata": {
        "id": "VnTLRzPI8viv"
      },
      "execution_count": null,
      "outputs": []
    },
    {
      "cell_type": "code",
      "source": [
        "# comment out unless google colab\n",
        "from google.colab import files\n",
        "data_to_load = files.upload()"
      ],
      "metadata": {
        "colab": {
          "base_uri": "https://localhost:8080/",
          "height": 74
        },
        "id": "57P0ukV08mt2",
        "outputId": "078c802b-555a-4362-d154-928bc58acbd1"
      },
      "execution_count": null,
      "outputs": [
        {
          "output_type": "display_data",
          "data": {
            "text/plain": [
              "<IPython.core.display.HTML object>"
            ],
            "text/html": [
              "\n",
              "     <input type=\"file\" id=\"files-119be278-aa24-45a3-8ce9-d2c0a5e9fc5b\" name=\"files[]\" multiple disabled\n",
              "        style=\"border:none\" />\n",
              "     <output id=\"result-119be278-aa24-45a3-8ce9-d2c0a5e9fc5b\">\n",
              "      Upload widget is only available when the cell has been executed in the\n",
              "      current browser session. Please rerun this cell to enable.\n",
              "      </output>\n",
              "      <script>// Copyright 2017 Google LLC\n",
              "//\n",
              "// Licensed under the Apache License, Version 2.0 (the \"License\");\n",
              "// you may not use this file except in compliance with the License.\n",
              "// You may obtain a copy of the License at\n",
              "//\n",
              "//      http://www.apache.org/licenses/LICENSE-2.0\n",
              "//\n",
              "// Unless required by applicable law or agreed to in writing, software\n",
              "// distributed under the License is distributed on an \"AS IS\" BASIS,\n",
              "// WITHOUT WARRANTIES OR CONDITIONS OF ANY KIND, either express or implied.\n",
              "// See the License for the specific language governing permissions and\n",
              "// limitations under the License.\n",
              "\n",
              "/**\n",
              " * @fileoverview Helpers for google.colab Python module.\n",
              " */\n",
              "(function(scope) {\n",
              "function span(text, styleAttributes = {}) {\n",
              "  const element = document.createElement('span');\n",
              "  element.textContent = text;\n",
              "  for (const key of Object.keys(styleAttributes)) {\n",
              "    element.style[key] = styleAttributes[key];\n",
              "  }\n",
              "  return element;\n",
              "}\n",
              "\n",
              "// Max number of bytes which will be uploaded at a time.\n",
              "const MAX_PAYLOAD_SIZE = 100 * 1024;\n",
              "\n",
              "function _uploadFiles(inputId, outputId) {\n",
              "  const steps = uploadFilesStep(inputId, outputId);\n",
              "  const outputElement = document.getElementById(outputId);\n",
              "  // Cache steps on the outputElement to make it available for the next call\n",
              "  // to uploadFilesContinue from Python.\n",
              "  outputElement.steps = steps;\n",
              "\n",
              "  return _uploadFilesContinue(outputId);\n",
              "}\n",
              "\n",
              "// This is roughly an async generator (not supported in the browser yet),\n",
              "// where there are multiple asynchronous steps and the Python side is going\n",
              "// to poll for completion of each step.\n",
              "// This uses a Promise to block the python side on completion of each step,\n",
              "// then passes the result of the previous step as the input to the next step.\n",
              "function _uploadFilesContinue(outputId) {\n",
              "  const outputElement = document.getElementById(outputId);\n",
              "  const steps = outputElement.steps;\n",
              "\n",
              "  const next = steps.next(outputElement.lastPromiseValue);\n",
              "  return Promise.resolve(next.value.promise).then((value) => {\n",
              "    // Cache the last promise value to make it available to the next\n",
              "    // step of the generator.\n",
              "    outputElement.lastPromiseValue = value;\n",
              "    return next.value.response;\n",
              "  });\n",
              "}\n",
              "\n",
              "/**\n",
              " * Generator function which is called between each async step of the upload\n",
              " * process.\n",
              " * @param {string} inputId Element ID of the input file picker element.\n",
              " * @param {string} outputId Element ID of the output display.\n",
              " * @return {!Iterable<!Object>} Iterable of next steps.\n",
              " */\n",
              "function* uploadFilesStep(inputId, outputId) {\n",
              "  const inputElement = document.getElementById(inputId);\n",
              "  inputElement.disabled = false;\n",
              "\n",
              "  const outputElement = document.getElementById(outputId);\n",
              "  outputElement.innerHTML = '';\n",
              "\n",
              "  const pickedPromise = new Promise((resolve) => {\n",
              "    inputElement.addEventListener('change', (e) => {\n",
              "      resolve(e.target.files);\n",
              "    });\n",
              "  });\n",
              "\n",
              "  const cancel = document.createElement('button');\n",
              "  inputElement.parentElement.appendChild(cancel);\n",
              "  cancel.textContent = 'Cancel upload';\n",
              "  const cancelPromise = new Promise((resolve) => {\n",
              "    cancel.onclick = () => {\n",
              "      resolve(null);\n",
              "    };\n",
              "  });\n",
              "\n",
              "  // Wait for the user to pick the files.\n",
              "  const files = yield {\n",
              "    promise: Promise.race([pickedPromise, cancelPromise]),\n",
              "    response: {\n",
              "      action: 'starting',\n",
              "    }\n",
              "  };\n",
              "\n",
              "  cancel.remove();\n",
              "\n",
              "  // Disable the input element since further picks are not allowed.\n",
              "  inputElement.disabled = true;\n",
              "\n",
              "  if (!files) {\n",
              "    return {\n",
              "      response: {\n",
              "        action: 'complete',\n",
              "      }\n",
              "    };\n",
              "  }\n",
              "\n",
              "  for (const file of files) {\n",
              "    const li = document.createElement('li');\n",
              "    li.append(span(file.name, {fontWeight: 'bold'}));\n",
              "    li.append(span(\n",
              "        `(${file.type || 'n/a'}) - ${file.size} bytes, ` +\n",
              "        `last modified: ${\n",
              "            file.lastModifiedDate ? file.lastModifiedDate.toLocaleDateString() :\n",
              "                                    'n/a'} - `));\n",
              "    const percent = span('0% done');\n",
              "    li.appendChild(percent);\n",
              "\n",
              "    outputElement.appendChild(li);\n",
              "\n",
              "    const fileDataPromise = new Promise((resolve) => {\n",
              "      const reader = new FileReader();\n",
              "      reader.onload = (e) => {\n",
              "        resolve(e.target.result);\n",
              "      };\n",
              "      reader.readAsArrayBuffer(file);\n",
              "    });\n",
              "    // Wait for the data to be ready.\n",
              "    let fileData = yield {\n",
              "      promise: fileDataPromise,\n",
              "      response: {\n",
              "        action: 'continue',\n",
              "      }\n",
              "    };\n",
              "\n",
              "    // Use a chunked sending to avoid message size limits. See b/62115660.\n",
              "    let position = 0;\n",
              "    do {\n",
              "      const length = Math.min(fileData.byteLength - position, MAX_PAYLOAD_SIZE);\n",
              "      const chunk = new Uint8Array(fileData, position, length);\n",
              "      position += length;\n",
              "\n",
              "      const base64 = btoa(String.fromCharCode.apply(null, chunk));\n",
              "      yield {\n",
              "        response: {\n",
              "          action: 'append',\n",
              "          file: file.name,\n",
              "          data: base64,\n",
              "        },\n",
              "      };\n",
              "\n",
              "      let percentDone = fileData.byteLength === 0 ?\n",
              "          100 :\n",
              "          Math.round((position / fileData.byteLength) * 100);\n",
              "      percent.textContent = `${percentDone}% done`;\n",
              "\n",
              "    } while (position < fileData.byteLength);\n",
              "  }\n",
              "\n",
              "  // All done.\n",
              "  yield {\n",
              "    response: {\n",
              "      action: 'complete',\n",
              "    }\n",
              "  };\n",
              "}\n",
              "\n",
              "scope.google = scope.google || {};\n",
              "scope.google.colab = scope.google.colab || {};\n",
              "scope.google.colab._files = {\n",
              "  _uploadFiles,\n",
              "  _uploadFilesContinue,\n",
              "};\n",
              "})(self);\n",
              "</script> "
            ]
          },
          "metadata": {}
        },
        {
          "output_type": "stream",
          "name": "stdout",
          "text": [
            "Saving wikimedia_images_data.csv to wikimedia_images_data.csv\n"
          ]
        }
      ]
    },
    {
      "cell_type": "code",
      "source": [
        "# comment out unless google colab\n",
        "import io\n",
        "w = pd.read_csv(io.BytesIO(data_to_load['wikimedia_images_data.csv']))"
      ],
      "metadata": {
        "id": "I2AzSj7g8nS3"
      },
      "execution_count": null,
      "outputs": []
    },
    {
      "cell_type": "code",
      "execution_count": null,
      "metadata": {
        "id": "0xKNJUJV8MWS"
      },
      "outputs": [],
      "source": [
        "#w = pd.read_csv(\"wikimedia_images_data.csv\")\n",
        "ww = w.pivot(index='Image Title', columns='Metadata Key', values='Metadata Value')\n",
        "ww.columns.name = None\n",
        "ww.reset_index(inplace=True)"
      ]
    },
    {
      "cell_type": "code",
      "source": [
        "# https://towardsdatascience.com/keyword-extraction-process-in-python-with-natural-language-processing-nlp-d769a9069d5c"
      ],
      "metadata": {
        "id": "Dln-uaSFxNR6"
      },
      "execution_count": null,
      "outputs": []
    },
    {
      "cell_type": "code",
      "source": [
        "!pip install yake"
      ],
      "metadata": {
        "colab": {
          "base_uri": "https://localhost:8080/"
        },
        "id": "NwaTYXXJwT1W",
        "outputId": "72ccb02b-d937-4be0-d885-8d11a6aca6e4"
      },
      "execution_count": null,
      "outputs": [
        {
          "output_type": "stream",
          "name": "stdout",
          "text": [
            "Collecting yake\n",
            "  Downloading yake-0.4.8-py2.py3-none-any.whl (60 kB)\n",
            "\u001b[?25l     \u001b[90m━━━━━━━━━━━━━━━━━━━━━━━━━━━━━━━━━━━━━━━━\u001b[0m \u001b[32m0.0/60.2 kB\u001b[0m \u001b[31m?\u001b[0m eta \u001b[36m-:--:--\u001b[0m\r\u001b[2K     \u001b[91m━━━━━━━━━━━━━━━━━━━━━━━━━━━━━━━━━━\u001b[0m\u001b[90m╺\u001b[0m\u001b[90m━━━━━\u001b[0m \u001b[32m51.2/60.2 kB\u001b[0m \u001b[31m1.9 MB/s\u001b[0m eta \u001b[36m0:00:01\u001b[0m\r\u001b[2K     \u001b[90m━━━━━━━━━━━━━━━━━━━━━━━━━━━━━━━━━━━━━━━━\u001b[0m \u001b[32m60.2/60.2 kB\u001b[0m \u001b[31m1.3 MB/s\u001b[0m eta \u001b[36m0:00:00\u001b[0m\n",
            "\u001b[?25hRequirement already satisfied: tabulate in /usr/local/lib/python3.10/dist-packages (from yake) (0.9.0)\n",
            "Requirement already satisfied: click>=6.0 in /usr/local/lib/python3.10/dist-packages (from yake) (8.1.7)\n",
            "Requirement already satisfied: numpy in /usr/local/lib/python3.10/dist-packages (from yake) (1.25.2)\n",
            "Collecting segtok (from yake)\n",
            "  Downloading segtok-1.5.11-py3-none-any.whl (24 kB)\n",
            "Requirement already satisfied: networkx in /usr/local/lib/python3.10/dist-packages (from yake) (3.2.1)\n",
            "Collecting jellyfish (from yake)\n",
            "  Downloading jellyfish-1.0.3-cp310-cp310-manylinux_2_17_x86_64.manylinux2014_x86_64.whl (1.2 MB)\n",
            "\u001b[2K     \u001b[90m━━━━━━━━━━━━━━━━━━━━━━━━━━━━━━━━━━━━━━━━\u001b[0m \u001b[32m1.2/1.2 MB\u001b[0m \u001b[31m23.7 MB/s\u001b[0m eta \u001b[36m0:00:00\u001b[0m\n",
            "\u001b[?25hRequirement already satisfied: regex in /usr/local/lib/python3.10/dist-packages (from segtok->yake) (2023.12.25)\n",
            "Installing collected packages: segtok, jellyfish, yake\n",
            "Successfully installed jellyfish-1.0.3 segtok-1.5.11 yake-0.4.8\n"
          ]
        }
      ]
    },
    {
      "cell_type": "code",
      "source": [
        "import yake"
      ],
      "metadata": {
        "id": "FNvVwDKhwSTV"
      },
      "execution_count": null,
      "outputs": []
    },
    {
      "cell_type": "code",
      "source": [
        "kw_extractor = yake.KeywordExtractor()\n",
        "text = \"\"\"spaCy is an open-source software library for advanced natural language processing, written in the programming languages Python and Cython. The library is published under the MIT license and its main developers are Matthew Honnibal and Ines Montani, the founders of the software company Explosion.\"\"\"\n",
        "language = \"en\"\n",
        "max_ngram_size = 3\n",
        "deduplication_threshold = 0.9\n",
        "numOfKeywords = 20\n",
        "custom_kw_extractor = yake.KeywordExtractor(lan=language, n=max_ngram_size, dedupLim=deduplication_threshold, top=numOfKeywords, features=None)\n",
        "keywords = custom_kw_extractor.extract_keywords(text)\n",
        "for kw in keywords:\n",
        "  print(kw)"
      ],
      "metadata": {
        "colab": {
          "base_uri": "https://localhost:8080/"
        },
        "id": "l_Sq9_s9wcM9",
        "outputId": "003cd579-708b-4d3b-bd0f-05e590daac95"
      },
      "execution_count": null,
      "outputs": [
        {
          "output_type": "stream",
          "name": "stdout",
          "text": [
            "('programming languages Python', 0.001295347548560416)\n",
            "('natural language processing', 0.002012136772192602)\n",
            "('advanced natural language', 0.0026621455770583914)\n",
            "('Python and Cython', 0.0035840985079775055)\n",
            "('open-source software library', 0.008298152696966859)\n",
            "('languages Python', 0.009390717577572831)\n",
            "('language processing', 0.01453240965208459)\n",
            "('software company Explosion', 0.015993140254256993)\n",
            "('advanced natural', 0.01840251352140607)\n",
            "('natural language', 0.019161829017826378)\n",
            "('programming languages', 0.019161829017826378)\n",
            "('open-source software', 0.032652195076937375)\n",
            "('Ines Montani', 0.03375876229391358)\n",
            "('Matthew Honnibal', 0.04096703831447956)\n",
            "('Honnibal and Ines', 0.04096703831447956)\n",
            "('Cython', 0.053691021027863564)\n",
            "('software library', 0.05857047036380304)\n",
            "('company Explosion', 0.06120870235178475)\n",
            "('Python', 0.06651575167590484)\n",
            "('library for advanced', 0.07441175006256819)\n"
          ]
        }
      ]
    },
    {
      "cell_type": "code",
      "source": [
        "kw_extractor = yake.KeywordExtractor()\n",
        "text = str(ww[\"ImageDescription\"][0])\n",
        "language = \"en\"\n",
        "max_ngram_size = 3\n",
        "deduplication_threshold = 0.9\n",
        "numOfKeywords = 20\n",
        "custom_kw_extractor = yake.KeywordExtractor(lan=language, n=max_ngram_size, dedupLim=deduplication_threshold, top=numOfKeywords, features=None)\n",
        "keywords = custom_kw_extractor.extract_keywords(text)\n",
        "for kw in keywords:\n",
        "  print(kw)"
      ],
      "metadata": {
        "colab": {
          "base_uri": "https://localhost:8080/"
        },
        "id": "UmorXTKIwhFy",
        "outputId": "cd985204-8e74-4df7-a92a-04d393197573"
      },
      "execution_count": null,
      "outputs": [
        {
          "output_type": "stream",
          "name": "stdout",
          "text": [
            "('Toyota Corolla', 0.004338216778424566)\n",
            "('Ascent sedan', 0.009159904037884425)\n",
            "('Western Australia', 0.011646476356918142)\n",
            "('Australia', 0.04890223816173555)\n",
            "('Fremantle', 0.05277263424240927)\n",
            "('Toyota', 0.06572273538679034)\n",
            "('Corolla', 0.06572273538679034)\n",
            "('Ascent', 0.06572273538679034)\n",
            "('Western', 0.07757907106688688)\n",
            "('sedan', 0.13810687759217766)\n",
            "('class', 0.2384075542330636)\n",
            "('extiw', 0.2384075542330636)\n",
            "('title', 0.2384075542330636)\n",
            "('Photographed', 0.35753805125680854)\n",
            "('href', 0.35753805125680854)\n"
          ]
        }
      ]
    },
    {
      "cell_type": "code",
      "source": [
        "for i in range(len(ww)):\n",
        "  kw_extractor = yake.KeywordExtractor()\n",
        "  text = str(ww[\"ImageDescription\"][i])\n",
        "  language = \"en\"\n",
        "  max_ngram_size = 3\n",
        "  deduplication_threshold = 0.9\n",
        "  numOfKeywords = 20\n",
        "  custom_kw_extractor = yake.KeywordExtractor(lan=language, n=max_ngram_size, dedupLim=deduplication_threshold, top=numOfKeywords, features=None)\n",
        "  keywords = custom_kw_extractor.extract_keywords(text)\n",
        "\n",
        "  suggestions=[]\n",
        "  for kw in keywords:\n",
        "    suggestions.append(kw)\n",
        "  print(suggestions)"
      ],
      "metadata": {
        "colab": {
          "base_uri": "https://localhost:8080/"
        },
        "id": "OhZFFo4Exojf",
        "outputId": "4f797931-5663-4067-8613-e0b17ca682ac"
      },
      "execution_count": null,
      "outputs": [
        {
          "output_type": "stream",
          "name": "stdout",
          "text": [
            "[('Toyota Corolla', 0.004338216778424566), ('Ascent sedan', 0.009159904037884425), ('Western Australia', 0.011646476356918142), ('Australia', 0.04890223816173555), ('Fremantle', 0.05277263424240927), ('Toyota', 0.06572273538679034), ('Corolla', 0.06572273538679034), ('Ascent', 0.06572273538679034), ('Western', 0.07757907106688688), ('sedan', 0.13810687759217766), ('class', 0.2384075542330636), ('extiw', 0.2384075542330636), ('title', 0.2384075542330636), ('Photographed', 0.35753805125680854), ('href', 0.35753805125680854)]\n",
            "[('Hamilton Mourão durante', 0.001927247307181052), ('Mourão durante Cerimônia', 0.0028168328689698132), ('Pedro Castillo', 0.005330169047070012), ('Hamilton Mourão', 0.007730618188210574), ('Presidente da República', 0.011536392959073324), ('Vice-Presidente da República', 0.016560509772983338), ('Mourão durante', 0.025885957702179056), ('durante Cerimônia', 0.025885957702179056), ('Cerimônia de posse', 0.025885957702179056), ('posse do Presidente', 0.025885957702179056), ('Peru', 0.04064558450138183), ('República do Peru', 0.04087470096130222), ('Lima', 0.04109456434471413), ('Romério Cunha', 0.048134505269773246), ('República', 0.054125870775854186), ('Hamilton', 0.07281420861312707), ('Pedro', 0.07281420861312707), ('Castillo', 0.07281420861312707), ('Mourão', 0.10535463247271108), ('Cerimônia', 0.10535463247271108)]\n",
            "[('Boys Youth', 0.01560470695632768), ('International', 0.03625524040669144), ('November', 0.03625524040669144), ('Competition', 0.05899937629682816), ('Boys', 0.09705179139403544), ('Aachen', 0.11555589791117535), ('Youth', 0.15831692877998726), ('Depicted', 0.17881754828257995), ('Neptun', 0.2718250226855089)]\n",
            "[('Lift Boat Drill', 0.000498723252238152), ('Port Culebra', 0.004852967062496279), ('Puerto Rico', 0.004852967062496279), ('Lift Boat', 0.007097648590154819), ('Boat Drill', 0.007097648590154819), ('September', 0.03874456518394107), ('National Archives', 0.06156745251157566), ('Lift', 0.06949481646017519), ('Drill', 0.06949481646017519), ('Port', 0.06949481646017519), ('Culebra', 0.06949481646017519), ('Puerto', 0.06949481646017519), ('Rico', 0.06949481646017519), ('Navy photograph', 0.07896489415788477), ('Boat', 0.10141226884569679), ('Official', 0.19677146788549632), ('Navy', 0.2059622894072478), ('Archives', 0.2059622894072478), ('National', 0.2815891253011357), ('photograph', 0.3553358554145339)]\n",
            "[('Butterfly', 0.08596317751626563)]\n",
            "[]\n",
            "[('Non-residential Building Work', 0.00745194725058525), ('Building Activity', 0.007850779154937319), ('Non-residential Building', 0.029503032371242462), ('Australia', 0.03059770220648464), ('Private sector', 0.03419451812122927), ('Building Work', 0.03460011621808017), ('TABLE', 0.04213610167903293), ('Original', 0.049734595956467474), ('Activity', 0.054754526741578824), ('weighted cubic spline', 0.06625018880911616), ('Building', 0.07113224236046076), ('gnuplot', 0.07767607699655694), ('series type', 0.08400136306045744), ('collection month', 0.09352776279380667), ('black points', 0.09352776279380667), ('red line', 0.09352776279380667), ('Sector', 0.09870622981589373), ('data type', 0.10980547620790933), ('Work', 0.1175380669122016), ('type', 0.1324863523147379)]\n",
            "[('Abraham Curry House', 6.596230698466683e-05), ('Abraham Curry', 0.0013435925682509604), ('Curry House', 0.0013435925682509604), ('Carson City', 0.011728689113606805), ('United States', 0.011728689113606805), ('class', 0.02347039500572603), ('extiw', 0.02347039500572603), ('title', 0.02347039500572603), ('Abraham', 0.024428720968804787), ('House', 0.024428720968804787), ('National Register', 0.024565652789259894), ('Historic Places', 0.024565652789259894), ('Register of Historic', 0.02716516183940004), ('Curry', 0.027426564084452404), ('href', 0.02771614367484034), ('Nevada Street', 0.03482316068761405), ('Nevada', 0.04104941872191601), ('Carson', 0.0756963360891185), ('City', 0.0756963360891185), ('United', 0.0756963360891185)]\n",
            "[('Air Berlin', 0.012602360123953448), ('Boeing 737-700', 0.04498862876540802), ('737-700 of Air', 0.04498862876540802), ('Berlin', 0.08596317751626563), ('Boeing', 0.1447773057422032), ('Air', 0.1447773057422032), ('737-700', 0.29736558256021506)]\n",
            "[]\n",
            "[('Opéra national', 0.015627498403666028), ('national de Paris', 0.015627498403666028), ('Académie nationale', 0.015627498403666028), ('France', 0.04682878897078589), ('nationale de musique', 0.05195438974979477), ('Opéra', 0.0692376538718027), ('Paris', 0.0692376538718027), ('Académie', 0.0692376538718027), (\"Etats d'appointements mensuels\", 0.07694299271285186), ('Sujet', 0.09327055355042535), (\"Etat d'appointements annuels\", 0.13714424574412767), ('danse', 0.15459911568017057), (\"Etats d'appointements\", 0.15475021622054058), ('national', 0.22223510819982756), ('nationale', 0.22223510819982756), ('musique', 0.22223510819982756), (\"d'appointements mensuels\", 0.22432466893464176), (\"d'appointements\", 0.23585406887548344), ('Etats', 0.2840990906635725), ('Etat', 0.2840990906635725)]\n",
            "[('Journal contenant pour', 0.0025841441297561793), ('contenant pour chaque', 0.008135550226446546), ('pour chaque jour', 0.008135550226446546), ('Opéra national', 0.01268916693507785), ('national de Paris', 0.01268916693507785), ('Journal contenant', 0.01268916693507785), ('jour les répétitions', 0.013568463352244438), ('chaque jour les', 0.01791671445264014), ('les représentations avec', 0.017916714452640144), ('contenant pour', 0.039227351001001595), ('pour chaque', 0.039227351001001595), ('chaque jour', 0.039227351001001595), ('représentations avec', 0.039227351001001595), ('avec le programme', 0.039227351001001595), ('les répétitions', 0.06365440865944225), ('les réglages', 0.06365440865944225), ('les distributions', 0.06365440865944225), ('Opéra', 0.0644937663709476), ('Paris', 0.0644937663709476), ('Journal', 0.0644937663709476)]\n",
            "[('Théâtre Italien', 0.018235596061842763), ('Paris', 0.02449138132516197), ('Italien', 0.06179245377544293), ('national de Paris', 0.08982704190915929), ('théâtres de Paris', 0.10116458720041464), ('Sujet', 0.12114976759540615), ('Opéra-Comique', 0.12114976759540615), ('1801-1878', 0.12114976759540615), ('octobre', 0.15740273815391062), ('rue Le Peletier', 0.17743215869926315), (\"l'Opéra\", 0.1838400941789762), ('Opéra national', 0.19255713604382696), (\"d'autres théâtres\", 0.1986642527666857), ('français', 0.20111467104821412), ('Calendrier des spectacles', 0.21664420913894558), ('des', 0.23173875659710866), (\"l'incendie\", 0.23242399364415445), ('Calendrier des', 0.2776524320501548), ('des répétitions', 0.2776524320501548), (\"personnel de l'Opéra\", 0.2854221626520755)]\n",
            "[('Half-width station', 0.02570861714399338), ('connects to left', 0.02570861714399338), ('Half-width', 0.15831692877998726), ('station', 0.15831692877998726), ('half', 0.15831692877998726), ('connects', 0.15831692877998726), ('left', 0.15831692877998726)]\n",
            "[('originally council houses', 0.0025258761156662004), ('Loanend and Stripeside', 0.004925103769790319), ('Backmuir Cottages', 0.008293207122436794), ('council houses', 0.015380821171891606), ('originally council', 0.02570861714399338), ('Stripeside', 0.057012387690331526), ('Cottages', 0.08596317751626563), ('Loanend', 0.08596317751626563), ('Backmuir', 0.09568045026443411), ('houses', 0.09568045026443411), ('built', 0.09568045026443411), ('originally', 0.15831692877998726), ('council', 0.15831692877998726), ('design', 0.15831692877998726)]\n",
            "[('Flemish Region', 0.0018748772318114082), ('immovable heritage', 0.00470688094720815), ('Flemish', 0.04325931859548787), ('Region', 0.04325931859548787), ('immovable', 0.06844581806138879), ('heritage', 0.06844581806138879), ('photo', 0.09568045026443411)]\n",
            "[('German Federal Archive', 0.0004164582020500771), ('original image captions', 0.004148000031418122), ('German Federal', 0.00554871277138709), ('Federal Archive', 0.00554871277138709), ('purposes the German', 0.013723434972624005), ('Archive often retained', 0.013723434972624005), ('div class', 0.015899733510459868), ('Propagandakompanien der Wehrmacht', 0.018604298549734482), ('politically extreme descriptions.', 0.024329892994709675), ('original image', 0.02728748411859475), ('image captions', 0.02728748411859475), ('politically extreme', 0.028108305246512134), ('div style', 0.029215703599073408), ('obsolete or politically', 0.031688491889234935), ('div', 0.03245906262810173), ('documentary purposes', 0.03435313612729731), ('class', 0.0395619168861252), ('Friedrich August Stüler', 0.04255819176698401), ('Alten Museums versehen', 0.04413047434897011), ('Altes Museum', 0.04862886660632547)]\n",
            "[('Krummes Haus', 0.007444681613352736), ('Burg Stargard', 0.013797198203993007), ('Stargard', 0.08596317751626563), ('Krummes', 0.08596317751626563), ('Haus', 0.08596317751626563), ('Burg', 0.15831692877998726)]\n",
            "[('John Lewis Childs', 3.476627326843831e-05), ('National Agricultural Library', 8.452119000098352e-05), ('Commercial catalogs Seeds', 0.00010574901308778649), ('external text', 0.000225974664202085), ('Seed Trade Catalog', 0.0006518444445581594), ('John Lewis', 0.0007429711083087308), ('Lewis Childs', 0.0007429711083087308), (\"Childs' fall catalog\", 0.00106388940560358), ('Trade Catalog Collection', 0.001082904735620691), ('Commercial catalogs', 0.001157721929597082), ('Agricultural Library', 0.0014343477309677545), ('Department of Agriculture', 0.0017213453197858835), ('National Agricultural', 0.0017614634483724934), ('catalogs Seeds', 0.0017967848309298994), ('Seeds Catalogs', 0.0017967848309298994), ('href', 0.002271638464483737), ('external', 0.0023602198562885277), ('Fruit Catalogs', 0.0023693461715373143), ('nofollow', 0.002476135544032003), ('rel', 0.0025724554552646666)]\n",
            "[('Cochlearia danica', 0.04940384002065631), ('Goleniów', 0.08596317751626563), ('Poland', 0.08596317751626563), ('Cochlearia', 0.15831692877998726), ('danica', 0.29736558256021506)]\n",
            "[('Beispiele für Verkehrsschrift', 0.0005842966279900744), ('der Mitlautfolge bzw', 0.0015294115660783767), ('Die Bedeutung des', 0.0017840766672757653), ('Bedeutung des Wortes', 0.0017840766672757653), ('Kürzels oder der', 0.0021132181780089735), ('oder der Mitlautfolge', 0.002113218178008974), ('Deutsche Einheitskurzschrift', 0.0035163605294760637), ('Die Bedeutung', 0.00449834103061491), ('des Kürzels oder', 0.005140010524060646), ('Mitlautfolge bzw', 0.0091021844407164), ('Beispiele für', 0.009750943152941848), ('für Verkehrsschrift', 0.009750943152941848), ('Kürzels oder', 0.012495675784011765), ('der Mitlautfolge', 0.012495675784011765), ('Teil des Dateinamens', 0.022539694643211792), ('des Wortes', 0.022867147724313475), ('oder der', 0.027340741336493543), ('Bedeutung des', 0.029411417924981698), ('des Kürzels', 0.029411417924981698), ('DEK', 0.04314971843991648)]\n",
            "[]\n",
            "[('DSC', 0.030396371632413578)]\n",
            "[('al-Aqsa mosque', 0.007690410585945803), ('mosque', 0.04784022513221706), ('al-Aqsa', 0.07915846438999363), ('Shooting', 0.12363091320521931), ('fire', 0.2005079697193566)]\n",
            "[('der Kaiserlich-königlichen Hof', 0.0007327925268612114), ('Druck und Verlag', 0.0007624733420051483), ('Verlag der Kaiserlich-königlichen', 0.0009404819463440178), ('und Verlag der', 0.002139315017816976), ('Kaiserlich-königlichen Hof', 0.004449435141566961), ('Adres wydawniczy', 0.006985016208880116), ('Opis fizyczny', 0.006985016208880116), ('Druck und', 0.009971153721711689), ('und Staatsdruckerei', 0.009971153721711689), ('Verlag der', 0.012293379733106572), ('der Kaiserlich-königlichen', 0.012293379733106572), ('und Verlag', 0.012787030761714493), ('Wien', 0.04286743814898322), ('VII', 0.04286743814898322), ('Adres', 0.058854656921281154), ('Druck', 0.058854656921281154), ('Hof', 0.058854656921281154), ('Staatsdruckerei', 0.058854656921281154), ('Opis', 0.058854656921281154), ('Verlag', 0.07526550314924853)]\n",
            "[('Comprend les dépenses', 0.003309859242716498), (\"ainsi qu'au début\", 0.005495974643648605), ('recettes des spectacles', 0.007755306356042146), ('comédiens par spectacle', 0.007921626056460351), ('distribution des comédiens', 0.013482196325236354), ('complet des personnels', 0.013482196325236354), ('tableau complet des', 0.013482196325236355), ('Comprend les', 0.017173212699502137), ('les recettes des', 0.02086328582383281), (\"ainsi qu'au\", 0.02860809575101123), ('avec le tableau', 0.02860809575101123), ('leurs appointements', 0.02860809575101123), ('des comédiens par', 0.028858533194474026), (\"qu'au début\", 0.03428504852933696), ('situation générale', 0.03428504852933696), ('tableau complet', 0.03428504852933696), ('personnels du théâtre', 0.03428504852933696), ('théâtre et leurs', 0.03428504852933696), ('des Menus Plaisirs', 0.035304275642892236), ('des spectacles', 0.03950740313770681)]\n",
            "[('Assisi Szent Ferenc-templom', 0.0011031048803583578), ('Assisi Szent', 0.012602360123953448), ('Szent Ferenc-templom', 0.012602360123953448), ('Bakáts tér', 0.02570861714399338), ('Assisi', 0.08596317751626563), ('Ferenc-templom', 0.08596317751626563), ('Szent', 0.1447773057422032), ('Bakáts', 0.15831692877998726), ('tér', 0.15831692877998726)]\n",
            "[('today benching freights', 0.024267608413754707), ('today benching', 0.03239985127286832), ('benching freights', 0.12142562260175496), ('rain on Sunday', 0.16305095173684486), ('car', 0.17505152335200466), ('today', 0.17715260447850234), ('benching', 0.17715260447850234), ('looked', 0.17810537770576398), ('Saturday', 0.18597438947426723), ('stay safe', 0.21033778911574477), ('degrees Fahrenheit', 0.22012263266474938), ('stay', 0.24393906080988276), ('cold', 0.24419634807379695), ('SilenceSeven', 0.2590763375873001), ('NOPE', 0.26779435873132185), ('Sunday', 0.2688819400839272), ('Dickies jacket', 0.2715428570073289), ('Wanted', 0.2723128175712893), ('pretty', 0.280528732267522), ('side', 0.2849277531004177)]\n",
            "[('경기과학기술대학교 기숙사', 0.04940384002065631), ('경기과학기술대학교', 0.15831692877998726), ('기숙사', 0.29736558256021506)]\n",
            "[('Adres wydawniczy', 0.005371700613432549), ('Opis fizyczny', 0.005371700613432549), ('strona tytułowa', 0.009952889074761483), ('Paris', 0.03874456518394107), ('Adres', 0.053822159537056186), ('Gavard', 0.053822159537056186), ('Opis', 0.053822159537056186), ('front', 0.06588837669267192), ('wydawniczy', 0.09927137196013912), ('strona', 0.09927137196013912), ('tytułowa', 0.09927137196013912), ('fizyczny', 0.09927137196013912), ('tabl.', 0.09927137196013912)]\n",
            "[('North River Bridge', 0.0001456467596173774), ('carrying Gaston Road', 0.0002629541361233477), ('River Bridge carrying', 0.00029907805399884455), ('Bridge carrying Gaston', 0.0003065600846035761), ('West Virginia', 0.00036060534964135174), ('United States', 0.0007658579287172519), ('North River', 0.000885554123444146), ('Forks of Cacapon', 0.001978316180434038), ('County Route', 0.0021975685033884603), ('Gaston Road', 0.002560018552408931), ('Cacapon River', 0.0028120746413767958), ('River Bridge', 0.0029099910436605173), ('Bridge carrying', 0.0055770821693253165), ('carrying Gaston', 0.0055770821693253165), ('class', 0.010287221680737637), ('extiw', 0.010287221680737637), ('title', 0.010287221680737637), ('West', 0.01095773186014521), ('Virginia', 0.01095773186014521), ('href', 0.012878995292608319)]\n",
            "[('Ghazanchetsots Cathedral', 0.0013131486344431374), ('Ghazanchetsots', 0.025590124554271673), ('Cathedral', 0.025590124554271673), ('class', 0.05632962681207606), ('extiw', 0.05632962681207606), ('title', 0.05632962681207606), ('href', 0.11840455484321102)]\n",
            "[('Golden Osprey', 0.005734229051339772), ('Wipair floats', 0.006979659878074586), ('Golden Odyssey', 0.007895134016500303), ('foot sportfisherman', 0.008902889930552365), ('Golden eye', 0.01007314437827316), ('complete with Wipair', 0.010393497760020966), ('Support vessel', 0.013269799449239136), ('seaplane complete', 0.013269799449239136), ('Cessna', 0.034746178487973414), ('Golden', 0.03538752267626313), ('vessel for Golden', 0.0522185812031775), ('accompanied by Golden', 0.0522185812031775), ('Osprey', 0.05370570106537028), ('Odyssey', 0.07378579186927402), ('Wipair', 0.07378579186927402), ('Support', 0.09393789390046219), ('eye', 0.09393789390046219), ('seaplane', 0.09393789390046219), ('floats', 0.09393789390046219), ('foot', 0.09393789390046219)]\n",
            "[('div class', 0.012390522495173504), ('Datierung Display', 0.02415349529823308), ('Schlagworte Inhalt', 0.02415349529823308), ('Hermann Struck', 0.028686932127780142), ('Artwork by Hermann', 0.04900021782081047), ('div', 0.06748819079868323), ('description', 0.06825987338772442), ('class', 0.09067420741848775), ('Objektart', 0.12512913925381752), ('Radierung', 0.12512913925381752), ('Geografie', 0.12512913925381752), ('Personendarstellung', 0.12512913925381752), ('Ostasien', 0.12512913925381752), ('Interieur', 0.12512913925381752), ('Kunst', 0.12512913925381752), ('Struck', 0.1535703831609195), ('Datierung', 0.1535703831609195), ('Display', 0.1535703831609195), ('Schlagworte', 0.1535703831609195), ('Inhalt', 0.1535703831609195)]\n",
            "[('Arabic script half', 0.01655915082773619), ('sign for Road', 0.026233073037508336), ('route number sign', 0.03339840940482845), ('Arabic script', 0.04940384002065631), ('Road', 0.08596317751626563), ('script half', 0.09700399286574239), ('route number', 0.09700399286574239), ('number sign', 0.09700399286574239), ('Arabic', 0.15831692877998726), ('script', 0.29736558256021506), ('half', 0.29736558256021506), ('route', 0.29736558256021506), ('number', 0.29736558256021506), ('sign', 0.29736558256021506)]\n",
            "[('ISS Expedition', 0.012602360123953448), ('View of Earth', 0.023458380875189744), ('Expedition', 0.08596317751626563), ('Earth', 0.1447773057422032), ('ISS', 0.1447773057422032), ('View', 0.15831692877998726)]\n",
            "[('ISS Expedition', 0.012602360123953448), ('View of Earth', 0.023458380875189744), ('Expedition', 0.08596317751626563), ('Earth', 0.1447773057422032), ('ISS', 0.1447773057422032), ('View', 0.15831692877998726)]\n",
            "[('ISS Expedition', 0.012602360123953448), ('View of Earth', 0.023458380875189744), ('Expedition', 0.08596317751626563), ('Earth', 0.1447773057422032), ('ISS', 0.1447773057422032), ('View', 0.15831692877998726)]\n",
            "[('نیروی دریایی ارتش', 0.001765958946153074), ('\\u200bنمایشگاه توانمندی هاو', 0.0020888547294227104), ('دستاوردهای نیروی دریایی', 0.002501468440986202), ('فرمانده نیروی دریایی', 0.002501468440986202), ('توانمندی هاو دستاوردهای', 0.0031327947675647383), ('حبیب الله سیاری', 0.0031327947675647383), ('الله سیاری معاون', 0.0031327947675647383), ('سیاری معاون هماهنگ', 0.0031327947675647383), ('معاون هماهنگ کننده', 0.0031327947675647383), ('حسین خانزادی فرمانده', 0.0031327947675647383), ('ستاد فرماندهی نداجا', 0.0031327947675647383), ('فرماندهی نداجا برگزار', 0.0031327947675647383), ('هاو دستاوردهای نیروی', 0.0032987804661740285), ('دریادار حبیب الله', 0.0032987804661740285), ('دریادار حسین خانزادی', 0.0032987804661740285), ('خانزادی فرمانده نیروی', 0.0032987804661740285), ('امیر دریادار حبیب', 0.0034737142794211313), ('امیر دریادار حسین', 0.0034737142794211313), ('حضور امیر دریادار', 0.0034737142794211318), ('هماهنگ کننده ارتش', 0.004428653850335412)]\n",
            "[('Xhosa Sangoma', 0.007444681613352736), ('John Lockley', 0.013797198203993007), ('Lockley', 0.08596317751626563), ('Xhosa', 0.08596317751626563), ('Sangoma', 0.08596317751626563), ('John', 0.15831692877998726)]\n",
            "[('div class', 0.07610679401178734), ('description', 0.08732321891353056), ('class', 0.17714153162453458), ('div', 0.19962625678015308), ('Aiurri', 0.24941629891189432), ('zbk', 0.24941629891189432), ('orr.', 0.3262065932020821)]\n",
            "[('modder bij Blitar', 0.00018313253378304315), ('het spoor van', 0.0002754361978646233), ('Persistent URL', 0.0004548833799437356), ('external free', 0.0011076185409163327), ('Volcanic Eruptions', 0.0014837806028067122), ('Jawa Timur', 0.0014837806028067122), ('van de Keloed', 0.002192672336781723), ('Digital image', 0.002425701021832301), ('bij Blitar', 0.0026281572723605533), ('Twee mannen', 0.0026702773671603694), ('spoor van', 0.0039482651681905356), ('van de lava', 0.0039482651681905356), ('uitbarsting van', 0.0039482651681905356), ('linguistic content', 0.004368684744255289), ('mannen in het', 0.004810106505701003), ('het spoor', 0.004810106505701003), ('modder bij', 0.004810106505701003), ('Title', 0.013833228551011444), ('KITLV', 0.013833228551011444), ('Subject', 0.013833228551011444)]\n",
            "[('Kirche in Grafhorst', 0.013797198203993007), ('Velpke', 0.030396371632413578), ('Helmstedt', 0.030396371632413578), ('Grafhorst', 0.08596317751626563), ('Kirche', 0.15831692877998726)]\n",
            "[('Kriegerdenkmal Zweiter Weltkrieg', 0.005453701220886843), ('Anna im Lehel', 0.01560470695632768), ('Zweiter Weltkrieg', 0.02570861714399338), ('Weltkrieg St. Anna', 0.02570861714399338), ('Kriegerdenkmal Zweiter', 0.03278451112147437), ('Pfarrkirche', 0.03625524040669144), ('München', 0.03625524040669144), ('Lehel', 0.09705179139403544), ('Kriegsgefangene', 0.11555589791117535), ('Zwangsarbeiter', 0.11555589791117535), ('Verfolgte oder Vertriebene', 0.11988939019097627), ('Zweiter', 0.15831692877998726), ('Weltkrieg', 0.15831692877998726), ('Anna', 0.15831692877998726), ('Kriegerdenkmal', 0.2005079697193566), ('zivilen Opfer', 0.21949168971147553), ('Verfolgte oder', 0.21949168971147553), ('keine zivilen Opfer', 0.2708852484619784), ('Opfer', 0.2718250226855089), ('Verfolgte', 0.2718250226855089)]\n",
            "[('Lingua Libre', 0.0007236239343927426), ('Audio pronunciation file', 0.0009769615271576471), ('img alt', 0.006956544754468404), ('span typeof', 0.007219899590266558), ('Audio pronunciation', 0.009690232351993086), ('pronunciation file', 0.011564646581216538), ('Lingua', 0.019007606170359407), ('Libre', 0.019007606170359407), ('class', 0.020129164949189537), ('href', 0.030755355652728307), ('span', 0.043120663752209555), ('file', 0.04950557605005294), ('lingualibre.org', 0.05483588384337766), ('wiki', 0.05483588384337766), ('extiw', 0.05483588384337766), ('title', 0.05483588384337766), ('rel', 0.05483588384337766), ('nofollow', 0.05483588384337766), ('src', 0.05483588384337766), ('decoding', 0.05483588384337766)]\n",
            "[('Lošinj Airport Tower', 0.0020632546775457305), ('Airport Tower', 0.012602360123953448), ('Lošinj Airport', 0.023458380875189744), ('Tower', 0.08596317751626563), ('Airport', 0.1447773057422032), ('Lošinj', 0.15831692877998726)]\n",
            "[('Площа Ринок', 0.0034950550230769825), ('Вулиця Галицька', 0.0035645468362143088), ('вулиці Галицької', 0.0072562759556054), ('Будинок на розі', 0.014827946846563694), ('Архітектор Міхал Фехтер', 0.015159112329049554), ('Львів', 0.0161440542043636), ('class', 0.02715731604512786), ('extiw', 0.02715731604512786), ('title', 0.02715731604512786), ('Ринок', 0.029219937145385743), ('href', 0.04117531878191549), ('Міхал Фехтер', 0.041808743832992185), ('Площа', 0.059597701065637755), ('Вулиця', 0.059597701065637755), ('Галицька', 0.059597701065637755), ('Галицької', 0.059597701065637755), ('Львові', 0.059597701065637755), ('Архітектор Міхал', 0.07746771104290856), ('Будинок', 0.12087717482803675), ('розі', 0.12087717482803675)]\n",
            "[('Manchester Spring Market', 0.0010586371750183144), ('Data on Commons', 0.0020014913035782097), ('Structured Data', 0.003011552671570192), ('Spring Market', 0.010157419068650633), ('Ann Square', 0.010157419068650633), ('Manchester Spring', 0.013461143226864161), ('File', 0.013836728537922754), ('img alt', 0.014446793650282461), ('span class', 0.023179230643091787), ('Edit', 0.02576395029498478), ('Commons', 0.02576395029498478), ('Frameless', 0.035414236652289585), ('Market', 0.03868799795144946), ('Square', 0.03868799795144946), ('Structured', 0.03868799795144946), ('Data', 0.03868799795144946), ('Manchester', 0.05110422261860017), ('typeof', 0.05680416241047227), ('wiki', 0.05680416241047227), ('title', 0.05680416241047227)]\n",
            "[('Acre Prison', 0.012602360123953448), ('Break into Acre', 0.02140921543860024), ('Prison', 0.08596317751626563), ('Break', 0.1447773057422032), ('Acre', 0.1447773057422032), ('Memorial', 0.15831692877998726)]\n",
            "[('MonnGre', 0.05899937629682816), ('Appartient à l’ensemble', 0.07796891081290885), ('l’ensemble documentaire', 0.07796891081290885), ('Langue', 0.17881754828257995), ('Appartient', 0.2005079697193566), ('documentaire', 0.2005079697193566), ('grec ancien', 0.2766850298235749), ('l’ensemble', 0.36073110501666333), ('grec', 0.46553351027698087), ('ancien', 0.46553351027698087)]\n",
            "[('MonnFrRoy', 0.04491197687864554), ('Appartient à l’ensemble', 0.04940384002065631), ('l’ensemble documentaire', 0.04940384002065631), ('Appartient', 0.15831692877998726), ('documentaire', 0.15831692877998726), ('l’ensemble', 0.29736558256021506)]\n",
            "[('Appartient à l’ensemble', 0.03469806413086367), ('l’ensemble documentaire', 0.03469806413086367), ('MonnFrRoy', 0.08768700432831038), ('Appartient', 0.1028887224588968), ('documentaire', 0.1028887224588968), ('l’ensemble', 0.15767718850410806)]\n",
            "[('div class', 0.044494278521941884), ('description', 0.07440863577088691), ('Indonesian officials', 0.12690171824745683), ('div', 0.13905502865190497), ('class', 0.1531727145735673), ('biography of Indonesian', 0.18201620829691315), ('Indonesian', 0.29187056346848844), ('officials', 0.3858257107143767), ('book', 0.5275897320195265), ('biography', 0.5275897320195265)]\n",
            "[]\n",
            "[]\n",
            "[('div class', 0.0018959875034094999), ('div', 0.018601497466403556), ('description', 0.04841642398936404), ('class', 0.05086686007276476), ('國立中等學校一覽表', 0.05086686007276476), ('江蘇省中等學校一覽表', 0.05086686007276476), ('浙江省中等學校一覽表', 0.05086686007276476), ('安徽省中等學校一覽表', 0.05086686007276476), ('江西省中等學校一覽表', 0.05086686007276476), ('湖北省中等學校一覽表', 0.05086686007276476), ('湖南省中等學校一覽表', 0.05086686007276476), ('四川省中等學校一覽表', 0.05086686007276476), ('西康省中等學校一覽表', 0.05086686007276476), ('河北省中等學被一覽表', 0.05086686007276476), ('山東省中等學校一覽表', 0.05086686007276476), ('山西省中等學校一覽表', 0.05086686007276476), ('河南省中等學校一覽表', 0.05086686007276476), ('陝西省中等學校一覽表', 0.05086686007276476), ('甘肅省中等學校一覽表', 0.05086686007276476), ('青海省中等學校一覽表', 0.05086686007276476)]\n",
            "[('div class', 0.016245817372079578), ('description', 0.05393656033701752), ('章：物質是微粒組成的、發射帶電的質點、宇宙線、製造轟擊原子的巨炮、原子核的構造、核分裂與連鎖反應、原子彈等。有著者原序（', 0.05393656033701752), ('日於加拿大康斯通可恩斯大學），譯者序。附錄：雲箱等', 0.05393656033701752), ('div', 0.07030442419566416), ('class', 0.11369206228658875)]\n",
            "[('Indian Rhinoceros', 0.002580395960045434), ('Warsaw ZOO', 0.006046838843536029), ('Indian', 0.025164507074812152), ('Rhinoceros', 0.05100730641405427), ('class', 0.055174169687121036), ('extiw', 0.055174169687121036), ('title', 0.055174169687121036), ('ZOO', 0.06369651263079597), ('Warsaw', 0.09436143525868045), ('href', 0.1161324896811994)]\n",
            "[('Joaquim Possidónio Narciso', 0.0008466119703473006), ('Noções Elementares', 0.002459887765963863), ('Elementares de Archeologia', 0.0031115264941946777), ('Narciso da Silva', 0.005969459478189769), ('Joaquim Possidónio', 0.008879166716967478), ('Possidónio Narciso', 0.008879166716967478), ('written by Joaquim', 0.010874400232234323), ('Noções', 0.02488895915388803), ('Archeologia', 0.03144141445257132), ('Elementares', 0.049175317121403925), ('class', 0.054430968540669346), ('extiw', 0.054430968540669346), ('title', 0.054430968540669346), ('1806-1896', 0.054430968540669346), ('Silva', 0.06325337225254901), ('Joaquim', 0.09381375690359996), ('Possidónio', 0.09381375690359996), ('Narciso', 0.09381375690359996), ('Illustration', 0.11466782804062348), ('book', 0.11466782804062348)]\n",
            "[('external text', 0.00700032307392829), ('Rijksmonument', 0.016127678414612497), ('class', 0.020224371215251474), ('href', 0.04331479880876008), ('extiw', 0.055012255605756503), ('title', 0.055012255605756503), ('number', 0.055012255605756503), ('nofollow', 0.055012255605756503), ('rel', 0.08337661071028075), ('external', 0.08337661071028075), ('text', 0.08337661071028075), ('image', 0.1158136148822883)]\n",
            "[('Cartoon representation', 0.015380821171891606), ('molecular structure', 0.02570861714399338), ('structure of protein', 0.02570861714399338), ('protein registered', 0.02570861714399338), ('code', 0.04491197687864554), ('Cartoon', 0.09568045026443411), ('representation', 0.15831692877998726), ('molecular', 0.15831692877998726), ('structure', 0.15831692877998726), ('protein', 0.15831692877998726), ('registered', 0.15831692877998726)]\n",
            "[('Piazza della Lepre', 0.0023231619149328324), ('Palazzo Di Negro-Grimaldi', 0.02570861714399338), ('Piazza della', 0.026233073037508336), ('della Lepre', 0.026233073037508336), ('Genova', 0.030396371632413578), ('Italia', 0.030396371632413578), ('Piazza', 0.08596317751626563), ('Lepre', 0.08596317751626563), ('Palazzo', 0.15831692877998726), ('Negro-Grimaldi', 0.15831692877998726), ('della', 0.29736558256021506)]\n",
            "[('Album École Monge', 0.002378339442918264), ('par Jules David', 0.005024302734364688), ('École Monge par', 0.007295933842640713), ('Monge par Jules', 0.007295933842640713), ('Jules David', 0.008950508066132637), ('École Monge', 0.0128004559010672), ('Album École', 0.02054569305275533), ('par Hector Degeorge', 0.049168323139568815), ('Monge par', 0.06096090043419405), ('par Jules', 0.06096090043419405), ('Hector Degeorge', 0.07533302156402683), ('David', 0.07890909274560573), ('École', 0.11242186218805272), ('Monge', 0.11242186218805272), ('Jules', 0.11242186218805272), ('Vue', 0.1422195760230555), ('conçut par Hector', 0.16162751986631002), ('Album', 0.1790760748515943), ('par Hector', 0.18503618805820302), ('Paris', 0.1945611409062624)]\n",
            "[('University Commencement Exercises', 0.0032173869679631944), ('Pepperdine University Commencement', 0.0035308295728302113), ('University Commencement', 0.02140921543860024), ('Commencement Exercises', 0.02140921543860024), ('Pepperdine University', 0.023458380875189744), ('University', 0.1447773057422032), ('Commencement', 0.1447773057422032), ('Exercises', 0.1447773057422032), ('Class', 0.1447773057422032), ('Pepperdine', 0.15831692877998726)]\n",
            "[]\n",
            "[]\n",
            "[]\n",
            "[('Colchester Zoo Essex', 0.0020632546775457305), ('Zoo Essex', 0.012602360123953448), ('Colchester Zoo', 0.023458380875189744), ('Essex', 0.08596317751626563), ('Zoo', 0.1447773057422032), ('Colchester', 0.15831692877998726)]\n",
            "[('SAnta marta', 0.02570861714399338), ('SAnta', 0.15831692877998726), ('marta', 0.15831692877998726)]\n",
            "[('Muzeum Sztuki Nowoczesnej', 0.0032173869679631944), ('przed Muzeum Sztuki', 0.00688415006041516), ('Nowoczesnej w Bydgoszczy', 0.012602360123953448), ('krzesła przed Muzeum', 0.015042304599106411), ('Roślinne krzesła przed', 0.01655915082773619), ('Muzeum Sztuki', 0.02140921543860024), ('Sztuki Nowoczesnej', 0.02140921543860024), ('przed Muzeum', 0.04498862876540802), ('Roślinne krzesła', 0.04940384002065631), ('Bydgoszczy', 0.08596317751626563), ('krzesła przed', 0.09700399286574239), ('Muzeum', 0.1447773057422032), ('Sztuki', 0.1447773057422032), ('Nowoczesnej', 0.1447773057422032), ('Roślinne', 0.15831692877998726), ('krzesła', 0.29736558256021506), ('przed', 0.29736558256021506)]\n",
            "[('Rostock', 0.030396371632413578), ('Baudenkmal', 0.030396371632413578), ('Altschmiedestraße', 0.04491197687864554)]\n",
            "[('Hoek van Holland', 0.004390086440759893), ('van Holland', 0.026233073037508336), ('Hoek van', 0.04940384002065631), ('Holland', 0.08596317751626563), ('Hoek', 0.15831692877998726), ('van', 0.29736558256021506)]\n",
            "[]\n",
            "[('San Antonio', 0.07615745715133736), ('description', 0.08994500945663224), ('div class', 0.09170866972624211), ('Texas that includes', 0.15399755791983455), ('class', 0.18192249554923495), ('newspaper from San', 0.21585677338055023), ('Antonio', 0.2306381514358075), ('Texas', 0.2306381514358075), ('div', 0.23088048926547666), ('eighteen pages', 0.251913183435718), ('ill', 0.2555421378208825), ('San', 0.3068354025070738), ('Daily newspaper', 0.3371439936810377), ('includes local', 0.3371439936810377), ('state and national', 0.3371439936810377), ('Daily', 0.43577213224967704), ('local', 0.43577213224967704), ('state', 0.43577213224967704), ('advertising.', 0.43577213224967704), ('eighteen', 0.43577213224967704)]\n",
            "[('Wildhaus in Switzerland', 0.004925103769790319), ('cannon in Wildhaus', 0.013797198203993007), ('Snow cannon', 0.015380821171891606), ('Switzerland', 0.057012387690331526), ('Wildhaus', 0.08596317751626563), ('Snow', 0.09568045026443411), ('cannon', 0.15831692877998726)]\n",
            "[('Central Bohemian Region', 5.269125399277802e-05), ('Příbram District', 0.0010343977385513733), ('Czech Republic', 0.0010343977385513733), ('Central Bohemian', 0.0011548196001767046), ('Bohemian Region', 0.0011548196001767046), ('class', 0.009400442261861593), ('extiw', 0.009400442261861593), ('title', 0.009400442261861593), ('href', 0.01108823749608084), ('Sedlec', 0.02011261948725614), ('Sedlec-Prčice', 0.02179798345924326), ('Příbram', 0.022718518868783243), ('District', 0.022718518868783243), ('Central', 0.022718518868783243), ('Region', 0.022718518868783243), ('Czech', 0.022718518868783243), ('Republic', 0.022718518868783243), ('Bohemian', 0.025357254500747762), ('John of Nepomuk', 0.033504619709365684), ('Saint John', 0.036866604298534875)]\n",
            "[('Arquivística de Documentos', 0.004264747658160558), ('Sistema de Gestão', 0.005842023901156067), ('Gestão Arquivística', 0.005842023901156067), ('Acesso ao programa', 0.008334116283452563), ('programa de Sistema', 0.01143354430345338), ('Marcos Oliveira', 0.02979179153427187), ('Agência Senado', 0.02979179153427187), ('SIGAD', 0.03625524040669144), ('Acesso', 0.05572221155747183), ('Documentos', 0.05572221155747183), ('Sistema', 0.07621084492189614), ('Gestão', 0.07621084492189614), ('Arquivística', 0.07621084492189614), ('programa', 0.14832923246533666), ('Marcos', 0.17008796978057666), ('Oliveira', 0.17008796978057666), ('Agência', 0.17008796978057666), ('Senado', 0.17008796978057666), ('Foto', 0.17881754828257995)]\n",
            "[('SGT Richard', 0.00541814696781249), ('Richard J. Miles', 0.00541814696781249), ('Miles during winter', 0.009448648481623575), ('Task Force Iron', 0.02924873344666032), ('Force Iron Ranger', 0.02924873344666032), ('Bradley Fighting Vehicle', 0.037693097894565625), ('Iraq', 0.04654106577369058), ('Ramadi', 0.05986784543423523), ('SGT', 0.07340946022779417), ('Richard', 0.07340946022779417), ('Miles', 0.07340946022779417), ('Task Force', 0.08919418434458007), ('Force Iron', 0.08919418434458007), ('Iron Ranger', 0.08919418434458007), ('Bradley Fighting', 0.08919418434458007), ('Fighting Vehicle', 0.11332565385296589), ('vehicle', 0.11856845205077021), ('photo', 0.12750682466909521), ('winter', 0.12750682466909521), ('Soldiers of Task', 0.13850175492111041)]\n",
            "[('Suhpalacsa', 0.03625524040669144), ('Wedderburn NSW Australia', 0.07330591504269458), ('NSW Australia', 0.12033304707005944), ('Larva', 0.2005079697193566), ('owl-fly', 0.2005079697193566), ('Wedderburn NSW', 0.22541478511250823), ('Australia', 0.2718250226855089), ('NSW', 0.3951375787241905), ('Wedderburn', 0.46553351027698087)]\n",
            "[('Jakobo Ŝapiro', 0.013797198203993007), ('bjalistoka esperantisto', 0.02570861714399338), ('1897-1941', 0.04491197687864554), ('Ŝapiro', 0.08596317751626563), ('Jakobo', 0.15831692877998726), ('bjalistoka', 0.15831692877998726), ('esperantisto', 0.15831692877998726)]\n",
            "[('Arno Mikkor', 0.007444681613352736), ('Photo', 0.04491197687864554), ('Arno', 0.08596317751626563), ('Mikkor', 0.08596317751626563)]\n",
            "[('marine storage yard', 0.032653003370697174), ('Covered boats', 0.036378432021021534), ('marine storage', 0.059260526860675365), ('storage yard', 0.12062203836488773), ('Commerce', 0.1285496053738938), ('USA', 0.1285496053738938), ('Covered', 0.14840353637699516), ('Crumb', 0.2130709607460978), ('yard', 0.22753915903640465), ('boats', 0.2365273465835411), ('marine', 0.2365273465835411), ('storage', 0.2365273465835411), ('located', 0.5182978603858105), ('yard is located', 0.5590225574900581)]\n",
            "[('Shortridge High School.', 0.022652541446602947), ('div class', 0.04578481493098436), ('High School.', 0.06799425951015949), ('description', 0.07562090863435546), ('Shortridge High', 0.0940498733929098), ('div', 0.1408156300904874), ('Daily Echo', 0.15258128842545107), ('class', 0.1554527012770092), ('students of Shortridge', 0.18478385137268613), ('School.', 0.21714147450398136), ('Daily', 0.22575593157133644), ('daily newspaper written', 0.2595694314947425), ('Echo', 0.2931976921533319), ('Shortridge', 0.2931976921533319), ('High', 0.2931976921533319), ('daily newspaper', 0.31609798828787744), ('newspaper written', 0.39462694305349416), ('written and published', 0.39462694305349416), ('published by students', 0.39462694305349416), ('newspaper', 0.5319420725534505)]\n",
            "[('Monde', 0.015482730483592265), ('Couverture', 0.043913378268199), ('Sujet', 0.08237764417687853), ('Éditeur', 0.13757346738576298), ('Coppenium Diesth', 0.17588189152298794), ('Antverpiae', 0.1885810314658823), ('Langue', 0.2376812616513552), ('latin', 0.2376812616513552), ('Diesth', 0.2959189120281525), ('apud', 0.4122906395087072), ('Coppenium', 0.5054575682917825)]\n",
            "[('high', 0.15831692877998726), ('coming', 0.15831692877998726)]\n",
            "[('John R. Smucker', 0.055112692261366704), ('Goshen', 0.126200793320861), ('Smucker Photographs', 0.13154378009600076), ('John', 0.15754522295058826), ('Smucker', 0.15754522295058826), ('Church USA Archives', 0.17449515142927408), ('USA Archives', 0.24580994294591188), ('Box', 0.25079313653207663), ('Folder', 0.25079313653207663), ('Indiana', 0.295879479913295), ('Church USA', 0.3205127780009413), ('Photograph by John', 0.3635539897716335), ('Photograph', 0.36894677734193004), ('Mennonite Church USA', 0.3836669615911449), ('Citation', 0.39067753954847956), ('1964-1974', 0.39067753954847956), ('Archives', 0.40049424809834516), ('Mennonite Church', 0.4912679956812478), ('Church', 0.49266461433963993), ('USA', 0.49266461433963993)]\n",
            "[('Towneley Arms Hotel', 0.00026704633982272845), ('Towneley Arms', 0.004321916004606519), ('Arms Hotel', 0.004321916004606519), ('Longridge railway station', 0.005655796987301707), ('England', 0.01063392916656612), ('Longridge railway', 0.012838539533734684), ('Longridge', 0.01926660630776205), ('Lancashire', 0.02012972435692056), ('title', 0.024005447787727008), ('href', 0.029626253897077733), ('class', 0.037877443137600456), ('extiw', 0.037877443137600456), ('Towneley', 0.06132123416714138), ('Hotel', 0.06132123416714138), ('Arms', 0.07017662782864932), ('railway station', 0.07043335913575073), ('wiki', 0.11888291079656063), ('station', 0.12670171046459688), ('railway', 0.16242009415075323), ('station level crossing', 0.18623429126637914)]\n",
            "[('Programs Alumni Reception', 0.001881309737406442), ('Programs Alumni', 0.012602360123953448), ('Ambassador Pyatt', 0.012602360123953448), ('Alumni Reception', 0.02140921543860024), ('Reception with Ambassador', 0.02140921543860024), ('September', 0.030396371632413578), ('Programs', 0.08596317751626563), ('Pyatt', 0.08596317751626563), ('Alumni', 0.1447773057422032), ('Reception', 0.1447773057422032), ('Ambassador', 0.1447773057422032)]\n",
            "[('Pronunciation of word', 0.050888965170882816), ('перемішати', 0.06588837669267192), ('Ukrainian', 0.10141226884569679), ('Ukraine', 0.16940121402170724), ('Pronunciation', 0.2200560909321288), ('word', 0.2200560909321288), ('Speaker from Kiev', 0.27187610866074385), ('Female voice', 0.32441639786848336), ('Kiev', 0.36348788044697095), ('Female', 0.4949246952252326), ('voice', 0.4949246952252326), ('Speaker', 0.5880798524606783)]\n",
            "[('div class', 0.017490271332507117), ('description', 0.055708263664958506), ('etching', 0.055708263664958506), ('div', 0.07334489383741183), ('class', 0.11718348279991213)]\n",
            "[('Bad Sassendorf Kaiserstrasse', 0.001881309737406442), ('von Gerd Weinberg', 0.00688415006041516), ('Stolperstein von Gerd', 0.007568253837993472), ('Sassendorf Kaiserstrasse', 0.012602360123953448), ('Gerd Weinberg', 0.02140921543860024), ('Weinberg in Bad', 0.02140921543860024), ('Bad Sassendorf', 0.02140921543860024), ('von Gerd', 0.04498862876540802), ('Stolperstein von', 0.04940384002065631), ('Kaiserstrasse', 0.08596317751626563), ('Gerd', 0.1447773057422032), ('Weinberg', 0.1447773057422032), ('Bad', 0.1447773057422032), ('Sassendorf', 0.1447773057422032), ('Stolperstein', 0.15831692877998726), ('von', 0.29736558256021506)]\n",
            "[('Jonas Lihaug Fredriksen', 0.0032173869679631944), ('med Herman Dahl', 0.003995142956050651), ('Markus SannesModerator Jonas', 0.003995142956050651), ('SannesModerator Jonas Lihaug', 0.00688415006041516), ('Herman Dahl', 0.012602360123953448), ('Henrik Hildre', 0.012602360123953448), ('medieverden med Herman', 0.015042304599106411), ('YouTubestjernenes medieverden med', 0.01655915082773619), ('Jonas Lihaug', 0.02140921543860024), ('Lihaug Fredriksen', 0.02140921543860024), ('Fredriksen og Henrik', 0.02140921543860024), ('Markus SannesModerator', 0.026233073037508336), ('med Herman', 0.04498862876540802), ('SannesModerator Jonas', 0.04498862876540802), ('YouTubestjernenes medieverden', 0.04940384002065631), ('Dahl', 0.08596317751626563), ('Markus', 0.08596317751626563), ('Hildre', 0.08596317751626563), ('medieverden med', 0.09700399286574239), ('Herman', 0.1447773057422032)]\n",
            "[('cultural heritage object', 0.0042542192213185686), ('object in Russia', 0.009108237309423345), ('cultural heritage', 0.02570861714399338), ('heritage object', 0.02570861714399338), ('number', 0.04491197687864554), ('Russia', 0.057012387690331526), ('photo', 0.15831692877998726), ('cultural', 0.15831692877998726), ('heritage', 0.15831692877998726), ('object', 0.15831692877998726)]\n",
            "[('cultural heritage object', 0.0042542192213185686), ('object in Russia', 0.009108237309423345), ('cultural heritage', 0.02570861714399338), ('heritage object', 0.02570861714399338), ('number', 0.04491197687864554), ('Russia', 0.057012387690331526), ('photo', 0.15831692877998726), ('cultural', 0.15831692877998726), ('heritage', 0.15831692877998726), ('object', 0.15831692877998726)]\n",
            "[('Першамайскі Пасёлак', 0.022825776323124266), ('Пасёлак', 0.10141226884569679), ('Обрын', 0.12279633060176753), ('Сядзіба Кашыцаў', 0.16193331521250073), ('Першамайскі', 0.2200560909321288), ('Капліца-пахавальня', 0.26303348124903125), ('Кашыцаў', 0.2815891253011357), ('Сядзіба', 0.4949246952252326)]\n",
            "[('Самарского зоопарка', 0.023458380875189744), ('неподалеку от Самарского', 0.04498862876540802), ('Развилка неподалеку', 0.04940384002065631), ('Самарского', 0.1447773057422032), ('Развилка', 0.15831692877998726), ('зоопарка', 0.15831692877998726), ('неподалеку', 0.29736558256021506)]\n",
            "[('National Heritage Site', 0.00010308432075218099), ('National Heritage', 0.002310717259901064), ('Heritage Site', 0.002310717259901064), ('Ukraine', 0.005212740167056409), ('external text', 0.005900890299425019), ('href', 0.01813437778919284), ('class', 0.023870654642043347), ('title', 0.023941173999989244), ('National', 0.044429206391775514), ('Site', 0.044429206391775514), ('Heritage', 0.0518890689775111), ('extiw', 0.06150551189726856), ('monument', 0.06150551189726856), ('wiki', 0.06150551189726856), ('mw-redirect', 0.06150551189726856), ('number', 0.06150551189726856), ('external', 0.07659160567406964), ('text', 0.07659160567406964), ('photo', 0.09288870568125689)]\n",
            "[('Shanghai World Expo', 0.000671381120901764), ('รองประธานสภาที่ปรึกษาการเมืองแห่งชาติจีนเป็นเจ้าภาพเลี้ยงอาหารกลางวันเพื่อเป็นเกียรติแก่นายกรัฐมนตรีและคณะ Expo Center', 0.0013063506922826322), ('นายหลี่ จ้าวจัว รองประธานสภาที่ปรึกษาการเมืองแห่งชาติจีนเป็นเจ้าภาพเลี้ยงอาหารกลางวันเพื่อเป็นเกียรติแก่นายกรัฐมนตรีและคณะ', 0.0033358380480342374), ('สาธารณรัฐประชาชนจีน วันอาทิตย์ ที่', 0.0033358380480342374), ('Peerapat Wimolrungkarat', 0.0036409786989320676), ('จ้าวจัว รองประธานสภาที่ปรึกษาการเมืองแห่งชาติจีนเป็นเจ้าภาพเลี้ยงอาหารกลางวันเพื่อเป็นเกียรติแก่นายกรัฐมนตรีและคณะ Expo', 0.0038599612312889223), ('Shanghai World', 0.005453022517957929), ('Kingdom of Thailand', 0.005453022517957929), ('นครเซี่ยงไฮ้ สาธารณรัฐประชาชนจีน วันอาทิตย์', 0.005597284804327029), ('Expo Center', 0.007343400702999155), ('Prime Minister', 0.008174230002352418), ('Photographer attached', 0.010513375834332308), ('World Expo', 0.011018296383877841), ('พีรพัฒน์ วิมลรังครัตน์)', 0.011170778706969201), ('นายหลี่ จ้าวจัว', 0.018491282433885956), ('วันอาทิตย์ ที่', 0.018491282433885956), ('นครเซี่ยงไฮ้ สาธารณรัฐประชาชนจีน', 0.030755015531692964), ('สาธารณรัฐประชาชนจีน วันอาทิตย์', 0.030755015531692964), ('กันยายน', 0.04961089194656161), ('Expo ณ นครเซี่ยงไฮ้', 0.050947923036348146)]\n",
            "[('ビスエリア Kamiita', 0.04498862876540802), ('上板サ ー ビスエリア', 0.04940384002065631), ('Kamiita', 0.1447773057422032), ('上板サ', 0.15831692877998726), ('ビスエリア', 0.29736558256021506)]\n"
          ]
        }
      ]
    }
  ]
}